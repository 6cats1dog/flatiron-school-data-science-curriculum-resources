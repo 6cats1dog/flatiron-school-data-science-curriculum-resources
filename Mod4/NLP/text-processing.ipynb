{
 "cells": [
  {
   "cell_type": "markdown",
   "metadata": {},
   "source": [
    "# Preprocessing Text"
   ]
  },
  {
   "cell_type": "markdown",
   "metadata": {},
   "source": [
    "## Where did the _text_ originate?"
   ]
  },
  {
   "cell_type": "markdown",
   "metadata": {},
   "source": [
    "Depending on where the text came from will change how we will preprocess it\n",
    "\n",
    "Examples:\n",
    "- Speech --> Convert into text/words\n",
    "- Web pages --> HTML tags\n",
    "- Word Doc, other text formats --> More \"junk\" to consider"
   ]
  },
  {
   "cell_type": "markdown",
   "metadata": {},
   "source": [
    "## Removing irrelevant information"
   ]
  },
  {
   "cell_type": "markdown",
   "metadata": {},
   "source": [
    "> The dogs in Alaska are cold, hungry, and lonely.\n",
    "\n",
    "- Punctuation likely can be removed without drastically changing the meaning\n",
    "- Capitalization rarely changes meaning\n",
    "- Some common words really don't add to meaning: \"a\", \"the\", \"are\", \"of\"\n"
   ]
  },
  {
   "cell_type": "markdown",
   "metadata": {},
   "source": [
    "## Useful tools "
   ]
  },
  {
   "cell_type": "markdown",
   "metadata": {},
   "source": [
    "### Introducing Natural Language Toolkit (NLTK)"
   ]
  },
  {
   "cell_type": "markdown",
   "metadata": {},
   "source": [
    "NLTK is a great library that can help with preprocessing text as well as feature extraction"
   ]
  },
  {
   "cell_type": "markdown",
   "metadata": {},
   "source": [
    "### Regular Expression (Regex)"
   ]
  },
  {
   "cell_type": "markdown",
   "metadata": {},
   "source": [
    "Useful way to structurally to move through language (won't go through it here; lots of resources)"
   ]
  },
  {
   "cell_type": "markdown",
   "metadata": {},
   "source": [
    "<img src='https://imgs.xkcd.com/comics/regular_expressions.png' width=60%/>"
   ]
  },
  {
   "cell_type": "markdown",
   "metadata": {},
   "source": [
    "Personally like this webapp to help test out your pattern matching: [Regexr](https://regexr.com/)"
   ]
  },
  {
   "cell_type": "markdown",
   "metadata": {},
   "source": [
    "# Steps to Processing Text"
   ]
  },
  {
   "cell_type": "markdown",
   "metadata": {},
   "source": [
    "## Cleaning"
   ]
  },
  {
   "cell_type": "markdown",
   "metadata": {},
   "source": [
    "Can use regex & packages like [BeautifulSoup](https://www.crummy.com/software/BeautifulSoup/bs4/doc/) to get rid of the extra junk so you just have the natural language material "
   ]
  },
  {
   "cell_type": "markdown",
   "metadata": {},
   "source": [
    "## Normalization"
   ]
  },
  {
   "cell_type": "markdown",
   "metadata": {},
   "source": [
    "- Capitalization\n",
    "- Puncutation (dependent on task)\n",
    "    - Useful for text document as a whole"
   ]
  },
  {
   "cell_type": "markdown",
   "metadata": {},
   "source": [
    "## Tokenization"
   ]
  },
  {
   "cell_type": "markdown",
   "metadata": {},
   "source": [
    "Token (a symbol) holds meaning and can't meaningfully be split up (in English, these are usually words)"
   ]
  },
  {
   "cell_type": "markdown",
   "metadata": {},
   "source": [
    "`nltk.tokenize` has a variety of tokenizers (http://www.nltk.org/api/nltk.tokenize.html): \n",
    "\n",
    "- `sent_tokenize` finds sentences (often done for translation)\n",
    "- `word_tokenize` is like `split` but is a little smarter in how it tokenizes the text\n",
    "- `RegexTokenizer` can do more advance control like tokenize the words and remove punctuation (http://www.nltk.org/api/nltk.tokenize.html?highlight=regexp#module-nltk.tokenize.regexp)\n",
    "- `TweetTokenizer` specifically for tweets from Twitter (http://www.nltk.org/api/nltk.tokenize.html?highlight=regexp#nltk.tokenize.casual.TweetTokenizer)"
   ]
  },
  {
   "cell_type": "markdown",
   "metadata": {},
   "source": [
    "## Stopword removal"
   ]
  },
  {
   "cell_type": "markdown",
   "metadata": {},
   "source": [
    "- Makes set smaller and still mostly readable\n",
    "- Usually these common stop words dominate the list of words\n",
    "- Dependent on context of task"
   ]
  },
  {
   "cell_type": "markdown",
   "metadata": {},
   "source": [
    "```python\n",
    "from nltk.corpus import stopwords\n",
    "\n",
    "eng_stopwords = stopwords.words('english')\n",
    "\n",
    "words = [w for w in words if w not in eng_stopwords]\n",
    "\n",
    "```"
   ]
  }
 ],
 "metadata": {
  "kernelspec": {
   "display_name": "Python 3",
   "language": "python",
   "name": "python3"
  },
  "language_info": {
   "codemirror_mode": {
    "name": "ipython",
    "version": 3
   },
   "file_extension": ".py",
   "mimetype": "text/x-python",
   "name": "python",
   "nbconvert_exporter": "python",
   "pygments_lexer": "ipython3",
   "version": "3.7.0"
  }
 },
 "nbformat": 4,
 "nbformat_minor": 2
}
