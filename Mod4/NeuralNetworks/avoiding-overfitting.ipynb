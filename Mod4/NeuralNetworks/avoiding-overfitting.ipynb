{
 "cells": [
  {
   "cell_type": "markdown",
   "metadata": {},
   "source": [
    "# Worrying About Overfitting"
   ]
  },
  {
   "cell_type": "markdown",
   "metadata": {},
   "source": [
    "A big issue is making sure we don't overfit our model"
   ]
  },
  {
   "cell_type": "markdown",
   "metadata": {},
   "source": [
    "## Use Train-Validation-Test"
   ]
  },
  {
   "cell_type": "markdown",
   "metadata": {},
   "source": [
    "- Think of **training** as what you study for a test\n",
    "- Think of **validation** is using a practice test\n",
    "- Think of **testing** as what you use to judge the model \n",
    "\n",
    "> ***holdout*** is when your test dataset is never used for training (unlike in cross-validation)"
   ]
  },
  {
   "cell_type": "markdown",
   "metadata": {},
   "source": [
    "## Model Complexity Graph"
   ]
  },
  {
   "cell_type": "markdown",
   "metadata": {},
   "source": [
    "- Underfitting\n",
    "    + low complexity --> high bias, low variance\n",
    "    + training error: large\n",
    "    + testing error: large\n",
    "- Overfitting\n",
    "    + high complexity --> low bias, high variance\n",
    "    + training error: low\n",
    "    + testing error: large"
   ]
  },
  {
   "cell_type": "code",
   "execution_count": null,
   "metadata": {
    "ExecuteTime": {
     "end_time": "2019-06-19T05:49:00.781352Z",
     "start_time": "2019-06-19T05:49:00.631957Z"
    },
    "scrolled": true
   },
   "outputs": [],
   "source": [
    "import numpy as np\n",
    "import matplotlib.pyplot as plt\n",
    "\n",
    "test_error = np.array([5,3.5,2,3,4])\n",
    "train_error = np.array([4.5,3,1.5,1,0.5])\n",
    "n_epochs = np.array([5,50,100,200,300])\n",
    "\n",
    "plt.scatter(n_epochs, train_error,)\n",
    "plt.scatter(n_epochs, test_error)\n",
    "plt.legend(['train error','test error'])\n",
    "plt.xlabel('Number of Epochs')\n",
    "plt.ylabel('Error')\n",
    "plt.show()"
   ]
  },
  {
   "cell_type": "markdown",
   "metadata": {
    "ExecuteTime": {
     "end_time": "2019-06-19T05:50:28.763292Z",
     "start_time": "2019-06-19T05:50:28.759437Z"
    }
   },
   "source": [
    "### Early Stopping "
   ]
  },
  {
   "cell_type": "markdown",
   "metadata": {
    "ExecuteTime": {
     "end_time": "2019-06-19T05:50:28.763292Z",
     "start_time": "2019-06-19T05:50:28.759437Z"
    }
   },
   "source": [
    "We can stop our training early when our test error stopped dropping"
   ]
  },
  {
   "cell_type": "markdown",
   "metadata": {},
   "source": [
    "# When a Good Model Goes Bad"
   ]
  },
  {
   "cell_type": "markdown",
   "metadata": {},
   "source": [
    "When a model has large weights, the model is \"too confident\"\n",
    "\n",
    "We need to punish large (confident) weights by contributing them to the error function"
   ]
  },
  {
   "cell_type": "markdown",
   "metadata": {},
   "source": [
    "## L1 Regularization - Absolute Value\n",
    "\n",
    "- Tend to get sparse vectors (small weights go to 0)\n",
    "- Reduce number of weights\n",
    "- Good feature selection to pick out importance\n",
    "\n",
    "$$ J(W,b) = -\\dfrac{1}{m} \\sum^m_{i=1}\\big[\\mathcal{L}(\\hat y_i, y_i)+ \\dfrac{\\lambda}{m}|w_i| \\big]$$\n",
    "\n",
    "\n",
    "## L2 Regularization - Squared Value\n",
    "\n",
    "- Not sparse vectors (weights homogeneous & small)\n",
    "- Gives better results for training\n",
    "    + subtle; consider vectors: [1,0] & [0.5, 0.5] \n",
    "    + recall we want smallest value for our value\n",
    "    + L2 prefers [0.5,0.5] over [1,0] \n",
    "    \n",
    "$$ J(W,b) = -\\dfrac{1}{m} \\sum^m_{i=1}\\big[\\mathcal{L}(\\hat y_i, y_i)+ \\dfrac{\\lambda}{m}w_i^2 \\big]$$"
   ]
  },
  {
   "cell_type": "markdown",
   "metadata": {},
   "source": [
    "# Dropout"
   ]
  },
  {
   "cell_type": "markdown",
   "metadata": {},
   "source": [
    "You want to even out your workouts, otherwise you may have some strange results..."
   ]
  },
  {
   "cell_type": "markdown",
   "metadata": {},
   "source": [
    "<img src='images/homer-dropout-comparison.jpg'/>"
   ]
  },
  {
   "cell_type": "markdown",
   "metadata": {},
   "source": [
    "Well, our neural network models are the same way. The model should get _evenly_ trained. We don't want to train the same node/pathway over and over again"
   ]
  },
  {
   "cell_type": "markdown",
   "metadata": {},
   "source": [
    "## Avoiding the Self-Perpetuating Strength Training"
   ]
  },
  {
   "cell_type": "markdown",
   "metadata": {},
   "source": [
    "When working out, we'd train our left and right arms evenly and switch our exercise routine throughout the week.\n",
    "\n",
    "In neural networks, we switch around which nodes we use during our training."
   ]
  },
  {
   "cell_type": "markdown",
   "metadata": {},
   "source": [
    "Assign a probability of using a given node for that epoch (usually about 20% chance). When we have many epochs, we likely will even out the randomness"
   ]
  },
  {
   "cell_type": "markdown",
   "metadata": {},
   "source": [
    "<img src='images/layered-neural-net.jpg'/>"
   ]
  }
 ],
 "metadata": {
  "kernelspec": {
   "display_name": "Python [conda env:root]",
   "language": "python",
   "name": "conda-root-py"
  },
  "language_info": {
   "codemirror_mode": {
    "name": "ipython",
    "version": 3
   },
   "file_extension": ".py",
   "mimetype": "text/x-python",
   "name": "python",
   "nbconvert_exporter": "python",
   "pygments_lexer": "ipython3",
   "version": "3.7.1"
  },
  "toc": {
   "base_numbering": 1,
   "nav_menu": {},
   "number_sections": true,
   "sideBar": true,
   "skip_h1_title": false,
   "title_cell": "Table of Contents",
   "title_sidebar": "Contents",
   "toc_cell": false,
   "toc_position": {},
   "toc_section_display": true,
   "toc_window_display": false
  },
  "varInspector": {
   "cols": {
    "lenName": 16,
    "lenType": 16,
    "lenVar": 40
   },
   "kernels_config": {
    "python": {
     "delete_cmd_postfix": "",
     "delete_cmd_prefix": "del ",
     "library": "var_list.py",
     "varRefreshCmd": "print(var_dic_list())"
    },
    "r": {
     "delete_cmd_postfix": ") ",
     "delete_cmd_prefix": "rm(",
     "library": "var_list.r",
     "varRefreshCmd": "cat(var_dic_list()) "
    }
   },
   "types_to_exclude": [
    "module",
    "function",
    "builtin_function_or_method",
    "instance",
    "_Feature"
   ],
   "window_display": false
  }
 },
 "nbformat": 4,
 "nbformat_minor": 2
}
