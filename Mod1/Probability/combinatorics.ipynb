{
 "cells": [
  {
   "cell_type": "code",
   "execution_count": null,
   "metadata": {
    "ExecuteTime": {
     "end_time": "2019-05-21T19:25:15.573392Z",
     "start_time": "2019-05-21T19:25:15.570694Z"
    }
   },
   "outputs": [],
   "source": [
    "import numpy as np"
   ]
  },
  {
   "cell_type": "markdown",
   "metadata": {},
   "source": [
    "# Event Spaces"
   ]
  },
  {
   "cell_type": "markdown",
   "metadata": {},
   "source": [
    "Essentially all possibilities!"
   ]
  },
  {
   "cell_type": "markdown",
   "metadata": {},
   "source": [
    "## Rolling Dice"
   ]
  },
  {
   "cell_type": "markdown",
   "metadata": {
    "heading_collapsed": true
   },
   "source": [
    "### One-Die Roll"
   ]
  },
  {
   "cell_type": "code",
   "execution_count": null,
   "metadata": {
    "ExecuteTime": {
     "end_time": "2019-05-21T19:25:56.951162Z",
     "start_time": "2019-05-21T19:25:56.948626Z"
    },
    "hidden": true
   },
   "outputs": [],
   "source": [
    "die_roll = [1,2,3,4,5,6]"
   ]
  },
  {
   "cell_type": "markdown",
   "metadata": {
    "heading_collapsed": true
   },
   "source": [
    "### Two-Dice Roll"
   ]
  },
  {
   "cell_type": "code",
   "execution_count": null,
   "metadata": {
    "ExecuteTime": {
     "end_time": "2019-05-21T19:25:58.382498Z",
     "start_time": "2019-05-21T19:25:58.379256Z"
    },
    "hidden": true
   },
   "outputs": [],
   "source": [
    "# Roll 2 dice\n",
    "two_rolls = []\n",
    "for die0 in die_roll:\n",
    "    for die1 in die_roll:\n",
    "        two_rolls.append([die0,die1])"
   ]
  },
  {
   "cell_type": "code",
   "execution_count": null,
   "metadata": {
    "ExecuteTime": {
     "end_time": "2019-05-21T19:26:00.092632Z",
     "start_time": "2019-05-21T19:26:00.082997Z"
    },
    "hidden": true
   },
   "outputs": [],
   "source": [
    "len(two_rolls)"
   ]
  },
  {
   "cell_type": "markdown",
   "metadata": {},
   "source": [
    "### Three-Dice Roll"
   ]
  },
  {
   "cell_type": "markdown",
   "metadata": {
    "heading_collapsed": true
   },
   "source": [
    "#### All three at once"
   ]
  },
  {
   "cell_type": "code",
   "execution_count": null,
   "metadata": {
    "ExecuteTime": {
     "end_time": "2019-05-21T19:13:54.599417Z",
     "start_time": "2019-05-21T19:13:54.596827Z"
    },
    "hidden": true
   },
   "outputs": [],
   "source": [
    "three_rolls = []\n",
    "# Roll each die\n",
    "for die0 in die_roll:\n",
    "    for die1 in die_roll:\n",
    "        for die2 in die_roll:\n",
    "            three_rolls.append([die0,die1,die2])"
   ]
  },
  {
   "cell_type": "code",
   "execution_count": null,
   "metadata": {
    "ExecuteTime": {
     "end_time": "2019-05-21T19:17:03.641609Z",
     "start_time": "2019-05-21T19:17:03.637922Z"
    },
    "hidden": true
   },
   "outputs": [],
   "source": [
    "len(three_rolls)"
   ]
  },
  {
   "cell_type": "markdown",
   "metadata": {
    "ExecuteTime": {
     "end_time": "2019-05-21T19:17:16.010592Z",
     "start_time": "2019-05-21T19:17:16.008094Z"
    }
   },
   "source": [
    "#### Roll two, then 1"
   ]
  },
  {
   "cell_type": "code",
   "execution_count": null,
   "metadata": {
    "ExecuteTime": {
     "end_time": "2019-05-21T19:15:11.688560Z",
     "start_time": "2019-05-21T19:15:11.685428Z"
    }
   },
   "outputs": [],
   "source": [
    "three_rolls_alt = []\n",
    "\n",
    "# Roll two dice togehter\n",
    "for dice in two_rolls:\n",
    "    # Roll a third dice\n",
    "    for die2 in die_roll:\n",
    "        three_rolls_alt.append(dice + [die2])"
   ]
  },
  {
   "cell_type": "code",
   "execution_count": null,
   "metadata": {
    "ExecuteTime": {
     "end_time": "2019-05-21T19:14:06.397602Z",
     "start_time": "2019-05-21T19:14:06.394052Z"
    }
   },
   "outputs": [],
   "source": [
    "three_rolls == three_rolls_alt"
   ]
  },
  {
   "cell_type": "markdown",
   "metadata": {},
   "source": [
    "# Math Notes - Factorial"
   ]
  },
  {
   "cell_type": "markdown",
   "metadata": {},
   "source": [
    "Since we have to multiply over and over again, we use $n!$ to denote: \n",
    "$$n! = n \\cdot (n-1) \\cdot (n-2) \\cdots 3 \\cdot 2 \\cdot 1$$\n",
    "\n",
    "For example \n",
    "$$5! = 5 \\cdot 4 \\cdots 3 \\cdot 2 \\cdot 1 = 720$$"
   ]
  },
  {
   "cell_type": "markdown",
   "metadata": {},
   "source": [
    "Factorials get very large, very quickly! You likely can't put a three-digit number on most systems (Google's calculator gets to $170! \\approx 10^{306}$ but after that it it's interpreted as infinite $\\infty$)"
   ]
  },
  {
   "cell_type": "markdown",
   "metadata": {},
   "source": [
    "> Math note: Factorial $n!$ is technically defined as $\\Gamma(n)$ where $n \\in \\mathbb{Z} $ such that $n \\ge 0$"
   ]
  },
  {
   "cell_type": "code",
   "execution_count": null,
   "metadata": {
    "ExecuteTime": {
     "end_time": "2019-05-21T20:04:32.331943Z",
     "start_time": "2019-05-21T20:04:32.328789Z"
    }
   },
   "outputs": [],
   "source": [
    "def factorial(n):\n",
    "    integers_to_multiply = np.arange(1,n+1)\n",
    "    ans = np.prod(integers_to_multiply)\n",
    "    print(f'Computed {n}! = {ans}')\n",
    "    return ans"
   ]
  },
  {
   "cell_type": "code",
   "execution_count": null,
   "metadata": {
    "ExecuteTime": {
     "end_time": "2019-05-21T20:04:33.315977Z",
     "start_time": "2019-05-21T20:04:33.311312Z"
    }
   },
   "outputs": [],
   "source": [
    "factorial(5)"
   ]
  },
  {
   "cell_type": "code",
   "execution_count": null,
   "metadata": {
    "ExecuteTime": {
     "end_time": "2019-05-21T20:05:21.047756Z",
     "start_time": "2019-05-21T20:05:21.044735Z"
    }
   },
   "outputs": [],
   "source": [
    "factorial(8)\n",
    "\n",
    "# Same thing as 8*7*6*5!\n",
    "print(8*7*6*factorial(5))"
   ]
  },
  {
   "cell_type": "code",
   "execution_count": null,
   "metadata": {
    "ExecuteTime": {
     "end_time": "2019-05-21T20:05:29.645454Z",
     "start_time": "2019-05-21T20:05:29.641120Z"
    }
   },
   "outputs": [],
   "source": [
    "factorial(25)"
   ]
  },
  {
   "cell_type": "code",
   "execution_count": null,
   "metadata": {
    "ExecuteTime": {
     "end_time": "2019-05-21T20:05:54.787590Z",
     "start_time": "2019-05-21T20:05:54.783628Z"
    }
   },
   "outputs": [],
   "source": [
    "# Note we have to contend with large numbers and limitations of computer\n",
    "factorial(30)"
   ]
  },
  {
   "cell_type": "markdown",
   "metadata": {},
   "source": [
    "# Permutations"
   ]
  },
  {
   "cell_type": "markdown",
   "metadata": {},
   "source": [
    "Consider how to make combinations"
   ]
  },
  {
   "cell_type": "markdown",
   "metadata": {},
   "source": [
    "<pre>\n",
    "\n",
    "\n",
    "\n",
    "\n",
    "\n",
    "\n",
    "\n",
    "\n",
    "\n",
    "\n",
    "\n",
    "\n",
    "\n",
    "\n",
    "\n",
    "\n",
    "\n",
    "\n",
    "\n",
    "\n",
    "</pre>"
   ]
  },
  {
   "cell_type": "markdown",
   "metadata": {},
   "source": [
    "How can we write this mathematically?"
   ]
  },
  {
   "cell_type": "markdown",
   "metadata": {},
   "source": [
    "## Formula"
   ]
  },
  {
   "cell_type": "markdown",
   "metadata": {},
   "source": [
    "$$P_{k}^{n}= \\dfrac{n!}{(n-k)!}$$"
   ]
  },
  {
   "cell_type": "markdown",
   "metadata": {},
   "source": [
    "# Combinations"
   ]
  },
  {
   "cell_type": "markdown",
   "metadata": {},
   "source": [
    "Consider how to make combinations"
   ]
  },
  {
   "cell_type": "markdown",
   "metadata": {},
   "source": [
    "<pre>\n",
    "\n",
    "\n",
    "\n",
    "\n",
    "\n",
    "\n",
    "\n",
    "\n",
    "\n",
    "\n",
    "\n",
    "\n",
    "\n",
    "\n",
    "\n",
    "\n",
    "\n",
    "\n",
    "\n",
    "\n",
    "</pre>"
   ]
  },
  {
   "cell_type": "markdown",
   "metadata": {},
   "source": [
    "How can we write this mathematically?"
   ]
  },
  {
   "cell_type": "markdown",
   "metadata": {},
   "source": [
    "## Formula"
   ]
  },
  {
   "cell_type": "markdown",
   "metadata": {},
   "source": [
    "$$C_{k}^{n} = \\displaystyle\\binom{n}{k} = \\dfrac{P_{k}^{n}}{k!}=\\dfrac{ \\dfrac{n!}{(n-k)!}}{k!} = \\dfrac{n!}{(n-k)!k!}$$"
   ]
  },
  {
   "cell_type": "markdown",
   "metadata": {},
   "source": [
    "# Examples "
   ]
  },
  {
   "cell_type": "markdown",
   "metadata": {},
   "source": [
    "## Colored Balls"
   ]
  },
  {
   "cell_type": "markdown",
   "metadata": {},
   "source": [
    "Consider we have two different colored balls\n",
    "\n",
    "What ways can we organize 3 **identical** <font color='red'>red</font> balls and 2 **identical** <font color='green'>green</font> balls?"
   ]
  },
  {
   "cell_type": "markdown",
   "metadata": {},
   "source": [
    "<pre>\n",
    "\n",
    "\n",
    "\n",
    "\n",
    "\n",
    "\n",
    "\n",
    "\n",
    "\n",
    "\n",
    "\n",
    "\n",
    "\n",
    "\n",
    "\n",
    "\n",
    "\n",
    "\n",
    "\n",
    "\n",
    "</pre>"
   ]
  }
 ],
 "metadata": {
  "kernelspec": {
   "display_name": "Python 3",
   "language": "python",
   "name": "python3"
  },
  "language_info": {
   "codemirror_mode": {
    "name": "ipython",
    "version": 3
   },
   "file_extension": ".py",
   "mimetype": "text/x-python",
   "name": "python",
   "nbconvert_exporter": "python",
   "pygments_lexer": "ipython3",
   "version": "3.6.6"
  },
  "toc": {
   "base_numbering": 1,
   "nav_menu": {},
   "number_sections": true,
   "sideBar": true,
   "skip_h1_title": false,
   "title_cell": "Table of Contents",
   "title_sidebar": "Contents",
   "toc_cell": false,
   "toc_position": {},
   "toc_section_display": true,
   "toc_window_display": false
  },
  "varInspector": {
   "cols": {
    "lenName": 16,
    "lenType": 16,
    "lenVar": 40
   },
   "kernels_config": {
    "python": {
     "delete_cmd_postfix": "",
     "delete_cmd_prefix": "del ",
     "library": "var_list.py",
     "varRefreshCmd": "print(var_dic_list())"
    },
    "r": {
     "delete_cmd_postfix": ") ",
     "delete_cmd_prefix": "rm(",
     "library": "var_list.r",
     "varRefreshCmd": "cat(var_dic_list()) "
    }
   },
   "types_to_exclude": [
    "module",
    "function",
    "builtin_function_or_method",
    "instance",
    "_Feature"
   ],
   "window_display": false
  }
 },
 "nbformat": 4,
 "nbformat_minor": 2
}
