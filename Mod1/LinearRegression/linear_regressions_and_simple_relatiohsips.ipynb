{
  "nbformat": 4,
  "nbformat_minor": 0,
  "metadata": {
    "colab": {
      "name": "linear_regressions_and_simple_relatiohsips",
      "version": "0.3.2",
      "provenance": [],
      "collapsed_sections": []
    },
    "kernelspec": {
      "name": "python3",
      "display_name": "Python 3"
    }
  },
  "cells": [
    {
      "metadata": {
        "id": "qg86awMSCxbq",
        "colab_type": "text"
      },
      "cell_type": "markdown",
      "source": [
        "# Finding Relationships"
      ]
    },
    {
      "metadata": {
        "id": "rp_aSi1pC4jq",
        "colab_type": "text"
      },
      "cell_type": "markdown",
      "source": [
        "## Covariance"
      ]
    },
    {
      "metadata": {
        "id": "hELUGAEwJw7U",
        "colab_type": "text"
      },
      "cell_type": "markdown",
      "source": [
        "### Motivation"
      ]
    },
    {
      "metadata": {
        "id": "4ghio9TDJyw8",
        "colab_type": "text"
      },
      "cell_type": "markdown",
      "source": [
        "**Variance**: Measure of dispersion from the mean\n",
        "$$\\sigma^2 = \\sum_{i}^{n}\\frac{(x_i -\\mu )^2}{n}$$"
      ]
    },
    {
      "metadata": {
        "id": "l6SpCVyJJ2H9",
        "colab_type": "text"
      },
      "cell_type": "markdown",
      "source": [
        "**Covariance**: Measure of how variables differ/relate to one another\n",
        "$$\\sigma_{xy} = \\frac{\\sum_{i,j}^{n} (x_i -\\mu_x )(y_j - \\mu_y)}{n}$$"
      ]
    },
    {
      "metadata": {
        "id": "ho4S7xV5LJuW",
        "colab_type": "text"
      },
      "cell_type": "markdown",
      "source": [
        "### Meaning"
      ]
    },
    {
      "metadata": {
        "id": "FRrqW6cQLLvG",
        "colab_type": "text"
      },
      "cell_type": "markdown",
      "source": [
        "* Positive covariance  --> correlates (together)\n",
        "* Negative covariance --> correlates inversely\n",
        "\n",
        "But ranges (-∞,∞) so what is a \"stronger\" relationship?"
      ]
    },
    {
      "metadata": {
        "id": "iGP6OFiqLl3O",
        "colab_type": "text"
      },
      "cell_type": "markdown",
      "source": [
        "## Corelation"
      ]
    },
    {
      "metadata": {
        "id": "jitdGexSLri4",
        "colab_type": "text"
      },
      "cell_type": "markdown",
      "source": [
        "### Motivation"
      ]
    },
    {
      "metadata": {
        "id": "KVIbXYr8L4wi",
        "colab_type": "text"
      },
      "cell_type": "markdown",
      "source": [
        "Pearson's Correlation:\n",
        "\n",
        "$$ r = \\frac{\\sum_{i,j}^{n}(x_i -\\mu_x)(y_j - \\mu_y)} {\\sqrt{\\sum_{i,j}^{n}(x_i - \\mu_x)^2 (y_j-\\mu_y)^2}}$$"
      ]
    },
    {
      "metadata": {
        "id": "PepMswvMMvCq",
        "colab_type": "text"
      },
      "cell_type": "markdown",
      "source": [
        "* Allows independent of units\n",
        "* Normalized [-1,1]"
      ]
    },
    {
      "metadata": {
        "id": "gSMBvku4L2ya",
        "colab_type": "text"
      },
      "cell_type": "markdown",
      "source": [
        "### Interpretting"
      ]
    },
    {
      "metadata": {
        "id": "57TmehmaNPYQ",
        "colab_type": "text"
      },
      "cell_type": "markdown",
      "source": [
        "<img src='https://github.com/learn-co-students/dsc-0-10-03-cov-corr-online-ds-sp-000/raw/master/correx.svg?sanitize=true' width=100%/>"
      ]
    },
    {
      "metadata": {
        "id": "kf4e1fKjNpUu",
        "colab_type": "text"
      },
      "cell_type": "markdown",
      "source": [
        "## Intro to Statistical Learning"
      ]
    },
    {
      "metadata": {
        "id": "8BsOTDQjNuWy",
        "colab_type": "text"
      },
      "cell_type": "markdown",
      "source": [
        "### Intro to the basics"
      ]
    },
    {
      "metadata": {
        "id": "aKgHubfNN-yI",
        "colab_type": "text"
      },
      "cell_type": "markdown",
      "source": [
        "Variables in 3 flavors:\n",
        "* Independent\n",
        "* Dependent\n",
        "* Controlled \n",
        "\n",
        "**Statistical Model** == **Function** (mapping) that defines a relationship"
      ]
    },
    {
      "metadata": {
        "id": "FBQn9ZVLOGwh",
        "colab_type": "text"
      },
      "cell_type": "markdown",
      "source": [
        "<img src='https://onlinecourses.science.psu.edu/stat500/sites/onlinecourses.science.psu.edu.stat500/files/lesson12/scatterplot_mtb_01/index.png' width=400/>\n",
        "\n",
        "\n",
        "<img src='https://blogs.sas.com/content/iml/files/2013/02/RegSlopeInt.png' width=400 />"
      ]
    },
    {
      "metadata": {
        "id": "LmvqUfEpOv4A",
        "colab_type": "text"
      },
      "cell_type": "markdown",
      "source": [
        "### Some Processes & Terms"
      ]
    },
    {
      "metadata": {
        "id": "5pKlWBV0O0WS",
        "colab_type": "text"
      },
      "cell_type": "markdown",
      "source": [
        "- Use **parameters** to build a model\n",
        "- **Features** vs **Target**"
      ]
    },
    {
      "metadata": {
        "id": "G4TGOXAQPKuq",
        "colab_type": "text"
      },
      "cell_type": "markdown",
      "source": [
        "#### Model Validation\n",
        "\n",
        "The \"learning\""
      ]
    },
    {
      "metadata": {
        "id": "PzYONaIVPR2f",
        "colab_type": "text"
      },
      "cell_type": "markdown",
      "source": [
        "**Validation**: Split data into trainig and testing\n",
        "\n",
        "***Q: Why do this?***"
      ]
    },
    {
      "metadata": {
        "id": "TamNyo3FQ2lA",
        "colab_type": "text"
      },
      "cell_type": "markdown",
      "source": [
        "**Loss Function**: Evaluating our model w/ the data"
      ]
    },
    {
      "metadata": {
        "id": "WDRoua1JCo5l",
        "colab_type": "text"
      },
      "cell_type": "markdown",
      "source": [
        "## Linear Regression\n"
      ]
    },
    {
      "metadata": {
        "id": "oAXv6GUBRt6y",
        "colab_type": "text"
      },
      "cell_type": "markdown",
      "source": [
        "<img src='https://cdn-images-1.medium.com/max/1600/1*iuqVEjdtEMY8oIu3cGwC1g.png' width=50%/>"
      ]
    },
    {
      "metadata": {
        "id": "3wG-RNilIcCL",
        "colab_type": "text"
      },
      "cell_type": "markdown",
      "source": [
        "### Exploring the Motivation"
      ]
    },
    {
      "metadata": {
        "id": "umDvUMnnLqkg",
        "colab_type": "text"
      },
      "cell_type": "markdown",
      "source": [
        "* A way to model the data\n",
        "* Data scientist go-to"
      ]
    },
    {
      "metadata": {
        "id": "On1MjirgR8Ay",
        "colab_type": "text"
      },
      "cell_type": "markdown",
      "source": [
        "### Creating Regression Line"
      ]
    },
    {
      "metadata": {
        "id": "J-cRBlanUWHa",
        "colab_type": "text"
      },
      "cell_type": "markdown",
      "source": [
        "Line of best fit\n",
        "\n",
        "$$ Y = a X + b $$\n",
        "\n",
        "Slope:\n",
        "\n",
        "$$ a = r \\frac{s_y}{s_x} $$"
      ]
    },
    {
      "metadata": {
        "id": "8sRbK9jLUMNj",
        "colab_type": "text"
      },
      "cell_type": "markdown",
      "source": [
        "<img src='https://rasbt.github.io/mlxtend/user_guide/regressor/LinearRegression_files/simple_regression.png' />"
      ]
    },
    {
      "metadata": {
        "id": "Tg-r-sZxVwqf",
        "colab_type": "text"
      },
      "cell_type": "markdown",
      "source": [
        "Can get the intercept with the means of X & Y"
      ]
    },
    {
      "metadata": {
        "id": "gUIxgjbET5lS",
        "colab_type": "text"
      },
      "cell_type": "markdown",
      "source": [
        "### But is it any good?"
      ]
    },
    {
      "metadata": {
        "id": "wIk1Q3SeVEDd",
        "colab_type": "text"
      },
      "cell_type": "markdown",
      "source": [
        "** Can think of it as the sum of sqaures**\n",
        "\n",
        "<img src='https://github.com/learn-co-students/dsc-0-10-08-coefficient-of-determination-online-ds-ft-031119/blob/master/rsq.png?raw=true'  width=80%/>"
      ]
    },
    {
      "metadata": {
        "id": "PqBUVMkkT-gY",
        "colab_type": "text"
      },
      "cell_type": "markdown",
      "source": [
        "**Can think in terms of predictions vs worst model**\n",
        "\n",
        "<img src='https://github.com/learn-co-students/dsc-0-10-08-coefficient-of-determination-online-ds-ft-031119/blob/master/rs2.png?raw=true'  width = 60%/>"
      ]
    },
    {
      "metadata": {
        "id": "Au6_duOVWoUB",
        "colab_type": "text"
      },
      "cell_type": "markdown",
      "source": [
        "** Wait, what do you mean worst model...?**\n",
        "\n",
        "<img src='https://github.com/learn-co-curriculum/dsc-01-10-13-ols-statsmodels-lab/raw/solution/index_files/index_24_1.png'  width=90%/>"
      ]
    },
    {
      "metadata": {
        "id": "50Nc9LgrDCXh",
        "colab_type": "text"
      },
      "cell_type": "markdown",
      "source": [
        "### When Does Linear Regression Work?"
      ]
    },
    {
      "metadata": {
        "id": "eiqz_bKzDfQf",
        "colab_type": "text"
      },
      "cell_type": "markdown",
      "source": [
        "#### Has a \"linear\" relationship\n",
        "\n",
        "\n",
        "<img src='https://github.com/learn-co-students/dsc-01-10-11-regression-assumptions-online-ds-ft-031119/raw/master/lin.png' width=75%/>\n",
        "\n",
        "\n",
        "\n",
        "***Q: Possible solutions if not?***"
      ]
    },
    {
      "metadata": {
        "id": "Y7CzTP6dDveR",
        "colab_type": "text"
      },
      "cell_type": "markdown",
      "source": [
        "#### Is normal (normality)\n",
        "\n",
        "<img src='https://github.com/learn-co-students/dsc-01-10-11-regression-assumptions-online-ds-ft-031119/raw/master/histo.jpg' width=70%/>\n",
        "\n",
        "\n",
        "***Q: Why would this matter?***"
      ]
    },
    {
      "metadata": {
        "id": "zcKUka0QEI7O",
        "colab_type": "text"
      },
      "cell_type": "markdown",
      "source": [
        "**Actually not required for regression**\n",
        "\n",
        "* Allows for stat testin (z-test)\n",
        "* Confidence Interval\n",
        "\n",
        "\n",
        "\n"
      ]
    },
    {
      "metadata": {
        "id": "1_FY8IKbEoi1",
        "colab_type": "text"
      },
      "cell_type": "markdown",
      "source": [
        "Observing Normality with **Histograms** & **Q-Q Plots**\n",
        "\n",
        "***Remember this is a visual test***\n",
        "\n",
        "<img src='https://github.com/learn-co-students/dsc-01-10-11-regression-assumptions-online-ds-ft-031119/raw/master/qq.jpg' width=700/>"
      ]
    },
    {
      "metadata": {
        "id": "DPjXYjtuFtOx",
        "colab_type": "text"
      },
      "cell_type": "markdown",
      "source": [
        ""
      ]
    },
    {
      "metadata": {
        "id": "O7r_RnBSGMA6",
        "colab_type": "text"
      },
      "cell_type": "markdown",
      "source": [
        "#### Heteroscedasticity\n",
        "\n",
        "Basically if the residuals are evenly spread through range\n",
        "\n",
        "<img src='https://github.com/learn-co-students/dsc-01-10-11-regression-assumptions-online-ds-ft-031119/raw/master/homo.png' width=700/>"
      ]
    },
    {
      "metadata": {
        "id": "XCC2CzM6GZpJ",
        "colab_type": "text"
      },
      "cell_type": "markdown",
      "source": [
        "You are looking to make sure the residuals are spread evenly. [In depth explantion](https://statisticsbyjim.com/regression/heteroscedasticity-regression/)\n",
        "\n",
        "<img src='https://github.com/learn-co-students/dsc-01-10-11-regression-assumptions-online-ds-ft-031119/raw/master/prob.png' width=80%/>"
      ]
    }
  ]
}