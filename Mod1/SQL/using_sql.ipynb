{
 "cells": [
  {
   "cell_type": "markdown",
   "metadata": {
    "colab_type": "text",
    "id": "cl--KBUH4Rhb"
   },
   "source": [
    "## Creating Tables in a Database"
   ]
  },
  {
   "cell_type": "code",
   "execution_count": null,
   "metadata": {
    "ExecuteTime": {
     "end_time": "2019-05-06T20:08:16.140043Z",
     "start_time": "2019-05-06T20:08:15.967974Z"
    },
    "colab": {},
    "colab_type": "code",
    "id": "pH7nPkjG0Y31"
   },
   "outputs": [],
   "source": [
    "import sqlite3\n",
    "import pandas as pd\n",
    "import numpy as np\n",
    "\n",
    "conn = sqlite3.connect('planets.db')\n",
    "cur = conn.cursor()"
   ]
  },
  {
   "cell_type": "code",
   "execution_count": null,
   "metadata": {
    "ExecuteTime": {
     "end_time": "2019-05-06T20:08:17.762810Z",
     "start_time": "2019-05-06T20:08:17.750439Z"
    },
    "colab": {},
    "colab_type": "code",
    "id": "W-V2293Z0a-_"
   },
   "outputs": [],
   "source": [
    "cur.execute(\"\"\"\n",
    "CREATE TABLE planets (\n",
    "    id INTEGER PRIMARY KEY,\n",
    "    name TEXT,\n",
    "    color TEXT,\n",
    "    num_of_moons INTEGER,\n",
    "    mass REAL\n",
    ");\n",
    "\"\"\")\n",
    "cur.execute(\"\"\"ALTER TABLE planets ADD COLUMN rings BOOLEAN;\"\"\")\n",
    "cur.execute(\"\"\"\n",
    "INSERT INTO \n",
    "    planets \n",
    "        (name, color, num_of_moons, mass, rings) \n",
    "    VALUES \n",
    "        (\"Mercury\", \"gray\", 0, 0.55, 0),\n",
    "        (\"Venus\", \"yellow\", 0, 0.82, 0),\n",
    "        (\"Earth\", \"blue\", 1, 1.00, 0),\n",
    "        (\"Mars\", \"red\", 2, 0.11, 0),\n",
    "        (\"Jupiter\", \"orange\", 53, 317.90, 0),\n",
    "        (\"Saturn\", \"hazel\", 62, 95.19, 1),\n",
    "        (\"Uranus\", \"light blue\", 27, 14.54, 1),\n",
    "        (\"Neptune\",\"dark blue\", 14, 17.15, 1),\n",
    "        (\"Pluto\", \"brown\", 5, 0.003, 0);\n",
    "\"\"\")"
   ]
  },
  {
   "cell_type": "code",
   "execution_count": null,
   "metadata": {
    "ExecuteTime": {
     "end_time": "2019-05-06T20:08:27.524673Z",
     "start_time": "2019-05-06T20:08:27.519579Z"
    },
    "colab": {},
    "colab_type": "code",
    "id": "NjB1DVdH2hiN"
   },
   "outputs": [],
   "source": [
    "cur.execute(\"\"\"\n",
    "CREATE TABLE exoplanets (\n",
    "    id INTEGER PRIMARY KEY,\n",
    "    name TEXT,\n",
    "    color TEXT,\n",
    "    num_of_moons INTEGER,\n",
    "    mass REAL\n",
    ");\n",
    "\"\"\")\n",
    "cur.execute(\"\"\"ALTER TABLE exoplanets ADD COLUMN rings BOOLEAN;\"\"\")\n",
    "cur.execute(\"\"\"\n",
    "INSERT INTO \n",
    "    exoplanets \n",
    "        (name, color, num_of_moons, mass, rings) \n",
    "    VALUES\n",
    "    (\"Xya\", \"green\", 4, 3.21, 1),\n",
    "    (\"Loas\", \"blue\", 1, 1.90, 0),\n",
    "    (\"Dsfa\", \"yellow\", 23, 12.82, 2),\n",
    "    (\"Pesa\", \"red\", 0, 0.90, 0);\n",
    "\"\"\")"
   ]
  },
  {
   "cell_type": "markdown",
   "metadata": {
    "colab_type": "text",
    "id": "n94KiA0c3y0p"
   },
   "source": [
    "## Exploring the Database"
   ]
  },
  {
   "cell_type": "code",
   "execution_count": null,
   "metadata": {
    "ExecuteTime": {
     "end_time": "2019-05-06T20:08:33.025958Z",
     "start_time": "2019-05-06T20:08:33.022045Z"
    },
    "colab": {
     "base_uri": "https://localhost:8080/",
     "height": 34
    },
    "colab_type": "code",
    "id": "SZW-XGyQ9hz2",
    "outputId": "610a1dbb-59b9-495e-c057-28f12b522831"
   },
   "outputs": [],
   "source": [
    "# List of tables\n",
    "cur.execute(\"select name from sqlite_master where type = 'table';\").fetchall()"
   ]
  },
  {
   "cell_type": "markdown",
   "metadata": {
    "colab_type": "text",
    "id": "wb59DNWgLq4Y"
   },
   "source": []
  },
  {
   "cell_type": "code",
   "execution_count": null,
   "metadata": {
    "ExecuteTime": {
     "end_time": "2019-05-06T20:08:34.986836Z",
     "start_time": "2019-05-06T20:08:34.981540Z"
    },
    "colab": {
     "base_uri": "https://localhost:8080/",
     "height": 85
    },
    "colab_type": "code",
    "id": "wftB05wU31p5",
    "outputId": "5ef9c1b4-d8e8-4af7-fd58-8a768f793305"
   },
   "outputs": [],
   "source": [
    "cur.execute('''\n",
    "  select * from exoplanets\n",
    "''').fetchall()\n"
   ]
  },
  {
   "cell_type": "code",
   "execution_count": null,
   "metadata": {
    "ExecuteTime": {
     "end_time": "2019-05-06T20:08:35.938089Z",
     "start_time": "2019-05-06T20:08:35.933494Z"
    },
    "colab": {
     "base_uri": "https://localhost:8080/",
     "height": 170
    },
    "colab_type": "code",
    "id": "fEU-G3SvLZCH",
    "outputId": "cebef39b-714a-4bd4-f665-b806579c907b"
   },
   "outputs": [],
   "source": [
    "cur.execute('''\n",
    "  select \n",
    "    planets.name\n",
    "\n",
    "  from \n",
    "    planets\n",
    "\n",
    "''').fetchall()"
   ]
  },
  {
   "cell_type": "code",
   "execution_count": null,
   "metadata": {
    "ExecuteTime": {
     "end_time": "2019-05-06T20:08:37.618870Z",
     "start_time": "2019-05-06T20:08:37.615447Z"
    },
    "colab": {
     "base_uri": "https://localhost:8080/",
     "height": 34
    },
    "colab_type": "code",
    "id": "cSHzAgwm4ekg",
    "outputId": "4e3f2b40-d459-4a9a-cd7f-b7e6bc0b73a9"
   },
   "outputs": [],
   "source": [
    "print([description[0] for description in cur.description])\n"
   ]
  },
  {
   "cell_type": "markdown",
   "metadata": {
    "colab_type": "text",
    "id": "RtMxMnRK5yz9"
   },
   "source": [
    "### Easier seeing full result\n"
   ]
  },
  {
   "cell_type": "code",
   "execution_count": null,
   "metadata": {
    "ExecuteTime": {
     "end_time": "2019-05-06T20:08:39.090871Z",
     "start_time": "2019-05-06T20:08:39.086987Z"
    },
    "colab": {},
    "colab_type": "code",
    "id": "qe2iH5fd4sgP"
   },
   "outputs": [],
   "source": [
    "def sql_with_cols(query,cursor=cur):\n",
    "  '''\n",
    "  Gives me the full result (with columns)\n",
    "  '''\n",
    "  result = cursor.execute(query).fetchall()\n",
    "  cols = tuple([description[0] for description in cur.description])\n",
    "  \n",
    "  full_result = [cols] + result[:] \n",
    "  return full_result"
   ]
  },
  {
   "cell_type": "code",
   "execution_count": null,
   "metadata": {
    "ExecuteTime": {
     "end_time": "2019-05-06T20:08:40.746181Z",
     "start_time": "2019-05-06T20:08:40.741086Z"
    },
    "colab": {
     "base_uri": "https://localhost:8080/",
     "height": 102
    },
    "colab_type": "code",
    "id": "8MbuWdlH58Av",
    "outputId": "f46f604b-d260-4f5f-911c-7ef2b6cfa503"
   },
   "outputs": [],
   "source": [
    "sql_with_cols('select * from exoplanets')"
   ]
  },
  {
   "cell_type": "markdown",
   "metadata": {
    "colab_type": "text",
    "id": "_i5R1nRq6D6H"
   },
   "source": [
    "## More Exploration"
   ]
  },
  {
   "cell_type": "code",
   "execution_count": null,
   "metadata": {
    "ExecuteTime": {
     "end_time": "2019-05-06T20:08:47.443460Z",
     "start_time": "2019-05-06T20:08:47.438676Z"
    },
    "colab": {
     "base_uri": "https://localhost:8080/",
     "height": 102
    },
    "colab_type": "code",
    "id": "wQX42ggE8NwF",
    "outputId": "d2fff9e6-5ba9-48df-847d-3b650e9a2058"
   },
   "outputs": [],
   "source": [
    "results = sql_with_cols('''\n",
    "SELECT \n",
    "   exoplanets.name,\n",
    "   exoplanets.color,\n",
    "   exoplanets.num_of_moons \n",
    "FROM \n",
    "   exoplanets\n",
    "\n",
    "''')\n",
    "\n",
    "display(results)"
   ]
  },
  {
   "cell_type": "code",
   "execution_count": null,
   "metadata": {
    "ExecuteTime": {
     "end_time": "2019-05-06T20:08:48.906866Z",
     "start_time": "2019-05-06T20:08:48.866486Z"
    },
    "colab": {
     "base_uri": "https://localhost:8080/",
     "height": 173
    },
    "colab_type": "code",
    "id": "hA9Sfede8N2d",
    "outputId": "1f41154f-3555-4cc7-d173-0502fc1adf1f"
   },
   "outputs": [],
   "source": [
    "results = cur.execute('''\n",
    "SELECT \n",
    "   exoplanets.name,\n",
    "   exoplanets.color,\n",
    "   exoplanets.num_of_moons \n",
    "FROM \n",
    "   exoplanets\n",
    "''')\n",
    "\n",
    "# df = pd.DataFrame(columns=results[0], data=results[1:])\n",
    "# df.head()\n",
    "results = results.fetchall()\n",
    "df = pd.DataFrame(results, columns=[description[0] for description in cur.description])\n",
    "df.head()"
   ]
  },
  {
   "cell_type": "code",
   "execution_count": null,
   "metadata": {
    "colab": {
     "base_uri": "https://localhost:8080/",
     "height": 187
    },
    "colab_type": "code",
    "id": "bYIJbdjzPWjb",
    "outputId": "9e88ae5b-37ca-4605-d377-2d2a5b5ce39f"
   },
   "outputs": [],
   "source": [
    "sql_with_cols('''\n",
    "SELECT \n",
    "   *\n",
    "FROM \n",
    "   planets \n",
    "''')"
   ]
  },
  {
   "cell_type": "code",
   "execution_count": null,
   "metadata": {
    "ExecuteTime": {
     "end_time": "2019-05-06T20:08:51.193715Z",
     "start_time": "2019-05-06T20:08:51.189305Z"
    },
    "colab": {
     "base_uri": "https://localhost:8080/",
     "height": 170
    },
    "colab_type": "code",
    "id": "rtZgKyQT6Czn",
    "outputId": "de25ea52-e057-44ed-c25a-a156671d12c1"
   },
   "outputs": [],
   "source": [
    "sql_with_cols('''\n",
    "SELECT \n",
    "   num_of_moons, \n",
    "   count(*) \n",
    "FROM \n",
    "   planets \n",
    "GROUP BY\n",
    "   num_of_moons\n",
    "''')"
   ]
  }
 ],
 "metadata": {
  "colab": {
   "name": "SQL_Examples.ipynb",
   "provenance": [],
   "version": "0.3.2"
  },
  "kernelspec": {
   "display_name": "Python 3",
   "language": "python",
   "name": "python3"
  },
  "language_info": {
   "codemirror_mode": {
    "name": "ipython",
    "version": 3
   },
   "file_extension": ".py",
   "mimetype": "text/x-python",
   "name": "python",
   "nbconvert_exporter": "python",
   "pygments_lexer": "ipython3",
   "version": "3.7.1"
  },
  "toc": {
   "base_numbering": 1,
   "nav_menu": {},
   "number_sections": true,
   "sideBar": true,
   "skip_h1_title": false,
   "title_cell": "Table of Contents",
   "title_sidebar": "Contents",
   "toc_cell": false,
   "toc_position": {},
   "toc_section_display": true,
   "toc_window_display": false
  },
  "varInspector": {
   "cols": {
    "lenName": 16,
    "lenType": 16,
    "lenVar": 40
   },
   "kernels_config": {
    "python": {
     "delete_cmd_postfix": "",
     "delete_cmd_prefix": "del ",
     "library": "var_list.py",
     "varRefreshCmd": "print(var_dic_list())"
    },
    "r": {
     "delete_cmd_postfix": ") ",
     "delete_cmd_prefix": "rm(",
     "library": "var_list.r",
     "varRefreshCmd": "cat(var_dic_list()) "
    }
   },
   "types_to_exclude": [
    "module",
    "function",
    "builtin_function_or_method",
    "instance",
    "_Feature"
   ],
   "window_display": false
  }
 },
 "nbformat": 4,
 "nbformat_minor": 1
}
