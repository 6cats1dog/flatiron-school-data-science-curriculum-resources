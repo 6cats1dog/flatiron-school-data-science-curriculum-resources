{
 "cells": [
  {
   "cell_type": "code",
   "execution_count": null,
   "metadata": {
    "ExecuteTime": {
     "end_time": "2019-05-09T18:46:28.904452Z",
     "start_time": "2019-05-09T18:46:28.737116Z"
    }
   },
   "outputs": [],
   "source": [
    "import sqlite3\n",
    "import pandas as pd\n",
    "\n",
    "conn = sqlite3.connect('data.sqlite', detect_types=sqlite3.PARSE_COLNAMES)\n",
    "cur = conn.cursor()"
   ]
  },
  {
   "cell_type": "markdown",
   "metadata": {},
   "source": [
    "# Exploring the existing data tables"
   ]
  },
  {
   "cell_type": "markdown",
   "metadata": {},
   "source": [
    "Helper functions so I can use DataFrames"
   ]
  },
  {
   "cell_type": "code",
   "execution_count": null,
   "metadata": {
    "ExecuteTime": {
     "end_time": "2019-05-09T18:46:28.909818Z",
     "start_time": "2019-05-09T18:46:28.905980Z"
    }
   },
   "outputs": [],
   "source": [
    "def sql_with_cols(query,cursor=cur):\n",
    "  '''\n",
    "  Gives me the full result (with columns)\n",
    "  '''\n",
    "  result = cursor.execute(query).fetchall()\n",
    "  cols = tuple([description[0] for description in cur.description])\n",
    "  \n",
    "  full_result = (cols, result[:])\n",
    "  return full_result\n",
    "\n",
    "def df_sql(query, cursor=cur):\n",
    "    cols, result_data = sql_with_cols(query, cursor)\n",
    "    return pd.DataFrame(data=result_data, columns=cols)"
   ]
  },
  {
   "cell_type": "markdown",
   "metadata": {},
   "source": [
    "## `orderdetails` table"
   ]
  },
  {
   "cell_type": "code",
   "execution_count": null,
   "metadata": {
    "ExecuteTime": {
     "end_time": "2019-05-09T18:46:28.950459Z",
     "start_time": "2019-05-09T18:46:28.912115Z"
    }
   },
   "outputs": [],
   "source": [
    "query = \"\"\"\n",
    "select \n",
    "    * \n",
    "from \n",
    "    orderdetails\n",
    "\"\"\"\n",
    "\n",
    "df_orderdetails = df_sql(query)\n",
    "df_orderdetails.head()"
   ]
  },
  {
   "cell_type": "code",
   "execution_count": null,
   "metadata": {
    "ExecuteTime": {
     "end_time": "2019-05-09T18:46:28.974594Z",
     "start_time": "2019-05-09T18:46:28.952842Z"
    }
   },
   "outputs": [],
   "source": [
    "df_orderdetails.describe()"
   ]
  },
  {
   "cell_type": "markdown",
   "metadata": {},
   "source": [
    "## `products` table"
   ]
  },
  {
   "cell_type": "code",
   "execution_count": null,
   "metadata": {
    "ExecuteTime": {
     "end_time": "2019-05-09T18:46:28.986865Z",
     "start_time": "2019-05-09T18:46:28.976515Z"
    }
   },
   "outputs": [],
   "source": [
    "query = \"\"\"\n",
    "select \n",
    "    * \n",
    "from \n",
    "    products\n",
    "\"\"\"\n",
    "\n",
    "df_products = df_sql(query)\n",
    "df_products.head()"
   ]
  },
  {
   "cell_type": "code",
   "execution_count": null,
   "metadata": {
    "ExecuteTime": {
     "end_time": "2019-05-09T18:46:29.013821Z",
     "start_time": "2019-05-09T18:46:28.988459Z"
    }
   },
   "outputs": [],
   "source": [
    "df_products.describe()"
   ]
  },
  {
   "cell_type": "markdown",
   "metadata": {},
   "source": [
    "# Joins on data tables"
   ]
  },
  {
   "cell_type": "markdown",
   "metadata": {
    "heading_collapsed": true
   },
   "source": [
    "## Inner Join on `products` & `orderdetails`"
   ]
  },
  {
   "cell_type": "code",
   "execution_count": null,
   "metadata": {
    "ExecuteTime": {
     "end_time": "2019-05-09T18:52:36.630525Z",
     "start_time": "2019-05-09T18:52:36.570737Z"
    },
    "hidden": true
   },
   "outputs": [],
   "source": [
    "query = \"\"\"\n",
    "select * \n",
    "from \n",
    "    orderdetails\n",
    "    join products\n",
    "        on orderdetails.productCode = products.productCode\n",
    "\"\"\"\n",
    "df_join_products_orderdetails = df_sql(query)\n",
    "df_join_products_orderdetails.head()"
   ]
  },
  {
   "cell_type": "code",
   "execution_count": null,
   "metadata": {
    "ExecuteTime": {
     "end_time": "2019-05-09T18:52:36.630525Z",
     "start_time": "2019-05-09T18:52:36.570737Z"
    },
    "hidden": true
   },
   "outputs": [],
   "source": [
    "df_join_products_orderdetails.describe()"
   ]
  },
  {
   "cell_type": "markdown",
   "metadata": {},
   "source": [
    "## Left Join on `products` & `orderdetails`"
   ]
  },
  {
   "cell_type": "markdown",
   "metadata": {},
   "source": [
    "For all the products we have, get the order information"
   ]
  },
  {
   "cell_type": "code",
   "execution_count": null,
   "metadata": {
    "ExecuteTime": {
     "end_time": "2019-05-09T18:56:37.393811Z",
     "start_time": "2019-05-09T18:56:37.358744Z"
    }
   },
   "outputs": [],
   "source": [
    "query = \"\"\"\n",
    "select \n",
    "    * \n",
    "from \n",
    "    products as p\n",
    "    left join orderdetails as o\n",
    "        on o.productCode = p.productCode\n",
    "\"\"\"\n",
    "df_innerjoin_products_orderdetails = df_sql(query)\n",
    "df_innerjoin_products_orderdetails.head()"
   ]
  },
  {
   "cell_type": "code",
   "execution_count": null,
   "metadata": {
    "ExecuteTime": {
     "end_time": "2019-05-09T18:53:07.746904Z",
     "start_time": "2019-05-09T18:53:07.697995Z"
    }
   },
   "outputs": [],
   "source": [
    "df_innerjoin_products_orderdetails.describe()"
   ]
  },
  {
   "cell_type": "markdown",
   "metadata": {
    "heading_collapsed": true
   },
   "source": [
    "### What if there are no orders for that product?"
   ]
  },
  {
   "cell_type": "code",
   "execution_count": null,
   "metadata": {
    "ExecuteTime": {
     "end_time": "2019-05-09T18:53:21.104303Z",
     "start_time": "2019-05-09T18:53:21.090367Z"
    },
    "hidden": true
   },
   "outputs": [],
   "source": [
    "df_innerjoin_products_orderdetails[df_innerjoin_products_orderdetails.orderNumber.isnull()]"
   ]
  },
  {
   "cell_type": "code",
   "execution_count": null,
   "metadata": {
    "ExecuteTime": {
     "end_time": "2019-05-09T18:57:51.987323Z",
     "start_time": "2019-05-09T18:57:51.976730Z"
    },
    "hidden": true
   },
   "outputs": [],
   "source": [
    "# Does that product show up in the last join?\n",
    "# Since this has to be a distinct column name, we use iloc\n",
    "mask = df_join_products_orderdetails.iloc[:,1] == 'S18_3233'\n",
    "print(mask.sum())"
   ]
  },
  {
   "cell_type": "code",
   "execution_count": null,
   "metadata": {
    "ExecuteTime": {
     "end_time": "2019-05-09T18:57:51.987323Z",
     "start_time": "2019-05-09T18:57:51.976730Z"
    },
    "hidden": true
   },
   "outputs": [],
   "source": [
    "df_join_products_orderdetails[mask]"
   ]
  }
 ],
 "metadata": {
  "kernelspec": {
   "display_name": "Python 3",
   "language": "python",
   "name": "python3"
  },
  "language_info": {
   "codemirror_mode": {
    "name": "ipython",
    "version": 3
   },
   "file_extension": ".py",
   "mimetype": "text/x-python",
   "name": "python",
   "nbconvert_exporter": "python",
   "pygments_lexer": "ipython3",
   "version": "3.7.1"
  },
  "toc": {
   "base_numbering": 1,
   "nav_menu": {},
   "number_sections": true,
   "sideBar": true,
   "skip_h1_title": false,
   "title_cell": "Table of Contents",
   "title_sidebar": "Contents",
   "toc_cell": false,
   "toc_position": {},
   "toc_section_display": true,
   "toc_window_display": false
  },
  "varInspector": {
   "cols": {
    "lenName": 16,
    "lenType": 16,
    "lenVar": 40
   },
   "kernels_config": {
    "python": {
     "delete_cmd_postfix": "",
     "delete_cmd_prefix": "del ",
     "library": "var_list.py",
     "varRefreshCmd": "print(var_dic_list())"
    },
    "r": {
     "delete_cmd_postfix": ") ",
     "delete_cmd_prefix": "rm(",
     "library": "var_list.r",
     "varRefreshCmd": "cat(var_dic_list()) "
    }
   },
   "types_to_exclude": [
    "module",
    "function",
    "builtin_function_or_method",
    "instance",
    "_Feature"
   ],
   "window_display": false
  }
 },
 "nbformat": 4,
 "nbformat_minor": 2
}
