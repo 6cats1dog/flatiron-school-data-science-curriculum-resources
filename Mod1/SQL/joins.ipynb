{
 "cells": [
  {
   "cell_type": "code",
   "execution_count": null,
   "metadata": {
    "ExecuteTime": {
     "end_time": "2019-05-09T19:18:37.264210Z",
     "start_time": "2019-05-09T19:18:36.818596Z"
    }
   },
   "outputs": [],
   "source": [
    "import sqlite3\n",
    "import pandas as pd\n",
    "\n",
    "conn = sqlite3.connect('data.sqlite', detect_types=sqlite3.PARSE_COLNAMES)\n",
    "cur = conn.cursor()"
   ]
  },
  {
   "cell_type": "markdown",
   "metadata": {},
   "source": [
    "# Exploring the existing data tables"
   ]
  },
  {
   "cell_type": "markdown",
   "metadata": {},
   "source": [
    "Helper functions so I can use DataFrames"
   ]
  },
  {
   "cell_type": "code",
   "execution_count": null,
   "metadata": {
    "ExecuteTime": {
     "end_time": "2019-05-09T19:18:37.270014Z",
     "start_time": "2019-05-09T19:18:37.266124Z"
    }
   },
   "outputs": [],
   "source": [
    "def sql_with_cols(query,cursor=cur):\n",
    "  '''\n",
    "  Gives me the full result (with columns)\n",
    "  '''\n",
    "  result = cursor.execute(query).fetchall()\n",
    "  cols = tuple([description[0] for description in cur.description])\n",
    "  \n",
    "  full_result = (cols, result[:])\n",
    "  return full_result\n",
    "\n",
    "def df_sql(query, cursor=cur):\n",
    "    cols, result_data = sql_with_cols(query, cursor)\n",
    "    return pd.DataFrame(data=result_data, columns=cols)"
   ]
  },
  {
   "cell_type": "markdown",
   "metadata": {},
   "source": [
    "## `orderdetails` table"
   ]
  },
  {
   "cell_type": "code",
   "execution_count": null,
   "metadata": {
    "ExecuteTime": {
     "end_time": "2019-05-09T19:18:37.319289Z",
     "start_time": "2019-05-09T19:18:37.271452Z"
    }
   },
   "outputs": [],
   "source": [
    "query = \"\"\"\n",
    "select \n",
    "    * \n",
    "from \n",
    "    orderdetails\n",
    "\"\"\"\n",
    "\n",
    "df_orderdetails = df_sql(query)\n",
    "df_orderdetails.head()"
   ]
  },
  {
   "cell_type": "code",
   "execution_count": null,
   "metadata": {
    "ExecuteTime": {
     "end_time": "2019-05-09T19:18:37.343810Z",
     "start_time": "2019-05-09T19:18:37.322187Z"
    }
   },
   "outputs": [],
   "source": [
    "df_orderdetails.describe()"
   ]
  },
  {
   "cell_type": "markdown",
   "metadata": {},
   "source": [
    "## `products` table"
   ]
  },
  {
   "cell_type": "code",
   "execution_count": null,
   "metadata": {
    "ExecuteTime": {
     "end_time": "2019-05-09T19:18:37.349607Z",
     "start_time": "2019-05-09T19:18:37.346209Z"
    }
   },
   "outputs": [],
   "source": [
    "query = \"\"\"\n",
    "select \n",
    "    * \n",
    "from \n",
    "    products\n",
    "\"\"\"\n",
    "\n",
    "df_products = df_sql(query)"
   ]
  },
  {
   "cell_type": "code",
   "execution_count": null,
   "metadata": {
    "ExecuteTime": {
     "end_time": "2019-05-09T19:18:37.359790Z",
     "start_time": "2019-05-09T19:18:37.350758Z"
    },
    "scrolled": true
   },
   "outputs": [],
   "source": [
    "df_products.head()"
   ]
  },
  {
   "cell_type": "code",
   "execution_count": null,
   "metadata": {
    "ExecuteTime": {
     "end_time": "2019-05-09T19:18:37.389268Z",
     "start_time": "2019-05-09T19:18:37.361603Z"
    }
   },
   "outputs": [],
   "source": [
    "df_products.describe()"
   ]
  },
  {
   "cell_type": "markdown",
   "metadata": {},
   "source": [
    "# Joins on data tables"
   ]
  },
  {
   "cell_type": "markdown",
   "metadata": {},
   "source": [
    "## Inner Join on `products` & `orderdetails`"
   ]
  },
  {
   "cell_type": "code",
   "execution_count": null,
   "metadata": {
    "ExecuteTime": {
     "end_time": "2019-05-09T19:18:37.410833Z",
     "start_time": "2019-05-09T19:18:37.390413Z"
    }
   },
   "outputs": [],
   "source": [
    "query = \"\"\"\n",
    "select * \n",
    "from \n",
    "    orderdetails\n",
    "    join products\n",
    "        on orderdetails.productCode = products.productCode\n",
    "\"\"\"\n",
    "df_join_products_orderdetails = df_sql(query)"
   ]
  },
  {
   "cell_type": "code",
   "execution_count": null,
   "metadata": {
    "ExecuteTime": {
     "end_time": "2019-05-09T19:18:37.415066Z",
     "start_time": "2019-05-09T19:18:37.412124Z"
    }
   },
   "outputs": [],
   "source": [
    "# Rename the `productCode` columns since they are repeated\n",
    "old_cols = list(df_join_products_orderdetails.columns)\n",
    "new_cols = (\n",
    "    [f'o.{c}' for c in old_cols[:5]]\n",
    "    +\n",
    "    [f'p.{c}' for c in old_cols[5:]]\n",
    ")\n",
    "df_join_products_orderdetails.columns = new_cols"
   ]
  },
  {
   "cell_type": "code",
   "execution_count": null,
   "metadata": {
    "ExecuteTime": {
     "end_time": "2019-05-09T19:18:37.471071Z",
     "start_time": "2019-05-09T19:18:37.428675Z"
    }
   },
   "outputs": [],
   "source": [
    "df_join_products_orderdetails.head()"
   ]
  },
  {
   "cell_type": "code",
   "execution_count": null,
   "metadata": {
    "ExecuteTime": {
     "end_time": "2019-05-09T19:18:37.471071Z",
     "start_time": "2019-05-09T19:18:37.428675Z"
    }
   },
   "outputs": [],
   "source": [
    "df_join_products_orderdetails.describe()"
   ]
  },
  {
   "cell_type": "markdown",
   "metadata": {},
   "source": [
    "## Left Join on `products` & `orderdetails`"
   ]
  },
  {
   "cell_type": "markdown",
   "metadata": {},
   "source": [
    "For all the products we have, get the order information"
   ]
  },
  {
   "cell_type": "code",
   "execution_count": null,
   "metadata": {
    "ExecuteTime": {
     "end_time": "2019-05-09T19:18:37.493178Z",
     "start_time": "2019-05-09T19:18:37.472248Z"
    }
   },
   "outputs": [],
   "source": [
    "query = \"\"\"\n",
    "select \n",
    "    * \n",
    "from \n",
    "    products as p\n",
    "    left join orderdetails as o\n",
    "        on o.productCode = p.productCode\n",
    "\"\"\"\n",
    "\n",
    "df_innerjoin_products_orderdetails = df_sql(query)"
   ]
  },
  {
   "cell_type": "code",
   "execution_count": null,
   "metadata": {
    "ExecuteTime": {
     "end_time": "2019-05-09T19:18:37.497569Z",
     "start_time": "2019-05-09T19:18:37.494407Z"
    }
   },
   "outputs": [],
   "source": [
    "# Rename the `productCode` columns since they are repeated\n",
    "old_cols = list(df_innerjoin_products_orderdetails.columns)\n",
    "new_cols = (\n",
    "    [f'p.{c}' for c in old_cols[:9]]\n",
    "    +\n",
    "    [f'o.{c}' for c in old_cols[9:]]\n",
    ")\n",
    "df_innerjoin_products_orderdetails.columns = new_cols"
   ]
  },
  {
   "cell_type": "code",
   "execution_count": null,
   "metadata": {
    "ExecuteTime": {
     "end_time": "2019-05-09T19:18:37.510296Z",
     "start_time": "2019-05-09T19:18:37.499186Z"
    }
   },
   "outputs": [],
   "source": [
    "df_innerjoin_products_orderdetails.head()"
   ]
  },
  {
   "cell_type": "code",
   "execution_count": null,
   "metadata": {
    "ExecuteTime": {
     "end_time": "2019-05-09T19:18:37.556508Z",
     "start_time": "2019-05-09T19:18:37.511938Z"
    }
   },
   "outputs": [],
   "source": [
    "df_innerjoin_products_orderdetails.describe()"
   ]
  },
  {
   "cell_type": "markdown",
   "metadata": {},
   "source": [
    "### What if there are no orders for that product?"
   ]
  },
  {
   "cell_type": "code",
   "execution_count": null,
   "metadata": {
    "ExecuteTime": {
     "end_time": "2019-05-09T19:18:37.567542Z",
     "start_time": "2019-05-09T19:18:37.557728Z"
    }
   },
   "outputs": [],
   "source": [
    "df_innerjoin_products_orderdetails[df_innerjoin_products_orderdetails['o.orderNumber'].isnull()]"
   ]
  },
  {
   "cell_type": "code",
   "execution_count": null,
   "metadata": {
    "ExecuteTime": {
     "end_time": "2019-05-09T19:18:51.524247Z",
     "start_time": "2019-05-09T19:18:51.519728Z"
    }
   },
   "outputs": [],
   "source": [
    "# Does that product show up in the last join?\n",
    "mask = df_join_products_orderdetails['p.productCode'] == 'S18_3233'\n",
    "print(mask.sum())"
   ]
  },
  {
   "cell_type": "code",
   "execution_count": null,
   "metadata": {
    "ExecuteTime": {
     "end_time": "2019-05-09T19:19:00.604865Z",
     "start_time": "2019-05-09T19:19:00.596123Z"
    }
   },
   "outputs": [],
   "source": [
    "df_join_products_orderdetails[mask]"
   ]
  }
 ],
 "metadata": {
  "kernelspec": {
   "display_name": "Python 3",
   "language": "python",
   "name": "python3"
  },
  "language_info": {
   "codemirror_mode": {
    "name": "ipython",
    "version": 3
   },
   "file_extension": ".py",
   "mimetype": "text/x-python",
   "name": "python",
   "nbconvert_exporter": "python",
   "pygments_lexer": "ipython3",
   "version": "3.7.1"
  },
  "toc": {
   "base_numbering": 1,
   "nav_menu": {},
   "number_sections": true,
   "sideBar": true,
   "skip_h1_title": false,
   "title_cell": "Table of Contents",
   "title_sidebar": "Contents",
   "toc_cell": false,
   "toc_position": {},
   "toc_section_display": true,
   "toc_window_display": false
  },
  "varInspector": {
   "cols": {
    "lenName": 16,
    "lenType": 16,
    "lenVar": 40
   },
   "kernels_config": {
    "python": {
     "delete_cmd_postfix": "",
     "delete_cmd_prefix": "del ",
     "library": "var_list.py",
     "varRefreshCmd": "print(var_dic_list())"
    },
    "r": {
     "delete_cmd_postfix": ") ",
     "delete_cmd_prefix": "rm(",
     "library": "var_list.r",
     "varRefreshCmd": "cat(var_dic_list()) "
    }
   },
   "types_to_exclude": [
    "module",
    "function",
    "builtin_function_or_method",
    "instance",
    "_Feature"
   ],
   "window_display": false
  }
 },
 "nbformat": 4,
 "nbformat_minor": 2
}
