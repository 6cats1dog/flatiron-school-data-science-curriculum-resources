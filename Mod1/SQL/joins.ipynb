{
 "cells": [
  {
   "cell_type": "code",
   "execution_count": null,
   "metadata": {
    "ExecuteTime": {
     "end_time": "2019-05-09T18:30:25.746861Z",
     "start_time": "2019-05-09T18:30:25.426556Z"
    }
   },
   "outputs": [],
   "source": [
    "import sqlite3\n",
    "import pandas as pd\n",
    "\n",
    "conn = sqlite3.connect('data.sqlite', detect_types=sqlite3.PARSE_COLNAMES)\n",
    "cur = conn.cursor()"
   ]
  },
  {
   "cell_type": "markdown",
   "metadata": {
    "heading_collapsed": true
   },
   "source": [
    "# Exploring the existing data tables"
   ]
  },
  {
   "cell_type": "markdown",
   "metadata": {
    "hidden": true
   },
   "source": [
    "Helper functions so I can use DataFrames"
   ]
  },
  {
   "cell_type": "code",
   "execution_count": null,
   "metadata": {
    "ExecuteTime": {
     "end_time": "2019-05-09T18:33:14.320696Z",
     "start_time": "2019-05-09T18:33:14.315992Z"
    },
    "hidden": true
   },
   "outputs": [],
   "source": [
    "def sql_with_cols(query,cursor=cur):\n",
    "  '''\n",
    "  Gives me the full result (with columns)\n",
    "  '''\n",
    "  result = cursor.execute(query).fetchall()\n",
    "  cols = tuple([description[0] for description in cur.description])\n",
    "  \n",
    "  full_result = (cols, result[:])\n",
    "  return full_result\n",
    "\n",
    "def df_sql(query, cursor=cur):\n",
    "    cols, result_data = sql_with_cols(query, cursor)\n",
    "    return pd.DataFrame(data=result_data, columns=cols)"
   ]
  },
  {
   "cell_type": "markdown",
   "metadata": {
    "heading_collapsed": true,
    "hidden": true
   },
   "source": [
    "## `orderdetails` table"
   ]
  },
  {
   "cell_type": "code",
   "execution_count": null,
   "metadata": {
    "ExecuteTime": {
     "end_time": "2019-05-09T18:37:06.969009Z",
     "start_time": "2019-05-09T18:37:06.932538Z"
    },
    "hidden": true
   },
   "outputs": [],
   "source": [
    "query = \"\"\"\n",
    "select * \n",
    "from orderdetails\n",
    "\"\"\"\n",
    "\n",
    "df_orderdetails = df_sql(query)\n",
    "df_orderdetails.head()"
   ]
  },
  {
   "cell_type": "code",
   "execution_count": null,
   "metadata": {
    "ExecuteTime": {
     "end_time": "2019-05-09T18:39:04.455293Z",
     "start_time": "2019-05-09T18:39:04.428049Z"
    },
    "hidden": true
   },
   "outputs": [],
   "source": [
    "df_orderdetails.describe()"
   ]
  },
  {
   "cell_type": "markdown",
   "metadata": {
    "heading_collapsed": true,
    "hidden": true
   },
   "source": [
    "## `products` table"
   ]
  },
  {
   "cell_type": "code",
   "execution_count": null,
   "metadata": {
    "ExecuteTime": {
     "end_time": "2019-05-09T18:38:41.445724Z",
     "start_time": "2019-05-09T18:38:41.432373Z"
    },
    "hidden": true
   },
   "outputs": [],
   "source": [
    "query = \"\"\"\n",
    "select * \n",
    "from products\n",
    "\"\"\"\n",
    "\n",
    "df_products = df_sql(query)\n",
    "df_products.head()"
   ]
  },
  {
   "cell_type": "code",
   "execution_count": null,
   "metadata": {
    "ExecuteTime": {
     "end_time": "2019-05-09T18:39:18.178832Z",
     "start_time": "2019-05-09T18:39:18.149391Z"
    },
    "hidden": true
   },
   "outputs": [],
   "source": [
    "df_products.describe()"
   ]
  },
  {
   "cell_type": "markdown",
   "metadata": {},
   "source": [
    "# Joins on data tables"
   ]
  },
  {
   "cell_type": "markdown",
   "metadata": {
    "heading_collapsed": true
   },
   "source": [
    "## Inner Join on `products` & `orderdetails`"
   ]
  },
  {
   "cell_type": "code",
   "execution_count": null,
   "metadata": {
    "ExecuteTime": {
     "end_time": "2019-05-09T18:41:17.842843Z",
     "start_time": "2019-05-09T18:41:17.793068Z"
    },
    "hidden": true
   },
   "outputs": [],
   "source": [
    "query = \"\"\"\n",
    "select * \n",
    "from \n",
    "    orderdetails\n",
    "    join products\n",
    "        on orderdetails.productCode = products.productCode\n",
    "\"\"\"\n",
    "df_join_products_orderdetails = df_sql(query)\n",
    "df_join_products_orderdetails.head()"
   ]
  },
  {
   "cell_type": "code",
   "execution_count": null,
   "metadata": {
    "ExecuteTime": {
     "end_time": "2019-05-09T18:41:17.842843Z",
     "start_time": "2019-05-09T18:41:17.793068Z"
    },
    "hidden": true
   },
   "outputs": [],
   "source": [
    "df_join_products_orderdetails.describe()"
   ]
  }
 ],
 "metadata": {
  "kernelspec": {
   "display_name": "Python 3",
   "language": "python",
   "name": "python3"
  },
  "language_info": {
   "codemirror_mode": {
    "name": "ipython",
    "version": 3
   },
   "file_extension": ".py",
   "mimetype": "text/x-python",
   "name": "python",
   "nbconvert_exporter": "python",
   "pygments_lexer": "ipython3",
   "version": "3.7.1"
  },
  "toc": {
   "base_numbering": 1,
   "nav_menu": {},
   "number_sections": true,
   "sideBar": true,
   "skip_h1_title": false,
   "title_cell": "Table of Contents",
   "title_sidebar": "Contents",
   "toc_cell": false,
   "toc_position": {},
   "toc_section_display": true,
   "toc_window_display": false
  },
  "varInspector": {
   "cols": {
    "lenName": 16,
    "lenType": 16,
    "lenVar": 40
   },
   "kernels_config": {
    "python": {
     "delete_cmd_postfix": "",
     "delete_cmd_prefix": "del ",
     "library": "var_list.py",
     "varRefreshCmd": "print(var_dic_list())"
    },
    "r": {
     "delete_cmd_postfix": ") ",
     "delete_cmd_prefix": "rm(",
     "library": "var_list.r",
     "varRefreshCmd": "cat(var_dic_list()) "
    }
   },
   "types_to_exclude": [
    "module",
    "function",
    "builtin_function_or_method",
    "instance",
    "_Feature"
   ],
   "window_display": false
  }
 },
 "nbformat": 4,
 "nbformat_minor": 2
}
