{
 "cells": [
  {
   "cell_type": "markdown",
   "metadata": {
    "colab_type": "text",
    "id": "tevYHP-_8og5"
   },
   "source": [
    "# Intro to Object Oriented Programming"
   ]
  },
  {
   "cell_type": "markdown",
   "metadata": {
    "colab_type": "text",
    "id": "KhOoAnWZ87vZ"
   },
   "source": [
    "## How is/was programming structured?"
   ]
  },
  {
   "cell_type": "markdown",
   "metadata": {
    "colab_type": "text",
    "id": "K1uNhiKylQkL"
   },
   "source": [
    "* Procedural: Just a bunch of code (runs downward) \n",
    "  - C, Lisp, Fortran \n",
    "  - GOTO\n",
    "* Functional: more mathematical\n",
    "  - Haskell, OCaml\n",
    "* OOP\n",
    "  - Java, Python, JavaScript"
   ]
  },
  {
   "cell_type": "markdown",
   "metadata": {
    "colab_type": "text",
    "id": "okWV1Dr4-mei"
   },
   "source": [
    "## What is OOP?"
   ]
  },
  {
   "cell_type": "markdown",
   "metadata": {
    "colab_type": "text",
    "id": "_OUAUdF5-p-x"
   },
   "source": [
    "### Uses the concept of \"objects\" & \"classes\""
   ]
  },
  {
   "cell_type": "markdown",
   "metadata": {
    "colab_type": "text",
    "id": "GSxOdT-X-yCp"
   },
   "source": [
    "### Using a mold or blueprint"
   ]
  },
  {
   "cell_type": "markdown",
   "metadata": {
    "colab_type": "text",
    "id": "6JCIWmq4qaMQ"
   },
   "source": [
    "<img src='https://www.assignmenthelp.net/assignment_help/images/class-oops.jpg' width=75%/>"
   ]
  },
  {
   "cell_type": "markdown",
   "metadata": {
    "colab_type": "text",
    "id": "XLR8-pxpqgg_"
   },
   "source": [
    "<img src='http://www.expertphp.in/images/articles/ArtImgC67UTd_classes_and_objects.jpg' width=75%/>"
   ]
  },
  {
   "cell_type": "markdown",
   "metadata": {
    "colab_type": "text",
    "id": "xgb4UxV__jQT"
   },
   "source": [
    "### Attributes of a Class Give Attributes to an Object"
   ]
  },
  {
   "cell_type": "markdown",
   "metadata": {
    "colab_type": "text",
    "id": "HneufhC69D2K"
   },
   "source": [
    "## Why OOP?\n",
    "\n",
    "Cool, but why should *I* care?"
   ]
  },
  {
   "cell_type": "markdown",
   "metadata": {
    "colab_type": "text",
    "id": "uLnT7iyo-B0e"
   },
   "source": [
    "### Well, everyone is doing it!\n"
   ]
  },
  {
   "cell_type": "markdown",
   "metadata": {
    "colab_type": "text",
    "id": "pwCs4mdnrHmV"
   },
   "source": [
    "<img src='https://stackify.com/wp-content/uploads/2017/12/Copy-of-top-programming-languages-1.png' width=70%/>"
   ]
  },
  {
   "cell_type": "markdown",
   "metadata": {
    "colab_type": "text",
    "id": "ms3IyEcA-I-W"
   },
   "source": [
    "### A method (no pun intended) to organize your code with an analogy"
   ]
  },
  {
   "cell_type": "markdown",
   "metadata": {
    "colab_type": "text",
    "id": "2n88FbpfrTF-"
   },
   "source": [
    "We all know what ***Things*** are\n",
    "\n",
    "Easier to breakdown into physical items, activities, concepts [**nouns**]"
   ]
  },
  {
   "cell_type": "markdown",
   "metadata": {
    "colab_type": "text",
    "id": "oREms3u3-Q6L"
   },
   "source": [
    "### Flexible"
   ]
  },
  {
   "cell_type": "markdown",
   "metadata": {
    "colab_type": "text",
    "id": "GPjnI6jk8tzZ"
   },
   "source": [
    "# Classes & Instances"
   ]
  },
  {
   "cell_type": "markdown",
   "metadata": {
    "colab_type": "text",
    "id": "LOSB70AC_F55"
   },
   "source": [
    "### Creating a Class\n",
    "\n",
    "Class == Blueprint or Mold\n",
    "\n",
    "Instance (your Object) is made from the mold but she's still and individual separate from others made from the same mold"
   ]
  },
  {
   "cell_type": "markdown",
   "metadata": {
    "colab_type": "text",
    "id": "032liMjNrvmQ"
   },
   "source": [
    "### Simple Code"
   ]
  },
  {
   "cell_type": "code",
   "execution_count": null,
   "metadata": {
    "colab": {},
    "colab_type": "code",
    "id": "1cJl2ydsrtp8"
   },
   "outputs": [],
   "source": [
    "class Robot():\n",
    "  # Essentially a blank template since we never defined any attributes\n",
    "  pass\n"
   ]
  },
  {
   "cell_type": "code",
   "execution_count": null,
   "metadata": {
    "colab": {},
    "colab_type": "code",
    "id": "BFeR2Q-hsArS"
   },
   "outputs": [],
   "source": [
    "# Give it life!\n",
    "my_robot = Robot()\n",
    "my_robot.name = 'Wall-E'\n",
    "my_robot.height = 100  # cm\n",
    "\n",
    "your_robot = Robot()\n",
    "your_robot.name = 'Rob'\n",
    "your_robot.height = 200 # cm"
   ]
  },
  {
   "cell_type": "code",
   "execution_count": null,
   "metadata": {
    "colab": {
     "base_uri": "https://localhost:8080/",
     "height": 51
    },
    "colab_type": "code",
    "id": "A30Q95gusS8U",
    "outputId": "fc8bf769-1142-4ca3-e614-e6097fad9e16"
   },
   "outputs": [],
   "source": [
    "# They live!!!!!\n",
    "print(my_robot.name, my_robot.height)\n",
    "print(your_robot.name, your_robot.height)"
   ]
  },
  {
   "cell_type": "code",
   "execution_count": null,
   "metadata": {
    "colab": {
     "base_uri": "https://localhost:8080/",
     "height": 164
    },
    "colab_type": "code",
    "id": "SAatCwJWsi44",
    "outputId": "5f170686-c666-4997-f47b-1e36cc8b25fa"
   },
   "outputs": [],
   "source": [
    "# Uh oh, we didn't give it this attribute\n",
    "print(my_robot.purpose)"
   ]
  },
  {
   "cell_type": "markdown",
   "metadata": {
    "colab_type": "text",
    "id": "wXk49lOwr8Qt"
   },
   "source": [
    "### Make a better Class/Mold/Blueprint"
   ]
  },
  {
   "cell_type": "code",
   "execution_count": null,
   "metadata": {
    "colab": {},
    "colab_type": "code",
    "id": "lSKLy546sKbE"
   },
   "outputs": [],
   "source": [
    "class Robot():\n",
    "  # All robots should love humans\n",
    "  purpose = 'To love humans'"
   ]
  },
  {
   "cell_type": "code",
   "execution_count": null,
   "metadata": {
    "colab": {},
    "colab_type": "code",
    "id": "p-L0uMMYs2l7"
   },
   "outputs": [],
   "source": [
    "# Give it life!\n",
    "my_robot = Robot()\n",
    "my_robot.name = 'Wall-E'\n",
    "my_robot.height = 100  # cm\n",
    "\n",
    "your_robot = Robot()\n",
    "your_robot.name = 'Rob'\n",
    "your_robot.height = 200 # cm"
   ]
  },
  {
   "cell_type": "code",
   "execution_count": null,
   "metadata": {
    "colab": {
     "base_uri": "https://localhost:8080/",
     "height": 68
    },
    "colab_type": "code",
    "id": "ta3gZ8wWs5AC",
    "outputId": "072c3893-4d64-4451-9637-f93e81938775"
   },
   "outputs": [],
   "source": [
    "print('What is your purpose?\\n')\n",
    "print(my_robot.purpose)"
   ]
  },
  {
   "cell_type": "code",
   "execution_count": null,
   "metadata": {
    "colab": {
     "base_uri": "https://localhost:8080/",
     "height": 68
    },
    "colab_type": "code",
    "id": "oIYEOFQMtP_u",
    "outputId": "7c49aaa6-aa6f-452d-830d-d439283b89c4"
   },
   "outputs": [],
   "source": [
    "# Rogue robot!!!\n",
    "evil_robot = Robot()\n",
    "evil_robot.name = 'Bender'\n",
    "evil_robot.purpose = 'TO KILL ALL HUMANS!!!'\n",
    "\n",
    "print('What is your name and your purpose?\\n')\n",
    "print(f'My name is {evil_robot.name} and my purpose is {evil_robot.purpose}')"
   ]
  },
  {
   "cell_type": "markdown",
   "metadata": {
    "colab_type": "text",
    "id": "TXLmvlT__K9y"
   },
   "source": [
    "### Instantiating an Object (using our mold)"
   ]
  },
  {
   "cell_type": "markdown",
   "metadata": {
    "colab_type": "text",
    "id": "I6d-VcuulhDy"
   },
   "source": [
    "#### Example Code\n"
   ]
  },
  {
   "cell_type": "code",
   "execution_count": null,
   "metadata": {
    "colab": {},
    "colab_type": "code",
    "id": "Wq53m6lEliok"
   },
   "outputs": [],
   "source": [
    "\n",
    "my_robot = Robot()\n",
    "my_robot.name = 'Wall-E'\n",
    "my_robot.height = 100  # cm\n",
    "\n",
    "your_robot = Robot()\n",
    "your_robot.name = 'Rob'\n",
    "your_robot.height = 200 # cm"
   ]
  },
  {
   "cell_type": "code",
   "execution_count": null,
   "metadata": {
    "colab": {
     "base_uri": "https://localhost:8080/",
     "height": 34
    },
    "colab_type": "code",
    "id": "4GTuL4aImMW4",
    "outputId": "4dad34e4-8e2f-45b5-96f5-3bff5cf76765"
   },
   "outputs": [],
   "source": [
    "# Who's taller?\n",
    "\n",
    "# Tie defaults to my bot 😁\n",
    "tall_bot = my_robot if my_robot.height >= your_robot.height else your_robot\n",
    "\n",
    "# Alternative code\n",
    "## if my_robot.height >= your_robot.height:\n",
    "##     tall_bot = my_robot\n",
    "## else:\n",
    "##     tall_bot = your_robot\n",
    "\n",
    "print(f'{tall_bot.name} is the tallest bot at {tall_bot.height} cm')"
   ]
  },
  {
   "cell_type": "markdown",
   "metadata": {
    "colab_type": "text",
    "id": "Ee-dPiBt_UzL"
   },
   "source": [
    "### You're both people, so you must be the same person, right?\n",
    "\n",
    "https://learn.co/tracks/data-science-career-v1-1/section-01/section-06-object-oriented-programming/classes-and-instances"
   ]
  },
  {
   "cell_type": "code",
   "execution_count": null,
   "metadata": {
    "colab": {
     "base_uri": "https://localhost:8080/",
     "height": 68
    },
    "colab_type": "code",
    "id": "AsR5SjyZoGkO",
    "outputId": "c249fe22-6f49-4d8b-e8d9-a942298493d8"
   },
   "outputs": [],
   "source": [
    "# You guys taking up my (memory) space\n",
    "print('Where are you (in memory)?')\n",
    "print(my_robot)\n",
    "print(your_robot)"
   ]
  },
  {
   "cell_type": "code",
   "execution_count": null,
   "metadata": {
    "colab": {
     "base_uri": "https://localhost:8080/",
     "height": 68
    },
    "colab_type": "code",
    "id": "dB4njJXQneG4",
    "outputId": "53373a24-edad-49e5-86e7-bdf92fd8ce91"
   },
   "outputs": [],
   "source": [
    "# Are you the same..?\n",
    "print(f'Are you the same (using ==)? {my_robot == your_robot}')\n",
    "print(f'Are you the same (using is)? {my_robot is your_robot}')\n",
    "print(f'Are you yourself? {my_robot == my_robot}')"
   ]
  },
  {
   "cell_type": "code",
   "execution_count": null,
   "metadata": {
    "colab": {
     "base_uri": "https://localhost:8080/",
     "height": 85
    },
    "colab_type": "code",
    "id": "hac7WhjruOPr",
    "outputId": "41980895-105f-44d8-f9c8-29f6436e372b"
   },
   "outputs": [],
   "source": [
    "generic_robot0 = Robot()\n",
    "generic_robot1 = Robot()\n",
    "\n",
    "# Are you the same..?\n",
    "print(f'Are you the same (using ==)? {generic_robot0 == generic_robot1}')\n",
    "print(f'Are you the same (using is)? {generic_robot0 is generic_robot1}')\n",
    "\n",
    "print(generic_robot0)\n",
    "print(generic_robot1)\n"
   ]
  },
  {
   "cell_type": "code",
   "execution_count": null,
   "metadata": {
    "colab": {
     "base_uri": "https://localhost:8080/",
     "height": 51
    },
    "colab_type": "code",
    "id": "1Jo4mShFup3I",
    "outputId": "793337aa-d3d5-4d92-ed6c-e1c7d193ad1d"
   },
   "outputs": [],
   "source": [
    "# You didn't make a copy\n",
    "same_robot = generic_robot0\n",
    "\n",
    "print(f'Are you the same (using ==)? {generic_robot0 == same_robot}')\n",
    "print(f'Are you the same (using is)? {generic_robot0 is same_robot}')\n",
    "\n"
   ]
  },
  {
   "cell_type": "code",
   "execution_count": null,
   "metadata": {
    "colab": {
     "base_uri": "https://localhost:8080/",
     "height": 51
    },
    "colab_type": "code",
    "id": "RFUpptCKjHuF",
    "outputId": "1cf04d51-1461-40da-f51b-b0d5b7f98406"
   },
   "outputs": [],
   "source": [
    "print(same_robot)\n",
    "print(generic_robot0)"
   ]
  },
  {
   "cell_type": "code",
   "execution_count": null,
   "metadata": {
    "colab": {
     "base_uri": "https://localhost:8080/",
     "height": 34
    },
    "colab_type": "code",
    "id": "aTlJTfYHi14s",
    "outputId": "4b69aba4-b11c-4d93-ca78-599e419d2b4e"
   },
   "outputs": [],
   "source": [
    "same_robot.name = '0001'\n",
    "\n",
    "print(same_robot.name, generic_robot0.name)"
   ]
  },
  {
   "cell_type": "markdown",
   "metadata": {
    "colab_type": "text",
    "id": "hikhGgfn8v-R"
   },
   "source": [
    "# An Object's Attributes: Methods, Variables, Self\n",
    "\n",
    "https://learn.co/tracks/data-science-career-v1-1/section-01/section-06-object-oriented-programming/instance-methods"
   ]
  },
  {
   "cell_type": "markdown",
   "metadata": {
    "colab_type": "text",
    "id": "q1QLcm_EAQlH"
   },
   "source": [
    "### How do Objects vary? With VARI-ables"
   ]
  },
  {
   "cell_type": "code",
   "execution_count": null,
   "metadata": {
    "colab": {},
    "colab_type": "code",
    "id": "iMOfi61s3FU2"
   },
   "outputs": [],
   "source": [
    "class Robot():\n",
    "    name = None\n",
    "    material = 'Metal'\n",
    "    is_electric = True\n",
    "    num_of_arms = 2"
   ]
  },
  {
   "cell_type": "code",
   "execution_count": null,
   "metadata": {
    "colab": {
     "base_uri": "https://localhost:8080/",
     "height": 119
    },
    "colab_type": "code",
    "id": "pNJkmPe13zLz",
    "outputId": "11b61cce-ee67-4bec-9a3e-e1bdee909e4a"
   },
   "outputs": [],
   "source": [
    "walle = Robot()\n",
    "\n",
    "print(f'''\n",
    "name: {walle.name}\n",
    "material: {walle.material}\n",
    "is_electric: {walle.is_electric}\n",
    "num_of_arms: {walle.num_of_arms}\n",
    "''')\n",
    "  "
   ]
  },
  {
   "cell_type": "code",
   "execution_count": null,
   "metadata": {
    "colab": {
     "base_uri": "https://localhost:8080/",
     "height": 136
    },
    "colab_type": "code",
    "id": "r8d6QcfH32vK",
    "outputId": "4ec355de-9941-4c43-e085-64c033e0ae5c"
   },
   "outputs": [],
   "source": [
    "# Changing an attribute\n",
    "walle.name = 'Wall-E'\n",
    "# Adding a new attribute\n",
    "walle.is_solar = True\n",
    "\n",
    "print(f'''\n",
    "name: {walle.name}\n",
    "material: {walle.material}\n",
    "is_electric: {walle.is_electric}\n",
    "num_of_arms: {walle.num_of_arms}\n",
    "''')\n",
    "  \n",
    "print(f'is_solar: {walle.is_solar}')"
   ]
  },
  {
   "cell_type": "markdown",
   "metadata": {
    "colab_type": "text",
    "id": "odgi8E10AGuG"
   },
   "source": [
    "### Methods _are_ functions\n",
    "\n",
    "https://learn.co/tracks/data-science-career-v1-1/section-01/section-06-object-oriented-programming/instance-methods-lab"
   ]
  },
  {
   "cell_type": "markdown",
   "metadata": {
    "colab_type": "text",
    "id": "Q-fmUUzu9sY8"
   },
   "source": [
    "#### Class methods (belongs to the Class/mold)"
   ]
  },
  {
   "cell_type": "markdown",
   "metadata": {
    "colab_type": "text",
    "id": "h-Fs0iZ0A-KW"
   },
   "source": [
    "##### Example Code\n"
   ]
  },
  {
   "cell_type": "code",
   "execution_count": null,
   "metadata": {
    "colab": {},
    "colab_type": "code",
    "id": "JWIZJRdq6sFf"
   },
   "outputs": [],
   "source": [
    "class Robot():\n",
    "\n",
    "    laws_of_robotics = [\n",
    "        '1. First Law:\tA robot may not injure a human being or, through inaction, allow a human being to come to harm.',\n",
    "        '2. Second Law:\tA robot must obey the orders given it by human beings except where such orders would conflict with the First Law.',\n",
    "        '3. Third Law:\tA robot must protect its own existence as long as such protection does not conflict with the First or Second Laws.'\n",
    "    ]\n",
    "  \n",
    "    def print_laws():\n",
    "        for law in Robot.laws_of_robotics:\n",
    "            print(law)\n",
    "\n",
    "      \n",
    "    def print_n_law(n):\n",
    "        # Check the law exists\n",
    "        if n < 1 or n > 3:\n",
    "            print('The #{n} law doesn\\'t exist')\n",
    "            return\n",
    "\n",
    "        print(Robot.laws_of_robotics[n-1])\n",
    "    "
   ]
  },
  {
   "cell_type": "code",
   "execution_count": null,
   "metadata": {
    "colab": {},
    "colab_type": "code",
    "id": "FN8PpybD8Lj6"
   },
   "outputs": [],
   "source": [
    "Robot.laws_of_robotics"
   ]
  },
  {
   "cell_type": "code",
   "execution_count": null,
   "metadata": {
    "colab": {},
    "colab_type": "code",
    "id": "8KY_qHEb7A-k"
   },
   "outputs": [],
   "source": [
    "Robot.print_laws()"
   ]
  },
  {
   "cell_type": "code",
   "execution_count": null,
   "metadata": {
    "colab": {},
    "colab_type": "code",
    "id": "kL89xcZs8QX7"
   },
   "outputs": [],
   "source": [
    "Robot.print_n_law(2)"
   ]
  },
  {
   "cell_type": "markdown",
   "metadata": {
    "colab_type": "text",
    "id": "2rfQ_v1B9zWi"
   },
   "source": [
    "##### Does Wall-E have these functions (methods)?"
   ]
  },
  {
   "cell_type": "code",
   "execution_count": null,
   "metadata": {
    "colab": {},
    "colab_type": "code",
    "id": "iXLCr2c-8cha"
   },
   "outputs": [],
   "source": [
    "# Note what happens with Wall-e\n",
    "walle = Robot()"
   ]
  },
  {
   "cell_type": "code",
   "execution_count": null,
   "metadata": {
    "colab": {},
    "colab_type": "code",
    "id": "IkemYPyI9mDy"
   },
   "outputs": [],
   "source": [
    "# Has the laws built in \n",
    "walle.laws_of_robotics"
   ]
  },
  {
   "cell_type": "code",
   "execution_count": null,
   "metadata": {
    "colab": {},
    "colab_type": "code",
    "id": "a6R5CNBr9mhw"
   },
   "outputs": [],
   "source": [
    "# Let's have Wall-E print out those laws too! (Wait, can he do that...?)\n",
    "walle.print_laws()"
   ]
  },
  {
   "cell_type": "markdown",
   "metadata": {
    "colab_type": "text",
    "id": "hXmKGmhlANy0"
   },
   "source": [
    "### Who me? Knowing yourSELF\n",
    "\n"
   ]
  },
  {
   "cell_type": "code",
   "execution_count": null,
   "metadata": {
    "colab": {},
    "colab_type": "code",
    "id": "3yyS7dKp3BNb"
   },
   "outputs": [],
   "source": [
    "class Robot():\n",
    "    name = None\n",
    "    material = 'Metal'\n",
    "    is_electric = True\n",
    "    num_of_arms = 2\n",
    "\n",
    "    # These methods belong to the Object (its self)\n",
    "    def speak(self):\n",
    "        print(f'I am {self.name}!')\n",
    "\n",
    "    def add_numbers(self, num0, num1):\n",
    "        total = num0 + num1\n",
    "        return total"
   ]
  },
  {
   "cell_type": "code",
   "execution_count": null,
   "metadata": {
    "colab": {},
    "colab_type": "code",
    "id": "AqBHlt_K5JTe"
   },
   "outputs": [],
   "source": [
    "walle = Robot()\n",
    "\n",
    "print(f'''\n",
    "name: {walle.name}\n",
    "material: {walle.material}\n",
    "is_electric: {walle.is_electric}\n",
    "num_of_arms: {walle.num_of_arms}\n",
    "''')\n",
    "\n",
    "walle.speak()\n",
    "walle.add_numbers(100,1)"
   ]
  },
  {
   "cell_type": "code",
   "execution_count": null,
   "metadata": {
    "colab": {},
    "colab_type": "code",
    "id": "qpZozIdC5Rag"
   },
   "outputs": [],
   "source": [
    "# Changing an attribute\n",
    "walle.name = 'Wall-E'\n",
    "walle.speak()"
   ]
  },
  {
   "cell_type": "code",
   "execution_count": null,
   "metadata": {
    "colab": {},
    "colab_type": "code",
    "id": "jYWk4v3j5fc_"
   },
   "outputs": [],
   "source": [
    "# Changing how Wall-E talks (a little more advanced)\n",
    "walle.speak = lambda : print('Wwaaaalllll-eeeee!!!')\n",
    "walle.speak()"
   ]
  },
  {
   "cell_type": "markdown",
   "metadata": {
    "colab_type": "text",
    "id": "3F4hBda4BLvO"
   },
   "source": [
    "#### More details on  `self`\n",
    "\n",
    "> tl;dr: `self` is really a reference to the instantiated object\n",
    "\n",
    "More **self**: https://learn.co/tracks/data-science-career-v1-1/section-01/section-06-object-oriented-programming/a-deeper-dive-into-self\n",
    "\n"
   ]
  },
  {
   "cell_type": "markdown",
   "metadata": {
    "colab_type": "text",
    "id": "jyoZd-vP8zjS"
   },
   "source": [
    "# Making Things Private: Getters & Setters & Deleters\n",
    "\n",
    "https://learn.co/tracks/data-science-career-v1-1/section-01/section-06-object-oriented-programming/object-attributes-getter-and-setter-methods"
   ]
  },
  {
   "cell_type": "markdown",
   "metadata": {
    "colab_type": "text",
    "id": "Z96XWroW-Cz-"
   },
   "source": [
    "## Classically make variables private\n",
    "\n",
    "Why is this a good idea?\n"
   ]
  },
  {
   "cell_type": "markdown",
   "metadata": {},
   "source": [
    "### For the record, Python has no private variables\n",
    "\n",
    "But we say they're \"private\" variables when they start with an underscore (ex: `_examplevar`)"
   ]
  },
  {
   "cell_type": "markdown",
   "metadata": {
    "colab_type": "text",
    "id": "5s6MKqg8-jSz"
   },
   "source": [
    "## Can use this idea for all methods\n"
   ]
  },
  {
   "cell_type": "markdown",
   "metadata": {
    "colab_type": "text",
    "id": "CyRRUQXr-oyY"
   },
   "source": [
    "### I want to set & get & delete attributes"
   ]
  },
  {
   "cell_type": "code",
   "execution_count": null,
   "metadata": {
    "colab": {},
    "colab_type": "code",
    "id": "uSEH0fjg-yKj"
   },
   "outputs": [],
   "source": [
    "class Robot():\n",
    "  \n",
    "    # Default name (good practice)\n",
    "    _name = None\n",
    "\n",
    "    # We SET the name\n",
    "    def set_name(self, new_name):\n",
    "        self._name = new_name\n",
    "\n",
    "    # We GET the name\n",
    "    def get_name(self):\n",
    "        return self._name\n",
    "    \n",
    "    # We DELETE the name\n",
    "    def del_name(self):\n",
    "        del self._name"
   ]
  },
  {
   "cell_type": "code",
   "execution_count": null,
   "metadata": {
    "colab": {},
    "colab_type": "code",
    "id": "gI7E2bb4_lM0"
   },
   "outputs": [],
   "source": [
    "# Instantiate object\n",
    "walle = Robot()"
   ]
  },
  {
   "cell_type": "code",
   "execution_count": null,
   "metadata": {},
   "outputs": [],
   "source": [
    "# SET his name\n",
    "walle.set_name('Wall-E')"
   ]
  },
  {
   "cell_type": "code",
   "execution_count": null,
   "metadata": {},
   "outputs": [],
   "source": [
    "# GET his name\n",
    "print(walle.get_name())"
   ]
  },
  {
   "cell_type": "code",
   "execution_count": null,
   "metadata": {},
   "outputs": [],
   "source": [
    "# DELETE his name\n",
    "walle.del_name()\n",
    "print(walle.get_name())"
   ]
  },
  {
   "cell_type": "markdown",
   "metadata": {
    "colab_type": "text",
    "id": "1x7jUYEF82N6"
   },
   "source": [
    "## Using property()"
   ]
  },
  {
   "cell_type": "code",
   "execution_count": null,
   "metadata": {
    "scrolled": true
   },
   "outputs": [],
   "source": [
    "# We can read more about this\n",
    "help(property)"
   ]
  },
  {
   "cell_type": "markdown",
   "metadata": {
    "colab_type": "text",
    "id": "Y-3m3MHuBUCn"
   },
   "source": [
    "### Makes Life Easier"
   ]
  },
  {
   "cell_type": "code",
   "execution_count": null,
   "metadata": {},
   "outputs": [],
   "source": [
    "class Robot():\n",
    "    # Default name (good practice)\n",
    "    _name = None\n",
    "    _last_name = None\n",
    "    _first_name = None\n",
    "\n",
    "    # We GET the name\n",
    "    def get_name(self):\n",
    "        return self._name\n",
    "    \n",
    "    # We SET the name\n",
    "    def set_name(self, new_name):\n",
    "        # We'll also make sure the name is capitalized properly\n",
    "        self._name = new_name.title()\n",
    "        # And get the first and last name (assume at least the first name & no spaces)\n",
    "        names = self._name.split()\n",
    "        self._first_name = names[0]\n",
    "        if len(names) > 2:    \n",
    "            self._last_name = names[-1]\n",
    "    \n",
    "    # We DELETE the name\n",
    "    def del_name(self):\n",
    "        del self._name\n",
    "\n",
    "    # Now we have set, get, & del all with one name!\n",
    "    name = property(fget=get_name, fset=set_name, fdel=del_name)"
   ]
  },
  {
   "cell_type": "code",
   "execution_count": null,
   "metadata": {
    "colab": {},
    "colab_type": "code",
    "id": "gI7E2bb4_lM0"
   },
   "outputs": [],
   "source": [
    "# Instantiate object\n",
    "walle = Robot()\n",
    "\n",
    "# SET his name\n",
    "walle.name = 'Wall-E'\n",
    "\n",
    "# GET his name\n",
    "print('GETTING name:')\n",
    "print(walle.name)\n",
    "\n",
    "# DELETE his name\n",
    "print('DELETING name:')\n",
    "del walle.name\n",
    "print(walle.name)"
   ]
  },
  {
   "cell_type": "markdown",
   "metadata": {},
   "source": [
    "Another method is using Python decorators `@property`\n",
    "\n",
    "Here's some extra reading if you're curious, but tl;dr basically decorators wrap functions inside of functions:\n",
    "- Official doc [https://docs.python.org/3/glossary.html#term-decorator](https://docs.python.org/3/glossary.html#term-decorator)\n",
    "- Probably more helpful: [https://hackernoon.com/decorators-in-python-8fd0dce93c08](https://hackernoon.com/decorators-in-python-8fd0dce93c08)"
   ]
  },
  {
   "cell_type": "code",
   "execution_count": null,
   "metadata": {},
   "outputs": [],
   "source": [
    "class Robot():\n",
    "    # Default name (good practice)\n",
    "    _name = None\n",
    "    _last_name = None\n",
    "    _first_name = None\n",
    "\n",
    "    # We GET the name\n",
    "    @property\n",
    "    def name(self):\n",
    "        return self._name\n",
    "   \n",
    "    # We SET the name\n",
    "    @name.setter\n",
    "     def name(self, new_name):\n",
    "        # We'll also make sure the name is capitalized properly\n",
    "        self._name = new_name.title()\n",
    "        # And get the first and last name (assume at least the first name & no spaces)\n",
    "        names = self._name.split()\n",
    "        self._first_name = names[0]\n",
    "        if len(names) > 2:    \n",
    "            self._last_name = names[-1]\n",
    "    \n",
    "    # We DELETE the name\n",
    "    @name.deleter\n",
    "    def del_name(self):\n",
    "        del self._name\n",
    "\n",
    "    # Now we have set, get, & del all with one name!\n",
    "    name = property(fget=get_name, fset=set_name, fdel=del_name)"
   ]
  },
  {
   "cell_type": "markdown",
   "metadata": {
    "colab_type": "text",
    "id": "G39MRWq7QTkG"
   },
   "source": [
    "# Inheritance"
   ]
  }
 ],
 "metadata": {
  "colab": {
   "collapsed_sections": [
    "_OUAUdF5-p-x",
    "xgb4UxV__jQT",
    "oREms3u3-Q6L",
    "LOSB70AC_F55",
    "TXLmvlT__K9y",
    "I6d-VcuulhDy",
    "Ee-dPiBt_UzL",
    "odgi8E10AGuG",
    "Q-fmUUzu9sY8",
    "h-Fs0iZ0A-KW",
    "2rfQ_v1B9zWi",
    "3F4hBda4BLvO",
    "Z96XWroW-Cz-",
    "5s6MKqg8-jSz",
    "CyRRUQXr-oyY",
    "nCiOGnK8BaBK",
    "1x7jUYEF82N6",
    "Y-3m3MHuBUCn",
    "G39MRWq7QTkG"
   ],
   "name": "intro_object_oriented_programming.ipynb",
   "provenance": [],
   "version": "0.3.2"
  },
  "kernelspec": {
   "display_name": "Python 3",
   "language": "python",
   "name": "python3"
  },
  "language_info": {
   "codemirror_mode": {
    "name": "ipython",
    "version": 3
   },
   "file_extension": ".py",
   "mimetype": "text/x-python",
   "name": "python",
   "nbconvert_exporter": "python",
   "pygments_lexer": "ipython3",
   "version": "3.7.1"
  }
 },
 "nbformat": 4,
 "nbformat_minor": 1
}
