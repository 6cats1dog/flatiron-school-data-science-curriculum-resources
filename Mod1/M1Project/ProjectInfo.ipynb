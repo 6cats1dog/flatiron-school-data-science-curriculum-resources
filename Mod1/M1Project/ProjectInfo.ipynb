{
  "nbformat": 4,
  "nbformat_minor": 0,
  "metadata": {
    "colab": {
      "name": "ProjectInfo",
      "version": "0.3.2",
      "provenance": []
    },
    "kernelspec": {
      "name": "python3",
      "display_name": "Python 3"
    }
  },
  "cells": [
    {
      "metadata": {
        "id": "KPPAEyd750UE",
        "colab_type": "text"
      },
      "cell_type": "markdown",
      "source": [
        "Sharable link: https://colab.research.google.com/drive/1_LTbdAm8DIAoFXrS2wfo404C2ogjyi9x"
      ]
    },
    {
      "metadata": {
        "id": "THkPYAcUrZCT",
        "colab_type": "text"
      },
      "cell_type": "markdown",
      "source": [
        "# Notes About Project\n",
        "\n",
        "*M1S12 is a project example*"
      ]
    },
    {
      "metadata": {
        "id": "z1ADVBGTrn4m",
        "colab_type": "text"
      },
      "cell_type": "markdown",
      "source": [
        "## Common Imports"
      ]
    },
    {
      "metadata": {
        "id": "-aAKLUnghgmX",
        "colab_type": "code",
        "colab": {}
      },
      "cell_type": "code",
      "source": [
        "import pandas as pd\n",
        "import numpy as np\n",
        "\n",
        "import statsmodels as sm\n",
        "import seaborn as sns\n",
        "\n",
        "import matplotlib.pyplot as plt"
      ],
      "execution_count": 0,
      "outputs": []
    },
    {
      "metadata": {
        "id": "GcclEyGerqP0",
        "colab_type": "text"
      },
      "cell_type": "markdown",
      "source": [
        "## Data Science Life Cycle"
      ]
    },
    {
      "metadata": {
        "id": "6K1F4jdirv4t",
        "colab_type": "text"
      },
      "cell_type": "markdown",
      "source": [
        "### CRISP-DM"
      ]
    },
    {
      "metadata": {
        "id": "lMhX3MjGieSP",
        "colab_type": "text"
      },
      "cell_type": "markdown",
      "source": [
        "\n",
        "\n",
        "* Business\n",
        "  - Who is it for?\n",
        "  - Sources?\n",
        "  - What kind of problems can we address?\n",
        "* Data understanding\n",
        "  - What & where are data?\n",
        "  - target (goal)?\n",
        "  - What does the data look like\n",
        "    + Size\n",
        "    + Distribution\n",
        "    + Predictors?\n",
        "  - Where was the data collected (\"correct\")?\n",
        "  \n",
        "* Data Prep\n",
        "  - Missing vals\n",
        "  - Conversions (types, categorical vs numerical)\n",
        "  - Normalize\n",
        "  - Predictors that are related\n",
        "\n",
        "* Modeling\n",
        "   - What kind of models can we try?\n",
        "   - Validation\n",
        "   - Loss function\n",
        "   - Threshold (when are we \"done\"?)\n",
        "   \n",
        "* Evaluation\n",
        "   - Do what with what we got?\n",
        "   \n",
        "* Deploymnet\n",
        "   - Before was \"proof of concept\"\n",
        "   - ETL automation"
      ]
    },
    {
      "metadata": {
        "id": "MO8UIip9rzsf",
        "colab_type": "text"
      },
      "cell_type": "markdown",
      "source": [
        "### OSEMN"
      ]
    },
    {
      "metadata": {
        "id": "a83vkxWUkUCv",
        "colab_type": "text"
      },
      "cell_type": "markdown",
      "source": [
        "OSEMN\n",
        "\n",
        "* O: Obtaining our data\n",
        "* S:  Scrubbing / Cleaning our data\n",
        "* E:  Exploring / Visualizing our data will allow us to find patterns and trends\n",
        "* M:  Modeling our data will give us our predictive power as a wizard\n",
        "* N:  Interpreting our data"
      ]
    },
    {
      "metadata": {
        "id": "3QgBy0Cto0Qh",
        "colab_type": "text"
      },
      "cell_type": "markdown",
      "source": [
        "## Tips & Going Through OSEMN\n"
      ]
    },
    {
      "metadata": {
        "id": "vJtocJWN8Vb2",
        "colab_type": "text"
      },
      "cell_type": "markdown",
      "source": [
        "### Obtaining data is CSV"
      ]
    },
    {
      "metadata": {
        "id": "s_7hgpFZ8pk4",
        "colab_type": "text"
      },
      "cell_type": "markdown",
      "source": [
        "### Scrubbing"
      ]
    },
    {
      "metadata": {
        "id": "XP12s4Ek_ZQm",
        "colab_type": "text"
      },
      "cell_type": "markdown",
      "source": [
        "  - use `.astype(int64)`\n",
        "  - try `df.isna().sum()`\n",
        "  - colinearity\n",
        " "
      ]
    },
    {
      "metadata": {
        "id": "5yyVRULn8rgw",
        "colab_type": "text"
      },
      "cell_type": "markdown",
      "source": [
        "### Explore\n"
      ]
    },
    {
      "metadata": {
        "id": "Dv3WkgnI_WmK",
        "colab_type": "text"
      },
      "cell_type": "markdown",
      "source": [
        "  - histograms see distribution `x_ser.hist()`\n",
        "  - scatter `plt.scatter(x_ser, y_ser, c=z_ser)`\n",
        "  - box plots `plt.boxplot(x_series)`\n",
        "  - Good filtering: `df[df.col_name > 10]`\n",
        "  - One-Hot encode `pd.get_dummies(df)`"
      ]
    },
    {
      "metadata": {
        "id": "8M4LtIgZ8t7J",
        "colab_type": "text"
      },
      "cell_type": "markdown",
      "source": [
        "### Modeling"
      ]
    },
    {
      "metadata": {
        "id": "5XvrtdNQ_Tei",
        "colab_type": "text"
      },
      "cell_type": "markdown",
      "source": [
        "  - `plt.boxplot(x_series)`\n",
        "\n",
        "*   Always try something simple first!\n",
        "*   Visualize!\n",
        "*   What features matter (artificially weighing them?)\n",
        "*   Does the model make sense for the data (linearity)\n",
        "*   Can always make new/adjust model"
      ]
    },
    {
      "metadata": {
        "id": "XAAV1LAd8v7p",
        "colab_type": "text"
      },
      "cell_type": "markdown",
      "source": [
        "### Interpret"
      ]
    },
    {
      "metadata": {
        "id": "i_UeK0eL85Gb",
        "colab_type": "text"
      },
      "cell_type": "markdown",
      "source": [
        "* Think who are you doing this for\n",
        "* Really think about significance\n",
        "* Visuals/plots !!!! (*a picture is worth a thousand words*)\n",
        "\n"
      ]
    },
    {
      "metadata": {
        "id": "7FNAVY9FtIfY",
        "colab_type": "text"
      },
      "cell_type": "markdown",
      "source": [
        "# Project Example\n",
        "\n",
        "Project Example\n",
        "Checkout a walkthrough from Rafael: https://www.youtube.com/watch?v=aZRnUITFYxk"
      ]
    },
    {
      "metadata": {
        "id": "GQxhONm6tOXv",
        "colab_type": "code",
        "colab": {}
      },
      "cell_type": "code",
      "source": [
        "# imports"
      ],
      "execution_count": 0,
      "outputs": []
    },
    {
      "metadata": {
        "id": "fAUi0teStROr",
        "colab_type": "code",
        "colab": {}
      },
      "cell_type": "code",
      "source": [
        "# get your file"
      ],
      "execution_count": 0,
      "outputs": []
    }
  ]
}