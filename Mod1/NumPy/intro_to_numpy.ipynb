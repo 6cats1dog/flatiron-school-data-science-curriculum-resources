{
 "cells": [
  {
   "cell_type": "markdown",
   "metadata": {},
   "source": [
    "# NumPy Intro\n",
    "\n",
    "Curriculum related lesson: https://github.com/learn-co-students/dsc-1-08-03-intro-to-numpy-online-ds-sp-000"
   ]
  },
  {
   "cell_type": "code",
   "execution_count": null,
   "metadata": {},
   "outputs": [],
   "source": [
    "# Usually imported as `np`\n",
    "import numpy as np\n",
    "\n",
    "# For later\n",
    "import pandas as pd"
   ]
  },
  {
   "cell_type": "markdown",
   "metadata": {},
   "source": [
    "# Arrays"
   ]
  },
  {
   "cell_type": "markdown",
   "metadata": {},
   "source": [
    "Arrays are very similar to lists but do have some extra efficiency and actions"
   ]
  },
  {
   "cell_type": "code",
   "execution_count": null,
   "metadata": {},
   "outputs": [],
   "source": [
    "# Let's define an array!\n",
    "my_arr = np.array([1,2,3,4])\n",
    "my_arr"
   ]
  },
  {
   "cell_type": "code",
   "execution_count": null,
   "metadata": {},
   "outputs": [],
   "source": [
    "# We can create numpy arrays in lots of different ways\n",
    "use_range = range(10)\n",
    "print('Using range: ', np.array(use_range))\n",
    "\n",
    "use_tuple = (5,2,3)\n",
    "print('Using tuples: ', np.array(use_tuple))\n",
    "\n",
    "use_series = pd.Series([1,2,3])\n",
    "print('Using pd.Series: ', np.array(use_series))"
   ]
  },
  {
   "cell_type": "markdown",
   "metadata": {},
   "source": [
    "## Math"
   ]
  },
  {
   "cell_type": "markdown",
   "metadata": {},
   "source": [
    "### Remember Lists?\n",
    "A certain syntax"
   ]
  },
  {
   "cell_type": "code",
   "execution_count": null,
   "metadata": {},
   "outputs": [],
   "source": [
    "list0 = [1,2,3]\n",
    "list0 + 4"
   ]
  },
  {
   "cell_type": "code",
   "execution_count": null,
   "metadata": {},
   "outputs": [],
   "source": [
    "list0 + [4]"
   ]
  },
  {
   "cell_type": "code",
   "execution_count": null,
   "metadata": {},
   "outputs": [],
   "source": [
    "# What about multiplication?\n",
    "print(list0 * 3)\n",
    "\n",
    "# What about division\n",
    "print(list0 / 3)"
   ]
  },
  {
   "cell_type": "code",
   "execution_count": null,
   "metadata": {},
   "outputs": [],
   "source": [
    "# Adding lists together\n",
    "list0 = [0,1,2]\n",
    "list1 = [3,4,5]\n",
    "print(list0)\n",
    "print(list1)\n",
    "print(list0 + list1)"
   ]
  },
  {
   "cell_type": "markdown",
   "metadata": {},
   "source": [
    "### Looking at NumPy Arrays"
   ]
  },
  {
   "cell_type": "code",
   "execution_count": null,
   "metadata": {},
   "outputs": [],
   "source": [
    "np_arr0 = np.array(range(4))\n",
    "np_arr0"
   ]
  },
  {
   "cell_type": "code",
   "execution_count": null,
   "metadata": {},
   "outputs": [],
   "source": [
    "# All them math\n",
    "print(np_arr0 + 3)\n",
    "print(np_arr0 - 3)\n",
    "print(np_arr0 * 3)\n",
    "print(np_arr0 / 3)"
   ]
  },
  {
   "cell_type": "code",
   "execution_count": null,
   "metadata": {},
   "outputs": [],
   "source": [
    "# Adding arrays together\n",
    "np_arr0 = np.array([0,1,2])\n",
    "np_arr1 = np.array([3,4,5])\n",
    "print(np_arr0)\n",
    "print(np_arr1)\n",
    "print(np_arr0 + np_arr1)"
   ]
  },
  {
   "cell_type": "markdown",
   "metadata": {},
   "source": [
    "## Multidimensional\n",
    "\n",
    "Curriculum: https://github.com/learn-co-students/dsc-1-08-04-getting-started-with-numpy-online-ds-sp-000"
   ]
  },
  {
   "cell_type": "code",
   "execution_count": null,
   "metadata": {},
   "outputs": [],
   "source": [
    "arr_2d = np.array([\n",
    "    [0,1,2],\n",
    "    [3,4,5],\n",
    "    [6,7,8]\n",
    "])\n",
    "\n",
    "print(arr_2d)"
   ]
  },
  {
   "cell_type": "code",
   "execution_count": null,
   "metadata": {},
   "outputs": [],
   "source": [
    "arr_3d = np.array([\n",
    "    [range(0,3),range(3,6),range(6,9)],\n",
    "    [range(9,12),range(12,15),range(15,18)],\n",
    "    [range(18,21),range(21,24),range(24,27)]\n",
    "])\n",
    "\n",
    "print(arr_3d)"
   ]
  },
  {
   "cell_type": "code",
   "execution_count": null,
   "metadata": {},
   "outputs": [],
   "source": [
    "print(arr_2d.shape)\n",
    "print(arr_3d.shape)"
   ]
  }
 ],
 "metadata": {
  "kernelspec": {
   "display_name": "Python 3",
   "language": "python",
   "name": "python3"
  },
  "language_info": {
   "codemirror_mode": {
    "name": "ipython",
    "version": 3
   },
   "file_extension": ".py",
   "mimetype": "text/x-python",
   "name": "python",
   "nbconvert_exporter": "python",
   "pygments_lexer": "ipython3",
   "version": "3.7.1"
  }
 },
 "nbformat": 4,
 "nbformat_minor": 2
}
