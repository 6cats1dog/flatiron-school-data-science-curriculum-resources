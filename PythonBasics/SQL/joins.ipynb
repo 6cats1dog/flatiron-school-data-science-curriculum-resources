{
 "cells": [
  {
   "cell_type": "code",
   "execution_count": null,
   "metadata": {
    "ExecuteTime": {
     "end_time": "2019-05-09T19:34:53.765021Z",
     "start_time": "2019-05-09T19:34:53.462135Z"
    }
   },
   "outputs": [],
   "source": [
    "import sqlite3\n",
    "import pandas as pd\n",
    "\n",
    "conn = sqlite3.connect('data.sqlite', detect_types=sqlite3.PARSE_COLNAMES)\n",
    "cur = conn.cursor()"
   ]
  },
  {
   "cell_type": "markdown",
   "metadata": {},
   "source": [
    "# Exploring the existing data tables"
   ]
  },
  {
   "cell_type": "markdown",
   "metadata": {},
   "source": [
    "Helper functions so I can use DataFrames"
   ]
  },
  {
   "cell_type": "code",
   "execution_count": null,
   "metadata": {
    "ExecuteTime": {
     "end_time": "2019-05-09T19:34:53.770718Z",
     "start_time": "2019-05-09T19:34:53.766713Z"
    }
   },
   "outputs": [],
   "source": [
    "def sql_with_cols(query,cursor=cur):\n",
    "  '''\n",
    "  Gives me the full result (with columns)\n",
    "  '''\n",
    "  result = cursor.execute(query).fetchall()\n",
    "  cols = tuple([description[0] for description in cur.description])\n",
    "  \n",
    "  full_result = (cols, result[:])\n",
    "  return full_result\n",
    "\n",
    "def df_sql(query, cursor=cur):\n",
    "    cols, result_data = sql_with_cols(query, cursor)\n",
    "    return pd.DataFrame(data=result_data, columns=cols)"
   ]
  },
  {
   "cell_type": "markdown",
   "metadata": {},
   "source": [
    "## `orderdetails` table"
   ]
  },
  {
   "cell_type": "code",
   "execution_count": null,
   "metadata": {
    "ExecuteTime": {
     "end_time": "2019-05-09T19:34:53.814611Z",
     "start_time": "2019-05-09T19:34:53.773229Z"
    }
   },
   "outputs": [],
   "source": [
    "query = \"\"\"\n",
    "select \n",
    "    * \n",
    "from \n",
    "    orderdetails\n",
    "\"\"\"\n",
    "\n",
    "df_orderdetails = df_sql(query)\n",
    "df_orderdetails.head()"
   ]
  },
  {
   "cell_type": "code",
   "execution_count": null,
   "metadata": {
    "ExecuteTime": {
     "end_time": "2019-05-09T19:34:53.838513Z",
     "start_time": "2019-05-09T19:34:53.817068Z"
    }
   },
   "outputs": [],
   "source": [
    "df_orderdetails.describe()"
   ]
  },
  {
   "cell_type": "markdown",
   "metadata": {},
   "source": [
    "## `products` table"
   ]
  },
  {
   "cell_type": "code",
   "execution_count": null,
   "metadata": {
    "ExecuteTime": {
     "end_time": "2019-05-09T19:34:53.844121Z",
     "start_time": "2019-05-09T19:34:53.840517Z"
    }
   },
   "outputs": [],
   "source": [
    "query = \"\"\"\n",
    "select \n",
    "    * \n",
    "from \n",
    "    products\n",
    "\"\"\"\n",
    "\n",
    "df_products = df_sql(query)"
   ]
  },
  {
   "cell_type": "code",
   "execution_count": null,
   "metadata": {
    "ExecuteTime": {
     "end_time": "2019-05-09T19:34:53.854753Z",
     "start_time": "2019-05-09T19:34:53.845525Z"
    },
    "scrolled": true
   },
   "outputs": [],
   "source": [
    "df_products.head()"
   ]
  },
  {
   "cell_type": "code",
   "execution_count": null,
   "metadata": {
    "ExecuteTime": {
     "end_time": "2019-05-09T19:34:53.882123Z",
     "start_time": "2019-05-09T19:34:53.856013Z"
    }
   },
   "outputs": [],
   "source": [
    "df_products.describe()"
   ]
  },
  {
   "cell_type": "markdown",
   "metadata": {},
   "source": [
    "# Joins on data tables"
   ]
  },
  {
   "cell_type": "markdown",
   "metadata": {},
   "source": [
    "## Inner Join on `products` & `orderdetails`"
   ]
  },
  {
   "cell_type": "code",
   "execution_count": null,
   "metadata": {
    "ExecuteTime": {
     "end_time": "2019-05-09T19:34:53.905488Z",
     "start_time": "2019-05-09T19:34:53.883423Z"
    }
   },
   "outputs": [],
   "source": [
    "query = \"\"\"\n",
    "select * \n",
    "from \n",
    "    orderdetails\n",
    "    join products\n",
    "        on orderdetails.productCode = products.productCode\n",
    "\"\"\"\n",
    "df_join_products_orderdetails = df_sql(query)"
   ]
  },
  {
   "cell_type": "code",
   "execution_count": null,
   "metadata": {
    "ExecuteTime": {
     "end_time": "2019-05-09T19:34:53.910301Z",
     "start_time": "2019-05-09T19:34:53.907131Z"
    }
   },
   "outputs": [],
   "source": [
    "# Rename the `productCode` columns since they are repeated\n",
    "old_cols = list(df_join_products_orderdetails.columns)\n",
    "new_cols = (\n",
    "    [f'o.{c}' for c in old_cols[:5]]\n",
    "    +\n",
    "    [f'p.{c}' for c in old_cols[5:]]\n",
    ")\n",
    "df_join_products_orderdetails.columns = new_cols"
   ]
  },
  {
   "cell_type": "code",
   "execution_count": null,
   "metadata": {
    "ExecuteTime": {
     "end_time": "2019-05-09T19:34:53.965201Z",
     "start_time": "2019-05-09T19:34:53.924186Z"
    }
   },
   "outputs": [],
   "source": [
    "df_join_products_orderdetails.head()"
   ]
  },
  {
   "cell_type": "code",
   "execution_count": null,
   "metadata": {
    "ExecuteTime": {
     "end_time": "2019-05-09T19:34:53.965201Z",
     "start_time": "2019-05-09T19:34:53.924186Z"
    }
   },
   "outputs": [],
   "source": [
    "df_join_products_orderdetails.describe()"
   ]
  },
  {
   "cell_type": "markdown",
   "metadata": {},
   "source": [
    "## Left Join on `products` & `orderdetails`"
   ]
  },
  {
   "cell_type": "markdown",
   "metadata": {},
   "source": [
    "For all the products we have, get the order information"
   ]
  },
  {
   "cell_type": "code",
   "execution_count": null,
   "metadata": {
    "ExecuteTime": {
     "end_time": "2019-05-09T19:34:53.988137Z",
     "start_time": "2019-05-09T19:34:53.966492Z"
    }
   },
   "outputs": [],
   "source": [
    "query = \"\"\"\n",
    "select \n",
    "    * \n",
    "from \n",
    "    products as p\n",
    "    left join orderdetails as o\n",
    "        on o.productCode = p.productCode\n",
    "\"\"\"\n",
    "\n",
    "df_innerjoin_products_orderdetails = df_sql(query)"
   ]
  },
  {
   "cell_type": "code",
   "execution_count": null,
   "metadata": {
    "ExecuteTime": {
     "end_time": "2019-05-09T19:34:53.993191Z",
     "start_time": "2019-05-09T19:34:53.990037Z"
    }
   },
   "outputs": [],
   "source": [
    "# Rename the `productCode` columns since they are repeated\n",
    "old_cols = list(df_innerjoin_products_orderdetails.columns)\n",
    "new_cols = (\n",
    "    [f'p.{c}' for c in old_cols[:9]]\n",
    "    +\n",
    "    [f'o.{c}' for c in old_cols[9:]]\n",
    ")\n",
    "df_innerjoin_products_orderdetails.columns = new_cols"
   ]
  },
  {
   "cell_type": "code",
   "execution_count": null,
   "metadata": {
    "ExecuteTime": {
     "end_time": "2019-05-09T19:34:54.006237Z",
     "start_time": "2019-05-09T19:34:53.994356Z"
    }
   },
   "outputs": [],
   "source": [
    "df_innerjoin_products_orderdetails.head()"
   ]
  },
  {
   "cell_type": "code",
   "execution_count": null,
   "metadata": {
    "ExecuteTime": {
     "end_time": "2019-05-09T19:34:54.050058Z",
     "start_time": "2019-05-09T19:34:54.007632Z"
    }
   },
   "outputs": [],
   "source": [
    "df_innerjoin_products_orderdetails.describe()"
   ]
  },
  {
   "cell_type": "markdown",
   "metadata": {},
   "source": [
    "### What if there are no orders for that product?"
   ]
  },
  {
   "cell_type": "code",
   "execution_count": null,
   "metadata": {
    "ExecuteTime": {
     "end_time": "2019-05-09T19:34:54.063047Z",
     "start_time": "2019-05-09T19:34:54.051750Z"
    }
   },
   "outputs": [],
   "source": [
    "df_innerjoin_products_orderdetails[df_innerjoin_products_orderdetails['o.orderNumber'].isnull()]"
   ]
  },
  {
   "cell_type": "code",
   "execution_count": null,
   "metadata": {
    "ExecuteTime": {
     "end_time": "2019-05-09T19:34:54.069861Z",
     "start_time": "2019-05-09T19:34:54.064763Z"
    }
   },
   "outputs": [],
   "source": [
    "# Does that product show up in the last join?\n",
    "mask = df_join_products_orderdetails['p.productCode'] == 'S18_3233'\n",
    "print(mask.sum())"
   ]
  },
  {
   "cell_type": "code",
   "execution_count": null,
   "metadata": {
    "ExecuteTime": {
     "end_time": "2019-05-09T19:34:54.082870Z",
     "start_time": "2019-05-09T19:34:54.074892Z"
    }
   },
   "outputs": [],
   "source": [
    "df_join_products_orderdetails[mask]"
   ]
  },
  {
   "cell_type": "markdown",
   "metadata": {},
   "source": [
    "## Doing an aggregations"
   ]
  },
  {
   "cell_type": "markdown",
   "metadata": {},
   "source": [
    "### With Pandas"
   ]
  },
  {
   "cell_type": "code",
   "execution_count": null,
   "metadata": {
    "ExecuteTime": {
     "end_time": "2019-05-09T19:34:54.095580Z",
     "start_time": "2019-05-09T19:34:54.088119Z"
    },
    "scrolled": true
   },
   "outputs": [],
   "source": [
    "(\n",
    "df_join_products_orderdetails\n",
    "    .groupby(['p.productCode'])['p.productName']\n",
    "    .count()\n",
    "    .sort_values()\n",
    ")"
   ]
  },
  {
   "cell_type": "markdown",
   "metadata": {},
   "source": [
    "### Same aggregation with SQL"
   ]
  },
  {
   "cell_type": "code",
   "execution_count": null,
   "metadata": {
    "ExecuteTime": {
     "end_time": "2019-05-09T19:35:23.860567Z",
     "start_time": "2019-05-09T19:35:23.854303Z"
    }
   },
   "outputs": [],
   "source": [
    "query = \"\"\"\n",
    "select\n",
    "    p.productCode as 'p.productCode',\n",
    "    count(*) as product_count\n",
    "from \n",
    "    orderdetails as o\n",
    "    join products as p\n",
    "        on o.productCode = p.productCode\n",
    "group by\n",
    "    p.productCode\n",
    "order by\n",
    "    product_count\n",
    "\"\"\"\n",
    "df = df_sql(query)"
   ]
  },
  {
   "cell_type": "code",
   "execution_count": null,
   "metadata": {
    "ExecuteTime": {
     "end_time": "2019-05-09T19:35:25.819964Z",
     "start_time": "2019-05-09T19:35:25.808600Z"
    }
   },
   "outputs": [],
   "source": [
    "df"
   ]
  }
 ],
 "metadata": {
  "kernelspec": {
   "display_name": "Python 3",
   "language": "python",
   "name": "python3"
  },
  "language_info": {
   "codemirror_mode": {
    "name": "ipython",
    "version": 3
   },
   "file_extension": ".py",
   "mimetype": "text/x-python",
   "name": "python",
   "nbconvert_exporter": "python",
   "pygments_lexer": "ipython3",
   "version": "3.7.1"
  },
  "toc": {
   "base_numbering": 1,
   "nav_menu": {},
   "number_sections": true,
   "sideBar": true,
   "skip_h1_title": false,
   "title_cell": "Table of Contents",
   "title_sidebar": "Contents",
   "toc_cell": false,
   "toc_position": {},
   "toc_section_display": true,
   "toc_window_display": false
  },
  "varInspector": {
   "cols": {
    "lenName": 16,
    "lenType": 16,
    "lenVar": 40
   },
   "kernels_config": {
    "python": {
     "delete_cmd_postfix": "",
     "delete_cmd_prefix": "del ",
     "library": "var_list.py",
     "varRefreshCmd": "print(var_dic_list())"
    },
    "r": {
     "delete_cmd_postfix": ") ",
     "delete_cmd_prefix": "rm(",
     "library": "var_list.r",
     "varRefreshCmd": "cat(var_dic_list()) "
    }
   },
   "types_to_exclude": [
    "module",
    "function",
    "builtin_function_or_method",
    "instance",
    "_Feature"
   ],
   "window_display": false
  }
 },
 "nbformat": 4,
 "nbformat_minor": 2
}
