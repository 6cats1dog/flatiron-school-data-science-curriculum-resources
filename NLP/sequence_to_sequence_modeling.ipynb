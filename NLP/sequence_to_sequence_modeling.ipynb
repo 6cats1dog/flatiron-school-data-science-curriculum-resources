{
 "cells": [
  {
   "cell_type": "markdown",
   "metadata": {
    "toc": true
   },
   "source": [
    "<h1>Table of Contents<span class=\"tocSkip\"></span></h1>\n",
    "<div class=\"toc\"><ul class=\"toc-item\"><li><span><a href=\"#Sequence-to-Sequence-Models\" data-toc-modified-id=\"Sequence-to-Sequence-Models-1\"><span class=\"toc-item-num\">1&nbsp;&nbsp;</span>Sequence-to-Sequence Models</a></span><ul class=\"toc-item\"><li><span><a href=\"#Knowledge-Check-🧠:-What-applications-would-this-be-useful?\" data-toc-modified-id=\"Knowledge-Check-🧠:-What-applications-would-this-be-useful?-1.1\"><span class=\"toc-item-num\">1.1&nbsp;&nbsp;</span>Knowledge Check 🧠: What applications would this be useful?</a></span></li><li><span><a href=\"#Recurrent-Neural-Networks-(RNNs)\" data-toc-modified-id=\"Recurrent-Neural-Networks-(RNNs)-1.2\"><span class=\"toc-item-num\">1.2&nbsp;&nbsp;</span>Recurrent Neural Networks (RNNs)</a></span></li><li><span><a href=\"#Long-Short-Term-Memory-(LSTM)-Cells\" data-toc-modified-id=\"Long-Short-Term-Memory-(LSTM)-Cells-1.3\"><span class=\"toc-item-num\">1.3&nbsp;&nbsp;</span>Long Short Term Memory (LSTM) Cells</a></span></li><li><span><a href=\"#Gated-Recurrent-Units-(GRUs)\" data-toc-modified-id=\"Gated-Recurrent-Units-(GRUs)-1.4\"><span class=\"toc-item-num\">1.4&nbsp;&nbsp;</span>Gated Recurrent Units (GRUs)</a></span></li></ul></li><li><span><a href=\"#Other-Models\" data-toc-modified-id=\"Other-Models-2\"><span class=\"toc-item-num\">2&nbsp;&nbsp;</span>Other Models</a></span><ul class=\"toc-item\"><li><span><a href=\"#Attention\" data-toc-modified-id=\"Attention-2.1\"><span class=\"toc-item-num\">2.1&nbsp;&nbsp;</span>Attention</a></span></li></ul></li></ul></div>"
   ]
  },
  {
   "cell_type": "markdown",
   "metadata": {
    "heading_collapsed": true
   },
   "source": [
    "# Sequence-to-Sequence Models"
   ]
  },
  {
   "cell_type": "markdown",
   "metadata": {
    "hidden": true
   },
   "source": [
    "Sequence-to-sequence models help us use the previous predictions to make the next predictions. This was developed to allows us a variable input and output."
   ]
  },
  {
   "cell_type": "markdown",
   "metadata": {
    "heading_collapsed": true,
    "hidden": true
   },
   "source": [
    "## Knowledge Check 🧠: What applications would this be useful?"
   ]
  },
  {
   "cell_type": "markdown",
   "metadata": {
    "hidden": true
   },
   "source": [
    "* Stock Market (Time Series)\n",
    "* Language Translation\n",
    "* Sentiment Analysis\n",
    "* Speech Recognition\n",
    "* Captioning an Image (feed in image classification)"
   ]
  },
  {
   "cell_type": "markdown",
   "metadata": {
    "heading_collapsed": true,
    "hidden": true
   },
   "source": [
    "## Recurrent Neural Networks (RNNs)"
   ]
  },
  {
   "cell_type": "markdown",
   "metadata": {
    "hidden": true
   },
   "source": [
    "First thing to note is that a RNN really is just a neural network that feeds the outputs back in as inputs to make the next prediction."
   ]
  },
  {
   "cell_type": "markdown",
   "metadata": {
    "hidden": true
   },
   "source": [
    "![](images/rnn_animated.gif)\n",
    "\n",
    "> Animation is a clip from video on RNNs: https://www.youtube.com/watch?v=UNmqTiOnRfg "
   ]
  },
  {
   "cell_type": "markdown",
   "metadata": {
    "heading_collapsed": true,
    "hidden": true
   },
   "source": [
    "## Long Short Term Memory (LSTM) Cells"
   ]
  },
  {
   "cell_type": "markdown",
   "metadata": {
    "heading_collapsed": true,
    "hidden": true
   },
   "source": [
    "## Gated Recurrent Units (GRUs)"
   ]
  }
 ],
 "metadata": {
  "kernelspec": {
   "display_name": "Python 3",
   "language": "python",
   "name": "python3"
  },
  "language_info": {
   "codemirror_mode": {
    "name": "ipython",
    "version": 3
   },
   "file_extension": ".py",
   "mimetype": "text/x-python",
   "name": "python",
   "nbconvert_exporter": "python",
   "pygments_lexer": "ipython3",
   "version": "3.7.1"
  },
  "toc": {
   "base_numbering": 1,
   "nav_menu": {},
   "number_sections": true,
   "sideBar": true,
   "skip_h1_title": false,
   "title_cell": "Table of Contents",
   "title_sidebar": "Contents",
   "toc_cell": true,
   "toc_position": {},
   "toc_section_display": true,
   "toc_window_display": true
  },
  "varInspector": {
   "cols": {
    "lenName": 16,
    "lenType": 16,
    "lenVar": 40
   },
   "kernels_config": {
    "python": {
     "delete_cmd_postfix": "",
     "delete_cmd_prefix": "del ",
     "library": "var_list.py",
     "varRefreshCmd": "print(var_dic_list())"
    },
    "r": {
     "delete_cmd_postfix": ") ",
     "delete_cmd_prefix": "rm(",
     "library": "var_list.r",
     "varRefreshCmd": "cat(var_dic_list()) "
    }
   },
   "types_to_exclude": [
    "module",
    "function",
    "builtin_function_or_method",
    "instance",
    "_Feature"
   ],
   "window_display": false
  }
 },
 "nbformat": 4,
 "nbformat_minor": 2
}
