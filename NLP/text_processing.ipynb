{
 "cells": [
  {
   "cell_type": "markdown",
   "metadata": {
    "toc": true
   },
   "source": [
    "<h1>Table of Contents<span class=\"tocSkip\"></span></h1>\n",
    "<div class=\"toc\"><ul class=\"toc-item\"><li><span><a href=\"#Preprocessing-Text\" data-toc-modified-id=\"Preprocessing-Text-1\"><span class=\"toc-item-num\">1&nbsp;&nbsp;</span>Preprocessing Text</a></span><ul class=\"toc-item\"><li><span><a href=\"#Where-did-the-text-originate?\" data-toc-modified-id=\"Where-did-the-text-originate?-1.1\"><span class=\"toc-item-num\">1.1&nbsp;&nbsp;</span>Where did the <em>text</em> originate?</a></span></li><li><span><a href=\"#Removing-irrelevant-information\" data-toc-modified-id=\"Removing-irrelevant-information-1.2\"><span class=\"toc-item-num\">1.2&nbsp;&nbsp;</span>Removing irrelevant information</a></span></li><li><span><a href=\"#Useful-tools\" data-toc-modified-id=\"Useful-tools-1.3\"><span class=\"toc-item-num\">1.3&nbsp;&nbsp;</span>Useful tools</a></span><ul class=\"toc-item\"><li><span><a href=\"#Introducing-Natural-Language-Toolkit-(NLTK)\" data-toc-modified-id=\"Introducing-Natural-Language-Toolkit-(NLTK)-1.3.1\"><span class=\"toc-item-num\">1.3.1&nbsp;&nbsp;</span>Introducing Natural Language Toolkit (NLTK)</a></span></li><li><span><a href=\"#Regular-Expression-(Regex)\" data-toc-modified-id=\"Regular-Expression-(Regex)-1.3.2\"><span class=\"toc-item-num\">1.3.2&nbsp;&nbsp;</span>Regular Expression (Regex)</a></span></li></ul></li></ul></li><li><span><a href=\"#Steps-to-Processing-Text\" data-toc-modified-id=\"Steps-to-Processing-Text-2\"><span class=\"toc-item-num\">2&nbsp;&nbsp;</span>Steps to Processing Text</a></span><ul class=\"toc-item\"><li><span><a href=\"#Cleaning\" data-toc-modified-id=\"Cleaning-2.1\"><span class=\"toc-item-num\">2.1&nbsp;&nbsp;</span>Cleaning</a></span></li><li><span><a href=\"#Normalization\" data-toc-modified-id=\"Normalization-2.2\"><span class=\"toc-item-num\">2.2&nbsp;&nbsp;</span>Normalization</a></span></li><li><span><a href=\"#Tokenization\" data-toc-modified-id=\"Tokenization-2.3\"><span class=\"toc-item-num\">2.3&nbsp;&nbsp;</span>Tokenization</a></span></li><li><span><a href=\"#Stopword-removal\" data-toc-modified-id=\"Stopword-removal-2.4\"><span class=\"toc-item-num\">2.4&nbsp;&nbsp;</span>Stopword removal</a></span></li><li><span><a href=\"#Stemming\" data-toc-modified-id=\"Stemming-2.5\"><span class=\"toc-item-num\">2.5&nbsp;&nbsp;</span>Stemming</a></span></li><li><span><a href=\"#Lemmatization\" data-toc-modified-id=\"Lemmatization-2.6\"><span class=\"toc-item-num\">2.6&nbsp;&nbsp;</span>Lemmatization</a></span></li><li><span><a href=\"#Note-on-Part-of-Speech-(POS)-Tagging\" data-toc-modified-id=\"Note-on-Part-of-Speech-(POS)-Tagging-2.7\"><span class=\"toc-item-num\">2.7&nbsp;&nbsp;</span>Note on Part-of-Speech (POS) Tagging</a></span></li></ul></li></ul></div>"
   ]
  },
  {
   "cell_type": "markdown",
   "metadata": {
    "heading_collapsed": true
   },
   "source": [
    "# Preprocessing Text"
   ]
  },
  {
   "cell_type": "markdown",
   "metadata": {
    "heading_collapsed": true,
    "hidden": true
   },
   "source": [
    "## Where did the _text_ originate?"
   ]
  },
  {
   "cell_type": "markdown",
   "metadata": {
    "hidden": true
   },
   "source": [
    "Depending on where the text came from will change how we will preprocess it\n",
    "\n",
    "Examples:\n",
    "- Speech --> Convert into text/words\n",
    "- Web pages --> HTML tags\n",
    "- Word Doc, other text formats --> More \"junk\" to consider"
   ]
  },
  {
   "cell_type": "markdown",
   "metadata": {
    "heading_collapsed": true,
    "hidden": true
   },
   "source": [
    "## Removing irrelevant information"
   ]
  },
  {
   "cell_type": "markdown",
   "metadata": {
    "hidden": true
   },
   "source": [
    "> The dogs in Alaska are cold, hungry, and lonely.\n",
    "\n",
    "- Punctuation likely can be removed without drastically changing the meaning\n",
    "- Capitalization rarely changes meaning\n",
    "- Some common words really don't add to meaning: \"a\", \"the\", \"are\", \"of\"\n"
   ]
  },
  {
   "cell_type": "markdown",
   "metadata": {
    "heading_collapsed": true,
    "hidden": true
   },
   "source": [
    "## Useful tools "
   ]
  },
  {
   "cell_type": "markdown",
   "metadata": {
    "heading_collapsed": true,
    "hidden": true
   },
   "source": [
    "### Introducing Natural Language Toolkit (NLTK)"
   ]
  },
  {
   "cell_type": "markdown",
   "metadata": {
    "hidden": true
   },
   "source": [
    "NLTK is a great library that can help with preprocessing text as well as feature extraction"
   ]
  },
  {
   "cell_type": "markdown",
   "metadata": {
    "heading_collapsed": true,
    "hidden": true
   },
   "source": [
    "### Regular Expression (Regex)"
   ]
  },
  {
   "cell_type": "markdown",
   "metadata": {
    "hidden": true
   },
   "source": [
    "Useful way to structurally to move through language (won't go through it here; lots of resources)"
   ]
  },
  {
   "cell_type": "markdown",
   "metadata": {
    "hidden": true
   },
   "source": [
    "<img src='https://imgs.xkcd.com/comics/regular_expressions.png' width=60%/>"
   ]
  },
  {
   "cell_type": "markdown",
   "metadata": {
    "hidden": true
   },
   "source": [
    "Personally like this webapp to help test out your pattern matching: [Regexr](https://regexr.com/)"
   ]
  },
  {
   "cell_type": "markdown",
   "metadata": {
    "heading_collapsed": true
   },
   "source": [
    "# Steps to Processing Text"
   ]
  },
  {
   "cell_type": "markdown",
   "metadata": {
    "heading_collapsed": true,
    "hidden": true
   },
   "source": [
    "## Cleaning"
   ]
  },
  {
   "cell_type": "markdown",
   "metadata": {
    "hidden": true
   },
   "source": [
    "Can use regex ([Python doc](https://docs.python.org/3/library/re.html)) & packages like [BeautifulSoup](https://www.crummy.com/software/BeautifulSoup/bs4/doc/) to get rid of the extra junk so you just have the natural language material "
   ]
  },
  {
   "cell_type": "markdown",
   "metadata": {
    "heading_collapsed": true,
    "hidden": true
   },
   "source": [
    "## Normalization"
   ]
  },
  {
   "cell_type": "markdown",
   "metadata": {
    "hidden": true
   },
   "source": [
    "- Capitalization\n",
    "- Puncutation (dependent on task)\n",
    "    - Useful for text document as a whole"
   ]
  },
  {
   "cell_type": "markdown",
   "metadata": {
    "heading_collapsed": true,
    "hidden": true
   },
   "source": [
    "## Tokenization"
   ]
  },
  {
   "cell_type": "markdown",
   "metadata": {
    "hidden": true
   },
   "source": [
    "Token (a symbol) holds meaning and can't meaningfully be split up (in English, these are usually words)"
   ]
  },
  {
   "cell_type": "markdown",
   "metadata": {
    "hidden": true
   },
   "source": [
    "`nltk.tokenize` has a variety of tokenizers (http://www.nltk.org/api/nltk.tokenize.html): \n",
    "\n",
    "- `sent_tokenize` finds sentences (often done for translation)\n",
    "- `word_tokenize` is like `split` but is a little smarter in how it tokenizes the text\n",
    "- `RegexTokenizer` can do more advance control like tokenize the words and remove punctuation (http://www.nltk.org/api/nltk.tokenize.html?highlight=regexp#module-nltk.tokenize.regexp)\n",
    "- `TweetTokenizer` specifically for tweets from Twitter (http://www.nltk.org/api/nltk.tokenize.html?highlight=regexp#nltk.tokenize.casual.TweetTokenizer)"
   ]
  },
  {
   "cell_type": "markdown",
   "metadata": {
    "heading_collapsed": true,
    "hidden": true
   },
   "source": [
    "## Stopword removal"
   ]
  },
  {
   "cell_type": "markdown",
   "metadata": {
    "hidden": true
   },
   "source": [
    "- Makes set smaller and still mostly readable\n",
    "- Usually these common stop words dominate the list of words\n",
    "- Dependent on context of task"
   ]
  },
  {
   "cell_type": "markdown",
   "metadata": {
    "hidden": true
   },
   "source": [
    "```python\n",
    "from nltk.corpus import stopwords\n",
    "\n",
    "eng_stopwords = stopwords.words('english')\n",
    "\n",
    "words = [w for w in words if w not in eng_stopwords]\n",
    "\n",
    "```"
   ]
  },
  {
   "cell_type": "markdown",
   "metadata": {
    "heading_collapsed": true,
    "hidden": true
   },
   "source": [
    "## Stemming "
   ]
  },
  {
   "cell_type": "markdown",
   "metadata": {
    "hidden": true
   },
   "source": [
    "- Reducing to root form --> reduce complexity but still have meaning\n",
    "- fast and crude\n",
    "- not all stemmed words are _words_"
   ]
  },
  {
   "cell_type": "markdown",
   "metadata": {
    "heading_collapsed": true,
    "hidden": true
   },
   "source": [
    "## Lemmatization"
   ]
  },
  {
   "cell_type": "markdown",
   "metadata": {
    "hidden": true
   },
   "source": [
    "- Uses dictionary to map variants to root word\n",
    "- Converts to an acutal _word_"
   ]
  },
  {
   "cell_type": "markdown",
   "metadata": {
    "heading_collapsed": true,
    "hidden": true
   },
   "source": [
    "## Note on Part-of-Speech (POS) Tagging"
   ]
  },
  {
   "cell_type": "markdown",
   "metadata": {
    "hidden": true
   },
   "source": [
    "> A simple but limited solution since someone has to laboriously label the entire corpus. This is process is extremely error-prone.\n",
    ">\n",
    "> There are other strategies of learn sentence structure and tags (HMMs & RNNs)"
   ]
  },
  {
   "cell_type": "code",
   "execution_count": 7,
   "metadata": {
    "ExecuteTime": {
     "end_time": "2019-12-13T16:42:01.844691Z",
     "start_time": "2019-12-13T16:41:55.266642Z"
    },
    "hidden": true
   },
   "outputs": [],
   "source": [
    "import IPython\n",
    "from nltk.corpus import treebank\n",
    "t = treebank.parsed_sents('wsj_0001.mrg')[0]\n",
    "t.draw()"
   ]
  },
  {
   "cell_type": "code",
   "execution_count": 12,
   "metadata": {
    "ExecuteTime": {
     "end_time": "2019-12-13T16:47:03.772551Z",
     "start_time": "2019-12-13T16:47:03.768472Z"
    },
    "hidden": true
   },
   "outputs": [],
   "source": [
    "import os\n",
    "from IPython.display import Image, display\n",
    "from nltk.draw import TreeWidget\n",
    "from nltk.draw.util import CanvasFrame\n",
    "\n",
    "def jupyter_draw_nltk_tree(tree,fn):\n",
    "    cf = CanvasFrame()\n",
    "    tc = TreeWidget(cf.canvas(), tree)\n",
    "    tc['node_font'] = 'arial 13 bold'\n",
    "    tc['leaf_font'] = 'arial 14'\n",
    "    tc['node_color'] = '#005990'\n",
    "    tc['leaf_color'] = '#3F8F57'\n",
    "    tc['line_color'] = '#175252'\n",
    "    cf.add_widget(tc, 10, 10)\n",
    "    cf.print_to_file(f'{fn}.ps')\n",
    "    cf.destroy()\n"
   ]
  },
  {
   "cell_type": "code",
   "execution_count": 16,
   "metadata": {
    "ExecuteTime": {
     "end_time": "2019-12-13T16:48:50.548428Z",
     "start_time": "2019-12-13T16:48:50.415895Z"
    },
    "hidden": true
   },
   "outputs": [
    {
     "name": "stdout",
     "output_type": "stream",
     "text": [
      "(S\n",
      "  (NP I)\n",
      "  (VP\n",
      "    (VP (V shot) (NP (Det an) (N elephant)))\n",
      "    (PP (P in) (NP (Det my) (N pajamas)))))\n",
      "(S\n",
      "  (NP I)\n",
      "  (VP\n",
      "    (V shot)\n",
      "    (NP (Det an) (N elephant) (PP (P in) (NP (Det my) (N pajamas))))))\n"
     ]
    }
   ],
   "source": [
    "# Source: https://www.nltk.org/book/ch08.html#ubiquitous-ambiguity\n",
    "import nltk\n",
    "groucho_grammar = nltk.CFG.fromstring(\"\"\"\n",
    "S -> NP VP\n",
    "PP -> P NP\n",
    "NP -> Det N | Det N PP | 'I'\n",
    "VP -> V NP | VP PP\n",
    "Det -> 'an' | 'my'\n",
    "N -> 'elephant' | 'pajamas'\n",
    "V -> 'shot'\n",
    "P -> 'in'\n",
    "\"\"\")\n",
    "\n",
    "sent = ['I', 'shot', 'an', 'elephant', 'in', 'my', 'pajamas']\n",
    "parser = nltk.ChartParser(groucho_grammar)\n",
    "\n",
    "for i,tree in enumerate(parser.parse(sent)):\n",
    "    print(tree)\n",
    "    jupyter_draw_nltk_tree(tree,'_'.join(sent)+f'_{i}')"
   ]
  },
  {
   "cell_type": "markdown",
   "metadata": {
    "hidden": true
   },
   "source": [
    "![](images/I_shot_an_elephant_in_my_pajamas_0.png)"
   ]
  },
  {
   "cell_type": "markdown",
   "metadata": {
    "hidden": true
   },
   "source": [
    "![](images/I_shot_an_elephant_in_my_pajamas_1.png)"
   ]
  }
 ],
 "metadata": {
  "kernelspec": {
   "display_name": "Python [conda env:learn-env] *",
   "language": "python",
   "name": "conda-env-learn-env-py"
  },
  "language_info": {
   "codemirror_mode": {
    "name": "ipython",
    "version": 3
   },
   "file_extension": ".py",
   "mimetype": "text/x-python",
   "name": "python",
   "nbconvert_exporter": "python",
   "pygments_lexer": "ipython3",
   "version": "3.6.6"
  },
  "toc": {
   "base_numbering": 1,
   "nav_menu": {},
   "number_sections": true,
   "sideBar": true,
   "skip_h1_title": false,
   "title_cell": "Table of Contents",
   "title_sidebar": "Contents",
   "toc_cell": true,
   "toc_position": {},
   "toc_section_display": true,
   "toc_window_display": true
  },
  "varInspector": {
   "cols": {
    "lenName": 16,
    "lenType": 16,
    "lenVar": 40
   },
   "kernels_config": {
    "python": {
     "delete_cmd_postfix": "",
     "delete_cmd_prefix": "del ",
     "library": "var_list.py",
     "varRefreshCmd": "print(var_dic_list())"
    },
    "r": {
     "delete_cmd_postfix": ") ",
     "delete_cmd_prefix": "rm(",
     "library": "var_list.r",
     "varRefreshCmd": "cat(var_dic_list()) "
    }
   },
   "types_to_exclude": [
    "module",
    "function",
    "builtin_function_or_method",
    "instance",
    "_Feature"
   ],
   "window_display": false
  }
 },
 "nbformat": 4,
 "nbformat_minor": 2
}
