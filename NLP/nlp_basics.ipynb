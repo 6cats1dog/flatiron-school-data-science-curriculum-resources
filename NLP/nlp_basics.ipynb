{
 "cells": [
  {
   "cell_type": "markdown",
   "metadata": {
    "toc": true
   },
   "source": [
    "<h1>Table of Contents<span class=\"tocSkip\"></span></h1>\n",
    "<div class=\"toc\"><ul class=\"toc-item\"><li><span><a href=\"#NLP-and-Word-Vectorization\" data-toc-modified-id=\"NLP-and-Word-Vectorization-1\"><span class=\"toc-item-num\">1&nbsp;&nbsp;</span>NLP and Word Vectorization</a></span><ul class=\"toc-item\"><li><span><a href=\"#Terms\" data-toc-modified-id=\"Terms-1.1\"><span class=\"toc-item-num\">1.1&nbsp;&nbsp;</span>Terms</a></span></li><li><span><a href=\"#English-are-Hard\" data-toc-modified-id=\"English-are-Hard-1.2\"><span class=\"toc-item-num\">1.2&nbsp;&nbsp;</span>English are Hard</a></span><ul class=\"toc-item\"><li><span><a href=\"#Stemming\" data-toc-modified-id=\"Stemming-1.2.1\"><span class=\"toc-item-num\">1.2.1&nbsp;&nbsp;</span>Stemming</a></span></li><li><span><a href=\"#Lematization\" data-toc-modified-id=\"Lematization-1.2.2\"><span class=\"toc-item-num\">1.2.2&nbsp;&nbsp;</span>Lematization</a></span></li><li><span><a href=\"#Stop-Words\" data-toc-modified-id=\"Stop-Words-1.2.3\"><span class=\"toc-item-num\">1.2.3&nbsp;&nbsp;</span>Stop Words</a></span></li></ul></li></ul></li></ul></div>"
   ]
  },
  {
   "cell_type": "markdown",
   "metadata": {
    "heading_collapsed": true
   },
   "source": [
    "# NLP and Word Vectorization"
   ]
  },
  {
   "cell_type": "markdown",
   "metadata": {
    "hidden": true
   },
   "source": [
    "Turning words into numbers (vectors)!"
   ]
  },
  {
   "cell_type": "markdown",
   "metadata": {
    "heading_collapsed": true,
    "hidden": true
   },
   "source": [
    "## Terms\n",
    "\n",
    "- **Corpus**\n",
    "- **Bag of Words**\n",
    "- **Vectorization**"
   ]
  },
  {
   "cell_type": "markdown",
   "metadata": {
    "heading_collapsed": true,
    "hidden": true
   },
   "source": [
    "## English are Hard\n",
    "\n",
    "We need to tokenize --> make it words into a symbol"
   ]
  },
  {
   "cell_type": "markdown",
   "metadata": {
    "heading_collapsed": true,
    "hidden": true
   },
   "source": [
    "### Stemming\n",
    "\n",
    "Essentially cutting off the extras for pretty much the same word\n",
    "\n",
    "Fast & crude with simple rule"
   ]
  },
  {
   "cell_type": "markdown",
   "metadata": {
    "heading_collapsed": true,
    "hidden": true
   },
   "source": [
    "### Lematization\n",
    "\n",
    "Reduce it to the same form\n",
    "\n",
    "Can be more memory intensive (has to use some kind of dictionary)"
   ]
  },
  {
   "cell_type": "markdown",
   "metadata": {
    "heading_collapsed": true,
    "hidden": true
   },
   "source": [
    "### Stop Words\n",
    "\n",
    "Removed because who needs them!"
   ]
  }
 ],
 "metadata": {
  "kernelspec": {
   "display_name": "Python 3",
   "language": "python",
   "name": "python3"
  },
  "language_info": {
   "codemirror_mode": {
    "name": "ipython",
    "version": 3
   },
   "file_extension": ".py",
   "mimetype": "text/x-python",
   "name": "python",
   "nbconvert_exporter": "python",
   "pygments_lexer": "ipython3",
   "version": "3.7.1"
  },
  "toc": {
   "base_numbering": 1,
   "nav_menu": {},
   "number_sections": true,
   "sideBar": true,
   "skip_h1_title": false,
   "title_cell": "Table of Contents",
   "title_sidebar": "Contents",
   "toc_cell": true,
   "toc_position": {},
   "toc_section_display": true,
   "toc_window_display": true
  },
  "varInspector": {
   "cols": {
    "lenName": 16,
    "lenType": 16,
    "lenVar": 40
   },
   "kernels_config": {
    "python": {
     "delete_cmd_postfix": "",
     "delete_cmd_prefix": "del ",
     "library": "var_list.py",
     "varRefreshCmd": "print(var_dic_list())"
    },
    "r": {
     "delete_cmd_postfix": ") ",
     "delete_cmd_prefix": "rm(",
     "library": "var_list.r",
     "varRefreshCmd": "cat(var_dic_list()) "
    }
   },
   "types_to_exclude": [
    "module",
    "function",
    "builtin_function_or_method",
    "instance",
    "_Feature"
   ],
   "window_display": false
  }
 },
 "nbformat": 4,
 "nbformat_minor": 2
}
