{
 "cells": [
  {
   "cell_type": "markdown",
   "metadata": {
    "toc": true
   },
   "source": [
    "<h1>Table of Contents<span class=\"tocSkip\"></span></h1>\n",
    "<div class=\"toc\"><ul class=\"toc-item\"><li><span><a href=\"#Pipelines:-Automating-the-Automatic-Learning\" data-toc-modified-id=\"Pipelines:-Automating-the-Automatic-Learning-1\"><span class=\"toc-item-num\">1&nbsp;&nbsp;</span>Pipelines: Automating the Automatic Learning</a></span></li><li><span><a href=\"#Example-of-Using-a-Pipeline\" data-toc-modified-id=\"Example-of-Using-a-Pipeline-2\"><span class=\"toc-item-num\">2&nbsp;&nbsp;</span>Example of Using a Pipeline</a></span><ul class=\"toc-item\"><li><span><a href=\"#TODO:-Without-a-pipeline\" data-toc-modified-id=\"TODO:-Without-a-pipeline-2.1\"><span class=\"toc-item-num\">2.1&nbsp;&nbsp;</span>TODO: Without a pipeline</a></span></li><li><span><a href=\"#TODO:-With-a-pipeline\" data-toc-modified-id=\"TODO:-With-a-pipeline-2.2\"><span class=\"toc-item-num\">2.2&nbsp;&nbsp;</span>TODO: With a pipeline</a></span></li></ul></li><li><span><a href=\"#Parts-of-a-Pipeline\" data-toc-modified-id=\"Parts-of-a-Pipeline-3\"><span class=\"toc-item-num\">3&nbsp;&nbsp;</span>Parts of a Pipeline</a></span><ul class=\"toc-item\"><li><span><a href=\"#Estimator\" data-toc-modified-id=\"Estimator-3.1\"><span class=\"toc-item-num\">3.1&nbsp;&nbsp;</span>Estimator</a></span><ul class=\"toc-item\"><li><span><a href=\"#Usage-(Methods)\" data-toc-modified-id=\"Usage-(Methods)-3.1.1\"><span class=\"toc-item-num\">3.1.1&nbsp;&nbsp;</span>Usage (Methods)</a></span><ul class=\"toc-item\"><li><span><a href=\"#fit\" data-toc-modified-id=\"fit-3.1.1.1\"><span class=\"toc-item-num\">3.1.1.1&nbsp;&nbsp;</span><code>fit</code></a></span></li></ul></li></ul></li><li><span><a href=\"#Transformer\" data-toc-modified-id=\"Transformer-3.2\"><span class=\"toc-item-num\">3.2&nbsp;&nbsp;</span>Transformer</a></span><ul class=\"toc-item\"><li><span><a href=\"#Usage-(Methods)\" data-toc-modified-id=\"Usage-(Methods)-3.2.1\"><span class=\"toc-item-num\">3.2.1&nbsp;&nbsp;</span>Usage (Methods)</a></span><ul class=\"toc-item\"><li><span><a href=\"#transform\" data-toc-modified-id=\"transform-3.2.1.1\"><span class=\"toc-item-num\">3.2.1.1&nbsp;&nbsp;</span><code>transform</code></a></span></li><li><span><a href=\"#fit_transform\" data-toc-modified-id=\"fit_transform-3.2.1.2\"><span class=\"toc-item-num\">3.2.1.2&nbsp;&nbsp;</span><code>fit_transform</code></a></span></li></ul></li></ul></li><li><span><a href=\"#Predictor\" data-toc-modified-id=\"Predictor-3.3\"><span class=\"toc-item-num\">3.3&nbsp;&nbsp;</span>Predictor</a></span><ul class=\"toc-item\"><li><span><a href=\"#Usage-(Methods)\" data-toc-modified-id=\"Usage-(Methods)-3.3.1\"><span class=\"toc-item-num\">3.3.1&nbsp;&nbsp;</span>Usage (Methods)</a></span><ul class=\"toc-item\"><li><span><a href=\"#predict\" data-toc-modified-id=\"predict-3.3.1.1\"><span class=\"toc-item-num\">3.3.1.1&nbsp;&nbsp;</span><code>predict</code></a></span></li><li><span><a href=\"#score\" data-toc-modified-id=\"score-3.3.1.2\"><span class=\"toc-item-num\">3.3.1.2&nbsp;&nbsp;</span><code>score</code></a></span></li></ul></li></ul></li></ul></li><li><span><a href=\"#Using-a-Pipeline\" data-toc-modified-id=\"Using-a-Pipeline-4\"><span class=\"toc-item-num\">4&nbsp;&nbsp;</span>Using a Pipeline</a></span></li><li><span><a href=\"#Advantages\" data-toc-modified-id=\"Advantages-5\"><span class=\"toc-item-num\">5&nbsp;&nbsp;</span>Advantages</a></span><ul class=\"toc-item\"><li><span><a href=\"#Simplicity-and-Convencience\" data-toc-modified-id=\"Simplicity-and-Convencience-5.1\"><span class=\"toc-item-num\">5.1&nbsp;&nbsp;</span>Simplicity and Convencience</a></span></li><li><span><a href=\"#Optimizing-Entire-Workflow\" data-toc-modified-id=\"Optimizing-Entire-Workflow-5.2\"><span class=\"toc-item-num\">5.2&nbsp;&nbsp;</span>Optimizing Entire Workflow</a></span></li><li><span><a href=\"#Preventing-Data-leakage\" data-toc-modified-id=\"Preventing-Data-leakage-5.3\"><span class=\"toc-item-num\">5.3&nbsp;&nbsp;</span>Preventing Data leakage</a></span></li></ul></li><li><span><a href=\"#Code-Example-of-Pipeline\" data-toc-modified-id=\"Code-Example-of-Pipeline-6\"><span class=\"toc-item-num\">6&nbsp;&nbsp;</span>Code Example of Pipeline</a></span></li><li><span><a href=\"#Feature-Unions\" data-toc-modified-id=\"Feature-Unions-7\"><span class=\"toc-item-num\">7&nbsp;&nbsp;</span>Feature Unions</a></span><ul class=\"toc-item\"><li><span><a href=\"#Without-pipelines/feature-unions\" data-toc-modified-id=\"Without-pipelines/feature-unions-7.1\"><span class=\"toc-item-num\">7.1&nbsp;&nbsp;</span>Without pipelines/feature unions</a></span></li><li><span><a href=\"#With-Feature-Unions\" data-toc-modified-id=\"With-Feature-Unions-7.2\"><span class=\"toc-item-num\">7.2&nbsp;&nbsp;</span>With Feature Unions</a></span></li></ul></li><li><span><a href=\"#Custom-Transformers\" data-toc-modified-id=\"Custom-Transformers-8\"><span class=\"toc-item-num\">8&nbsp;&nbsp;</span>Custom Transformers</a></span><ul class=\"toc-item\"><li><span><a href=\"#FunctionTransformer\" data-toc-modified-id=\"FunctionTransformer-8.1\"><span class=\"toc-item-num\">8.1&nbsp;&nbsp;</span>FunctionTransformer</a></span></li></ul></li></ul></div>"
   ]
  },
  {
   "cell_type": "markdown",
   "metadata": {
    "heading_collapsed": true
   },
   "source": [
    "# Pipelines: Automating the Automatic Learning"
   ]
  },
  {
   "cell_type": "markdown",
   "metadata": {
    "hidden": true
   },
   "source": [
    "**Pipelines** are a nice tool to use to help in the full data science process!"
   ]
  },
  {
   "cell_type": "markdown",
   "metadata": {
    "hidden": true
   },
   "source": [
    "Pipelines can keep our code neat and clean all the way from gathering & cleaning our data, to creating models & fine-tuning them!"
   ]
  },
  {
   "cell_type": "markdown",
   "metadata": {
    "hidden": true
   },
   "source": [
    "But like with all things, you need to know how to make a proper and useful pipeline:\n",
    "\n",
    "![Original Source: https://imgs.xkcd.com/comics/data_pipeline.png](images/data_pipeline_xkcd.png)"
   ]
  },
  {
   "cell_type": "markdown",
   "metadata": {
    "heading_collapsed": true
   },
   "source": [
    "# Example of Using a Pipeline"
   ]
  },
  {
   "cell_type": "markdown",
   "metadata": {
    "heading_collapsed": true,
    "hidden": true
   },
   "source": [
    "## TODO: Without a pipeline"
   ]
  },
  {
   "cell_type": "code",
   "execution_count": 1,
   "metadata": {
    "ExecuteTime": {
     "end_time": "2019-11-07T22:16:45.750546Z",
     "start_time": "2019-11-07T22:16:45.745962Z"
    },
    "hidden": true
   },
   "outputs": [],
   "source": [
    "# TODO"
   ]
  },
  {
   "cell_type": "markdown",
   "metadata": {
    "heading_collapsed": true,
    "hidden": true
   },
   "source": [
    "## TODO: With a pipeline"
   ]
  },
  {
   "cell_type": "code",
   "execution_count": null,
   "metadata": {
    "hidden": true
   },
   "outputs": [],
   "source": [
    "# TODO"
   ]
  },
  {
   "cell_type": "markdown",
   "metadata": {
    "heading_collapsed": true
   },
   "source": [
    "# Parts of a Pipeline"
   ]
  },
  {
   "cell_type": "markdown",
   "metadata": {
    "hidden": true
   },
   "source": [
    "Scikit-learn has a class called [`Pipeline`](https://scikit-learn.org/stable/modules/generated/sklearn.pipeline.Pipeline.html) that is very logical and versatile. We can break up the steps within a full process. But it'll help if we define what the different parts are."
   ]
  },
  {
   "cell_type": "markdown",
   "metadata": {
    "heading_collapsed": true,
    "hidden": true
   },
   "source": [
    "## Estimator"
   ]
  },
  {
   "cell_type": "markdown",
   "metadata": {
    "hidden": true
   },
   "source": [
    "This is any object in the pipeline that can can take in data and *estimate* (or **learn**) some parameters. \n",
    "\n",
    "This means regression and classification models are estimators but so are objects that transform the original dataset ([Transformers](pipeline_intro.ipynb#Transformer)) such as a scaler."
   ]
  },
  {
   "cell_type": "markdown",
   "metadata": {
    "heading_collapsed": true,
    "hidden": true
   },
   "source": [
    "### Usage (Methods)"
   ]
  },
  {
   "cell_type": "markdown",
   "metadata": {
    "heading_collapsed": true,
    "hidden": true
   },
   "source": [
    "#### `fit`"
   ]
  },
  {
   "cell_type": "markdown",
   "metadata": {
    "hidden": true
   },
   "source": [
    "All estimators estimate/learn by calling the `fit()` method by passing in the dataset. Other parameters can be passed in to \"help\" the estimator to learn. These are called **hyperparameters**, parameters used to tweak the learning process."
   ]
  },
  {
   "cell_type": "markdown",
   "metadata": {
    "heading_collapsed": true,
    "hidden": true
   },
   "source": [
    "## Transformer"
   ]
  },
  {
   "cell_type": "markdown",
   "metadata": {
    "hidden": true
   },
   "source": [
    "Some estimators can change the original data to something new, a **transformation**. You can think of examples of these **transformers** when you do scaling, data cleaning, or expanding/reducing on a dataset."
   ]
  },
  {
   "cell_type": "markdown",
   "metadata": {
    "heading_collapsed": true,
    "hidden": true
   },
   "source": [
    "### Usage (Methods)"
   ]
  },
  {
   "cell_type": "markdown",
   "metadata": {
    "heading_collapsed": true,
    "hidden": true
   },
   "source": [
    "#### `transform`"
   ]
  },
  {
   "cell_type": "markdown",
   "metadata": {
    "hidden": true
   },
   "source": [
    "Transformers will call the `transform()` method to apply the transformation to a dataset."
   ]
  },
  {
   "cell_type": "markdown",
   "metadata": {
    "heading_collapsed": true,
    "hidden": true
   },
   "source": [
    "####  `fit_transform`"
   ]
  },
  {
   "cell_type": "markdown",
   "metadata": {
    "hidden": true
   },
   "source": [
    "Remember that all estimators have a `fit()` method, so a transformer can use the `fit()` method to learn something about the given dataset. After learning with `fit()`, a transformation on the dataset can be made with the `transform()` method. \n",
    "\n",
    "An example of this would be a function that performs normalization on the dataset; the `fit()` method would learn the minimum and maximum of the dataset and the `transform()` method will scale the dataset.\n",
    "\n",
    "When you call `fit` and `transform` with the same dataset, you can simply call the `fit_transform()` method. This essentially has the same results as calling `fit()` and then `transform()` on the dataset but possibly with some optimization and efficiencies baked in."
   ]
  },
  {
   "cell_type": "markdown",
   "metadata": {
    "heading_collapsed": true,
    "hidden": true
   },
   "source": [
    "## Predictor"
   ]
  },
  {
   "cell_type": "markdown",
   "metadata": {
    "hidden": true
   },
   "source": [
    "We've been using **predictors** whenever we've been making predictions with a classifier or regressor. We would use the `fit()` method to train our predictor object and then feed in new data to make predictions (based on what it learned in the fitting stage)."
   ]
  },
  {
   "cell_type": "markdown",
   "metadata": {
    "heading_collapsed": true,
    "hidden": true
   },
   "source": [
    "### Usage (Methods)"
   ]
  },
  {
   "cell_type": "markdown",
   "metadata": {
    "heading_collapsed": true,
    "hidden": true
   },
   "source": [
    "#### `predict`"
   ]
  },
  {
   "cell_type": "markdown",
   "metadata": {
    "hidden": true
   },
   "source": [
    "As you probably can guess, the `predict()` method predicts results from a dataset given to it after being trained with a `fit()` method"
   ]
  },
  {
   "cell_type": "markdown",
   "metadata": {
    "heading_collapsed": true,
    "hidden": true
   },
   "source": [
    "#### `score`"
   ]
  },
  {
   "cell_type": "markdown",
   "metadata": {
    "hidden": true
   },
   "source": [
    "Predictors also have a `score()` method that can be used to evaluate how well the predictor performed on a dataset (such as the test set)."
   ]
  },
  {
   "cell_type": "markdown",
   "metadata": {
    "heading_collapsed": true
   },
   "source": [
    "# Using a Pipeline"
   ]
  }
 ],
 "metadata": {
  "kernelspec": {
   "display_name": "Python 3",
   "language": "python",
   "name": "python3"
  },
  "language_info": {
   "codemirror_mode": {
    "name": "ipython",
    "version": 3
   },
   "file_extension": ".py",
   "mimetype": "text/x-python",
   "name": "python",
   "nbconvert_exporter": "python",
   "pygments_lexer": "ipython3",
   "version": "3.6.6"
  },
  "toc": {
   "base_numbering": 1,
   "nav_menu": {},
   "number_sections": true,
   "sideBar": true,
   "skip_h1_title": false,
   "title_cell": "Table of Contents",
   "title_sidebar": "Contents",
   "toc_cell": true,
   "toc_position": {},
   "toc_section_display": true,
   "toc_window_display": true
  },
  "varInspector": {
   "cols": {
    "lenName": 16,
    "lenType": 16,
    "lenVar": 40
   },
   "kernels_config": {
    "python": {
     "delete_cmd_postfix": "",
     "delete_cmd_prefix": "del ",
     "library": "var_list.py",
     "varRefreshCmd": "print(var_dic_list())"
    },
    "r": {
     "delete_cmd_postfix": ") ",
     "delete_cmd_prefix": "rm(",
     "library": "var_list.r",
     "varRefreshCmd": "cat(var_dic_list()) "
    }
   },
   "types_to_exclude": [
    "module",
    "function",
    "builtin_function_or_method",
    "instance",
    "_Feature"
   ],
   "window_display": false
  }
 },
 "nbformat": 4,
 "nbformat_minor": 2
}
