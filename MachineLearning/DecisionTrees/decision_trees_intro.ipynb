{
 "cells": [
  {
   "cell_type": "markdown",
   "metadata": {
    "toc": true
   },
   "source": [
    "<h1>Table of Contents<span class=\"tocSkip\"></span></h1>\n",
    "<div class=\"toc\"><ul class=\"toc-item\"><li><span><a href=\"#Decision-Trees-Intro\" data-toc-modified-id=\"Decision-Trees-Intro-1\"><span class=\"toc-item-num\">1&nbsp;&nbsp;</span>Decision Trees Intro</a></span><ul class=\"toc-item\"><li><span><a href=\"#Let's-Play-a-Game\" data-toc-modified-id=\"Let's-Play-a-Game-1.1\"><span class=\"toc-item-num\">1.1&nbsp;&nbsp;</span>Let's Play a Game</a></span></li><li><span><a href=\"#Example-of-Decision-Tree\" data-toc-modified-id=\"Example-of-Decision-Tree-1.2\"><span class=\"toc-item-num\">1.2&nbsp;&nbsp;</span>Example of Decision Tree</a></span></li><li><span><a href=\"#Brief-Summary-of-Steps\" data-toc-modified-id=\"Brief-Summary-of-Steps-1.3\"><span class=\"toc-item-num\">1.3&nbsp;&nbsp;</span>Brief Summary of Steps</a></span><ul class=\"toc-item\"><li><span><a href=\"#Note:-Greedy-Search\" data-toc-modified-id=\"Note:-Greedy-Search-1.3.1\"><span class=\"toc-item-num\">1.3.1&nbsp;&nbsp;</span>Note: Greedy Search</a></span></li></ul></li><li><span><a href=\"#Visual-Example\" data-toc-modified-id=\"Visual-Example-1.4\"><span class=\"toc-item-num\">1.4&nbsp;&nbsp;</span>Visual Example</a></span></li></ul></li></ul></div>"
   ]
  },
  {
   "cell_type": "markdown",
   "metadata": {},
   "source": [
    "# Decision Trees Intro"
   ]
  },
  {
   "cell_type": "markdown",
   "metadata": {},
   "source": [
    "- supervised ML algorithm (classification)\n",
    "- graph/pathway making decisions along the way\n",
    "\n",
    "We continue going through the data splitting it up (**partitions**) based on the features"
   ]
  },
  {
   "cell_type": "markdown",
   "metadata": {},
   "source": [
    "Basically what happens at each decision\n",
    "![road splits](https://mapexpo.files.wordpress.com/2015/08/3-1.jpg)"
   ]
  },
  {
   "cell_type": "markdown",
   "metadata": {},
   "source": [
    "## Let's Play a Game"
   ]
  },
  {
   "cell_type": "markdown",
   "metadata": {},
   "source": [
    "Pick a thing for Akinator to guess then let's have him guess!\n",
    "\n",
    "https://en.akinator.com/game\n"
   ]
  },
  {
   "cell_type": "markdown",
   "metadata": {},
   "source": [
    "## Example of Decision Tree"
   ]
  },
  {
   "cell_type": "markdown",
   "metadata": {},
   "source": [
    "\n",
    "Work Status |  Age  | Favorite Website\n",
    "------------|-------|-------------------------\n",
    " Student    | Young | A\n",
    " Working    | Young | B\n",
    " Working    | Old   | C\n",
    " Working    | Young | B\n",
    " Student    | Young | A\n",
    " Student    | Young | A\n",
    "\n"
   ]
  },
  {
   "cell_type": "markdown",
   "metadata": {},
   "source": [
    "- If someone is a young worker, what website do we recommend?\n",
    "- If someone is an old worker, what website then?"
   ]
  },
  {
   "cell_type": "markdown",
   "metadata": {},
   "source": [
    "## Brief Summary of Steps"
   ]
  },
  {
   "cell_type": "markdown",
   "metadata": {},
   "source": [
    "1. There are features and a target\n",
    "2. Make a *decision* (a split) based on some *metric* using the features\n",
    "    - data are split into partitions\n",
    "3. Continue on each partition, and do more splits for each using the features in that partition\n",
    "4. Keep doing that until a **stopping condition** is hit\n",
    "    - Number of data points in a final partition\n",
    "    - Layers deep"
   ]
  },
  {
   "cell_type": "markdown",
   "metadata": {},
   "source": [
    "### Note: Greedy Search"
   ]
  },
  {
   "cell_type": "markdown",
   "metadata": {},
   "source": [
    "We make the most optimal split at each decision (**greedy**) decision which doesn't necessarily lead to the overall most optimal solution"
   ]
  },
  {
   "cell_type": "markdown",
   "metadata": {},
   "source": [
    "## Visual Example"
   ]
  },
  {
   "cell_type": "markdown",
   "metadata": {},
   "source": [
    "> From http://www.r2d3.us/visual-intro-to-machine-learning-part-1/\n",
    "\n",
    "<img src='images/ex-decision-tree.png'/>"
   ]
  }
 ],
 "metadata": {
  "kernelspec": {
   "display_name": "Python 3",
   "language": "python",
   "name": "python3"
  },
  "language_info": {
   "codemirror_mode": {
    "name": "ipython",
    "version": 3
   },
   "file_extension": ".py",
   "mimetype": "text/x-python",
   "name": "python",
   "nbconvert_exporter": "python",
   "pygments_lexer": "ipython3",
   "version": "3.7.1"
  },
  "toc": {
   "base_numbering": 1,
   "nav_menu": {},
   "number_sections": true,
   "sideBar": true,
   "skip_h1_title": false,
   "title_cell": "Table of Contents",
   "title_sidebar": "Contents",
   "toc_cell": true,
   "toc_position": {},
   "toc_section_display": true,
   "toc_window_display": true
  },
  "varInspector": {
   "cols": {
    "lenName": 16,
    "lenType": 16,
    "lenVar": 40
   },
   "kernels_config": {
    "python": {
     "delete_cmd_postfix": "",
     "delete_cmd_prefix": "del ",
     "library": "var_list.py",
     "varRefreshCmd": "print(var_dic_list())"
    },
    "r": {
     "delete_cmd_postfix": ") ",
     "delete_cmd_prefix": "rm(",
     "library": "var_list.r",
     "varRefreshCmd": "cat(var_dic_list()) "
    }
   },
   "types_to_exclude": [
    "module",
    "function",
    "builtin_function_or_method",
    "instance",
    "_Feature"
   ],
   "window_display": false
  }
 },
 "nbformat": 4,
 "nbformat_minor": 2
}
