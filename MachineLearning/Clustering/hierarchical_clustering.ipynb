{
 "cells": [
  {
   "cell_type": "markdown",
   "metadata": {
    "toc": true
   },
   "source": [
    "<h1>Table of Contents<span class=\"tocSkip\"></span></h1>\n",
    "<div class=\"toc\"><ul class=\"toc-item\"><li><span><a href=\"#Hierarchical-Agglomerative-Clustering\" data-toc-modified-id=\"Hierarchical-Agglomerative-Clustering-1\"><span class=\"toc-item-num\">1&nbsp;&nbsp;</span>Hierarchical Agglomerative Clustering</a></span><ul class=\"toc-item\"><li><span><a href=\"#Visuals\" data-toc-modified-id=\"Visuals-1.1\"><span class=\"toc-item-num\">1.1&nbsp;&nbsp;</span>Visuals</a></span></li><li><span><a href=\"#Types\" data-toc-modified-id=\"Types-1.2\"><span class=\"toc-item-num\">1.2&nbsp;&nbsp;</span>Types</a></span><ul class=\"toc-item\"><li><span><a href=\"#Single-link\" data-toc-modified-id=\"Single-link-1.2.1\"><span class=\"toc-item-num\">1.2.1&nbsp;&nbsp;</span>Single link</a></span></li><li><span><a href=\"#Complete-link\" data-toc-modified-id=\"Complete-link-1.2.2\"><span class=\"toc-item-num\">1.2.2&nbsp;&nbsp;</span>Complete link</a></span></li><li><span><a href=\"#Average-link\" data-toc-modified-id=\"Average-link-1.2.3\"><span class=\"toc-item-num\">1.2.3&nbsp;&nbsp;</span>Average link</a></span></li><li><span><a href=\"#Ward\" data-toc-modified-id=\"Ward-1.2.4\"><span class=\"toc-item-num\">1.2.4&nbsp;&nbsp;</span>Ward</a></span></li></ul></li><li><span><a href=\"#Example-Code\" data-toc-modified-id=\"Example-Code-1.3\"><span class=\"toc-item-num\">1.3&nbsp;&nbsp;</span>Example Code</a></span><ul class=\"toc-item\"><li><span><a href=\"#SciPy-for-dendrograms\" data-toc-modified-id=\"SciPy-for-dendrograms-1.3.1\"><span class=\"toc-item-num\">1.3.1&nbsp;&nbsp;</span>SciPy for dendrograms</a></span></li></ul></li></ul></li><li><span><a href=\"#DBSCAN\" data-toc-modified-id=\"DBSCAN-2\"><span class=\"toc-item-num\">2&nbsp;&nbsp;</span>DBSCAN</a></span></li></ul></div>"
   ]
  },
  {
   "cell_type": "markdown",
   "metadata": {
    "heading_collapsed": true
   },
   "source": [
    "# Hierarchical Agglomerative Clustering"
   ]
  },
  {
   "cell_type": "markdown",
   "metadata": {
    "heading_collapsed": true,
    "hidden": true
   },
   "source": [
    "## Visuals"
   ]
  },
  {
   "cell_type": "markdown",
   "metadata": {
    "hidden": true
   },
   "source": [
    "Can allow us to see the clusters within clusters "
   ]
  },
  {
   "cell_type": "markdown",
   "metadata": {
    "hidden": true
   },
   "source": [
    "Visual == dendrogram\n",
    "    \n",
    "- Useful in visualizing HIGH dimensional separation\n",
    "- can say only want \"n\" clusters --> cut the link of the highest tree for two clusters\n",
    "    + clusters are more alike"
   ]
  },
  {
   "cell_type": "markdown",
   "metadata": {
    "hidden": true
   },
   "source": [
    "![](images/clustergram.png)"
   ]
  },
  {
   "cell_type": "markdown",
   "metadata": {
    "heading_collapsed": true,
    "hidden": true
   },
   "source": [
    "## Types"
   ]
  },
  {
   "cell_type": "markdown",
   "metadata": {
    "heading_collapsed": true,
    "hidden": true
   },
   "source": [
    "### Single link"
   ]
  },
  {
   "cell_type": "markdown",
   "metadata": {
    "hidden": true
   },
   "source": [
    "(Not in scikit-learn)\n",
    "\n",
    "- links at the distance between (closest points) in each cluster\n",
    "- tends to create elongated clusters (reachs out to the other points)\n",
    "- tends to eat-up a lot of the points for a cluster"
   ]
  },
  {
   "cell_type": "markdown",
   "metadata": {
    "heading_collapsed": true,
    "hidden": true
   },
   "source": [
    "### Complete link"
   ]
  },
  {
   "cell_type": "markdown",
   "metadata": {
    "hidden": true
   },
   "source": [
    "- Same as single link, however uses the farthest point\n",
    "- Tends to create more compact clusters\n",
    "- However, will tend to \"ignore\" other points that are *similar* to the actual cluster"
   ]
  },
  {
   "cell_type": "markdown",
   "metadata": {
    "heading_collapsed": true,
    "hidden": true
   },
   "source": [
    "### Average link"
   ]
  },
  {
   "cell_type": "markdown",
   "metadata": {
    "hidden": true
   },
   "source": [
    "- Same as complete but will use the measurement average for each pt-pt for cluster"
   ]
  },
  {
   "cell_type": "markdown",
   "metadata": {
    "heading_collapsed": true,
    "hidden": true
   },
   "source": [
    "### Ward"
   ]
  },
  {
   "cell_type": "markdown",
   "metadata": {
    "hidden": true
   },
   "source": [
    "- Minimizes variance during cluster merge\n",
    "    + Center between cluster calculated\n",
    "    + Sum Sq-Distance from pts in clusters to center\n",
    "    + Subtract pt distance from cluster centers\n",
    " \n",
    " \n",
    " $$Dist(A, B) = \\sum_{x_a \\in A} \\sum_{x_b \\in B} \\left [ (c_0-x_a)^2 + (c_0-x_b)^2  - (c_a-x_a)^2 - (c_b-x_b)^2  \\right] $$"
   ]
  },
  {
   "cell_type": "markdown",
   "metadata": {
    "heading_collapsed": true,
    "hidden": true
   },
   "source": [
    "## Example Code"
   ]
  },
  {
   "cell_type": "code",
   "execution_count": null,
   "metadata": {
    "ExecuteTime": {
     "end_time": "2019-11-05T21:55:57.071081Z",
     "start_time": "2019-11-05T21:55:57.063930Z"
    },
    "hidden": true
   },
   "outputs": [],
   "source": [
    "from sklearn import datasets, cluster\n",
    "import matplotlib.pyplot as plt\n",
    "import numpy as np\n",
    "from scipy.cluster.hierarchy import dendrogram, ward, single\n",
    "\n",
    "X = datasets.load_iris().data[:30]\n",
    "\n",
    "c = cluster.AgglomerativeClustering(n_clusters=3, linkage='ward')\n",
    "labels = c.fit_predict(X)\n",
    "\n",
    "model = cluster.AgglomerativeClustering(n_clusters=3)\n",
    "model = model.fit(X)\n"
   ]
  },
  {
   "cell_type": "markdown",
   "metadata": {
    "heading_collapsed": true,
    "hidden": true
   },
   "source": [
    "### SciPy for dendrograms"
   ]
  },
  {
   "cell_type": "code",
   "execution_count": null,
   "metadata": {
    "ExecuteTime": {
     "end_time": "2019-11-05T21:55:57.237466Z",
     "start_time": "2019-11-05T21:55:57.072722Z"
    },
    "hidden": true
   },
   "outputs": [],
   "source": [
    "def plot_dendrogram(model, **kwargs):\n",
    "\n",
    "    # Children of hierarchical clustering\n",
    "    children = model.children_\n",
    "\n",
    "    # Distances between each pair of children\n",
    "    # Since we don't have this information, we can use a uniform one for plotting\n",
    "    distance = np.arange(children.shape[0])\n",
    "\n",
    "    # The number of observations contained in each cluster level\n",
    "    no_of_observations = np.arange(2, children.shape[0]+2)\n",
    "\n",
    "    # Create linkage matrix and then plot the dendrogram\n",
    "    linkage_matrix = np.column_stack([children, distance, no_of_observations]).astype(float)\n",
    "\n",
    "    # Plot the corresponding dendrogram\n",
    "    dendrogram(linkage_matrix, **kwargs)\n",
    "\n",
    "\n",
    "\n",
    "plt.title('Hierarchical Clustering Dendrogram')\n",
    "plot_dendrogram(model, labels=model.labels_)\n",
    "plt.show()"
   ]
  },
  {
   "cell_type": "code",
   "execution_count": null,
   "metadata": {
    "ExecuteTime": {
     "end_time": "2019-11-05T21:55:57.401461Z",
     "start_time": "2019-11-05T21:55:57.238670Z"
    },
    "hidden": true
   },
   "outputs": [],
   "source": [
    "link_matrix = ward(X)\n",
    "dendrogram(link_matrix)\n",
    "plt.show()"
   ]
  },
  {
   "cell_type": "markdown",
   "metadata": {
    "heading_collapsed": true
   },
   "source": [
    "# DBSCAN"
   ]
  },
  {
   "cell_type": "markdown",
   "metadata": {
    "hidden": true
   },
   "source": [
    "https://www.naftaliharris.com/blog/visualizing-dbscan-clustering/"
   ]
  },
  {
   "cell_type": "markdown",
   "metadata": {
    "hidden": true
   },
   "source": [
    "Great at finding noise"
   ]
  },
  {
   "cell_type": "markdown",
   "metadata": {
    "hidden": true
   },
   "source": [
    "- Choose a point\n",
    "    + within $\\epsilon$ are there `min_sample`?\n",
    "        - yes then a core point\n",
    "    + within core point?\n",
    "        - yes, border point"
   ]
  },
  {
   "cell_type": "code",
   "execution_count": null,
   "metadata": {
    "ExecuteTime": {
     "end_time": "2019-11-05T21:55:57.409531Z",
     "start_time": "2019-11-05T21:55:57.403971Z"
    },
    "hidden": true
   },
   "outputs": [],
   "source": [
    "db = cluster.DBSCAN(eps=0.5, min_samples=4)\n",
    "db.fit(X)"
   ]
  }
 ],
 "metadata": {
  "kernelspec": {
   "display_name": "Python 3",
   "language": "python",
   "name": "python3"
  },
  "language_info": {
   "name": ""
  },
  "toc": {
   "base_numbering": 1,
   "nav_menu": {},
   "number_sections": true,
   "sideBar": true,
   "skip_h1_title": false,
   "title_cell": "Table of Contents",
   "title_sidebar": "Contents",
   "toc_cell": true,
   "toc_position": {},
   "toc_section_display": true,
   "toc_window_display": true
  },
  "varInspector": {
   "cols": {
    "lenName": 16,
    "lenType": 16,
    "lenVar": 40
   },
   "kernels_config": {
    "python": {
     "delete_cmd_postfix": "",
     "delete_cmd_prefix": "del ",
     "library": "var_list.py",
     "varRefreshCmd": "print(var_dic_list())"
    },
    "r": {
     "delete_cmd_postfix": ") ",
     "delete_cmd_prefix": "rm(",
     "library": "var_list.r",
     "varRefreshCmd": "cat(var_dic_list()) "
    }
   },
   "types_to_exclude": [
    "module",
    "function",
    "builtin_function_or_method",
    "instance",
    "_Feature"
   ],
   "window_display": false
  }
 },
 "nbformat": 4,
 "nbformat_minor": 2
}
