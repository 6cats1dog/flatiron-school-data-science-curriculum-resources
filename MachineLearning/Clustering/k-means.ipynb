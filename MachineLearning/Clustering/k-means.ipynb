{
 "cells": [
  {
   "cell_type": "markdown",
   "metadata": {
    "heading_collapsed": true
   },
   "source": [
    "# Intro"
   ]
  },
  {
   "cell_type": "markdown",
   "metadata": {
    "hidden": true
   },
   "source": [
    "Clustering is an unsupervised learning algorithm\n",
    "\n",
    "> http://scikit-learn.org/stable/modules/clustering"
   ]
  },
  {
   "cell_type": "markdown",
   "metadata": {
    "heading_collapsed": true
   },
   "source": [
    "# Steps"
   ]
  },
  {
   "cell_type": "markdown",
   "metadata": {
    "hidden": true
   },
   "source": [
    "- Determine how many clusters\n",
    "- Initiate random centers (VERY IMPORTANT)\n",
    "- Repeat (Assign & optimize) :\n",
    "    + **Assign**: Determine which pts are closest (orthogonal line through connection)\n",
    "    + **Optimize:** Move centers to minimize total distance\n",
    "    "
   ]
  },
  {
   "cell_type": "markdown",
   "metadata": {
    "hidden": true
   },
   "source": [
    "Example: https://www.naftaliharris.com/blog/visualizing-k-means-clustering/"
   ]
  },
  {
   "cell_type": "markdown",
   "metadata": {
    "heading_collapsed": true
   },
   "source": [
    "# Evaluating"
   ]
  },
  {
   "cell_type": "markdown",
   "metadata": {
    "hidden": true
   },
   "source": [
    "Elbow plot to determine \"k\"\n",
    "\n",
    "![](images/dim_returns.png)"
   ]
  },
  {
   "cell_type": "markdown",
   "metadata": {
    "heading_collapsed": true
   },
   "source": [
    "# Issues"
   ]
  },
  {
   "cell_type": "markdown",
   "metadata": {
    "hidden": true
   },
   "source": [
    "- Initial parameters matter: (hillclimbing)\n",
    "- Clusters are not always what we expect (because of local minimum)"
   ]
  },
  {
   "cell_type": "markdown",
   "metadata": {
    "heading_collapsed": true,
    "hidden": true
   },
   "source": [
    "## Demonstration of \"Incorrect\" Clusters are Found"
   ]
  },
  {
   "cell_type": "markdown",
   "metadata": {
    "hidden": true
   },
   "source": [
    "> Can I find a local minimum where the \"obvious\" groups are incorrectly identified?"
   ]
  },
  {
   "cell_type": "code",
   "execution_count": null,
   "metadata": {
    "ExecuteTime": {
     "end_time": "2019-11-05T22:10:27.934966Z",
     "start_time": "2019-11-05T22:10:27.932200Z"
    },
    "hidden": true
   },
   "outputs": [],
   "source": [
    "import numpy as np\n",
    "import matplotlib.pyplot as plt\n",
    "np.random.seed(27)"
   ]
  },
  {
   "cell_type": "markdown",
   "metadata": {
    "heading_collapsed": true,
    "hidden": true
   },
   "source": [
    "### Example 1"
   ]
  },
  {
   "cell_type": "code",
   "execution_count": null,
   "metadata": {
    "ExecuteTime": {
     "end_time": "2019-11-05T22:10:28.977648Z",
     "start_time": "2019-11-05T22:10:28.884389Z"
    },
    "hidden": true
   },
   "outputs": [],
   "source": [
    "sigma_x = sigma_y = 0.1\n",
    "n = 10\n",
    "\n",
    "for c_x,c_y in [[0,4],[0,2],[1,3]]:\n",
    "    a_x = np.random.normal(c_x, sigma_x, n)\n",
    "    a_y = np.random.normal(c_y, sigma_y, n)\n",
    "\n",
    "    pts = np.array([(x,y) for (x,y) in zip(a_x,a_y)])\n",
    "\n",
    "    plt.scatter(pts[:,0], pts[:,1])\n",
    "plt.show()"
   ]
  },
  {
   "cell_type": "markdown",
   "metadata": {
    "hidden": true
   },
   "source": [
    "> Using **3 centroids** find a local minimum where the two groups on the left are one group and another group on the right."
   ]
  },
  {
   "cell_type": "markdown",
   "metadata": {
    "heading_collapsed": true,
    "hidden": true
   },
   "source": [
    "### Example 2"
   ]
  },
  {
   "cell_type": "code",
   "execution_count": null,
   "metadata": {
    "ExecuteTime": {
     "end_time": "2019-11-05T22:11:36.262034Z",
     "start_time": "2019-11-05T22:11:36.169910Z"
    },
    "hidden": true,
    "scrolled": true
   },
   "outputs": [],
   "source": [
    "sigma_x = 0.1\n",
    "sigma_y = 0.5\n",
    "n = 15\n",
    "\n",
    "centers = [[0,2],[1,2]]\n",
    "\n",
    "for c_x,c_y in centers:\n",
    "    a_x = np.random.normal(c_x, sigma_x, n)\n",
    "    a_y = np.random.normal(c_y, sigma_y, n)\n",
    "\n",
    "    pts = np.array([(x,y) for (x,y) in zip(a_x,a_y)])\n",
    "\n",
    "    plt.scatter(pts[:,0], pts[:,1])\n",
    "plt.show()\n"
   ]
  },
  {
   "cell_type": "markdown",
   "metadata": {
    "hidden": true
   },
   "source": [
    "> Using **2 centroids** find a local minimum where the two groups on the left are one group and another group on the right."
   ]
  },
  {
   "cell_type": "markdown",
   "metadata": {
    "heading_collapsed": true,
    "hidden": true
   },
   "source": [
    "## In Summary"
   ]
  },
  {
   "cell_type": "markdown",
   "metadata": {
    "hidden": true
   },
   "source": [
    "> K-means relies on distance centers (lines of data) → looks for \"circular\" data"
   ]
  },
  {
   "cell_type": "markdown",
   "metadata": {
    "heading_collapsed": true,
    "hidden": true
   },
   "source": [
    "## Datasets"
   ]
  },
  {
   "cell_type": "markdown",
   "metadata": {
    "hidden": true
   },
   "source": [
    "The clustering algorithm's performance can depend on the initial data's structure/distribution"
   ]
  },
  {
   "cell_type": "markdown",
   "metadata": {
    "hidden": true
   },
   "source": [
    "- Random\n",
    "- Crescents\n",
    "- Cocentric circles\n",
    "- Clusters\n",
    "- Clusters w/ density\n",
    "- lined densities"
   ]
  },
  {
   "cell_type": "markdown",
   "metadata": {
    "hidden": true
   },
   "source": [
    "<img src='https://scikit-learn.org/stable/_images/sphx_glr_plot_cluster_comparison_0011.png'/>"
   ]
  }
 ],
 "metadata": {
  "kernelspec": {
   "display_name": "Python 3",
   "language": "python",
   "name": "python3"
  },
  "language_info": {
   "codemirror_mode": {
    "name": "ipython",
    "version": 3
   },
   "file_extension": ".py",
   "mimetype": "text/x-python",
   "name": "python",
   "nbconvert_exporter": "python",
   "pygments_lexer": "ipython3",
   "version": "3.7.1"
  },
  "toc": {
   "base_numbering": 1,
   "nav_menu": {},
   "number_sections": true,
   "sideBar": true,
   "skip_h1_title": false,
   "title_cell": "Table of Contents",
   "title_sidebar": "Contents",
   "toc_cell": false,
   "toc_position": {},
   "toc_section_display": true,
   "toc_window_display": false
  },
  "varInspector": {
   "cols": {
    "lenName": 16,
    "lenType": 16,
    "lenVar": 40
   },
   "kernels_config": {
    "python": {
     "delete_cmd_postfix": "",
     "delete_cmd_prefix": "del ",
     "library": "var_list.py",
     "varRefreshCmd": "print(var_dic_list())"
    },
    "r": {
     "delete_cmd_postfix": ") ",
     "delete_cmd_prefix": "rm(",
     "library": "var_list.r",
     "varRefreshCmd": "cat(var_dic_list()) "
    }
   },
   "types_to_exclude": [
    "module",
    "function",
    "builtin_function_or_method",
    "instance",
    "_Feature"
   ],
   "window_display": false
  }
 },
 "nbformat": 4,
 "nbformat_minor": 2
}
