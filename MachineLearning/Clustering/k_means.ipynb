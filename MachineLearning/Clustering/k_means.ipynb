{
 "cells": [
  {
   "cell_type": "markdown",
   "metadata": {
    "toc": true
   },
   "source": [
    "<h1>Table of Contents<span class=\"tocSkip\"></span></h1>\n",
    "<div class=\"toc\"><ul class=\"toc-item\"><li><span><a href=\"#Intro\" data-toc-modified-id=\"Intro-1\"><span class=\"toc-item-num\">1&nbsp;&nbsp;</span>Intro</a></span></li><li><span><a href=\"#Steps\" data-toc-modified-id=\"Steps-2\"><span class=\"toc-item-num\">2&nbsp;&nbsp;</span>Steps</a></span></li><li><span><a href=\"#Evaluating\" data-toc-modified-id=\"Evaluating-3\"><span class=\"toc-item-num\">3&nbsp;&nbsp;</span>Evaluating</a></span></li><li><span><a href=\"#Issues\" data-toc-modified-id=\"Issues-4\"><span class=\"toc-item-num\">4&nbsp;&nbsp;</span>Issues</a></span><ul class=\"toc-item\"><li><span><a href=\"#Demonstration-of-&quot;Incorrect&quot;-Clusters-are-Found\" data-toc-modified-id=\"Demonstration-of-&quot;Incorrect&quot;-Clusters-are-Found-4.1\"><span class=\"toc-item-num\">4.1&nbsp;&nbsp;</span>Demonstration of \"Incorrect\" Clusters are Found</a></span><ul class=\"toc-item\"><li><span><a href=\"#Example-1\" data-toc-modified-id=\"Example-1-4.1.1\"><span class=\"toc-item-num\">4.1.1&nbsp;&nbsp;</span>Example 1</a></span></li><li><span><a href=\"#Example-2\" data-toc-modified-id=\"Example-2-4.1.2\"><span class=\"toc-item-num\">4.1.2&nbsp;&nbsp;</span>Example 2</a></span></li></ul></li><li><span><a href=\"#In-Summary\" data-toc-modified-id=\"In-Summary-4.2\"><span class=\"toc-item-num\">4.2&nbsp;&nbsp;</span>In Summary</a></span></li><li><span><a href=\"#Datasets\" data-toc-modified-id=\"Datasets-4.3\"><span class=\"toc-item-num\">4.3&nbsp;&nbsp;</span>Datasets</a></span></li></ul></li></ul></div>"
   ]
  },
  {
   "cell_type": "markdown",
   "metadata": {
    "heading_collapsed": true
   },
   "source": [
    "# Intro"
   ]
  },
  {
   "cell_type": "markdown",
   "metadata": {
    "hidden": true
   },
   "source": [
    "Clustering is an unsupervised learning algorithm\n",
    "\n",
    "> http://scikit-learn.org/stable/modules/clustering"
   ]
  },
  {
   "cell_type": "markdown",
   "metadata": {
    "heading_collapsed": true
   },
   "source": [
    "# Steps"
   ]
  },
  {
   "cell_type": "markdown",
   "metadata": {
    "hidden": true
   },
   "source": [
    "- Determine how many clusters\n",
    "- Initiate random centers (VERY IMPORTANT)\n",
    "- Repeat (Assign & optimize) :\n",
    "    + **Assign**: Determine which pts are closest (orthogonal line through connection)\n",
    "    + **Optimize:** Move centers to minimize total distance\n",
    "    "
   ]
  },
  {
   "cell_type": "markdown",
   "metadata": {
    "hidden": true
   },
   "source": [
    "Example: https://www.naftaliharris.com/blog/visualizing-k-means-clustering/"
   ]
  },
  {
   "cell_type": "markdown",
   "metadata": {
    "heading_collapsed": true
   },
   "source": [
    "# Evaluating"
   ]
  },
  {
   "cell_type": "markdown",
   "metadata": {
    "hidden": true
   },
   "source": [
    "Elbow plot to determine \"k\"\n",
    "\n",
    "![](images/dim_returns.png)"
   ]
  },
  {
   "cell_type": "markdown",
   "metadata": {
    "heading_collapsed": true
   },
   "source": [
    "# Issues"
   ]
  },
  {
   "cell_type": "markdown",
   "metadata": {
    "hidden": true
   },
   "source": [
    "Issues with K-means algorithm (see next notebook: [K-means Issues](k_means_issues.ipynb))"
   ]
  },
  {
   "cell_type": "markdown",
   "metadata": {
    "hidden": true
   },
   "source": [
    "![https://scikit-learn.org/stable/_images/sphx_glr_plot_cluster_comparison_0011.png](images/sklearn_clustering_dataset_comparisons.png)"
   ]
  }
 ],
 "metadata": {
  "kernelspec": {
   "display_name": "Python 3",
   "language": "python",
   "name": "python3"
  },
  "language_info": {
   "codemirror_mode": {
    "name": "ipython",
    "version": 3
   },
   "file_extension": ".py",
   "mimetype": "text/x-python",
   "name": "python",
   "nbconvert_exporter": "python",
   "pygments_lexer": "ipython3",
   "version": "3.7.1"
  },
  "toc": {
   "base_numbering": 1,
   "nav_menu": {},
   "number_sections": true,
   "sideBar": true,
   "skip_h1_title": false,
   "title_cell": "Table of Contents",
   "title_sidebar": "Contents",
   "toc_cell": true,
   "toc_position": {},
   "toc_section_display": true,
   "toc_window_display": true
  },
  "varInspector": {
   "cols": {
    "lenName": 16,
    "lenType": 16,
    "lenVar": 40
   },
   "kernels_config": {
    "python": {
     "delete_cmd_postfix": "",
     "delete_cmd_prefix": "del ",
     "library": "var_list.py",
     "varRefreshCmd": "print(var_dic_list())"
    },
    "r": {
     "delete_cmd_postfix": ") ",
     "delete_cmd_prefix": "rm(",
     "library": "var_list.r",
     "varRefreshCmd": "cat(var_dic_list()) "
    }
   },
   "types_to_exclude": [
    "module",
    "function",
    "builtin_function_or_method",
    "instance",
    "_Feature"
   ],
   "window_display": false
  }
 },
 "nbformat": 4,
 "nbformat_minor": 2
}
