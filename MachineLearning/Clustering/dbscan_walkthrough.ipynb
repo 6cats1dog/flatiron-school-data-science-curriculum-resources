{
 "cells": [
  {
   "cell_type": "markdown",
   "metadata": {
    "toc": true
   },
   "source": [
    "<h1>Table of Contents<span class=\"tocSkip\"></span></h1>\n",
    "<div class=\"toc\"><ul class=\"toc-item\"><li><span><a href=\"#Example-Dataset---Blobs\" data-toc-modified-id=\"Example-Dataset---Blobs-1\"><span class=\"toc-item-num\">1&nbsp;&nbsp;</span>Example Dataset - Blobs</a></span><ul class=\"toc-item\"><li><span><a href=\"#Attempt-#1-&amp;-displaying-the-$\\epsilon$\" data-toc-modified-id=\"Attempt-#1-&amp;-displaying-the-$\\epsilon$-1.1\"><span class=\"toc-item-num\">1.1&nbsp;&nbsp;</span>Attempt #1 &amp; displaying the $\\epsilon$</a></span></li><li><span><a href=\"#Attempt-#2-&amp;-displaying-the-$\\epsilon$\" data-toc-modified-id=\"Attempt-#2-&amp;-displaying-the-$\\epsilon$-1.2\"><span class=\"toc-item-num\">1.2&nbsp;&nbsp;</span>Attempt #2 &amp; displaying the $\\epsilon$</a></span></li></ul></li><li><span><a href=\"#Example-Dataset---Changing-Density\" data-toc-modified-id=\"Example-Dataset---Changing-Density-2\"><span class=\"toc-item-num\">2&nbsp;&nbsp;</span>Example Dataset - Changing Density</a></span><ul class=\"toc-item\"><li><span><a href=\"#First-attempt-with-default-parameters\" data-toc-modified-id=\"First-attempt-with-default-parameters-2.1\"><span class=\"toc-item-num\">2.1&nbsp;&nbsp;</span>First attempt with default parameters</a></span><ul class=\"toc-item\"><li><span><a href=\"#Knowledge-Check-🧠:-Does-this-clustering-make-sense?-How-would-you-cluster-it?\" data-toc-modified-id=\"Knowledge-Check-🧠:-Does-this-clustering-make-sense?-How-would-you-cluster-it?-2.1.1\"><span class=\"toc-item-num\">2.1.1&nbsp;&nbsp;</span>Knowledge Check 🧠: Does this clustering make sense? How would you cluster it?</a></span></li></ul></li><li><span><a href=\"#Scenario-1\" data-toc-modified-id=\"Scenario-1-2.2\"><span class=\"toc-item-num\">2.2&nbsp;&nbsp;</span>Scenario 1</a></span><ul class=\"toc-item\"><li><span><a href=\"#Possible-Solution\" data-toc-modified-id=\"Possible-Solution-2.2.1\"><span class=\"toc-item-num\">2.2.1&nbsp;&nbsp;</span>Possible Solution</a></span></li></ul></li><li><span><a href=\"#Scenario-2\" data-toc-modified-id=\"Scenario-2-2.3\"><span class=\"toc-item-num\">2.3&nbsp;&nbsp;</span>Scenario 2</a></span><ul class=\"toc-item\"><li><span><a href=\"#Possible-Solution\" data-toc-modified-id=\"Possible-Solution-2.3.1\"><span class=\"toc-item-num\">2.3.1&nbsp;&nbsp;</span>Possible Solution</a></span></li></ul></li></ul></li></ul></div>"
   ]
  },
  {
   "cell_type": "markdown",
   "metadata": {},
   "source": [
    "> **NOTE** Parts adopted from this repo: https://github.com/udacity/DSND_Term1/tree/master/lessons/Unsupervised/2_HierarchcalDensityClustering"
   ]
  },
  {
   "cell_type": "code",
   "execution_count": null,
   "metadata": {
    "ExecuteTime": {
     "end_time": "2019-11-14T16:01:02.614371Z",
     "start_time": "2019-11-14T16:01:02.062232Z"
    }
   },
   "outputs": [],
   "source": [
    "import pandas as pd\n",
    "import matplotlib.pyplot as plt\n",
    "%matplotlib inline"
   ]
  },
  {
   "cell_type": "markdown",
   "metadata": {
    "heading_collapsed": true
   },
   "source": [
    "# Example Dataset - Blobs "
   ]
  },
  {
   "cell_type": "code",
   "execution_count": null,
   "metadata": {
    "ExecuteTime": {
     "end_time": "2019-11-14T16:01:03.068436Z",
     "start_time": "2019-11-14T16:01:02.615858Z"
    },
    "hidden": true
   },
   "outputs": [],
   "source": [
    "from sklearn.datasets.samples_generator import make_blobs\n",
    "\n",
    "X, y_true = make_blobs(\n",
    "               n_samples=100, \n",
    "               centers=3,\n",
    "               cluster_std=0.40, \n",
    "               random_state=27\n",
    ")"
   ]
  },
  {
   "cell_type": "code",
   "execution_count": null,
   "metadata": {
    "ExecuteTime": {
     "end_time": "2019-11-14T16:01:03.073927Z",
     "start_time": "2019-11-14T16:01:03.070398Z"
    },
    "hidden": true
   },
   "outputs": [],
   "source": [
    "figsize = (10,10)\n",
    "point_size = 150\n",
    "point_border = 0.8\n",
    "\n",
    "def plot_data(data, pt_color=\"#00B3E9\", xlim=None, ylim= None):\n",
    "    plt.figure(figsize=figsize)\n",
    "    plt.scatter(data[:,0], data[:,1], \n",
    "                s=point_size, color=pt_color, \n",
    "                edgecolor='black', lw=point_border)\n",
    "    if xlim != None:\n",
    "        plt.xlim(xlim)\n",
    "    if ylim != None:\n",
    "        plt.ylim(ylim)\n",
    "    plt.show()"
   ]
  },
  {
   "cell_type": "code",
   "execution_count": null,
   "metadata": {
    "ExecuteTime": {
     "end_time": "2019-11-14T16:01:03.193812Z",
     "start_time": "2019-11-14T16:01:03.075543Z"
    },
    "hidden": true
   },
   "outputs": [],
   "source": [
    "plot_data(X)"
   ]
  },
  {
   "cell_type": "markdown",
   "metadata": {
    "heading_collapsed": true,
    "hidden": true
   },
   "source": [
    "## Attempt #1 & displaying the $\\epsilon$"
   ]
  },
  {
   "cell_type": "code",
   "execution_count": null,
   "metadata": {
    "ExecuteTime": {
     "end_time": "2019-11-14T16:01:03.303544Z",
     "start_time": "2019-11-14T16:01:03.195297Z"
    },
    "hidden": true
   },
   "outputs": [],
   "source": [
    "from sklearn import cluster\n",
    "\n",
    "eps = 0.2\n",
    "dbscan = cluster.DBSCAN(eps=eps)\n",
    "\n",
    "clustering_labels_1 = dbscan.fit_predict(X)"
   ]
  },
  {
   "cell_type": "code",
   "execution_count": null,
   "metadata": {
    "ExecuteTime": {
     "end_time": "2019-11-14T16:01:03.308729Z",
     "start_time": "2019-11-14T16:01:03.304490Z"
    },
    "hidden": true
   },
   "outputs": [],
   "source": [
    "from itertools import cycle, islice\n",
    "\n",
    "def plot_clustered_dataset(dataset, y_pred, xlim=None, ylim= None,\n",
    "                           neighborhood=False, epsilon=0.5):\n",
    "\n",
    "    fig, ax = plt.subplots(figsize=figsize)\n",
    "    \n",
    "    colors = np.array(list(islice(cycle(['#df8efd', '#78c465', '#ff8e34',\n",
    "                                     '#f65e97', '#a65628', '#984ea3',\n",
    "                                     '#999999', '#e41a1c', '#dede00']),\n",
    "                              int(max(y_pred) + 1))))\n",
    "    colors = np.append(colors, '#BECBD6')\n",
    "    \n",
    "    \n",
    "    if neighborhood:\n",
    "        for point in dataset:\n",
    "            circle1 = plt.Circle(point, epsilon, \n",
    "                                 color='#666666', fill=False, \n",
    "                                 zorder=0, alpha=0.3)\n",
    "            ax.add_artist(circle1)\n",
    "\n",
    "    ax.scatter(dataset[:, 0], dataset[:, 1], \n",
    "               s=point_size, color=colors[y_pred], \n",
    "               zorder=10, edgecolor='black', lw=point_border)\n",
    "\n",
    "    if xlim != None:\n",
    "        plt.xlim(xlim)\n",
    "    if ylim != None:\n",
    "        plt.ylim(ylim)\n",
    "        \n",
    "    plt.show()"
   ]
  },
  {
   "cell_type": "code",
   "execution_count": null,
   "metadata": {
    "ExecuteTime": {
     "end_time": "2019-11-14T16:01:03.433882Z",
     "start_time": "2019-11-14T16:01:03.310305Z"
    },
    "hidden": true
   },
   "outputs": [],
   "source": [
    "plot_clustered_dataset(X, clustering_labels_1)"
   ]
  },
  {
   "cell_type": "code",
   "execution_count": null,
   "metadata": {
    "ExecuteTime": {
     "end_time": "2019-11-14T16:01:03.659373Z",
     "start_time": "2019-11-14T16:01:03.436045Z"
    },
    "hidden": true
   },
   "outputs": [],
   "source": [
    "plot_clustered_dataset(X, y_true, neighborhood=True, epsilon=eps)"
   ]
  },
  {
   "cell_type": "markdown",
   "metadata": {
    "hidden": true
   },
   "source": [
    "> Epsilon ($\\epsilon = 0.2$) is just too small"
   ]
  },
  {
   "cell_type": "markdown",
   "metadata": {
    "heading_collapsed": true,
    "hidden": true
   },
   "source": [
    "## Attempt #2 & displaying the $\\epsilon$"
   ]
  },
  {
   "cell_type": "code",
   "execution_count": null,
   "metadata": {
    "ExecuteTime": {
     "end_time": "2019-11-14T16:01:03.902965Z",
     "start_time": "2019-11-14T16:01:03.660784Z"
    },
    "hidden": true
   },
   "outputs": [],
   "source": [
    "eps=0.5\n",
    "\n",
    "dbscan = cluster.DBSCAN(eps=eps)\n",
    "clustering_labels_2 = dbscan.fit_predict(X)\n",
    "\n",
    "plot_clustered_dataset(X, clustering_labels_2, neighborhood=True, epsilon=eps)"
   ]
  },
  {
   "cell_type": "markdown",
   "metadata": {
    "heading_collapsed": true
   },
   "source": [
    "# Example Dataset - Changing Density"
   ]
  },
  {
   "cell_type": "code",
   "execution_count": null,
   "metadata": {
    "ExecuteTime": {
     "end_time": "2019-11-14T16:04:11.033454Z",
     "start_time": "2019-11-14T16:04:10.900833Z"
    },
    "hidden": true
   },
   "outputs": [],
   "source": [
    "dataset_2 = pd.read_csv('data/varied.csv')[:300].values\n",
    "plot_data(dataset_2)"
   ]
  },
  {
   "cell_type": "markdown",
   "metadata": {
    "heading_collapsed": true,
    "hidden": true
   },
   "source": [
    "## First attempt with default parameters"
   ]
  },
  {
   "cell_type": "code",
   "execution_count": null,
   "metadata": {
    "ExecuteTime": {
     "end_time": "2019-11-14T16:04:03.421096Z",
     "start_time": "2019-11-14T16:04:03.017349Z"
    },
    "hidden": true
   },
   "outputs": [],
   "source": [
    "dbscan = cluster.DBSCAN()\n",
    "eps = dbscan.eps\n",
    "predicted_labels = dbscan.fit_predict(dataset_2)"
   ]
  },
  {
   "cell_type": "code",
   "execution_count": 1,
   "metadata": {
    "ExecuteTime": {
     "end_time": "2019-11-14T16:18:37.228298Z",
     "start_time": "2019-11-14T16:18:37.158774Z"
    },
    "hidden": true
   },
   "outputs": [
    {
     "ename": "NameError",
     "evalue": "name 'plot_clustered_dataset' is not defined",
     "output_type": "error",
     "traceback": [
      "\u001b[0;31m---------------------------------------------------------------------------\u001b[0m",
      "\u001b[0;31mNameError\u001b[0m                                 Traceback (most recent call last)",
      "\u001b[0;32m<ipython-input-1-82b10a5054d9>\u001b[0m in \u001b[0;36m<module>\u001b[0;34m()\u001b[0m\n\u001b[0;32m----> 1\u001b[0;31m plot_clustered_dataset(dataset_2, \n\u001b[0m\u001b[1;32m      2\u001b[0m                       \u001b[0mpredicted_labels\u001b[0m\u001b[0;34m,\u001b[0m\u001b[0;34m\u001b[0m\u001b[0m\n\u001b[1;32m      3\u001b[0m                       \u001b[0mneighborhood\u001b[0m\u001b[0;34m=\u001b[0m\u001b[0;32mTrue\u001b[0m\u001b[0;34m,\u001b[0m\u001b[0;34m\u001b[0m\u001b[0m\n\u001b[1;32m      4\u001b[0m                       epsilon=eps)\n",
      "\u001b[0;31mNameError\u001b[0m: name 'plot_clustered_dataset' is not defined"
     ]
    }
   ],
   "source": [
    "plot_clustered_dataset(dataset_2, \n",
    "                      predicted_labels, \n",
    "                      neighborhood=True, \n",
    "                      epsilon=eps)"
   ]
  },
  {
   "cell_type": "markdown",
   "metadata": {
    "heading_collapsed": true,
    "hidden": true
   },
   "source": [
    "### Knowledge Check 🧠: Does this clustering make sense? How would you cluster it?"
   ]
  },
  {
   "cell_type": "markdown",
   "metadata": {
    "hidden": true
   },
   "source": [
    "Maybe... but it all depends on what we're looking for. \n",
    "\n",
    "There's a couple ways to break it up which we'll explore next by adjusting the hyperparameters."
   ]
  },
  {
   "cell_type": "markdown",
   "metadata": {
    "heading_collapsed": true,
    "hidden": true
   },
   "source": [
    "## Scenario 1"
   ]
  },
  {
   "cell_type": "markdown",
   "metadata": {
    "hidden": true
   },
   "source": [
    "> **3 clusters**: bottom left, top right, and the middle"
   ]
  },
  {
   "cell_type": "code",
   "execution_count": null,
   "metadata": {
    "hidden": true
   },
   "outputs": [],
   "source": [
    "# Change these hyperparameters from the defaults\n",
    "eps = 0.5\n",
    "min_samples = 5"
   ]
  },
  {
   "cell_type": "code",
   "execution_count": null,
   "metadata": {
    "hidden": true
   },
   "outputs": [],
   "source": [
    "# Create cluster and plot results\n",
    "dbscan = cluster.DBSCAN(eps=eps, min_samples=min_samples)\n",
    "predicted_labels = dbscan.fit_predict(dataset_2)\n",
    "\n",
    "plot_clustered_dataset(dataset_2, \n",
    "                    predicted_labels, \n",
    "                    neighborhood=True, \n",
    "                    epsilon=eps)"
   ]
  },
  {
   "cell_type": "markdown",
   "metadata": {
    "heading_collapsed": true,
    "hidden": true
   },
   "source": [
    "### Possible Solution"
   ]
  },
  {
   "cell_type": "code",
   "execution_count": null,
   "metadata": {
    "ExecuteTime": {
     "end_time": "2019-11-14T16:18:01.478720Z",
     "start_time": "2019-11-14T16:18:01.037287Z"
    },
    "hidden": true
   },
   "outputs": [],
   "source": [
    "eps = 1.2\n",
    "min_samples = 10\n",
    "\n",
    "\n",
    "dbscan = cluster.DBSCAN(eps=eps, min_samples=min_samples)\n",
    "predicted_labels = dbscan.fit_predict(dataset_2)\n",
    "\n",
    "plot_clustered_dataset(dataset_2, \n",
    "                    predicted_labels, \n",
    "                    neighborhood=True, \n",
    "                    epsilon=eps)"
   ]
  },
  {
   "cell_type": "markdown",
   "metadata": {
    "heading_collapsed": true,
    "hidden": true
   },
   "source": [
    "## Scenario 2"
   ]
  },
  {
   "cell_type": "markdown",
   "metadata": {
    "hidden": true
   },
   "source": [
    "> **2 clusters**: bottom left, top right, and the middle are just noise"
   ]
  },
  {
   "cell_type": "code",
   "execution_count": null,
   "metadata": {
    "hidden": true
   },
   "outputs": [],
   "source": [
    "# Change these hyperparameters from the defaults\n",
    "eps = 0.5\n",
    "min_samples = 5"
   ]
  },
  {
   "cell_type": "code",
   "execution_count": null,
   "metadata": {
    "hidden": true
   },
   "outputs": [],
   "source": [
    "# Create cluster and plot results\n",
    "dbscan = cluster.DBSCAN(eps=eps, min_samples=min_samples)\n",
    "predicted_labels = dbscan.fit_predict(dataset_2)\n",
    "\n",
    "plot_clustered_dataset(dataset_2, \n",
    "                    predicted_labels, \n",
    "                    neighborhood=True, \n",
    "                    epsilon=eps)"
   ]
  },
  {
   "cell_type": "markdown",
   "metadata": {
    "heading_collapsed": true,
    "hidden": true
   },
   "source": [
    "### Possible Solution"
   ]
  },
  {
   "cell_type": "code",
   "execution_count": null,
   "metadata": {
    "ExecuteTime": {
     "end_time": "2019-11-14T16:16:49.867664Z",
     "start_time": "2019-11-14T16:16:49.368308Z"
    },
    "hidden": true
   },
   "outputs": [],
   "source": [
    "eps = 1.5\n",
    "min_samples = 40\n",
    "\n",
    "\n",
    "dbscan = cluster.DBSCAN(eps=eps, min_samples=min_samples)\n",
    "predicted_labels = dbscan.fit_predict(dataset_2)\n",
    "\n",
    "plot_clustered_dataset(dataset_2, \n",
    "                    predicted_labels, \n",
    "                    neighborhood=True, \n",
    "                    epsilon=eps)"
   ]
  }
 ],
 "metadata": {
  "kernelspec": {
   "display_name": "Python 3",
   "language": "python",
   "name": "python3"
  },
  "language_info": {
   "codemirror_mode": {
    "name": "ipython",
    "version": 3
   },
   "file_extension": ".py",
   "mimetype": "text/x-python",
   "name": "python",
   "nbconvert_exporter": "python",
   "pygments_lexer": "ipython3",
   "version": "3.6.6"
  },
  "toc": {
   "base_numbering": 1,
   "nav_menu": {},
   "number_sections": true,
   "sideBar": true,
   "skip_h1_title": false,
   "title_cell": "Table of Contents",
   "title_sidebar": "Contents",
   "toc_cell": true,
   "toc_position": {},
   "toc_section_display": true,
   "toc_window_display": true
  },
  "varInspector": {
   "cols": {
    "lenName": 16,
    "lenType": 16,
    "lenVar": 40
   },
   "kernels_config": {
    "python": {
     "delete_cmd_postfix": "",
     "delete_cmd_prefix": "del ",
     "library": "var_list.py",
     "varRefreshCmd": "print(var_dic_list())"
    },
    "r": {
     "delete_cmd_postfix": ") ",
     "delete_cmd_prefix": "rm(",
     "library": "var_list.r",
     "varRefreshCmd": "cat(var_dic_list()) "
    }
   },
   "types_to_exclude": [
    "module",
    "function",
    "builtin_function_or_method",
    "instance",
    "_Feature"
   ],
   "window_display": false
  }
 },
 "nbformat": 4,
 "nbformat_minor": 1
}
