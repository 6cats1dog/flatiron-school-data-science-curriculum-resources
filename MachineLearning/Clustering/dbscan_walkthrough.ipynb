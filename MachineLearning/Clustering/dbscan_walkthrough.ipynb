{
 "cells": [
  {
   "cell_type": "markdown",
   "metadata": {
    "toc": true
   },
   "source": [
    "<h1>Table of Contents<span class=\"tocSkip\"></span></h1>\n",
    "<div class=\"toc\"><ul class=\"toc-item\"><li><span><a href=\"#Example-Dataset\" data-toc-modified-id=\"Example-Dataset-1\"><span class=\"toc-item-num\">1&nbsp;&nbsp;</span>Example Dataset</a></span><ul class=\"toc-item\"><li><span><a href=\"#Attempt-#1-&amp;-displaying-the-$\\epsilon$\" data-toc-modified-id=\"Attempt-#1-&amp;-displaying-the-$\\epsilon$-1.1\"><span class=\"toc-item-num\">1.1&nbsp;&nbsp;</span>Attempt #1 &amp; displaying the $\\epsilon$</a></span></li><li><span><a href=\"#Attempt-#2-&amp;-displaying-the-$\\epsilon$\" data-toc-modified-id=\"Attempt-#2-&amp;-displaying-the-$\\epsilon$-1.2\"><span class=\"toc-item-num\">1.2&nbsp;&nbsp;</span>Attempt #2 &amp; displaying the $\\epsilon$</a></span></li></ul></li></ul></div>"
   ]
  },
  {
   "cell_type": "markdown",
   "metadata": {},
   "source": [
    "> **NOTE** Parts adopted from this repo: https://github.com/udacity/DSND_Term1/tree/master/lessons/Unsupervised/2_HierarchcalDensityClustering"
   ]
  },
  {
   "cell_type": "code",
   "execution_count": null,
   "metadata": {
    "ExecuteTime": {
     "end_time": "2019-11-14T03:58:32.062758Z",
     "start_time": "2019-11-14T03:58:31.514653Z"
    }
   },
   "outputs": [],
   "source": [
    "import pandas as pd\n",
    "import matplotlib.pyplot as plt\n",
    "%matplotlib inline"
   ]
  },
  {
   "cell_type": "markdown",
   "metadata": {
    "heading_collapsed": true
   },
   "source": [
    "# Example Dataset"
   ]
  },
  {
   "cell_type": "code",
   "execution_count": null,
   "metadata": {
    "ExecuteTime": {
     "end_time": "2019-11-14T03:58:32.573066Z",
     "start_time": "2019-11-14T03:58:32.065573Z"
    },
    "hidden": true
   },
   "outputs": [],
   "source": [
    "from sklearn.datasets.samples_generator import make_blobs\n",
    "\n",
    "X, y_true = make_blobs(\n",
    "               n_samples=100, \n",
    "               centers=3,\n",
    "               cluster_std=0.40, \n",
    "               random_state=27\n",
    ")"
   ]
  },
  {
   "cell_type": "code",
   "execution_count": null,
   "metadata": {
    "ExecuteTime": {
     "end_time": "2019-11-14T03:58:32.579239Z",
     "start_time": "2019-11-14T03:58:32.575163Z"
    },
    "hidden": true
   },
   "outputs": [],
   "source": [
    "figsize = (10,10)\n",
    "point_size = 150\n",
    "point_border = 0.8\n",
    "\n",
    "def plot_data(data, pt_color=\"#00B3E9\", xlim=None, ylim= None):\n",
    "    plt.figure(figsize=figsize)\n",
    "    plt.scatter(data[:,0], data[:,1], \n",
    "                s=point_size, color=pt_color, \n",
    "                edgecolor='black', lw=point_border)\n",
    "    if xlim != None:\n",
    "        plt.xlim(xlim)\n",
    "    if ylim != None:\n",
    "        plt.ylim(ylim)\n",
    "    plt.show()"
   ]
  },
  {
   "cell_type": "code",
   "execution_count": null,
   "metadata": {
    "ExecuteTime": {
     "end_time": "2019-11-14T03:58:32.725923Z",
     "start_time": "2019-11-14T03:58:32.581060Z"
    },
    "hidden": true
   },
   "outputs": [],
   "source": [
    "plot_data(X)"
   ]
  },
  {
   "cell_type": "markdown",
   "metadata": {
    "heading_collapsed": true,
    "hidden": true
   },
   "source": [
    "## Attempt #1 & displaying the $\\epsilon$"
   ]
  },
  {
   "cell_type": "code",
   "execution_count": null,
   "metadata": {
    "ExecuteTime": {
     "end_time": "2019-11-14T03:58:32.854873Z",
     "start_time": "2019-11-14T03:58:32.727028Z"
    },
    "hidden": true
   },
   "outputs": [],
   "source": [
    "from sklearn import cluster\n",
    "\n",
    "eps = 0.2\n",
    "dbscan = cluster.DBSCAN(eps=eps)\n",
    "\n",
    "clustering_labels_1 = dbscan.fit_predict(X)"
   ]
  },
  {
   "cell_type": "code",
   "execution_count": null,
   "metadata": {
    "ExecuteTime": {
     "end_time": "2019-11-14T03:58:32.860304Z",
     "start_time": "2019-11-14T03:58:32.855958Z"
    },
    "hidden": true
   },
   "outputs": [],
   "source": [
    "from itertools import cycle, islice\n",
    "\n",
    "def plot_clustered_dataset(dataset, y_pred, xlim=None, ylim= None,\n",
    "                           neighborhood=False, epsilon=0.5):\n",
    "\n",
    "    fig, ax = plt.subplots(figsize=figsize)\n",
    "    \n",
    "    colors = np.array(list(islice(cycle(['#df8efd', '#78c465', '#ff8e34',\n",
    "                                     '#f65e97', '#a65628', '#984ea3',\n",
    "                                     '#999999', '#e41a1c', '#dede00']),\n",
    "                              int(max(y_pred) + 1))))\n",
    "    colors = np.append(colors, '#BECBD6')\n",
    "    \n",
    "    \n",
    "    if neighborhood:\n",
    "        for point in dataset:\n",
    "            circle1 = plt.Circle(point, epsilon, \n",
    "                                 color='#666666', fill=False, \n",
    "                                 zorder=0, alpha=0.3)\n",
    "            ax.add_artist(circle1)\n",
    "\n",
    "    ax.scatter(dataset[:, 0], dataset[:, 1], \n",
    "               s=point_size, color=colors[y_pred], \n",
    "               zorder=10, edgecolor='black', lw=point_border)\n",
    "\n",
    "    if xlim != None:\n",
    "        plt.xlim(xlim)\n",
    "    if ylim != None:\n",
    "        plt.ylim(ylim)\n",
    "        \n",
    "    plt.show()"
   ]
  },
  {
   "cell_type": "code",
   "execution_count": null,
   "metadata": {
    "ExecuteTime": {
     "end_time": "2019-11-14T03:58:32.987632Z",
     "start_time": "2019-11-14T03:58:32.861484Z"
    },
    "hidden": true
   },
   "outputs": [],
   "source": [
    "plot_clustered_dataset(X, clustering_labels_1)"
   ]
  },
  {
   "cell_type": "code",
   "execution_count": null,
   "metadata": {
    "ExecuteTime": {
     "end_time": "2019-11-14T03:58:33.223833Z",
     "start_time": "2019-11-14T03:58:32.990145Z"
    },
    "hidden": true
   },
   "outputs": [],
   "source": [
    "plot_clustered_dataset(X, y_true, neighborhood=True, epsilon=eps)"
   ]
  },
  {
   "cell_type": "markdown",
   "metadata": {
    "hidden": true
   },
   "source": [
    "> Epsilon ($\\epsilon = 0.2$) is just too small"
   ]
  },
  {
   "cell_type": "markdown",
   "metadata": {
    "heading_collapsed": true,
    "hidden": true
   },
   "source": [
    "## Attempt #2 & displaying the $\\epsilon$"
   ]
  },
  {
   "cell_type": "code",
   "execution_count": null,
   "metadata": {
    "ExecuteTime": {
     "end_time": "2019-11-14T03:58:33.466719Z",
     "start_time": "2019-11-14T03:58:33.225395Z"
    },
    "hidden": true
   },
   "outputs": [],
   "source": [
    "eps=0.5\n",
    "\n",
    "dbscan = cluster.DBSCAN(eps=eps)\n",
    "clustering_labels_2 = dbscan.fit_predict(X)\n",
    "\n",
    "plot_clustered_dataset(X, clustering_labels_2, neighborhood=True, epsilon=eps)"
   ]
  }
 ],
 "metadata": {
  "kernelspec": {
   "display_name": "Python 3",
   "language": "python",
   "name": "python3"
  },
  "language_info": {
   "codemirror_mode": {
    "name": "ipython",
    "version": 3
   },
   "file_extension": ".py",
   "mimetype": "text/x-python",
   "name": "python",
   "nbconvert_exporter": "python",
   "pygments_lexer": "ipython3",
   "version": "3.6.6"
  },
  "toc": {
   "base_numbering": 1,
   "nav_menu": {},
   "number_sections": true,
   "sideBar": true,
   "skip_h1_title": false,
   "title_cell": "Table of Contents",
   "title_sidebar": "Contents",
   "toc_cell": true,
   "toc_position": {},
   "toc_section_display": true,
   "toc_window_display": true
  },
  "varInspector": {
   "cols": {
    "lenName": 16,
    "lenType": 16,
    "lenVar": 40
   },
   "kernels_config": {
    "python": {
     "delete_cmd_postfix": "",
     "delete_cmd_prefix": "del ",
     "library": "var_list.py",
     "varRefreshCmd": "print(var_dic_list())"
    },
    "r": {
     "delete_cmd_postfix": ") ",
     "delete_cmd_prefix": "rm(",
     "library": "var_list.r",
     "varRefreshCmd": "cat(var_dic_list()) "
    }
   },
   "types_to_exclude": [
    "module",
    "function",
    "builtin_function_or_method",
    "instance",
    "_Feature"
   ],
   "window_display": false
  }
 },
 "nbformat": 4,
 "nbformat_minor": 1
}
