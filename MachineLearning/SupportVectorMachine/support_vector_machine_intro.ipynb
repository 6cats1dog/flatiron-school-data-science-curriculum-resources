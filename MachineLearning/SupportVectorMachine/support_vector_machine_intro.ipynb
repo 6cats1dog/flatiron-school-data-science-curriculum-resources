{
 "cells": [
  {
   "cell_type": "markdown",
   "metadata": {
    "toc": true
   },
   "source": [
    "<h1>Table of Contents<span class=\"tocSkip\"></span></h1>\n",
    "<div class=\"toc\"><ul class=\"toc-item\"><li><span><a href=\"#Intro\" data-toc-modified-id=\"Intro-1\"><span class=\"toc-item-num\">1&nbsp;&nbsp;</span>Intro</a></span></li><li><span><a href=\"#Recall-using-a-linear-model\" data-toc-modified-id=\"Recall-using-a-linear-model-2\"><span class=\"toc-item-num\">2&nbsp;&nbsp;</span>Recall using a linear model</a></span><ul class=\"toc-item\"><li><span><a href=\"#Classification-error\" data-toc-modified-id=\"Classification-error-2.1\"><span class=\"toc-item-num\">2.1&nbsp;&nbsp;</span>Classification error</a></span></li><li><span><a href=\"#Margin-error\" data-toc-modified-id=\"Margin-error-2.2\"><span class=\"toc-item-num\">2.2&nbsp;&nbsp;</span>Margin error</a></span></li><li><span><a href=\"#Gradient-Descent-to-minimize\" data-toc-modified-id=\"Gradient-Descent-to-minimize-2.3\"><span class=\"toc-item-num\">2.3&nbsp;&nbsp;</span>Gradient Descent to minimize</a></span></li></ul></li><li><span><a href=\"#C-Hyperparameter\" data-toc-modified-id=\"C-Hyperparameter-3\"><span class=\"toc-item-num\">3&nbsp;&nbsp;</span>C Hyperparameter</a></span></li></ul></div>"
   ]
  },
  {
   "cell_type": "markdown",
   "metadata": {
    "heading_collapsed": true
   },
   "source": [
    "# Intro"
   ]
  },
  {
   "cell_type": "markdown",
   "metadata": {
    "hidden": true
   },
   "source": [
    "Compare two lines; which does a \"better\" boundary → use distances from the line"
   ]
  },
  {
   "cell_type": "markdown",
   "metadata": {
    "hidden": true
   },
   "source": [
    "Minimize the error\n",
    " - how many are \"misclassified\" \n",
    " - how many are in bad boundary (within margin error)\n",
    " \n",
    " Margin error + classification error\n",
    " "
   ]
  },
  {
   "cell_type": "markdown",
   "metadata": {
    "heading_collapsed": true
   },
   "source": [
    "# Recall using a linear model"
   ]
  },
  {
   "cell_type": "markdown",
   "metadata": {
    "hidden": true
   },
   "source": [
    "+ The errors closest to the line, get punished more! → increases error linear to parallel lines\n",
    "\n",
    "+ Wx + b = 0\n",
    "\n",
    "+ Wx + b = 1\n",
    "+ Wx + b = 2"
   ]
  },
  {
   "cell_type": "markdown",
   "metadata": {
    "heading_collapsed": true,
    "hidden": true
   },
   "source": [
    "## Classification error"
   ]
  },
  {
   "cell_type": "markdown",
   "metadata": {
    "hidden": true
   },
   "source": [
    "- We start from our margin to count the error (instead of the center)"
   ]
  },
  {
   "cell_type": "markdown",
   "metadata": {
    "heading_collapsed": true,
    "hidden": true
   },
   "source": [
    "## Margin error"
   ]
  },
  {
   "cell_type": "markdown",
   "metadata": {
    "hidden": true
   },
   "source": [
    "- $E = |W|^2$ big vs small margin (we want very large)\n",
    "- $M = \\frac{2}{|W|}$ (inverse proportion, large margin → small error)\n",
    "- Turns out to the same as the L2 Regularization!"
   ]
  },
  {
   "cell_type": "markdown",
   "metadata": {
    "heading_collapsed": true,
    "hidden": true
   },
   "source": [
    "## Gradient Descent to minimize"
   ]
  },
  {
   "cell_type": "markdown",
   "metadata": {
    "heading_collapsed": true
   },
   "source": [
    "# C Hyperparameter"
   ]
  },
  {
   "cell_type": "markdown",
   "metadata": {
    "hidden": true
   },
   "source": [
    "Gives us a way to decide on which line is better (even if classification is worse)"
   ]
  },
  {
   "cell_type": "markdown",
   "metadata": {
    "hidden": true
   },
   "source": [
    "Error = C * classification_error + margin_error\n",
    "\n",
    "→ big C will give us smaller C (we like small margins to avoid errors)"
   ]
  }
 ],
 "metadata": {
  "kernelspec": {
   "display_name": "Python 3",
   "language": "python",
   "name": "python3"
  },
  "language_info": {
   "codemirror_mode": {
    "name": "ipython",
    "version": 3
   },
   "file_extension": ".py",
   "mimetype": "text/x-python",
   "name": "python",
   "nbconvert_exporter": "python",
   "pygments_lexer": "ipython3",
   "version": "3.6.6"
  },
  "toc": {
   "base_numbering": 1,
   "nav_menu": {},
   "number_sections": true,
   "sideBar": true,
   "skip_h1_title": false,
   "title_cell": "Table of Contents",
   "title_sidebar": "Contents",
   "toc_cell": true,
   "toc_position": {
    "height": "calc(100% - 180px)",
    "left": "10px",
    "top": "150px",
    "width": "165px"
   },
   "toc_section_display": true,
   "toc_window_display": true
  },
  "varInspector": {
   "cols": {
    "lenName": 16,
    "lenType": 16,
    "lenVar": 40
   },
   "kernels_config": {
    "python": {
     "delete_cmd_postfix": "",
     "delete_cmd_prefix": "del ",
     "library": "var_list.py",
     "varRefreshCmd": "print(var_dic_list())"
    },
    "r": {
     "delete_cmd_postfix": ") ",
     "delete_cmd_prefix": "rm(",
     "library": "var_list.r",
     "varRefreshCmd": "cat(var_dic_list()) "
    }
   },
   "types_to_exclude": [
    "module",
    "function",
    "builtin_function_or_method",
    "instance",
    "_Feature"
   ],
   "window_display": false
  }
 },
 "nbformat": 4,
 "nbformat_minor": 2
}
