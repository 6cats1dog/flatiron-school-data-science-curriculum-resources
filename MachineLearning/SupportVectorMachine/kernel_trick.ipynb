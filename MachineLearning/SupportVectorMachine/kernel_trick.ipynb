{
 "cells": [
  {
   "cell_type": "markdown",
   "metadata": {
    "toc": true
   },
   "source": [
    "<h1>Table of Contents<span class=\"tocSkip\"></span></h1>\n",
    "<div class=\"toc\"><ul class=\"toc-item\"><li><span><a href=\"#Kernel-Trick\" data-toc-modified-id=\"Kernel-Trick-1\"><span class=\"toc-item-num\">1&nbsp;&nbsp;</span>Kernel Trick</a></span><ul class=\"toc-item\"><li><span><a href=\"#Higher-Dimension\" data-toc-modified-id=\"Higher-Dimension-1.1\"><span class=\"toc-item-num\">1.1&nbsp;&nbsp;</span>Higher Dimension</a></span></li><li><span><a href=\"#RBF-(Radius-Basis-Kernel)\" data-toc-modified-id=\"RBF-(Radius-Basis-Kernel)-1.2\"><span class=\"toc-item-num\">1.2&nbsp;&nbsp;</span>RBF (Radius Basis Kernel)</a></span></li></ul></li></ul></div>"
   ]
  },
  {
   "cell_type": "markdown",
   "metadata": {
    "heading_collapsed": true
   },
   "source": [
    "# Kernel Trick"
   ]
  },
  {
   "cell_type": "markdown",
   "metadata": {
    "hidden": true
   },
   "source": [
    "When a simple model isn't good enough, extend to higher dimensions"
   ]
  },
  {
   "cell_type": "markdown",
   "metadata": {
    "heading_collapsed": true,
    "hidden": true
   },
   "source": [
    "## Higher Dimension"
   ]
  },
  {
   "cell_type": "markdown",
   "metadata": {
    "hidden": true
   },
   "source": [
    "(consider a line with no good cut; extend to parabola)\n",
    "(consider a 2D → 3D & EQUIVALENT making a higher degree polynomial)"
   ]
  },
  {
   "cell_type": "markdown",
   "metadata": {
    "hidden": true
   },
   "source": [
    "We consider all the possible ways to combine:\n",
    "\n",
    "2D → 5D\n",
    "$x,y --> (x,y,x^2,xy,y^2)$\n",
    "\n",
    "2d separator <-- Get a 4D separator"
   ]
  },
  {
   "cell_type": "markdown",
   "metadata": {
    "hidden": true
   },
   "source": [
    "A kernel describes the mapping/transformation\n",
    "\n",
    "With polynomial kernel, we get more options to try (vs linear)"
   ]
  },
  {
   "cell_type": "markdown",
   "metadata": {
    "heading_collapsed": true,
    "hidden": true
   },
   "source": [
    "## RBF (Radius Basis Kernel)\n",
    "\n",
    "\n",
    "Hills and valley → Radial Basis Functions\n",
    "\n",
    "Record the heights over each point for each RBF\n",
    "\n",
    "This turns into a vector (higher dimensional space) → likely separable\n",
    "\n",
    "Uses hyperplane to get the weights\n",
    "\n",
    "\n",
    "$\\gamma$ hyperparameter gives narrow/fat (big/small $\\gamma$) This essentially allows us to get less/more overfitting\n",
    "\n"
   ]
  }
 ],
 "metadata": {
  "kernelspec": {
   "display_name": "Python 3",
   "language": "python",
   "name": "python3"
  },
  "language_info": {
   "codemirror_mode": {
    "name": "ipython",
    "version": 3
   },
   "file_extension": ".py",
   "mimetype": "text/x-python",
   "name": "python",
   "nbconvert_exporter": "python",
   "pygments_lexer": "ipython3",
   "version": "3.6.6"
  },
  "toc": {
   "base_numbering": 1,
   "nav_menu": {},
   "number_sections": true,
   "sideBar": true,
   "skip_h1_title": false,
   "title_cell": "Table of Contents",
   "title_sidebar": "Contents",
   "toc_cell": true,
   "toc_position": {
    "height": "calc(100% - 180px)",
    "left": "10px",
    "top": "150px",
    "width": "165px"
   },
   "toc_section_display": true,
   "toc_window_display": true
  },
  "varInspector": {
   "cols": {
    "lenName": 16,
    "lenType": 16,
    "lenVar": 40
   },
   "kernels_config": {
    "python": {
     "delete_cmd_postfix": "",
     "delete_cmd_prefix": "del ",
     "library": "var_list.py",
     "varRefreshCmd": "print(var_dic_list())"
    },
    "r": {
     "delete_cmd_postfix": ") ",
     "delete_cmd_prefix": "rm(",
     "library": "var_list.r",
     "varRefreshCmd": "cat(var_dic_list()) "
    }
   },
   "types_to_exclude": [
    "module",
    "function",
    "builtin_function_or_method",
    "instance",
    "_Feature"
   ],
   "window_display": false
  }
 },
 "nbformat": 4,
 "nbformat_minor": 2
}
