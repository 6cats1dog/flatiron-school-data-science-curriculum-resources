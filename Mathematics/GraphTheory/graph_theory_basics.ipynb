{
 "cells": [
  {
   "cell_type": "markdown",
   "metadata": {
    "toc": true
   },
   "source": [
    "<h1>Table of Contents<span class=\"tocSkip\"></span></h1>\n",
    "<div class=\"toc\"><ul class=\"toc-item\"><li><span><a href=\"#What-is-a-&quot;Graph&quot;\" data-toc-modified-id=\"What-is-a-&quot;Graph&quot;-1\"><span class=\"toc-item-num\">1&nbsp;&nbsp;</span>What is a \"Graph\"</a></span><ul class=\"toc-item\"><li><span><a href=\"#What-they-aren't\" data-toc-modified-id=\"What-they-aren't-1.1\"><span class=\"toc-item-num\">1.1&nbsp;&nbsp;</span>What they aren't</a></span></li><li><span><a href=\"#Those-math-nerds-take-all-the-good-words\" data-toc-modified-id=\"Those-math-nerds-take-all-the-good-words-1.2\"><span class=\"toc-item-num\">1.2&nbsp;&nbsp;</span>Those math nerds take all the good words</a></span></li><li><span><a href=\"#Knowledge-Check-🧠:-When-would-it-be-a-good-idea-to-use-graphs?\" data-toc-modified-id=\"Knowledge-Check-🧠:-When-would-it-be-a-good-idea-to-use-graphs?-1.3\"><span class=\"toc-item-num\">1.3&nbsp;&nbsp;</span>Knowledge Check 🧠: When would it be a good idea to use graphs?</a></span></li></ul></li><li><span><a href=\"#Nodes-&amp;-Edges\" data-toc-modified-id=\"Nodes-&amp;-Edges-2\"><span class=\"toc-item-num\">2&nbsp;&nbsp;</span>Nodes &amp; Edges</a></span></li><li><span><a href=\"#Directed-vs-Undirected-Graphs\" data-toc-modified-id=\"Directed-vs-Undirected-Graphs-3\"><span class=\"toc-item-num\">3&nbsp;&nbsp;</span>Directed vs Undirected Graphs</a></span><ul class=\"toc-item\"><li><span><a href=\"#Cycles-&amp;-Circuits\" data-toc-modified-id=\"Cycles-&amp;-Circuits-3.1\"><span class=\"toc-item-num\">3.1&nbsp;&nbsp;</span>Cycles &amp; Circuits</a></span></li></ul></li><li><span><a href=\"#Other-Forms\" data-toc-modified-id=\"Other-Forms-4\"><span class=\"toc-item-num\">4&nbsp;&nbsp;</span>Other Forms</a></span><ul class=\"toc-item\"><li><span><a href=\"#Adjacency-Matrix\" data-toc-modified-id=\"Adjacency-Matrix-4.1\"><span class=\"toc-item-num\">4.1&nbsp;&nbsp;</span>Adjacency Matrix</a></span></li></ul></li><li><span><a href=\"#Uses\" data-toc-modified-id=\"Uses-5\"><span class=\"toc-item-num\">5&nbsp;&nbsp;</span>Uses</a></span><ul class=\"toc-item\"><li><span><a href=\"#Path-Searching\" data-toc-modified-id=\"Path-Searching-5.1\"><span class=\"toc-item-num\">5.1&nbsp;&nbsp;</span>Path Searching</a></span></li><li><span><a href=\"#Connectedness\" data-toc-modified-id=\"Connectedness-5.2\"><span class=\"toc-item-num\">5.2&nbsp;&nbsp;</span>Connectedness</a></span></li><li><span><a href=\"#Clustering\" data-toc-modified-id=\"Clustering-5.3\"><span class=\"toc-item-num\">5.3&nbsp;&nbsp;</span>Clustering</a></span></li></ul></li></ul></div>"
   ]
  },
  {
   "cell_type": "markdown",
   "metadata": {
    "heading_collapsed": true
   },
   "source": [
    "# What is a \"Graph\""
   ]
  },
  {
   "cell_type": "markdown",
   "metadata": {
    "heading_collapsed": true,
    "hidden": true
   },
   "source": [
    "## What they aren't"
   ]
  },
  {
   "cell_type": "markdown",
   "metadata": {
    "hidden": true
   },
   "source": [
    "Don't confuse them with \"graphs\" we've been plotting\n",
    "\n",
    "![\"Look at this graph\" meme of Nickelback](images/look_at_this_graph.gif)\n",
    "> Sorry Nickelback..."
   ]
  },
  {
   "cell_type": "markdown",
   "metadata": {
    "heading_collapsed": true,
    "hidden": true
   },
   "source": [
    "## Those math nerds take all the good words"
   ]
  },
  {
   "cell_type": "markdown",
   "metadata": {
    "hidden": true
   },
   "source": [
    "A **graph** is a mathematical object with **vertices**/**nodes** connected together by **edges**\n",
    "\n",
    "\n",
    "Graphs put emphasis to **relationships**"
   ]
  },
  {
   "cell_type": "markdown",
   "metadata": {
    "heading_collapsed": true,
    "hidden": true
   },
   "source": [
    "## Knowledge Check 🧠: When would it be a good idea to use graphs?"
   ]
  },
  {
   "cell_type": "markdown",
   "metadata": {
    "heading_collapsed": true
   },
   "source": [
    "# Nodes & Edges\n",
    "\n"
   ]
  },
  {
   "cell_type": "markdown",
   "metadata": {
    "hidden": true
   },
   "source": [
    "* **Nodes** represent the entity\n",
    "\n",
    "* **Edges** represent the relationship between entities"
   ]
  },
  {
   "cell_type": "markdown",
   "metadata": {
    "hidden": true
   },
   "source": [
    "![](images/graph_example.png)"
   ]
  },
  {
   "cell_type": "markdown",
   "metadata": {
    "heading_collapsed": true
   },
   "source": [
    "# Directed vs Undirected Graphs"
   ]
  },
  {
   "cell_type": "markdown",
   "metadata": {
    "hidden": true
   },
   "source": [
    "A **directed graph** (or **digraph**) is where the edges have direction (you can only travel in one direction from one node to the next)."
   ]
  },
  {
   "cell_type": "markdown",
   "metadata": {
    "hidden": true
   },
   "source": [
    "![](images/graph_directed.png)"
   ]
  },
  {
   "cell_type": "markdown",
   "metadata": {
    "hidden": true
   },
   "source": [
    "When you can travel in either direction between nodes, we have an **undirected graph** "
   ]
  },
  {
   "cell_type": "markdown",
   "metadata": {
    "hidden": true
   },
   "source": [
    "![](images/graph_undirected.png)"
   ]
  },
  {
   "cell_type": "markdown",
   "metadata": {
    "heading_collapsed": true,
    "hidden": true
   },
   "source": [
    "## Cycles & Circuits"
   ]
  },
  {
   "cell_type": "markdown",
   "metadata": {
    "heading_collapsed": true
   },
   "source": [
    "# Other Forms"
   ]
  },
  {
   "cell_type": "markdown",
   "metadata": {
    "heading_collapsed": true,
    "hidden": true
   },
   "source": [
    "## Adjacency Matrix"
   ]
  },
  {
   "cell_type": "markdown",
   "metadata": {
    "hidden": true
   },
   "source": [
    "Describes a graph's relationships in matrix form \n",
    "\n",
    "![Source: https://www.ebi.ac.uk/training/online/sites/ebi.ac.uk.training.online/files/resize/5_Graph_types-750x456.png](images/adjacency_matrix_with_graphs.png)"
   ]
  },
  {
   "cell_type": "markdown",
   "metadata": {
    "hidden": true
   },
   "source": [
    "> https://en.wikipedia.org/wiki/Adjacency_matrix"
   ]
  },
  {
   "cell_type": "markdown",
   "metadata": {
    "heading_collapsed": true
   },
   "source": [
    "# Uses"
   ]
  },
  {
   "cell_type": "markdown",
   "metadata": {
    "heading_collapsed": true,
    "hidden": true
   },
   "source": [
    "## Path Searching"
   ]
  },
  {
   "cell_type": "markdown",
   "metadata": {
    "heading_collapsed": true,
    "hidden": true
   },
   "source": [
    "## Connectedness"
   ]
  },
  {
   "cell_type": "markdown",
   "metadata": {
    "heading_collapsed": true,
    "hidden": true
   },
   "source": [
    "## Clustering"
   ]
  }
 ],
 "metadata": {
  "kernelspec": {
   "display_name": "Python 3",
   "language": "python",
   "name": "python3"
  },
  "language_info": {
   "codemirror_mode": {
    "name": "ipython",
    "version": 3
   },
   "file_extension": ".py",
   "mimetype": "text/x-python",
   "name": "python",
   "nbconvert_exporter": "python",
   "pygments_lexer": "ipython3",
   "version": "3.7.1"
  },
  "toc": {
   "base_numbering": 1,
   "nav_menu": {},
   "number_sections": true,
   "sideBar": true,
   "skip_h1_title": false,
   "title_cell": "Table of Contents",
   "title_sidebar": "Contents",
   "toc_cell": true,
   "toc_position": {},
   "toc_section_display": true,
   "toc_window_display": true
  },
  "varInspector": {
   "cols": {
    "lenName": 16,
    "lenType": 16,
    "lenVar": 40
   },
   "kernels_config": {
    "python": {
     "delete_cmd_postfix": "",
     "delete_cmd_prefix": "del ",
     "library": "var_list.py",
     "varRefreshCmd": "print(var_dic_list())"
    },
    "r": {
     "delete_cmd_postfix": ") ",
     "delete_cmd_prefix": "rm(",
     "library": "var_list.r",
     "varRefreshCmd": "cat(var_dic_list()) "
    }
   },
   "types_to_exclude": [
    "module",
    "function",
    "builtin_function_or_method",
    "instance",
    "_Feature"
   ],
   "window_display": false
  }
 },
 "nbformat": 4,
 "nbformat_minor": 2
}
