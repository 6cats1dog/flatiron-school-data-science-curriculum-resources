{
 "cells": [
  {
   "cell_type": "code",
   "execution_count": 2,
   "metadata": {
    "ExecuteTime": {
     "end_time": "2019-05-29T14:51:49.183768Z",
     "start_time": "2019-05-29T14:51:48.610456Z"
    }
   },
   "outputs": [],
   "source": [
    "import pandas as pd\n",
    "import matplotlib.pyplot as plt\n",
    "import numpy as np"
   ]
  },
  {
   "cell_type": "code",
   "execution_count": 31,
   "metadata": {
    "ExecuteTime": {
     "end_time": "2019-05-29T15:22:01.203452Z",
     "start_time": "2019-05-29T15:22:01.109506Z"
    }
   },
   "outputs": [
    {
     "data": {
      "image/png": "[encoded data removed]",
      "text/plain": [
       "<Figure size 432x288 with 1 Axes>"
      ]
     },
     "metadata": {
      "needs_background": "light"
     },
     "output_type": "display_data"
    }
   ],
   "source": [
    "x = np.linspace(0,10,20)\n",
    "y = (x - 5)** 3 +  (x - 8)**2\n",
    "\n",
    "plt.scatter(x,y)\n",
    "plt.show()"
   ]
  },
  {
   "cell_type": "markdown",
   "metadata": {},
   "source": [
    "# Principal Component Analysis"
   ]
  },
  {
   "cell_type": "markdown",
   "metadata": {},
   "source": [
    "## Videos (Matrix Transformation & Eigenvector):\n",
    "\n",
    "- Linear Transformations: https://www.youtube.com/watch?v=kYB8IZa5AuE\n",
    "- Egienvectors: https://www.youtube.com/watch?v=PFDu9oVAE-g"
   ]
  },
  {
   "cell_type": "markdown",
   "metadata": {
    "ExecuteTime": {
     "end_time": "2019-05-29T14:50:03.103824Z",
     "start_time": "2019-05-29T14:50:03.099335Z"
    }
   },
   "source": [
    "**Eigenvector**: proper; characteristic"
   ]
  },
  {
   "cell_type": "markdown",
   "metadata": {},
   "source": [
    "## Overview"
   ]
  },
  {
   "cell_type": "markdown",
   "metadata": {},
   "source": [
    "PCA finds coordinates to \"center\" it along the data\n",
    "\n",
    "Example of drawing coordinate system\n",
    "(vectors to create new coordiates --> length of unity)"
   ]
  },
  {
   "cell_type": "markdown",
   "metadata": {},
   "source": [
    "- principal axis\n",
    "- center/origin of data\n",
    "- spread value for each axis (one large, one small)"
   ]
  },
  {
   "cell_type": "markdown",
   "metadata": {},
   "source": [
    "### Example concept Go back to our housing project\n",
    "\n",
    "- Latent feature (size & neighborhood) from measurements\n",
    "    - sqft\n",
    "    - \\# of rooms\n",
    "    - school ranking\n",
    "    - neighborhood safety"
   ]
  },
  {
   "cell_type": "markdown",
   "metadata": {},
   "source": [
    "Select the number of best features vs select percentile \n",
    "\n",
    "- Many features, but smaller number of features that matter\n",
    "- composite features (principal component)"
   ]
  },
  {
   "cell_type": "markdown",
   "metadata": {},
   "source": [
    "Project the data onto the principal component\n",
    "\n",
    "Determine via variance\n",
    " - spread of the data\n",
    " - ellipse surrounding the data \n",
    " - which axis has the most variance\n",
    "     + retains the maximum of \"info\" from the original data\n",
    "     + information lost: sum of residuals"
   ]
  },
  {
   "cell_type": "markdown",
   "metadata": {},
   "source": [
    "**ALGO**\n",
    "\n",
    "- combine features to make new features to be used in model\n",
    "- Auto combine & rank them (automatic, no guidance *unsupervised*)"
   ]
  },
  {
   "cell_type": "markdown",
   "metadata": {},
   "source": [
    "- create new features from old\n",
    "- directions that max variance (min info loss) when projected down\n",
    "- more variance along a component, higher rank\n",
    "- All perpindicular (independant) orthogonal"
   ]
  },
  {
   "cell_type": "markdown",
   "metadata": {},
   "source": [
    "## When to use it"
   ]
  },
  {
   "cell_type": "markdown",
   "metadata": {},
   "source": [
    "- Access latent features\n",
    "- Dimensionality reduction\n",
    "    + visualize higher dim\n",
    "    + reduce noise (remove noise)\n",
    "    + pre-process (eigenvectors) for better performance (less features to consider)"
   ]
  }
 ],
 "metadata": {
  "kernelspec": {
   "display_name": "Python [conda env:root]",
   "language": "python",
   "name": "conda-root-py"
  },
  "language_info": {
   "codemirror_mode": {
    "name": "ipython",
    "version": 3
   },
   "file_extension": ".py",
   "mimetype": "text/x-python",
   "name": "python",
   "nbconvert_exporter": "python",
   "pygments_lexer": "ipython3",
   "version": "3.7.1"
  },
  "toc": {
   "base_numbering": 1,
   "nav_menu": {},
   "number_sections": true,
   "sideBar": true,
   "skip_h1_title": false,
   "title_cell": "Table of Contents",
   "title_sidebar": "Contents",
   "toc_cell": false,
   "toc_position": {},
   "toc_section_display": true,
   "toc_window_display": false
  },
  "varInspector": {
   "cols": {
    "lenName": 16,
    "lenType": 16,
    "lenVar": 40
   },
   "kernels_config": {
    "python": {
     "delete_cmd_postfix": "",
     "delete_cmd_prefix": "del ",
     "library": "var_list.py",
     "varRefreshCmd": "print(var_dic_list())"
    },
    "r": {
     "delete_cmd_postfix": ") ",
     "delete_cmd_prefix": "rm(",
     "library": "var_list.r",
     "varRefreshCmd": "cat(var_dic_list()) "
    }
   },
   "types_to_exclude": [
    "module",
    "function",
    "builtin_function_or_method",
    "instance",
    "_Feature"
   ],
   "window_display": false
  }
 },
 "nbformat": 4,
 "nbformat_minor": 2
}
