{
 "cells": [
  {
   "cell_type": "code",
   "execution_count": null,
   "metadata": {
    "ExecuteTime": {
     "end_time": "2019-05-15T15:11:27.001799Z",
     "start_time": "2019-05-15T15:11:26.999157Z"
    }
   },
   "outputs": [],
   "source": [
    "import numpy as np"
   ]
  },
  {
   "cell_type": "markdown",
   "metadata": {
    "heading_collapsed": true
   },
   "source": [
    "# Distance Metrics"
   ]
  },
  {
   "cell_type": "markdown",
   "metadata": {
    "hidden": true
   },
   "source": [
    "A way to describe the \"closeness\" of data points $\\rightarrow$ proxy for similarity"
   ]
  },
  {
   "cell_type": "markdown",
   "metadata": {
    "heading_collapsed": true,
    "hidden": true
   },
   "source": [
    "## Manhattan Distance"
   ]
  },
  {
   "cell_type": "markdown",
   "metadata": {
    "hidden": true
   },
   "source": [
    "Imagine a grid and you travel along a grid\n",
    "\n",
    "> Does it matter what path we take along the grid?"
   ]
  },
  {
   "cell_type": "markdown",
   "metadata": {
    "hidden": true
   },
   "source": [
    "<img src='images/manhattan-distance.png' width = 50%/>"
   ]
  },
  {
   "cell_type": "markdown",
   "metadata": {
    "heading_collapsed": true,
    "hidden": true
   },
   "source": [
    "### Formula"
   ]
  },
  {
   "cell_type": "markdown",
   "metadata": {
    "hidden": true
   },
   "source": [
    "$$dist(A,B) = \\sum_{k=1}^{N} |a_k - b_k| $$"
   ]
  },
  {
   "cell_type": "markdown",
   "metadata": {
    "heading_collapsed": true,
    "hidden": true
   },
   "source": [
    "### Code distance"
   ]
  },
  {
   "cell_type": "markdown",
   "metadata": {
    "hidden": true
   },
   "source": [
    "Can use a for-loop but vectorization is usually very quick"
   ]
  },
  {
   "cell_type": "code",
   "execution_count": null,
   "metadata": {
    "ExecuteTime": {
     "end_time": "2019-05-15T15:15:40.005505Z",
     "start_time": "2019-05-15T15:15:39.998854Z"
    },
    "hidden": true
   },
   "outputs": [],
   "source": [
    "a = np.array([2,3,5])\n",
    "b = np.array([1,-1,3])\n",
    "\n",
    "display(a)\n",
    "display(b)"
   ]
  },
  {
   "cell_type": "code",
   "execution_count": null,
   "metadata": {
    "ExecuteTime": {
     "end_time": "2019-05-15T15:15:28.226455Z",
     "start_time": "2019-05-15T15:15:28.222393Z"
    },
    "hidden": true
   },
   "outputs": [],
   "source": [
    "diffs = a - b\n",
    "print('A - B')\n",
    "display(diffs)"
   ]
  },
  {
   "cell_type": "code",
   "execution_count": null,
   "metadata": {
    "ExecuteTime": {
     "end_time": "2019-05-15T15:15:28.392457Z",
     "start_time": "2019-05-15T15:15:28.387605Z"
    },
    "hidden": true
   },
   "outputs": [],
   "source": [
    "print('|A - B|')\n",
    "abs_diff = np.abs(diffs)\n",
    "display(abs_diff)"
   ]
  },
  {
   "cell_type": "code",
   "execution_count": null,
   "metadata": {
    "ExecuteTime": {
     "end_time": "2019-05-15T15:15:29.421269Z",
     "start_time": "2019-05-15T15:15:29.416266Z"
    },
    "hidden": true
   },
   "outputs": [],
   "source": [
    "dist = np.sum(abs_diff)\n",
    "print('sum(|A-B|)')\n",
    "display(dist)"
   ]
  },
  {
   "cell_type": "markdown",
   "metadata": {
    "heading_collapsed": true,
    "hidden": true
   },
   "source": [
    "## Euclidean Distance (Pythagorean Distance)"
   ]
  },
  {
   "cell_type": "markdown",
   "metadata": {
    "hidden": true
   },
   "source": [
    "Well-known for the Pythagorean Theorem"
   ]
  },
  {
   "cell_type": "markdown",
   "metadata": {
    "hidden": true
   },
   "source": [
    "<img src='images/euclidean-distance.png' width = 50%/>"
   ]
  },
  {
   "cell_type": "markdown",
   "metadata": {
    "hidden": true
   },
   "source": [
    "### Formula"
   ]
  },
  {
   "cell_type": "markdown",
   "metadata": {
    "hidden": true
   },
   "source": [
    "$$dist(A,B) = \\sqrt{ \\sum_{k=1}^{N} (a_k - b_k)^2 } $$"
   ]
  },
  {
   "cell_type": "markdown",
   "metadata": {
    "heading_collapsed": true,
    "hidden": true
   },
   "source": [
    "### Code distance"
   ]
  },
  {
   "cell_type": "code",
   "execution_count": null,
   "metadata": {
    "ExecuteTime": {
     "end_time": "2019-05-15T15:15:40.005505Z",
     "start_time": "2019-05-15T15:15:39.998854Z"
    },
    "hidden": true
   },
   "outputs": [],
   "source": [
    "a = np.array([2,3,5])\n",
    "b = np.array([1,-1,3])\n",
    "\n",
    "display(a)\n",
    "display(b)"
   ]
  },
  {
   "cell_type": "code",
   "execution_count": null,
   "metadata": {
    "ExecuteTime": {
     "end_time": "2019-05-15T15:15:28.226455Z",
     "start_time": "2019-05-15T15:15:28.222393Z"
    },
    "hidden": true
   },
   "outputs": [],
   "source": [
    "diffs = a - b\n",
    "print('A - B')\n",
    "display(diffs)"
   ]
  },
  {
   "cell_type": "code",
   "execution_count": null,
   "metadata": {
    "ExecuteTime": {
     "end_time": "2019-05-15T15:22:46.944071Z",
     "start_time": "2019-05-15T15:22:46.939467Z"
    },
    "hidden": true
   },
   "outputs": [],
   "source": [
    "print('(A - B)^2')\n",
    "sq_diffs = diffs * diffs\n",
    "display(sq_diffs)"
   ]
  },
  {
   "cell_type": "code",
   "execution_count": null,
   "metadata": {
    "ExecuteTime": {
     "end_time": "2019-05-15T15:22:49.720665Z",
     "start_time": "2019-05-15T15:22:49.716283Z"
    },
    "hidden": true
   },
   "outputs": [],
   "source": [
    "print('sum[(A - B)^2]')\n",
    "sq_sum = np.sum(sq_diffs)\n",
    "display(sq_sum)"
   ]
  },
  {
   "cell_type": "code",
   "execution_count": null,
   "metadata": {
    "ExecuteTime": {
     "end_time": "2019-05-15T15:23:11.658151Z",
     "start_time": "2019-05-15T15:23:11.653326Z"
    },
    "hidden": true
   },
   "outputs": [],
   "source": [
    "dist = np.sqrt(sq_sum)\n",
    "print('√sum[(A - B)^2]')\n",
    "display(dist)"
   ]
  },
  {
   "cell_type": "markdown",
   "metadata": {
    "heading_collapsed": true,
    "hidden": true
   },
   "source": [
    "## Minkowski Distance"
   ]
  },
  {
   "cell_type": "markdown",
   "metadata": {
    "hidden": true
   },
   "source": [
    "Used in a Normed Vector Space\n",
    "\n",
    "Above were special cases of the Minkowski Distance"
   ]
  },
  {
   "cell_type": "markdown",
   "metadata": {
    "hidden": true
   },
   "source": [
    "### Formula"
   ]
  },
  {
   "cell_type": "markdown",
   "metadata": {
    "hidden": true
   },
   "source": [
    "$$dist(A,B) = (\\sum_{k=1}^{N} |a_k - b_k|^c )^\\frac{1}{c} $$"
   ]
  },
  {
   "cell_type": "markdown",
   "metadata": {
    "hidden": true
   },
   "source": [
    "### Code distance"
   ]
  },
  {
   "cell_type": "code",
   "execution_count": null,
   "metadata": {
    "ExecuteTime": {
     "end_time": "2019-05-15T15:31:41.668609Z",
     "start_time": "2019-05-15T15:31:41.664829Z"
    },
    "hidden": true
   },
   "outputs": [],
   "source": [
    "def minkowski(A,B,c=2):\n",
    "    abs_diffs = np.abs(A-B)\n",
    "    pow_diffs = np.power(abs_diffs, c)\n",
    "    sum_diff = np.sum(pow_diffs)\n",
    "    dist = np.power(sum_diff, 1/c)\n",
    "    return dist"
   ]
  },
  {
   "cell_type": "code",
   "execution_count": null,
   "metadata": {
    "ExecuteTime": {
     "end_time": "2019-05-15T15:31:56.615616Z",
     "start_time": "2019-05-15T15:31:56.608742Z"
    },
    "hidden": true
   },
   "outputs": [],
   "source": [
    "a = np.array([2,3,5])\n",
    "b = np.array([1,-1,3])\n",
    "\n",
    "display(a)\n",
    "display(b)"
   ]
  },
  {
   "cell_type": "code",
   "execution_count": null,
   "metadata": {
    "ExecuteTime": {
     "end_time": "2019-05-15T15:32:17.405960Z",
     "start_time": "2019-05-15T15:32:17.401582Z"
    },
    "hidden": true
   },
   "outputs": [],
   "source": [
    "# Euclidean Distance\n",
    "minkowski(a,b)"
   ]
  },
  {
   "cell_type": "markdown",
   "metadata": {},
   "source": [
    "# K-Nearest Neighbors"
   ]
  },
  {
   "cell_type": "markdown",
   "metadata": {},
   "source": [
    "Classification / Supervised Learning"
   ]
  },
  {
   "cell_type": "markdown",
   "metadata": {},
   "source": [
    "## Summary"
   ]
  },
  {
   "cell_type": "markdown",
   "metadata": {},
   "source": [
    "Use the training data to \"learn\" and then predict a test point"
   ]
  },
  {
   "cell_type": "markdown",
   "metadata": {},
   "source": [
    "<img src='https://upload.wikimedia.org/wikipedia/commons/thumb/e/e7/KnnClassification.svg/440px-KnnClassification.svg.png'/>"
   ]
  },
  {
   "cell_type": "markdown",
   "metadata": {},
   "source": [
    "## Advantages"
   ]
  },
  {
   "cell_type": "markdown",
   "metadata": {},
   "source": [
    "- lazy learning (no training phase)\n",
    "- easy to interpret"
   ]
  },
  {
   "cell_type": "markdown",
   "metadata": {},
   "source": [
    "## Disadvantages"
   ]
  },
  {
   "cell_type": "markdown",
   "metadata": {},
   "source": [
    "- has to be kept in memory (small data with few features)\n",
    "- not robust; doesn't generalize well\n",
    "- soft boundaries are troublesome"
   ]
  },
  {
   "cell_type": "markdown",
   "metadata": {
    "heading_collapsed": true
   },
   "source": [
    "## Determining K"
   ]
  },
  {
   "cell_type": "markdown",
   "metadata": {
    "hidden": true
   },
   "source": [
    "### Overfitting & Underfitting"
   ]
  },
  {
   "cell_type": "markdown",
   "metadata": {},
   "source": [
    "## Implementing via sklearn"
   ]
  }
 ],
 "metadata": {
  "kernelspec": {
   "display_name": "Python 3",
   "language": "python",
   "name": "python3"
  },
  "language_info": {
   "codemirror_mode": {
    "name": "ipython",
    "version": 3
   },
   "file_extension": ".py",
   "mimetype": "text/x-python",
   "name": "python",
   "nbconvert_exporter": "python",
   "pygments_lexer": "ipython3",
   "version": "3.7.1"
  },
  "toc": {
   "base_numbering": 1,
   "nav_menu": {},
   "number_sections": true,
   "sideBar": true,
   "skip_h1_title": false,
   "title_cell": "Table of Contents",
   "title_sidebar": "Contents",
   "toc_cell": false,
   "toc_position": {},
   "toc_section_display": true,
   "toc_window_display": false
  },
  "varInspector": {
   "cols": {
    "lenName": 16,
    "lenType": 16,
    "lenVar": 40
   },
   "kernels_config": {
    "python": {
     "delete_cmd_postfix": "",
     "delete_cmd_prefix": "del ",
     "library": "var_list.py",
     "varRefreshCmd": "print(var_dic_list())"
    },
    "r": {
     "delete_cmd_postfix": ") ",
     "delete_cmd_prefix": "rm(",
     "library": "var_list.r",
     "varRefreshCmd": "cat(var_dic_list()) "
    }
   },
   "types_to_exclude": [
    "module",
    "function",
    "builtin_function_or_method",
    "instance",
    "_Feature"
   ],
   "window_display": false
  }
 },
 "nbformat": 4,
 "nbformat_minor": 2
}
