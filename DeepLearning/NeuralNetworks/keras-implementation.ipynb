{
 "cells": [
  {
   "cell_type": "markdown",
   "metadata": {
    "toc": true
   },
   "source": [
    "<h1>Table of Contents<span class=\"tocSkip\"></span></h1>\n",
    "<div class=\"toc\"><ul class=\"toc-item\"><li><span><a href=\"#What-a-Computer-&quot;Sees&quot;\" data-toc-modified-id=\"What-a-Computer-&quot;Sees&quot;-1\"><span class=\"toc-item-num\">1&nbsp;&nbsp;</span>What a Computer \"Sees\"</a></span></li><li><span><a href=\"#Why-the-Neural-Networks-We've-Learned-are-Trash\" data-toc-modified-id=\"Why-the-Neural-Networks-We've-Learned-are-Trash-2\"><span class=\"toc-item-num\">2&nbsp;&nbsp;</span>Why the Neural Networks We've Learned are Trash</a></span></li><li><span><a href=\"#Demo-of-MLP-Image-Classification\" data-toc-modified-id=\"Demo-of-MLP-Image-Classification-3\"><span class=\"toc-item-num\">3&nbsp;&nbsp;</span>Demo of MLP Image Classification</a></span><ul class=\"toc-item\"><li><span><a href=\"#Data\" data-toc-modified-id=\"Data-3.1\"><span class=\"toc-item-num\">3.1&nbsp;&nbsp;</span>Data</a></span><ul class=\"toc-item\"><li><span><a href=\"#Loading-data\" data-toc-modified-id=\"Loading-data-3.1.1\"><span class=\"toc-item-num\">3.1.1&nbsp;&nbsp;</span>Loading data</a></span></li><li><span><a href=\"#Visualize-some-data\" data-toc-modified-id=\"Visualize-some-data-3.1.2\"><span class=\"toc-item-num\">3.1.2&nbsp;&nbsp;</span>Visualize some data</a></span></li><li><span><a href=\"#Rescale-image\" data-toc-modified-id=\"Rescale-image-3.1.3\"><span class=\"toc-item-num\">3.1.3&nbsp;&nbsp;</span>Rescale image</a></span></li><li><span><a href=\"#One-Hot-Encode\" data-toc-modified-id=\"One-Hot-Encode-3.1.4\"><span class=\"toc-item-num\">3.1.4&nbsp;&nbsp;</span>One-Hot Encode</a></span></li></ul></li><li><span><a href=\"#Model\" data-toc-modified-id=\"Model-3.2\"><span class=\"toc-item-num\">3.2&nbsp;&nbsp;</span>Model</a></span><ul class=\"toc-item\"><li><span><a href=\"#Structure/Architecture\" data-toc-modified-id=\"Structure/Architecture-3.2.1\"><span class=\"toc-item-num\">3.2.1&nbsp;&nbsp;</span>Structure/Architecture</a></span></li><li><span><a href=\"#Compile\" data-toc-modified-id=\"Compile-3.2.2\"><span class=\"toc-item-num\">3.2.2&nbsp;&nbsp;</span>Compile</a></span></li><li><span><a href=\"#Train\" data-toc-modified-id=\"Train-3.2.3\"><span class=\"toc-item-num\">3.2.3&nbsp;&nbsp;</span>Train</a></span></li><li><span><a href=\"#Evaluate\" data-toc-modified-id=\"Evaluate-3.2.4\"><span class=\"toc-item-num\">3.2.4&nbsp;&nbsp;</span>Evaluate</a></span></li></ul></li></ul></li></ul></div>"
   ]
  },
  {
   "cell_type": "markdown",
   "metadata": {
    "heading_collapsed": true
   },
   "source": [
    "# What a Computer \"Sees\""
   ]
  },
  {
   "cell_type": "markdown",
   "metadata": {
    "hidden": true
   },
   "source": [
    "- Images are just values\n",
    "- Gray-scaled images are a 2D matrix/tensor\n",
    "- Colored images are a 3D tensor; 1 matrix per color/gama"
   ]
  },
  {
   "cell_type": "markdown",
   "metadata": {
    "heading_collapsed": true
   },
   "source": [
    "# Why the Neural Networks We've Learned are Trash"
   ]
  },
  {
   "cell_type": "markdown",
   "metadata": {
    "hidden": true
   },
   "source": [
    "- We _*need*_ to feed in a vector\n",
    "- But image is 2D...\n",
    "- Feed in the tensor \"flattened\" to a vector\n",
    "- But loses spatial information :( "
   ]
  },
  {
   "cell_type": "markdown",
   "metadata": {
    "hidden": true
   },
   "source": [
    "Bad at finding _some_ multidimensional patterns that have that structure"
   ]
  },
  {
   "cell_type": "markdown",
   "metadata": {
    "heading_collapsed": true
   },
   "source": [
    "# Demo of MLP Image Classification"
   ]
  },
  {
   "cell_type": "markdown",
   "metadata": {
    "ExecuteTime": {
     "end_time": "2019-06-20T05:09:45.124216Z",
     "start_time": "2019-06-20T05:09:44.920643Z"
    },
    "heading_collapsed": true,
    "hidden": true
   },
   "source": [
    "## Data"
   ]
  },
  {
   "cell_type": "markdown",
   "metadata": {
    "heading_collapsed": true,
    "hidden": true
   },
   "source": [
    "### Loading data"
   ]
  },
  {
   "cell_type": "markdown",
   "metadata": {
    "hidden": true
   },
   "source": [
    "> https://keras.io/datasets/#fashion-mnist-database-of-fashion-articles"
   ]
  },
  {
   "cell_type": "code",
   "execution_count": null,
   "metadata": {
    "ExecuteTime": {
     "end_time": "2019-12-04T22:38:38.535270Z",
     "start_time": "2019-12-04T22:38:23.966970Z"
    },
    "hidden": true
   },
   "outputs": [],
   "source": [
    "from keras import datasets\n",
    "fashion_mnist = datasets.fashion_mnist\n",
    "\n",
    "(X_train, y_train), (X_test, y_test) = fashion_mnist.load_data()"
   ]
  },
  {
   "cell_type": "markdown",
   "metadata": {
    "heading_collapsed": true,
    "hidden": true
   },
   "source": [
    "### Visualize some data"
   ]
  },
  {
   "cell_type": "code",
   "execution_count": null,
   "metadata": {
    "ExecuteTime": {
     "end_time": "2019-12-04T22:39:49.325090Z",
     "start_time": "2019-12-04T22:39:49.136651Z"
    },
    "hidden": true
   },
   "outputs": [],
   "source": [
    "import matplotlib.pyplot as plt\n",
    "%matplotlib inline\n",
    "import matplotlib.cm as cm\n",
    "import numpy as np\n",
    "\n",
    "\n",
    "fig = plt.figure(figsize=(20,20))\n",
    "for i in range(3):\n",
    "    ax = fig.add_subplot(i//3+1, 3, i+1, xticks=[], yticks=[])\n",
    "    ax.imshow(X_train[i], cmap='gray')\n",
    "    ax.set_title(str(y_train[i]))"
   ]
  },
  {
   "cell_type": "markdown",
   "metadata": {
    "heading_collapsed": true,
    "hidden": true
   },
   "source": [
    "### Rescale image\n",
    "\n",
    "Each pixel will now be between 0 and 1"
   ]
  },
  {
   "cell_type": "code",
   "execution_count": null,
   "metadata": {
    "ExecuteTime": {
     "end_time": "2019-12-04T22:30:56.442676Z",
     "start_time": "2019-12-04T22:30:56.312797Z"
    },
    "hidden": true
   },
   "outputs": [],
   "source": [
    "X_train = X_train.astype('float32')/255\n",
    "X_test = X_test.astype('float32')/255"
   ]
  },
  {
   "cell_type": "markdown",
   "metadata": {
    "heading_collapsed": true,
    "hidden": true
   },
   "source": [
    "### One-Hot Encode"
   ]
  },
  {
   "cell_type": "code",
   "execution_count": null,
   "metadata": {
    "ExecuteTime": {
     "end_time": "2019-12-04T22:30:56.447868Z",
     "start_time": "2019-12-04T22:30:56.443996Z"
    },
    "hidden": true
   },
   "outputs": [],
   "source": [
    "from keras.utils import np_utils\n",
    "\n",
    "y_train = np_utils.to_categorical(y_train, 10)\n",
    "y_test = np_utils.to_categorical(y_test, 10)"
   ]
  },
  {
   "cell_type": "markdown",
   "metadata": {
    "heading_collapsed": true,
    "hidden": true
   },
   "source": [
    "## Model"
   ]
  },
  {
   "cell_type": "markdown",
   "metadata": {
    "heading_collapsed": true,
    "hidden": true
   },
   "source": [
    "### Structure/Architecture"
   ]
  },
  {
   "cell_type": "code",
   "execution_count": null,
   "metadata": {
    "ExecuteTime": {
     "end_time": "2019-12-04T22:30:56.451872Z",
     "start_time": "2019-12-04T22:30:56.450026Z"
    },
    "hidden": true
   },
   "outputs": [],
   "source": [
    "# ! pip install --upgrade numpy"
   ]
  },
  {
   "cell_type": "code",
   "execution_count": null,
   "metadata": {
    "ExecuteTime": {
     "end_time": "2019-12-04T22:30:56.559883Z",
     "start_time": "2019-12-04T22:30:56.453128Z"
    },
    "hidden": true
   },
   "outputs": [],
   "source": [
    "from keras.models import Sequential\n",
    "from keras.layers import Dense, Dropout, Flatten\n",
    "\n",
    "\n",
    "model = Sequential()\n",
    "# Input (2D-->1D)\n",
    "model.add(Flatten(input_shape=X_train.shape[1:], name='input_layer'))\n",
    "# Hidden Layer #1\n",
    "model.add(Dense(512, activation='relu', name='hidden_layer_1'))\n",
    "model.add(Dropout(0.2, name='hidden_layer_1_dropout'))\n",
    "# Hidden Layer #1\n",
    "model.add(Dense(512, activation='relu', name='hidden_layer_2'))\n",
    "model.add(Dropout(0.2, name='hidden_layer_2_dropout'))\n",
    "# Classification Layer\n",
    "model.add(Dense(10, activation='softmax', name='output_layer'))\n",
    "\n",
    "# summarize the model\n",
    "model.summary()"
   ]
  },
  {
   "cell_type": "markdown",
   "metadata": {
    "heading_collapsed": true,
    "hidden": true
   },
   "source": [
    "### Compile"
   ]
  },
  {
   "cell_type": "code",
   "execution_count": null,
   "metadata": {
    "ExecuteTime": {
     "end_time": "2019-12-04T22:30:56.594396Z",
     "start_time": "2019-12-04T22:30:56.560961Z"
    },
    "hidden": true
   },
   "outputs": [],
   "source": [
    "model.compile(loss='categorical_crossentropy', optimizer='adam', metrics=['accuracy'])"
   ]
  },
  {
   "cell_type": "markdown",
   "metadata": {
    "heading_collapsed": true,
    "hidden": true
   },
   "source": [
    "### Train"
   ]
  },
  {
   "cell_type": "code",
   "execution_count": null,
   "metadata": {
    "ExecuteTime": {
     "start_time": "2019-12-04T22:30:47.907Z"
    },
    "hidden": true
   },
   "outputs": [],
   "source": [
    "from keras.callbacks import ModelCheckpoint   \n",
    "\n",
    "# Save the best model\n",
    "checkpointer = ModelCheckpoint(filepath='mnist.model.best.hdf5', \n",
    "                               verbose=1, save_best_only=True)\n",
    "\n",
    "hist = model.fit(X_train, y_train, epochs=8,\n",
    "          validation_split=0.2, callbacks=[checkpointer],\n",
    "          verbose=1, shuffle=True)"
   ]
  },
  {
   "cell_type": "markdown",
   "metadata": {
    "heading_collapsed": true,
    "hidden": true
   },
   "source": [
    "### Evaluate"
   ]
  },
  {
   "cell_type": "code",
   "execution_count": null,
   "metadata": {
    "ExecuteTime": {
     "start_time": "2019-12-04T22:30:47.908Z"
    },
    "hidden": true
   },
   "outputs": [],
   "source": [
    "print(f' Acc: {model.evaluate(X_test, y_test, verbose=0)[1]}')"
   ]
  }
 ],
 "metadata": {
  "kernelspec": {
   "display_name": "Python 3",
   "language": "python",
   "name": "python3"
  },
  "language_info": {
   "codemirror_mode": {
    "name": "ipython",
    "version": 3
   },
   "file_extension": ".py",
   "mimetype": "text/x-python",
   "name": "python",
   "nbconvert_exporter": "python",
   "pygments_lexer": "ipython3",
   "version": "3.6.6"
  },
  "toc": {
   "base_numbering": 1,
   "nav_menu": {},
   "number_sections": true,
   "sideBar": true,
   "skip_h1_title": false,
   "title_cell": "Table of Contents",
   "title_sidebar": "Contents",
   "toc_cell": true,
   "toc_position": {},
   "toc_section_display": true,
   "toc_window_display": true
  },
  "varInspector": {
   "cols": {
    "lenName": 16,
    "lenType": 16,
    "lenVar": 40
   },
   "kernels_config": {
    "python": {
     "delete_cmd_postfix": "",
     "delete_cmd_prefix": "del ",
     "library": "var_list.py",
     "varRefreshCmd": "print(var_dic_list())"
    },
    "r": {
     "delete_cmd_postfix": ") ",
     "delete_cmd_prefix": "rm(",
     "library": "var_list.r",
     "varRefreshCmd": "cat(var_dic_list()) "
    }
   },
   "types_to_exclude": [
    "module",
    "function",
    "builtin_function_or_method",
    "instance",
    "_Feature"
   ],
   "window_display": false
  }
 },
 "nbformat": 4,
 "nbformat_minor": 2
}
