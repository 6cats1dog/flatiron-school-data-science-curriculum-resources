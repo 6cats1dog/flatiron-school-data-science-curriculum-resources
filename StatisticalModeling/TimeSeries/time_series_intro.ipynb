{
 "cells": [
  {
   "cell_type": "code",
   "execution_count": null,
   "metadata": {
    "ExecuteTime": {
     "end_time": "2019-07-24T22:09:40.338469Z",
     "start_time": "2019-07-24T22:09:39.856170Z"
    }
   },
   "outputs": [],
   "source": [
    "import pandas as pd\n",
    "import numpy as np\n",
    "import matplotlib.pyplot as plt"
   ]
  },
  {
   "cell_type": "markdown",
   "metadata": {},
   "source": [
    "# What is Time Series Data?"
   ]
  },
  {
   "cell_type": "markdown",
   "metadata": {},
   "source": [
    "Important to consider progression of time\n",
    "> - Is the temporal information a key focus of the data?  "
   ]
  },
  {
   "cell_type": "markdown",
   "metadata": {},
   "source": [
    "## Examples"
   ]
  },
  {
   "cell_type": "markdown",
   "metadata": {},
   "source": [
    "- Stock prices\n",
    "- Temperature over the year\n",
    "- Atmoshperic changes over the course of decades"
   ]
  },
  {
   "cell_type": "markdown",
   "metadata": {},
   "source": [
    "## Loading in time series"
   ]
  },
  {
   "cell_type": "code",
   "execution_count": null,
   "metadata": {
    "ExecuteTime": {
     "end_time": "2019-07-24T22:09:41.575460Z",
     "start_time": "2019-07-24T22:09:41.548437Z"
    }
   },
   "outputs": [],
   "source": [
    "# Load and display\n",
    "df_temp = pd.read_csv(\"min_temp.csv\")\n",
    "display(df_temp.head(20))\n",
    "display(df_temp.info())"
   ]
  },
  {
   "cell_type": "markdown",
   "metadata": {},
   "source": [
    "## Make data readable as a datetime"
   ]
  },
  {
   "cell_type": "code",
   "execution_count": null,
   "metadata": {
    "ExecuteTime": {
     "end_time": "2019-07-24T22:12:58.219894Z",
     "start_time": "2019-07-24T22:12:58.201467Z"
    }
   },
   "outputs": [],
   "source": [
    "# Creating a proper datetime using the string formatting\n",
    "df_temp['Date'] = pd.to_datetime(df_temp['Date'], format='%d/%m/%y')\n",
    "\n",
    "# Make the temporal data as the focus\n",
    "df_temp = df_temp.set_index('Date')"
   ]
  },
  {
   "cell_type": "code",
   "execution_count": null,
   "metadata": {
    "ExecuteTime": {
     "end_time": "2019-07-24T22:13:00.476312Z",
     "start_time": "2019-07-24T22:13:00.465591Z"
    }
   },
   "outputs": [],
   "source": [
    "display(df_temp.head(10))\n",
    "display(df_temp.info())"
   ]
  },
  {
   "cell_type": "markdown",
   "metadata": {},
   "source": [
    "## Slicing time series data"
   ]
  },
  {
   "cell_type": "code",
   "execution_count": null,
   "metadata": {
    "ExecuteTime": {
     "end_time": "2019-07-24T22:17:02.001824Z",
     "start_time": "2019-07-24T22:17:01.993248Z"
    },
    "scrolled": false
   },
   "outputs": [],
   "source": [
    "after_1990 = df_temp['1990':]\n",
    "display(after_1990.head(15))"
   ]
  },
  {
   "cell_type": "code",
   "execution_count": null,
   "metadata": {
    "ExecuteTime": {
     "end_time": "2019-07-24T22:17:07.042602Z",
     "start_time": "2019-07-24T22:17:07.031923Z"
    },
    "scrolled": true
   },
   "outputs": [],
   "source": [
    "df_temp"
   ]
  },
  {
   "cell_type": "markdown",
   "metadata": {},
   "source": [
    "## Follow-up: Why should we make the date as the index?"
   ]
  },
  {
   "cell_type": "markdown",
   "metadata": {},
   "source": [
    "# Visualizing Time Series"
   ]
  },
  {
   "cell_type": "markdown",
   "metadata": {},
   "source": [
    "## Showing Changes Over Time"
   ]
  },
  {
   "cell_type": "markdown",
   "metadata": {},
   "source": [
    "Can identify patterns and trends with visualizations"
   ]
  },
  {
   "cell_type": "code",
   "execution_count": null,
   "metadata": {
    "ExecuteTime": {
     "end_time": "2019-07-24T22:17:36.517438Z",
     "start_time": "2019-07-24T22:17:36.495442Z"
    }
   },
   "outputs": [],
   "source": [
    "# New York Stock Exchange average monthly returns [1961-1966] from curriculum\n",
    "nyse = pd.read_csv(\"NYSE_monthly.csv\")\n",
    "col_name= 'Month'\n",
    "nyse[col_name] = pd.to_datetime(nyse[col_name])\n",
    "nyse.set_index(col_name, inplace=True)\n",
    "\n",
    "display(nyse.head(10))\n",
    "display(nyse.info())"
   ]
  },
  {
   "cell_type": "markdown",
   "metadata": {},
   "source": [
    "### Line Plot"
   ]
  },
  {
   "cell_type": "code",
   "execution_count": null,
   "metadata": {
    "ExecuteTime": {
     "end_time": "2019-07-24T22:20:51.230976Z",
     "start_time": "2019-07-24T22:20:50.987269Z"
    }
   },
   "outputs": [],
   "source": [
    "nyse.plot(figsize = (16,6))\n",
    "plt.show()"
   ]
  },
  {
   "cell_type": "markdown",
   "metadata": {},
   "source": [
    "### Dot Plot"
   ]
  },
  {
   "cell_type": "code",
   "execution_count": null,
   "metadata": {
    "ExecuteTime": {
     "end_time": "2019-07-24T22:20:53.859484Z",
     "start_time": "2019-07-24T22:20:53.628262Z"
    }
   },
   "outputs": [],
   "source": [
    "nyse.plot(figsize = (16,6), style=\"*\")\n",
    "plt.show()"
   ]
  },
  {
   "cell_type": "markdown",
   "metadata": {},
   "source": [
    "### Question time: Dot vs Line Plots\n",
    "\n",
    "Note the difference between this and the line plot"
   ]
  },
  {
   "cell_type": "markdown",
   "metadata": {},
   "source": [
    "When would you want a dot vs a line plot?"
   ]
  },
  {
   "cell_type": "markdown",
   "metadata": {},
   "source": [
    "### Grouping Plots"
   ]
  },
  {
   "cell_type": "markdown",
   "metadata": {},
   "source": [
    "What if we wanted to look at year-to-year (e.g., temperature throughout many years)"
   ]
  },
  {
   "cell_type": "markdown",
   "metadata": {},
   "source": [
    "Couple options to choose from"
   ]
  },
  {
   "cell_type": "markdown",
   "metadata": {},
   "source": [
    "### Example all separated annual (from curriculum)"
   ]
  },
  {
   "cell_type": "code",
   "execution_count": null,
   "metadata": {
    "ExecuteTime": {
     "end_time": "2019-07-24T22:22:27.591267Z",
     "start_time": "2019-07-24T22:22:27.584135Z"
    }
   },
   "outputs": [],
   "source": [
    "# Annual Frequency\n",
    "year_groups = nyse.groupby(pd.Grouper(freq ='A'))"
   ]
  },
  {
   "cell_type": "code",
   "execution_count": null,
   "metadata": {
    "ExecuteTime": {
     "end_time": "2019-07-24T22:22:51.079923Z",
     "start_time": "2019-07-24T22:22:50.319128Z"
    }
   },
   "outputs": [],
   "source": [
    "#Create a new DataFrame and store yearly values in columns \n",
    "nyse_annual = pd.DataFrame()\n",
    "\n",
    "for yr, group in year_groups:\n",
    "    nyse_annual[yr.year] = group.values.ravel()\n",
    "    \n",
    "# Plot the yearly groups as subplots\n",
    "nyse_annual.plot(figsize = (13,8), subplots=True, legend=True)\n",
    "plt.show()"
   ]
  },
  {
   "cell_type": "markdown",
   "metadata": {},
   "source": [
    "### Example all together annual (from curriculum)"
   ]
  },
  {
   "cell_type": "code",
   "execution_count": null,
   "metadata": {
    "ExecuteTime": {
     "end_time": "2019-07-24T22:23:57.667748Z",
     "start_time": "2019-07-24T22:23:57.448093Z"
    }
   },
   "outputs": [],
   "source": [
    "# Plot overlapping yearly groups \n",
    "nyse_annual.plot(figsize = (15,5), subplots=False, legend=True)\n",
    "plt.show()"
   ]
  },
  {
   "cell_type": "markdown",
   "metadata": {},
   "source": [
    "## Showing Distributions\n",
    "\n",
    "Sometimes the distribution of the values are important.\n",
    "\n",
    "What are some reasons?"
   ]
  },
  {
   "cell_type": "markdown",
   "metadata": {},
   "source": [
    "- Checking for normality (for stat testing)\n",
    "- First check on raw & transformed data"
   ]
  },
  {
   "cell_type": "markdown",
   "metadata": {
    "heading_collapsed": true
   },
   "source": [
    "### Histogram"
   ]
  },
  {
   "cell_type": "code",
   "execution_count": null,
   "metadata": {
    "ExecuteTime": {
     "end_time": "2019-07-24T22:25:33.781977Z",
     "start_time": "2019-07-24T22:25:33.595253Z"
    },
    "hidden": true
   },
   "outputs": [],
   "source": [
    "nyse.hist(figsize = (10,6))\n",
    "plt.show()"
   ]
  },
  {
   "cell_type": "code",
   "execution_count": null,
   "metadata": {
    "ExecuteTime": {
     "end_time": "2019-07-24T22:25:52.784872Z",
     "start_time": "2019-07-24T22:25:52.602203Z"
    },
    "hidden": true
   },
   "outputs": [],
   "source": [
    "# Bin it to make it more obvious if normal\n",
    "nyse.hist(figsize = (10,6), bins = 7)\n",
    "plt.show()"
   ]
  },
  {
   "cell_type": "markdown",
   "metadata": {
    "heading_collapsed": true
   },
   "source": [
    "### Density"
   ]
  },
  {
   "cell_type": "code",
   "execution_count": null,
   "metadata": {
    "ExecuteTime": {
     "end_time": "2019-07-24T22:27:06.047980Z",
     "start_time": "2019-07-24T22:27:05.603623Z"
    },
    "hidden": true
   },
   "outputs": [],
   "source": [
    "nyse.plot(kind='kde', figsize = (15,10))\n",
    "plt.show()"
   ]
  },
  {
   "cell_type": "markdown",
   "metadata": {},
   "source": [
    "### Box Plot"
   ]
  },
  {
   "cell_type": "markdown",
   "metadata": {},
   "source": [
    "- Shows distribution over time\n",
    "- Can help show outliers\n",
    "- Seasonal trends"
   ]
  },
  {
   "cell_type": "markdown",
   "metadata": {},
   "source": [
    "#### Example"
   ]
  },
  {
   "cell_type": "code",
   "execution_count": null,
   "metadata": {
    "ExecuteTime": {
     "end_time": "2019-07-24T22:28:36.898768Z",
     "start_time": "2019-07-24T22:28:36.647116Z"
    }
   },
   "outputs": [],
   "source": [
    "# Generate a box and whiskers plot for temp_annual dataframe\n",
    "nyse_annual.boxplot(figsize = (12,7))\n",
    "plt.show()"
   ]
  },
  {
   "cell_type": "markdown",
   "metadata": {},
   "source": [
    "### Heat Maps"
   ]
  },
  {
   "cell_type": "markdown",
   "metadata": {},
   "source": [
    "Use color to show patterns throughout a time period for data"
   ]
  },
  {
   "cell_type": "markdown",
   "metadata": {},
   "source": [
    "#### Example of how heat maps are useful"
   ]
  },
  {
   "cell_type": "code",
   "execution_count": null,
   "metadata": {
    "ExecuteTime": {
     "end_time": "2019-07-24T22:30:15.250064Z",
     "start_time": "2019-07-24T22:30:15.239226Z"
    }
   },
   "outputs": [],
   "source": [
    "# Create a new DataFrame and store yearly values in columns for temperature\n",
    "temp_annual = pd.DataFrame()\n",
    "\n",
    "for yr, group in df_temp.groupby(pd.Grouper(freq ='A')):\n",
    "    temp_annual[yr.year] = group.values.ravel()"
   ]
  },
  {
   "cell_type": "markdown",
   "metadata": {},
   "source": [
    "##### Plotting each line plot in a subplot"
   ]
  },
  {
   "cell_type": "markdown",
   "metadata": {},
   "source": [
    "Let's use our strategy in plotting multiple line plots to see if we can see a pattern:"
   ]
  },
  {
   "cell_type": "code",
   "execution_count": null,
   "metadata": {
    "ExecuteTime": {
     "end_time": "2019-07-24T22:30:32.468917Z",
     "start_time": "2019-07-24T22:30:31.055869Z"
    },
    "scrolled": false
   },
   "outputs": [],
   "source": [
    "# Plot the yearly groups as subplots\n",
    "temp_annual.plot(figsize = (16,8), subplots=True, legend=True)\n",
    "plt.show()"
   ]
  },
  {
   "cell_type": "markdown",
   "metadata": {},
   "source": [
    "You likely will have a hard time seeing exactly the temperature shift is throughout the year (if it even exists!)\n",
    "\n",
    "We can try plotting all the lines together to see if a pattern is more obvious in our visual."
   ]
  },
  {
   "cell_type": "markdown",
   "metadata": {},
   "source": [
    "##### Plotting all line plots in one plot"
   ]
  },
  {
   "cell_type": "code",
   "execution_count": null,
   "metadata": {
    "ExecuteTime": {
     "end_time": "2019-07-24T22:31:18.804579Z",
     "start_time": "2019-07-24T22:31:18.475782Z"
    }
   },
   "outputs": [],
   "source": [
    "# Plot overlapping yearly groups \n",
    "temp_annual.plot(figsize = (15,5), subplots=False, legend=True)\n",
    "plt.show()"
   ]
  },
  {
   "cell_type": "markdown",
   "metadata": {},
   "source": [
    "That's great we can see that the temperature decreases in the middle of the data! But now we sacrificed being able to observe any pattern for an individual year. \n",
    "\n",
    "This is where using a heat map can help visualize patterns throughout the year for temperature! And of course, the heat map can be used for more than just temperature related data."
   ]
  },
  {
   "cell_type": "markdown",
   "metadata": {},
   "source": [
    "##### And finally, using a heat map to visualize a pattern"
   ]
  },
  {
   "cell_type": "code",
   "execution_count": null,
   "metadata": {
    "ExecuteTime": {
     "end_time": "2019-07-24T22:32:32.050078Z",
     "start_time": "2019-07-24T22:32:31.883692Z"
    }
   },
   "outputs": [],
   "source": [
    "# Year and month \n",
    "year_matrix = temp_annual.T\n",
    "plt.matshow(year_matrix, interpolation=None, aspect='auto', cmap=plt.cm.Spectral_r)\n",
    "plt.show()"
   ]
  },
  {
   "cell_type": "markdown",
   "metadata": {},
   "source": [
    "☝🏼 Look at that beautiful visual pattern! Makes me want to weep with joy for all the information density available to us!"
   ]
  },
  {
   "cell_type": "markdown",
   "metadata": {},
   "source": [
    "# Resampling"
   ]
  },
  {
   "cell_type": "markdown",
   "metadata": {},
   "source": [
    "Converting the time series into a particular frequency\n",
    "\n",
    "https://pandas.pydata.org/pandas-docs/stable/reference/api/pandas.DataFrame.resample.html\n",
    "https://pandas.pydata.org/pandas-docs/stable/user_guide/timeseries.html#resampling"
   ]
  },
  {
   "cell_type": "markdown",
   "metadata": {},
   "source": [
    "## Downsampling"
   ]
  },
  {
   "cell_type": "markdown",
   "metadata": {},
   "source": [
    "- resample at a lower rate\n",
    "- may loose information\n",
    "- more computationally efficient"
   ]
  },
  {
   "cell_type": "markdown",
   "metadata": {},
   "source": [
    "### Example"
   ]
  },
  {
   "cell_type": "code",
   "execution_count": null,
   "metadata": {
    "ExecuteTime": {
     "end_time": "2019-07-24T22:36:58.937669Z",
     "start_time": "2019-07-24T22:36:58.930589Z"
    }
   },
   "outputs": [],
   "source": [
    "# Average out so we have monthly means (compared to using days)\n",
    "monthly = df_temp.resample('MS')\n",
    "month_mean = monthly.mean()"
   ]
  },
  {
   "cell_type": "code",
   "execution_count": null,
   "metadata": {
    "ExecuteTime": {
     "end_time": "2019-07-24T22:40:45.007859Z",
     "start_time": "2019-07-24T22:40:44.999273Z"
    }
   },
   "outputs": [],
   "source": [
    "month_mean.head(10)\n",
    "df_temp.head(10)"
   ]
  },
  {
   "cell_type": "markdown",
   "metadata": {},
   "source": [
    "## Upsampling"
   ]
  },
  {
   "cell_type": "markdown",
   "metadata": {},
   "source": [
    "- resample at a higher rate\n",
    "- should keep information"
   ]
  },
  {
   "cell_type": "markdown",
   "metadata": {},
   "source": [
    "### Example"
   ]
  },
  {
   "cell_type": "code",
   "execution_count": null,
   "metadata": {
    "ExecuteTime": {
     "end_time": "2019-07-24T22:41:08.040419Z",
     "start_time": "2019-07-24T22:41:08.030788Z"
    }
   },
   "outputs": [],
   "source": [
    "# Data to every 12hours but only fill the parts known (blank otherwise)\n",
    "bidaily = df_temp.resample('12H').asfreq()\n",
    "bidaily.head(10)"
   ]
  },
  {
   "cell_type": "code",
   "execution_count": null,
   "metadata": {
    "ExecuteTime": {
     "end_time": "2019-07-24T22:41:33.957478Z",
     "start_time": "2019-07-24T22:41:33.944130Z"
    },
    "scrolled": true
   },
   "outputs": [],
   "source": [
    "# Interpolate to every 12hours but fill the parts unknown (no blanks)\n",
    "bidaily = df_temp.resample('12H').ffill()\n",
    "bidaily.head(10)"
   ]
  },
  {
   "cell_type": "code",
   "execution_count": null,
   "metadata": {
    "ExecuteTime": {
     "end_time": "2019-07-24T22:42:30.764586Z",
     "start_time": "2019-07-24T22:42:30.753235Z"
    },
    "scrolled": true
   },
   "outputs": [],
   "source": [
    "hourly = df_temp.resample('1H').ffill()\n",
    "hourly.head(30)"
   ]
  }
 ],
 "metadata": {
  "kernelspec": {
   "display_name": "Python [conda env:root]",
   "language": "python",
   "name": "conda-root-py"
  },
  "language_info": {
   "codemirror_mode": {
    "name": "ipython",
    "version": 3
   },
   "file_extension": ".py",
   "mimetype": "text/x-python",
   "name": "python",
   "nbconvert_exporter": "python",
   "pygments_lexer": "ipython3",
   "version": "3.7.1"
  },
  "toc": {
   "base_numbering": 1,
   "nav_menu": {
    "height": "509px",
    "width": "468px"
   },
   "number_sections": true,
   "sideBar": true,
   "skip_h1_title": false,
   "title_cell": "Table of Contents",
   "title_sidebar": "Contents",
   "toc_cell": false,
   "toc_position": {},
   "toc_section_display": true,
   "toc_window_display": false
  },
  "varInspector": {
   "cols": {
    "lenName": 16,
    "lenType": 16,
    "lenVar": 40
   },
   "kernels_config": {
    "python": {
     "delete_cmd_postfix": "",
     "delete_cmd_prefix": "del ",
     "library": "var_list.py",
     "varRefreshCmd": "print(var_dic_list())"
    },
    "r": {
     "delete_cmd_postfix": ") ",
     "delete_cmd_prefix": "rm(",
     "library": "var_list.r",
     "varRefreshCmd": "cat(var_dic_list()) "
    }
   },
   "types_to_exclude": [
    "module",
    "function",
    "builtin_function_or_method",
    "instance",
    "_Feature"
   ],
   "window_display": false
  }
 },
 "nbformat": 4,
 "nbformat_minor": 2
}
