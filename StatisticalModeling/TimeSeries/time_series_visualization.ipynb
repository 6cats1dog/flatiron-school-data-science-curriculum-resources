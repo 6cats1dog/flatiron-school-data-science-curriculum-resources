{
 "cells": [
  {
   "cell_type": "markdown",
   "metadata": {
    "toc": true
   },
   "source": [
    "<h1>Table of Contents<span class=\"tocSkip\"></span></h1>\n",
    "<div class=\"toc\"><ul class=\"toc-item\"><li><span><a href=\"#Visualizing-Time-Series\" data-toc-modified-id=\"Visualizing-Time-Series-1\"><span class=\"toc-item-num\">1&nbsp;&nbsp;</span>Visualizing Time Series</a></span><ul class=\"toc-item\"><li><span><a href=\"#Showing-Changes-Over-Time\" data-toc-modified-id=\"Showing-Changes-Over-Time-1.1\"><span class=\"toc-item-num\">1.1&nbsp;&nbsp;</span>Showing Changes Over Time</a></span><ul class=\"toc-item\"><li><span><a href=\"#Line-Plot\" data-toc-modified-id=\"Line-Plot-1.1.1\"><span class=\"toc-item-num\">1.1.1&nbsp;&nbsp;</span>Line Plot</a></span></li><li><span><a href=\"#Dot-Plot\" data-toc-modified-id=\"Dot-Plot-1.1.2\"><span class=\"toc-item-num\">1.1.2&nbsp;&nbsp;</span>Dot Plot</a></span></li><li><span><a href=\"#Question-time:-Dot-vs-Line-Plots\" data-toc-modified-id=\"Question-time:-Dot-vs-Line-Plots-1.1.3\"><span class=\"toc-item-num\">1.1.3&nbsp;&nbsp;</span>Question time: Dot vs Line Plots</a></span></li><li><span><a href=\"#Grouping-Plots\" data-toc-modified-id=\"Grouping-Plots-1.1.4\"><span class=\"toc-item-num\">1.1.4&nbsp;&nbsp;</span>Grouping Plots</a></span></li><li><span><a href=\"#Example-all-separated-annual-(from-curriculum)\" data-toc-modified-id=\"Example-all-separated-annual-(from-curriculum)-1.1.5\"><span class=\"toc-item-num\">1.1.5&nbsp;&nbsp;</span>Example all separated annual (from curriculum)</a></span></li><li><span><a href=\"#Example-all-together-annual-(from-curriculum)\" data-toc-modified-id=\"Example-all-together-annual-(from-curriculum)-1.1.6\"><span class=\"toc-item-num\">1.1.6&nbsp;&nbsp;</span>Example all together annual (from curriculum)</a></span></li></ul></li><li><span><a href=\"#Showing-Distributions\" data-toc-modified-id=\"Showing-Distributions-1.2\"><span class=\"toc-item-num\">1.2&nbsp;&nbsp;</span>Showing Distributions</a></span><ul class=\"toc-item\"><li><span><a href=\"#Histogram\" data-toc-modified-id=\"Histogram-1.2.1\"><span class=\"toc-item-num\">1.2.1&nbsp;&nbsp;</span>Histogram</a></span></li><li><span><a href=\"#Density\" data-toc-modified-id=\"Density-1.2.2\"><span class=\"toc-item-num\">1.2.2&nbsp;&nbsp;</span>Density</a></span></li><li><span><a href=\"#Box-Plot\" data-toc-modified-id=\"Box-Plot-1.2.3\"><span class=\"toc-item-num\">1.2.3&nbsp;&nbsp;</span>Box Plot</a></span><ul class=\"toc-item\"><li><span><a href=\"#Example\" data-toc-modified-id=\"Example-1.2.3.1\"><span class=\"toc-item-num\">1.2.3.1&nbsp;&nbsp;</span>Example</a></span></li></ul></li><li><span><a href=\"#Heat-Maps\" data-toc-modified-id=\"Heat-Maps-1.2.4\"><span class=\"toc-item-num\">1.2.4&nbsp;&nbsp;</span>Heat Maps</a></span><ul class=\"toc-item\"><li><span><a href=\"#Example-of-how-heat-maps-are-useful\" data-toc-modified-id=\"Example-of-how-heat-maps-are-useful-1.2.4.1\"><span class=\"toc-item-num\">1.2.4.1&nbsp;&nbsp;</span>Example of how heat maps are useful</a></span></li></ul></li></ul></li></ul></li></ul></div>"
   ]
  },
  {
   "cell_type": "code",
   "execution_count": null,
   "metadata": {
    "ExecuteTime": {
     "end_time": "2019-07-24T22:09:40.338469Z",
     "start_time": "2019-07-24T22:09:39.856170Z"
    }
   },
   "outputs": [],
   "source": [
    "import pandas as pd\n",
    "import numpy as np\n",
    "import matplotlib.pyplot as plt"
   ]
  },
  {
   "cell_type": "markdown",
   "metadata": {},
   "source": [
    "# Visualizing Time Series"
   ]
  },
  {
   "cell_type": "markdown",
   "metadata": {},
   "source": [
    "## Showing Changes Over Time"
   ]
  },
  {
   "cell_type": "markdown",
   "metadata": {},
   "source": [
    "Can identify patterns and trends with visualizations"
   ]
  },
  {
   "cell_type": "code",
   "execution_count": null,
   "metadata": {
    "ExecuteTime": {
     "end_time": "2019-07-24T22:17:36.517438Z",
     "start_time": "2019-07-24T22:17:36.495442Z"
    }
   },
   "outputs": [],
   "source": [
    "# New York Stock Exchange average monthly returns [1961-1966] from curriculum\n",
    "nyse = pd.read_csv(\"NYSE_monthly.csv\")\n",
    "col_name= 'Month'\n",
    "nyse[col_name] = pd.to_datetime(nyse[col_name])\n",
    "nyse.set_index(col_name, inplace=True)\n",
    "\n",
    "display(nyse.head(10))\n",
    "display(nyse.info())"
   ]
  },
  {
   "cell_type": "markdown",
   "metadata": {},
   "source": [
    "### Line Plot"
   ]
  },
  {
   "cell_type": "code",
   "execution_count": null,
   "metadata": {
    "ExecuteTime": {
     "end_time": "2019-07-24T22:20:51.230976Z",
     "start_time": "2019-07-24T22:20:50.987269Z"
    }
   },
   "outputs": [],
   "source": [
    "nyse.plot(figsize = (16,6))\n",
    "plt.show()"
   ]
  },
  {
   "cell_type": "markdown",
   "metadata": {},
   "source": [
    "### Dot Plot"
   ]
  },
  {
   "cell_type": "code",
   "execution_count": null,
   "metadata": {
    "ExecuteTime": {
     "end_time": "2019-07-24T22:20:53.859484Z",
     "start_time": "2019-07-24T22:20:53.628262Z"
    }
   },
   "outputs": [],
   "source": [
    "nyse.plot(figsize = (16,6), style=\"*\")\n",
    "plt.show()"
   ]
  },
  {
   "cell_type": "markdown",
   "metadata": {},
   "source": [
    "### Question time: Dot vs Line Plots\n",
    "\n",
    "Note the difference between this and the line plot"
   ]
  },
  {
   "cell_type": "markdown",
   "metadata": {},
   "source": [
    "When would you want a dot vs a line plot?"
   ]
  },
  {
   "cell_type": "markdown",
   "metadata": {},
   "source": [
    "### Grouping Plots"
   ]
  },
  {
   "cell_type": "markdown",
   "metadata": {},
   "source": [
    "What if we wanted to look at year-to-year (e.g., temperature throughout many years)"
   ]
  },
  {
   "cell_type": "markdown",
   "metadata": {},
   "source": [
    "Couple options to choose from"
   ]
  },
  {
   "cell_type": "markdown",
   "metadata": {},
   "source": [
    "### Example all separated annual (from curriculum)"
   ]
  },
  {
   "cell_type": "code",
   "execution_count": null,
   "metadata": {
    "ExecuteTime": {
     "end_time": "2019-07-24T22:22:27.591267Z",
     "start_time": "2019-07-24T22:22:27.584135Z"
    }
   },
   "outputs": [],
   "source": [
    "# Annual Frequency\n",
    "year_groups = nyse.groupby(pd.Grouper(freq ='A'))"
   ]
  },
  {
   "cell_type": "code",
   "execution_count": null,
   "metadata": {
    "ExecuteTime": {
     "end_time": "2019-07-24T22:22:51.079923Z",
     "start_time": "2019-07-24T22:22:50.319128Z"
    }
   },
   "outputs": [],
   "source": [
    "#Create a new DataFrame and store yearly values in columns \n",
    "nyse_annual = pd.DataFrame()\n",
    "\n",
    "for yr, group in year_groups:\n",
    "    nyse_annual[yr.year] = group.values.ravel()\n",
    "    \n",
    "# Plot the yearly groups as subplots\n",
    "nyse_annual.plot(figsize = (13,8), subplots=True, legend=True)\n",
    "plt.show()"
   ]
  },
  {
   "cell_type": "markdown",
   "metadata": {},
   "source": [
    "### Example all together annual (from curriculum)"
   ]
  },
  {
   "cell_type": "code",
   "execution_count": null,
   "metadata": {
    "ExecuteTime": {
     "end_time": "2019-07-24T22:23:57.667748Z",
     "start_time": "2019-07-24T22:23:57.448093Z"
    }
   },
   "outputs": [],
   "source": [
    "# Plot overlapping yearly groups \n",
    "nyse_annual.plot(figsize = (15,5), subplots=False, legend=True)\n",
    "plt.show()"
   ]
  },
  {
   "cell_type": "markdown",
   "metadata": {},
   "source": [
    "## Showing Distributions\n",
    "\n",
    "Sometimes the distribution of the values are important.\n",
    "\n",
    "What are some reasons?"
   ]
  },
  {
   "cell_type": "markdown",
   "metadata": {},
   "source": [
    "- Checking for normality (for stat testing)\n",
    "- First check on raw & transformed data"
   ]
  },
  {
   "cell_type": "markdown",
   "metadata": {},
   "source": [
    "### Histogram"
   ]
  },
  {
   "cell_type": "code",
   "execution_count": null,
   "metadata": {
    "ExecuteTime": {
     "end_time": "2019-07-24T22:25:33.781977Z",
     "start_time": "2019-07-24T22:25:33.595253Z"
    }
   },
   "outputs": [],
   "source": [
    "nyse.hist(figsize = (10,6))\n",
    "plt.show()"
   ]
  },
  {
   "cell_type": "code",
   "execution_count": null,
   "metadata": {
    "ExecuteTime": {
     "end_time": "2019-07-24T22:25:52.784872Z",
     "start_time": "2019-07-24T22:25:52.602203Z"
    }
   },
   "outputs": [],
   "source": [
    "# Bin it to make it more obvious if normal\n",
    "nyse.hist(figsize = (10,6), bins = 7)\n",
    "plt.show()"
   ]
  },
  {
   "cell_type": "markdown",
   "metadata": {},
   "source": [
    "### Density"
   ]
  },
  {
   "cell_type": "code",
   "execution_count": null,
   "metadata": {
    "ExecuteTime": {
     "end_time": "2019-07-24T22:27:06.047980Z",
     "start_time": "2019-07-24T22:27:05.603623Z"
    }
   },
   "outputs": [],
   "source": [
    "nyse.plot(kind='kde', figsize = (15,10))\n",
    "plt.show()"
   ]
  },
  {
   "cell_type": "markdown",
   "metadata": {},
   "source": [
    "### Box Plot"
   ]
  },
  {
   "cell_type": "markdown",
   "metadata": {},
   "source": [
    "- Shows distribution over time\n",
    "- Can help show outliers\n",
    "- Seasonal trends"
   ]
  },
  {
   "cell_type": "markdown",
   "metadata": {},
   "source": [
    "#### Example"
   ]
  },
  {
   "cell_type": "code",
   "execution_count": null,
   "metadata": {
    "ExecuteTime": {
     "end_time": "2019-07-24T22:28:36.898768Z",
     "start_time": "2019-07-24T22:28:36.647116Z"
    }
   },
   "outputs": [],
   "source": [
    "# Generate a box and whiskers plot for temp_annual dataframe\n",
    "nyse_annual.boxplot(figsize = (12,7))\n",
    "plt.show()"
   ]
  },
  {
   "cell_type": "markdown",
   "metadata": {},
   "source": [
    "### Heat Maps"
   ]
  },
  {
   "cell_type": "markdown",
   "metadata": {},
   "source": [
    "Use color to show patterns throughout a time period for data"
   ]
  },
  {
   "cell_type": "markdown",
   "metadata": {},
   "source": [
    "#### Example of how heat maps are useful"
   ]
  },
  {
   "cell_type": "code",
   "execution_count": null,
   "metadata": {
    "ExecuteTime": {
     "end_time": "2019-07-24T22:30:15.250064Z",
     "start_time": "2019-07-24T22:30:15.239226Z"
    }
   },
   "outputs": [],
   "source": [
    "# Create a new DataFrame and store yearly values in columns for temperature\n",
    "temp_annual = pd.DataFrame()\n",
    "\n",
    "for yr, group in df_temp.groupby(pd.Grouper(freq ='A')):\n",
    "    temp_annual[yr.year] = group.values.ravel()"
   ]
  },
  {
   "cell_type": "markdown",
   "metadata": {},
   "source": [
    "##### Plotting each line plot in a subplot"
   ]
  },
  {
   "cell_type": "markdown",
   "metadata": {},
   "source": [
    "Let's use our strategy in plotting multiple line plots to see if we can see a pattern:"
   ]
  },
  {
   "cell_type": "code",
   "execution_count": null,
   "metadata": {
    "ExecuteTime": {
     "end_time": "2019-07-24T22:30:32.468917Z",
     "start_time": "2019-07-24T22:30:31.055869Z"
    },
    "scrolled": false
   },
   "outputs": [],
   "source": [
    "# Plot the yearly groups as subplots\n",
    "temp_annual.plot(figsize = (16,8), subplots=True, legend=True)\n",
    "plt.show()"
   ]
  },
  {
   "cell_type": "markdown",
   "metadata": {},
   "source": [
    "You likely will have a hard time seeing exactly the temperature shift is throughout the year (if it even exists!)\n",
    "\n",
    "We can try plotting all the lines together to see if a pattern is more obvious in our visual."
   ]
  },
  {
   "cell_type": "markdown",
   "metadata": {},
   "source": [
    "##### Plotting all line plots in one plot"
   ]
  },
  {
   "cell_type": "code",
   "execution_count": null,
   "metadata": {
    "ExecuteTime": {
     "end_time": "2019-07-24T22:31:18.804579Z",
     "start_time": "2019-07-24T22:31:18.475782Z"
    }
   },
   "outputs": [],
   "source": [
    "# Plot overlapping yearly groups \n",
    "temp_annual.plot(figsize = (15,5), subplots=False, legend=True)\n",
    "plt.show()"
   ]
  },
  {
   "cell_type": "markdown",
   "metadata": {},
   "source": [
    "That's great we can see that the temperature decreases in the middle of the data! But now we sacrificed being able to observe any pattern for an individual year. \n",
    "\n",
    "This is where using a heat map can help visualize patterns throughout the year for temperature! And of course, the heat map can be used for more than just temperature related data."
   ]
  },
  {
   "cell_type": "markdown",
   "metadata": {},
   "source": [
    "##### And finally, using a heat map to visualize a pattern"
   ]
  },
  {
   "cell_type": "code",
   "execution_count": null,
   "metadata": {
    "ExecuteTime": {
     "end_time": "2019-07-24T22:32:32.050078Z",
     "start_time": "2019-07-24T22:32:31.883692Z"
    }
   },
   "outputs": [],
   "source": [
    "# Year and month \n",
    "year_matrix = temp_annual.T\n",
    "plt.matshow(year_matrix, interpolation=None, aspect='auto', cmap=plt.cm.Spectral_r)\n",
    "plt.show()"
   ]
  },
  {
   "cell_type": "markdown",
   "metadata": {},
   "source": [
    "☝🏼 Look at that beautiful visual pattern! Makes me want to weep with joy for all the information density available to us!"
   ]
  }
 ],
 "metadata": {
  "kernelspec": {
   "display_name": "Python 3",
   "language": "python",
   "name": "python3"
  },
  "language_info": {
   "codemirror_mode": {
    "name": "ipython",
    "version": 3
   },
   "file_extension": ".py",
   "mimetype": "text/x-python",
   "name": "python",
   "nbconvert_exporter": "python",
   "pygments_lexer": "ipython3",
   "version": "3.7.1"
  },
  "toc": {
   "base_numbering": 1,
   "nav_menu": {},
   "number_sections": true,
   "sideBar": true,
   "skip_h1_title": false,
   "title_cell": "Table of Contents",
   "title_sidebar": "Contents",
   "toc_cell": true,
   "toc_position": {},
   "toc_section_display": true,
   "toc_window_display": true
  },
  "varInspector": {
   "cols": {
    "lenName": 16,
    "lenType": 16,
    "lenVar": 40
   },
   "kernels_config": {
    "python": {
     "delete_cmd_postfix": "",
     "delete_cmd_prefix": "del ",
     "library": "var_list.py",
     "varRefreshCmd": "print(var_dic_list())"
    },
    "r": {
     "delete_cmd_postfix": ") ",
     "delete_cmd_prefix": "rm(",
     "library": "var_list.r",
     "varRefreshCmd": "cat(var_dic_list()) "
    }
   },
   "types_to_exclude": [
    "module",
    "function",
    "builtin_function_or_method",
    "instance",
    "_Feature"
   ],
   "window_display": false
  }
 },
 "nbformat": 4,
 "nbformat_minor": 2
}
