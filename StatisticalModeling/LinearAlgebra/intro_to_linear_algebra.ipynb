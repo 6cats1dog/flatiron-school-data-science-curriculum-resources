{
 "cells": [
  {
   "cell_type": "code",
   "execution_count": null,
   "metadata": {},
   "outputs": [],
   "source": [
    "# Imports needed for this notebook\n",
    "import numpy as np"
   ]
  },
  {
   "cell_type": "markdown",
   "metadata": {},
   "source": [
    "# What & Why of Linear Algebra\n",
    "\n",
    "- Study of \"vector spaces\"; relationship of **linear** relationships\n",
    "- Uses vectors, matrices, and tensors\n",
    "- Mapping & dimensionality (PCA)\n",
    "- Used in lots of ML applications\n",
    "\n",
    "\n",
    "We'll try to put abstract ideas into the formalism of linear algebra\n",
    " - images/pixels\n",
    " - language (NLP)\n"
   ]
  },
  {
   "cell_type": "markdown",
   "metadata": {},
   "source": [
    "# Different Tensors"
   ]
  },
  {
   "cell_type": "markdown",
   "metadata": {},
   "source": [
    "## Scalars, Vectors, Matrices: It's all about the dimension"
   ]
  },
  {
   "cell_type": "markdown",
   "metadata": {},
   "source": [
    "![different_tensors.png](different_tensors.png)"
   ]
  },
  {
   "cell_type": "markdown",
   "metadata": {},
   "source": [
    "## Creating with NumPy"
   ]
  },
  {
   "cell_type": "code",
   "execution_count": null,
   "metadata": {},
   "outputs": [],
   "source": [
    "# Scalar\n",
    "s = np.arange(1)\n",
    "display(s)"
   ]
  },
  {
   "cell_type": "code",
   "execution_count": null,
   "metadata": {},
   "outputs": [],
   "source": [
    "# Vector\n",
    "v = np.arange(4)\n",
    "display(v)\n",
    "\n",
    "# Other ways to define vector\n",
    "x = np.linspace(-np.pi, np.pi, 10)\n",
    "display(x)"
   ]
  },
  {
   "cell_type": "code",
   "execution_count": null,
   "metadata": {},
   "outputs": [],
   "source": [
    "# Matrix\n",
    "M = np.arange(4 * 2).reshape((4, 2))\n",
    "display(M)"
   ]
  },
  {
   "cell_type": "code",
   "execution_count": null,
   "metadata": {},
   "outputs": [],
   "source": [
    "# 3D Tensor\n",
    "T_3d = np.arange(4 * 2 * 3).reshape((4, 2, 3))\n",
    "display(T_3d)"
   ]
  },
  {
   "cell_type": "markdown",
   "metadata": {},
   "source": [
    "### Indexing with NumPy"
   ]
  },
  {
   "cell_type": "markdown",
   "metadata": {},
   "source": [
    "#### Different parts of a vector"
   ]
  },
  {
   "cell_type": "code",
   "execution_count": null,
   "metadata": {},
   "outputs": [],
   "source": [
    "# For Vectors\n",
    "display(v[1:4])  # second to fourth element. Element 5 is not included\n",
    "display(v[::2])  # every other element\n",
    "display(v[:])    # print the whole vector\n",
    "display(v[::-1]) # reverse the vector!"
   ]
  },
  {
   "cell_type": "markdown",
   "metadata": {},
   "source": [
    "#### Different parts of a matrix"
   ]
  },
  {
   "cell_type": "code",
   "execution_count": null,
   "metadata": {},
   "outputs": [],
   "source": [
    "print(M[0, 0])   # element at first row and first column\n",
    "print(M[-1, -1]) # elemenet last row and last column \n",
    "print(M[0, :])   # first row and all columns\n",
    "print(M[:, 0])   # all rows and first column \n",
    "print(M[:])      # all rows and all columns"
   ]
  },
  {
   "cell_type": "markdown",
   "metadata": {},
   "source": [
    "#### Different parts of a tensor"
   ]
  },
  {
   "cell_type": "code",
   "execution_count": null,
   "metadata": {},
   "outputs": [],
   "source": [
    "print(T_3d[0])      # 2D: First matrix\n",
    "print(T_3d[0, 0])   # 1D: First matrix's first vector\n",
    "print(T_3d[0,0, 0]) # 0D: First matrix's first vector's first element"
   ]
  },
  {
   "cell_type": "code",
   "execution_count": null,
   "metadata": {},
   "outputs": [],
   "source": [
    "print(T_3d[0, 0, :])  # 1D: first matrix, first vector, all elements"
   ]
  },
  {
   "cell_type": "code",
   "execution_count": null,
   "metadata": {},
   "outputs": [],
   "source": [
    "print(T_3d[0, :, 0])  # 1D: first matrix, all the vectors, just the fist element"
   ]
  },
  {
   "cell_type": "code",
   "execution_count": null,
   "metadata": {},
   "outputs": [],
   "source": [
    "print(T_3d[0, :, 1:]) # 1D: first matrix, all the vectors, all elements after the first"
   ]
  },
  {
   "cell_type": "markdown",
   "metadata": {},
   "source": [
    "# Basic Properties"
   ]
  },
  {
   "cell_type": "markdown",
   "metadata": {},
   "source": [
    "## Shape\n",
    "\n",
    "Can help us know the dimensions and size"
   ]
  },
  {
   "cell_type": "code",
   "execution_count": null,
   "metadata": {},
   "outputs": [],
   "source": [
    "print('Scalar:')\n",
    "s = np.array(100)\n",
    "print(s)\n",
    "display(s.shape)\n",
    "display(s.size)"
   ]
  },
  {
   "cell_type": "code",
   "execution_count": null,
   "metadata": {},
   "outputs": [],
   "source": [
    "print('Vector:')\n",
    "print(v)\n",
    "display(v.shape)\n",
    "display(v.size)"
   ]
  },
  {
   "cell_type": "code",
   "execution_count": null,
   "metadata": {},
   "outputs": [],
   "source": [
    "print('Matrix:')\n",
    "print(M)\n",
    "display(M.shape)\n",
    "display(M.size)"
   ]
  },
  {
   "cell_type": "code",
   "execution_count": null,
   "metadata": {},
   "outputs": [],
   "source": [
    "print('3D Tensor:')\n",
    "print(T_3d)\n",
    "display(T_3d.shape)\n",
    "display(T_3d.size)"
   ]
  },
  {
   "cell_type": "markdown",
   "metadata": {},
   "source": [
    "## Transpose"
   ]
  },
  {
   "cell_type": "markdown",
   "metadata": {},
   "source": [
    "![transpose_tensors.png](transpose_tensors.png)"
   ]
  },
  {
   "cell_type": "code",
   "execution_count": null,
   "metadata": {},
   "outputs": [],
   "source": [
    "display(M.shape)\n",
    "print(M)\n",
    "\n",
    "display(M.T.shape)\n",
    "# Alternative to: M.T\n",
    "print(np.transpose(M))"
   ]
  },
  {
   "cell_type": "code",
   "execution_count": null,
   "metadata": {},
   "outputs": [],
   "source": [
    "display(T_3d.shape)\n",
    "print(T_3d)\n",
    "\n",
    "display(T_3d.T.shape)\n",
    "print(T_3d.T)"
   ]
  }
 ],
 "metadata": {
  "kernelspec": {
   "display_name": "Python 3",
   "language": "python",
   "name": "python3"
  },
  "language_info": {
   "codemirror_mode": {
    "name": "ipython",
    "version": 3
   },
   "file_extension": ".py",
   "mimetype": "text/x-python",
   "name": "python",
   "nbconvert_exporter": "python",
   "pygments_lexer": "ipython3",
   "version": "3.7.1"
  }
 },
 "nbformat": 4,
 "nbformat_minor": 2
}
