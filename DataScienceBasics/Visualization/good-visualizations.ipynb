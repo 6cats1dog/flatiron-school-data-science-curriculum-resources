{
 "cells": [
  {
   "cell_type": "markdown",
   "metadata": {},
   "source": [
    "# Visualization DNA"
   ]
  },
  {
   "cell_type": "markdown",
   "metadata": {},
   "source": [
    "We want our visualization to convey information via aspects humans can distinguish"
   ]
  },
  {
   "cell_type": "markdown",
   "metadata": {},
   "source": [
    "## Position"
   ]
  },
  {
   "cell_type": "markdown",
   "metadata": {},
   "source": [
    "Where the data resides\n",
    "\n",
    "+ Scatter plots\n",
    "![](https://www.kaggleusercontent.com/kf/5832509/eyJhbGciOiJkaXIiLCJlbmMiOiJBMTI4Q0JDLUhTMjU2In0..n0tjJgzTH3cxy5OETDu8zQ.Q-wIPo-n9umjKH2HO3_xYlkoh7fAlQE14aHlldfjifSxrzwlPskfGKPBs3xDhCgCT9YMraAiA9UXec6u-2l3KMxM9oTdnVvFjshMQxL5zxaGw5oaiuS1UE9h7XB59Owudl_z_WpbdZoZQG6GC3fF3914Wna0vLzi9VYXXaGojSA.DCaumsTN9G4fSIDcC6kyWg/__results___files/__results___27_1.png)"
   ]
  },
  {
   "cell_type": "markdown",
   "metadata": {
    "heading_collapsed": true
   },
   "source": [
    "## Length & Size"
   ]
  },
  {
   "cell_type": "markdown",
   "metadata": {
    "hidden": true
   },
   "source": [
    "Showing the effect (careful about area....)"
   ]
  },
  {
   "cell_type": "markdown",
   "metadata": {
    "hidden": true
   },
   "source": [
    "+ Bar charts\n",
    "![lobe percents](images/lobe-percent-bar.png)\n"
   ]
  },
  {
   "cell_type": "markdown",
   "metadata": {
    "hidden": true
   },
   "source": [
    "+ Stacked bar charts\n",
    "<img src='http://thedailyviz.com/wp-content/uploads/2012/08/guns-620x415.png'/>"
   ]
  },
  {
   "cell_type": "markdown",
   "metadata": {
    "hidden": true
   },
   "source": [
    "+ Scatter plot\n",
    "![](https://seaborn.pydata.org/_images/seaborn-scatterplot-8.png)"
   ]
  },
  {
   "cell_type": "markdown",
   "metadata": {
    "heading_collapsed": true
   },
   "source": [
    "## Shape"
   ]
  },
  {
   "cell_type": "markdown",
   "metadata": {
    "hidden": true
   },
   "source": [
    "Distinguish different points\n",
    "\n",
    "+ Scatter plots\n",
    "\n",
    "![](https://seaborn.pydata.org/_images/seaborn-scatterplot-14.png)"
   ]
  },
  {
   "cell_type": "markdown",
   "metadata": {
    "heading_collapsed": true
   },
   "source": [
    "## Color"
   ]
  },
  {
   "cell_type": "markdown",
   "metadata": {
    "hidden": true
   },
   "source": [
    "To draw specific findings (contrast)\n",
    "\n",
    "+ Scatter plots\n",
    "![](https://seaborn.pydata.org/_images/seaborn-scatterplot-2.png)\n",
    "\n",
    "+ Bar charts (sometimes....)\n",
    "![](https://www.kaggleusercontent.com/kf/5832509/eyJhbGciOiJkaXIiLCJlbmMiOiJBMTI4Q0JDLUhTMjU2In0..n0tjJgzTH3cxy5OETDu8zQ.Q-wIPo-n9umjKH2HO3_xYlkoh7fAlQE14aHlldfjifSxrzwlPskfGKPBs3xDhCgCT9YMraAiA9UXec6u-2l3KMxM9oTdnVvFjshMQxL5zxaGw5oaiuS1UE9h7XB59Owudl_z_WpbdZoZQG6GC3fF3914Wna0vLzi9VYXXaGojSA.DCaumsTN9G4fSIDcC6kyWg/__results___files/__results___31_1.png)\n",
    "\n",
    "![](https://seaborn.pydata.org/_images/seaborn-barplot-5.png)"
   ]
  },
  {
   "cell_type": "markdown",
   "metadata": {},
   "source": [
    "## Angle <--- ***DON'T USE THIS!!!***"
   ]
  },
  {
   "cell_type": "markdown",
   "metadata": {},
   "source": [
    "+ Pie Chart 🤬\n",
    "\n",
    "![](https://static1.squarespace.com/static/55b6a6dce4b089e11621d3ed/55b6d08fe4b0d8b921b02f83/55b6d0b6e4b0d8b921b03a36/1438044342911/1000w/)"
   ]
  },
  {
   "cell_type": "markdown",
   "metadata": {},
   "source": [
    "+ Donut Chart (pie charts in disguise!)\n",
    "\n",
    "![](https://policyviz.com/wp-content/uploads/2018/02/share-of-us-agricultural-exports-value-01-1140x700.png)"
   ]
  },
  {
   "cell_type": "markdown",
   "metadata": {},
   "source": [
    "+ Racetrack Chart\n",
    "\n",
    "![](https://i.stack.imgur.com/w4sB9.png)"
   ]
  },
  {
   "cell_type": "markdown",
   "metadata": {},
   "source": [
    "## Those smarties did their research!"
   ]
  },
  {
   "cell_type": "markdown",
   "metadata": {},
   "source": [
    "> Experts and researchers found the best visual patterns humans identify well:\n",
    "\n",
    "- Positional changes (scatter plots)\n",
    "- Length changes (bar charts)"
   ]
  },
  {
   "cell_type": "markdown",
   "metadata": {},
   "source": [
    "> But we're bad at understanding other patterns...\n",
    "\n",
    "- Color hue changes \n",
    "- Area changes (freaking pie charts!)"
   ]
  },
  {
   "cell_type": "markdown",
   "metadata": {},
   "source": [
    "# Make Good Visualizations By Not Making Bad Ones"
   ]
  },
  {
   "cell_type": "markdown",
   "metadata": {},
   "source": [
    "It's usually easier to spot bad statistics"
   ]
  },
  {
   "cell_type": "markdown",
   "metadata": {},
   "source": [
    "## At best they obscure, at worst they lie "
   ]
  },
  {
   "cell_type": "markdown",
   "metadata": {
    "heading_collapsed": true
   },
   "source": [
    "### Mislead"
   ]
  },
  {
   "cell_type": "markdown",
   "metadata": {
    "heading_collapsed": true
   },
   "source": [
    "### Hide data"
   ]
  },
  {
   "cell_type": "markdown",
   "metadata": {
    "hidden": true
   },
   "source": [
    "<img src='https://services.athlinks.com/wp-content/uploads/2014/12/Race_Registeration_Management.jpg' width=40%/>"
   ]
  },
  {
   "cell_type": "markdown",
   "metadata": {
    "heading_collapsed": true
   },
   "source": [
    "### Distract"
   ]
  },
  {
   "cell_type": "markdown",
   "metadata": {
    "hidden": true
   },
   "source": [
    "![](https://www.challies.com/wp-content/uploads/look-distraction.jpg)"
   ]
  },
  {
   "cell_type": "markdown",
   "metadata": {
    "heading_collapsed": true
   },
   "source": [
    "## The bible on bad statistics & visualizations "
   ]
  },
  {
   "cell_type": "markdown",
   "metadata": {
    "hidden": true
   },
   "source": [
    "[How to Lie with Statistics](http://faculty.neu.edu.cn/cc/zhangyf/papers/How-to-Lie-with-Statistics.pdf)\n",
    "\n",
    "<img src='https://s3-us-west-2.amazonaws.com/tabs.web.media/b/x/bxae/bxae-square-orig.jpg' width=50%/>"
   ]
  },
  {
   "cell_type": "markdown",
   "metadata": {
    "heading_collapsed": true
   },
   "source": [
    "# Specifically Look Out For"
   ]
  },
  {
   "cell_type": "markdown",
   "metadata": {
    "heading_collapsed": true,
    "hidden": true
   },
   "source": [
    "## Chart junk"
   ]
  },
  {
   "cell_type": "markdown",
   "metadata": {
    "hidden": true
   },
   "source": [
    "<img src='https://www.edwardtufte.com/bboard/images/00040Z-22525/BEp175.jpg' width=80%/>\n",
    "\n",
    "> Edward Tufte's **data-ink ratio**: \"data ink / everything ink\""
   ]
  },
  {
   "cell_type": "markdown",
   "metadata": {
    "hidden": true
   },
   "source": [
    "- Heavy grid lines\n",
    "- Unnecessary text\n",
    "- Pictures surrounding the visual\n",
    "- Shading or 3d components\n",
    "- Ornamented chart axes"
   ]
  },
  {
   "cell_type": "markdown",
   "metadata": {
    "heading_collapsed": true,
    "hidden": true
   },
   "source": [
    "## Misleading"
   ]
  },
  {
   "cell_type": "markdown",
   "metadata": {
    "hidden": true
   },
   "source": [
    "This visually looks like the **size** of the hurricane\n",
    "<img src='https://d.newsweek.com/en/full/680123/10-07-hurricane-nate-forecast.png?w=1600&h=1600&l=50&t=40&q=88&f=a1f617014b5c6d37ba26ffab5c1495df'/>"
   ]
  },
  {
   "cell_type": "markdown",
   "metadata": {
    "hidden": true
   },
   "source": [
    "> https://flowingdata.com/2017/02/09/how-to-spot-visualization-lies/"
   ]
  },
  {
   "cell_type": "markdown",
   "metadata": {
    "hidden": true
   },
   "source": [
    "### The Lie Factor"
   ]
  },
  {
   "cell_type": "markdown",
   "metadata": {
    "hidden": true
   },
   "source": [
    "![Lie Factor](https://datadepiction.files.wordpress.com/2016/04/liefactor_doctor.jpg)"
   ]
  },
  {
   "cell_type": "markdown",
   "metadata": {
    "hidden": true
   },
   "source": [
    "![](http://salespodder.com/wp-content/uploads/2015/01/foxnewsfail-bushtaxcuts.jpg)"
   ]
  },
  {
   "cell_type": "markdown",
   "metadata": {
    "heading_collapsed": true,
    "hidden": true
   },
   "source": [
    "### 3-D TVs Didn't Take Off; Time to Kill Off 3-D Visualizations"
   ]
  },
  {
   "cell_type": "markdown",
   "metadata": {
    "hidden": true
   },
   "source": [
    "![](https://camo.githubusercontent.com/bebc12d9a5896d50ce903d468b87fbca28598e5b/687474703a2f2f6661726d362e737461746963666c69636b722e636f6d2f353631322f31353830393732383039325f346365633061306462655f622e6a7067)"
   ]
  },
  {
   "cell_type": "markdown",
   "metadata": {
    "heading_collapsed": true,
    "hidden": true
   },
   "source": [
    "## Color"
   ]
  },
  {
   "cell_type": "markdown",
   "metadata": {
    "hidden": true
   },
   "source": [
    "### Tips for using color:"
   ]
  },
  {
   "cell_type": "markdown",
   "metadata": {
    "hidden": true
   },
   "source": [
    "#### start with black and white"
   ]
  },
  {
   "cell_type": "markdown",
   "metadata": {
    "hidden": true
   },
   "source": [
    "#### use less intense colors "
   ]
  },
  {
   "cell_type": "markdown",
   "metadata": {
    "hidden": true
   },
   "source": [
    "- not all the colors of the rainbow\n",
    "- easier on the eyes"
   ]
  },
  {
   "cell_type": "markdown",
   "metadata": {
    "heading_collapsed": true,
    "hidden": true
   },
   "source": [
    "#### communicate with color"
   ]
  },
  {
   "cell_type": "markdown",
   "metadata": {
    "hidden": true
   },
   "source": [
    "- highlight interesting groups\n",
    "- highlight your message\n",
    "\n",
    "![](https://upload.wikimedia.org/wikipedia/en/timeline/15833eb5fd215305b5408fa1b9db622f.png)"
   ]
  },
  {
   "cell_type": "markdown",
   "metadata": {
    "hidden": true
   },
   "source": [
    "#### don't add color for the sake of color"
   ]
  },
  {
   "cell_type": "markdown",
   "metadata": {
    "hidden": true
   },
   "source": [
    "### Color blindness"
   ]
  },
  {
   "cell_type": "markdown",
   "metadata": {
    "hidden": true
   },
   "source": [
    "Orange to blue scale (not red to green)\n",
    "\n",
    "<img src='https://cdns.tblsft.com/sites/default/files/blog/color2.png'/>\n",
    "\n",
    "https://www.tableau.com/about/blog/2016/4/examining-data-viz-rules-dont-use-red-green-together-53463"
   ]
  }
 ],
 "metadata": {
  "kernelspec": {
   "display_name": "Python 3",
   "language": "python",
   "name": "python3"
  },
  "language_info": {
   "codemirror_mode": {
    "name": "ipython",
    "version": 3
   },
   "file_extension": ".py",
   "mimetype": "text/x-python",
   "name": "python",
   "nbconvert_exporter": "python",
   "pygments_lexer": "ipython3",
   "version": "3.7.1"
  },
  "toc": {
   "base_numbering": 1,
   "nav_menu": {},
   "number_sections": true,
   "sideBar": true,
   "skip_h1_title": false,
   "title_cell": "Table of Contents",
   "title_sidebar": "Contents",
   "toc_cell": false,
   "toc_position": {},
   "toc_section_display": true,
   "toc_window_display": false
  },
  "varInspector": {
   "cols": {
    "lenName": 16,
    "lenType": 16,
    "lenVar": 40
   },
   "kernels_config": {
    "python": {
     "delete_cmd_postfix": "",
     "delete_cmd_prefix": "del ",
     "library": "var_list.py",
     "varRefreshCmd": "print(var_dic_list())"
    },
    "r": {
     "delete_cmd_postfix": ") ",
     "delete_cmd_prefix": "rm(",
     "library": "var_list.r",
     "varRefreshCmd": "cat(var_dic_list()) "
    }
   },
   "types_to_exclude": [
    "module",
    "function",
    "builtin_function_or_method",
    "instance",
    "_Feature"
   ],
   "window_display": false
  }
 },
 "nbformat": 4,
 "nbformat_minor": 2
}
