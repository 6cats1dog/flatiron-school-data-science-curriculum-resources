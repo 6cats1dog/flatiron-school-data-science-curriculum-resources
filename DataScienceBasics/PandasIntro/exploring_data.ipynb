{
 "cells": [
  {
   "cell_type": "markdown",
   "metadata": {
    "toc": true
   },
   "source": [
    "<h1>Table of Contents<span class=\"tocSkip\"></span></h1>\n",
    "<div class=\"toc\"><ul class=\"toc-item\"><li><span><a href=\"#Initial-Exploration-the-Data\" data-toc-modified-id=\"Initial-Exploration-the-Data-1\"><span class=\"toc-item-num\">1&nbsp;&nbsp;</span>Initial Exploration the Data</a></span></li><li><span><a href=\"#Missing-Data\" data-toc-modified-id=\"Missing-Data-2\"><span class=\"toc-item-num\">2&nbsp;&nbsp;</span>Missing Data</a></span><ul class=\"toc-item\"><li><span><a href=\"#Dealing-with-it\" data-toc-modified-id=\"Dealing-with-it-2.1\"><span class=\"toc-item-num\">2.1&nbsp;&nbsp;</span>Dealing with it</a></span><ul class=\"toc-item\"><li><span><a href=\"#Remove\" data-toc-modified-id=\"Remove-2.1.1\"><span class=\"toc-item-num\">2.1.1&nbsp;&nbsp;</span>Remove</a></span><ul class=\"toc-item\"><li><span><a href=\"#Drop-Columns\" data-toc-modified-id=\"Drop-Columns-2.1.1.1\"><span class=\"toc-item-num\">2.1.1.1&nbsp;&nbsp;</span>Drop Columns</a></span></li><li><span><a href=\"#Drop-Rows\" data-toc-modified-id=\"Drop-Rows-2.1.1.2\"><span class=\"toc-item-num\">2.1.1.2&nbsp;&nbsp;</span>Drop Rows</a></span></li></ul></li><li><span><a href=\"#Replace\" data-toc-modified-id=\"Replace-2.1.2\"><span class=\"toc-item-num\">2.1.2&nbsp;&nbsp;</span>Replace</a></span></li><li><span><a href=\"#Keep\" data-toc-modified-id=\"Keep-2.1.3\"><span class=\"toc-item-num\">2.1.3&nbsp;&nbsp;</span>Keep</a></span></li></ul></li><li><span><a href=\"#Example-code\" data-toc-modified-id=\"Example-code-2.2\"><span class=\"toc-item-num\">2.2&nbsp;&nbsp;</span>Example code</a></span></li></ul></li></ul></div>"
   ]
  },
  {
   "cell_type": "markdown",
   "metadata": {},
   "source": [
    "![](https://github.com/learn-co-students/dsc-1-01-04-the-data-science-process-online-ds-sp-000/raw/master/chart.png)"
   ]
  },
  {
   "cell_type": "markdown",
   "metadata": {
    "heading_collapsed": true
   },
   "source": [
    "# Initial Exploration the Data"
   ]
  },
  {
   "cell_type": "code",
   "execution_count": null,
   "metadata": {
    "ExecuteTime": {
     "end_time": "2019-08-18T02:51:21.272783Z",
     "start_time": "2019-08-18T02:51:20.955056Z"
    },
    "hidden": true,
    "scrolled": true
   },
   "outputs": [],
   "source": [
    "import pandas as pd\n",
    "import numpy as np\n",
    "df = pd.read_csv('data/titanic.csv')\n",
    "df.head()"
   ]
  },
  {
   "cell_type": "code",
   "execution_count": null,
   "metadata": {
    "ExecuteTime": {
     "end_time": "2019-08-18T02:51:21.281581Z",
     "start_time": "2019-08-18T02:51:21.274384Z"
    },
    "hidden": true
   },
   "outputs": [],
   "source": [
    "df.info()"
   ]
  },
  {
   "cell_type": "code",
   "execution_count": null,
   "metadata": {
    "ExecuteTime": {
     "end_time": "2019-08-18T02:51:21.342171Z",
     "start_time": "2019-08-18T02:51:21.282752Z"
    },
    "hidden": true,
    "scrolled": true
   },
   "outputs": [],
   "source": [
    "df.describe()"
   ]
  },
  {
   "cell_type": "code",
   "execution_count": null,
   "metadata": {
    "ExecuteTime": {
     "end_time": "2019-08-18T02:51:21.351108Z",
     "start_time": "2019-08-18T02:51:21.345486Z"
    },
    "hidden": true
   },
   "outputs": [],
   "source": [
    "df['Pclass'].value_counts()"
   ]
  },
  {
   "cell_type": "code",
   "execution_count": null,
   "metadata": {
    "ExecuteTime": {
     "end_time": "2019-08-18T02:51:21.360027Z",
     "start_time": "2019-08-18T02:51:21.353704Z"
    },
    "hidden": true
   },
   "outputs": [],
   "source": [
    "df['Survived'].unique()"
   ]
  },
  {
   "cell_type": "markdown",
   "metadata": {
    "heading_collapsed": true
   },
   "source": [
    "# Missing Data"
   ]
  },
  {
   "cell_type": "markdown",
   "metadata": {
    "hidden": true
   },
   "source": [
    "> Check out Jeff's walkthrough on finding missing data: https://www.youtube.com/watch?v=nDDB82-xrxI"
   ]
  },
  {
   "cell_type": "markdown",
   "metadata": {
    "hidden": true
   },
   "source": [
    "Why is this an issue?"
   ]
  },
  {
   "cell_type": "markdown",
   "metadata": {
    "heading_collapsed": true,
    "hidden": true
   },
   "source": [
    "## Dealing with it"
   ]
  },
  {
   "cell_type": "markdown",
   "metadata": {
    "heading_collapsed": true,
    "hidden": true
   },
   "source": [
    "### Remove"
   ]
  },
  {
   "cell_type": "markdown",
   "metadata": {
    "hidden": true
   },
   "source": [
    "We lose data!!!!"
   ]
  },
  {
   "cell_type": "markdown",
   "metadata": {
    "heading_collapsed": true,
    "hidden": true
   },
   "source": [
    "#### Drop Columns\n",
    "> https://pandas.pydata.org/pandas-docs/version/0.21/generated/pandas.DataFrame.drop.html\n",
    "\n",
    "If majority are missing --> Can affect our prediction\n",
    "\n",
    "\n",
    "```\n",
    "df.drop(columns=['B', 'C'])\n",
    "\n",
    "df.drop(['B', 'C'], axis=1)\n",
    "\n",
    "```"
   ]
  },
  {
   "cell_type": "markdown",
   "metadata": {
    "heading_collapsed": true,
    "hidden": true
   },
   "source": [
    "#### Drop Rows\n",
    "\n",
    "If we're not dropping many values probably alright\n",
    "\n",
    "\n",
    "\n",
    "\n",
    "```\n",
    "# Drop all rows with nulls\n",
    "df.dropna()\n",
    "```"
   ]
  },
  {
   "cell_type": "code",
   "execution_count": null,
   "metadata": {
    "ExecuteTime": {
     "end_time": "2019-08-18T02:51:21.368625Z",
     "start_time": "2019-08-18T02:51:21.361819Z"
    },
    "hidden": true
   },
   "outputs": [],
   "source": [
    "df_ex = pd.DataFrame(np.arange(5*4).reshape(5,4),\n",
    "                      columns=['A', 'B', 'C', 'D'])\n",
    "df_ex.head()"
   ]
  },
  {
   "cell_type": "code",
   "execution_count": null,
   "metadata": {
    "ExecuteTime": {
     "end_time": "2019-08-18T02:51:21.377755Z",
     "start_time": "2019-08-18T02:51:21.370830Z"
    },
    "hidden": true
   },
   "outputs": [],
   "source": [
    "# By index\n",
    "df_ex.drop([1,2])"
   ]
  },
  {
   "cell_type": "markdown",
   "metadata": {
    "heading_collapsed": true,
    "hidden": true
   },
   "source": [
    "### Replace"
   ]
  },
  {
   "cell_type": "markdown",
   "metadata": {
    "hidden": true
   },
   "source": [
    "Can fill it in with some value"
   ]
  },
  {
   "cell_type": "code",
   "execution_count": null,
   "metadata": {
    "ExecuteTime": {
     "end_time": "2019-08-18T02:51:21.387390Z",
     "start_time": "2019-08-18T02:51:21.379075Z"
    },
    "hidden": true,
    "scrolled": true
   },
   "outputs": [],
   "source": [
    "df['Fare'].fillna(df['Fare'].median())"
   ]
  },
  {
   "cell_type": "markdown",
   "metadata": {
    "heading_collapsed": true,
    "hidden": true
   },
   "source": [
    "### Keep"
   ]
  },
  {
   "cell_type": "markdown",
   "metadata": {
    "hidden": true
   },
   "source": [
    "What if it's useful to know it's missing"
   ]
  },
  {
   "cell_type": "markdown",
   "metadata": {
    "hidden": true
   },
   "source": [
    "- Make it as it's own category\n",
    "- Bin it for numberical ranges (creates a category)"
   ]
  },
  {
   "cell_type": "markdown",
   "metadata": {
    "heading_collapsed": true,
    "hidden": true
   },
   "source": [
    "## Example code"
   ]
  },
  {
   "cell_type": "code",
   "execution_count": null,
   "metadata": {
    "ExecuteTime": {
     "end_time": "2019-08-18T02:51:21.423981Z",
     "start_time": "2019-08-18T02:51:21.390216Z"
    },
    "hidden": true,
    "scrolled": true
   },
   "outputs": [],
   "source": [
    "df.isna()"
   ]
  },
  {
   "cell_type": "code",
   "execution_count": null,
   "metadata": {
    "ExecuteTime": {
     "end_time": "2019-08-18T02:51:21.432713Z",
     "start_time": "2019-08-18T02:51:21.426571Z"
    },
    "hidden": true
   },
   "outputs": [],
   "source": [
    "df.isna().sum()"
   ]
  }
 ],
 "metadata": {
  "kernelspec": {
   "display_name": "Python 3",
   "language": "python",
   "name": "python3"
  },
  "language_info": {
   "codemirror_mode": {
    "name": "ipython",
    "version": 3
   },
   "file_extension": ".py",
   "mimetype": "text/x-python",
   "name": "python",
   "nbconvert_exporter": "python",
   "pygments_lexer": "ipython3",
   "version": "3.7.1"
  },
  "toc": {
   "base_numbering": 1,
   "nav_menu": {},
   "number_sections": true,
   "sideBar": true,
   "skip_h1_title": false,
   "title_cell": "Table of Contents",
   "title_sidebar": "Contents",
   "toc_cell": true,
   "toc_position": {},
   "toc_section_display": true,
   "toc_window_display": true
  },
  "varInspector": {
   "cols": {
    "lenName": 16,
    "lenType": 16,
    "lenVar": 40
   },
   "kernels_config": {
    "python": {
     "delete_cmd_postfix": "",
     "delete_cmd_prefix": "del ",
     "library": "var_list.py",
     "varRefreshCmd": "print(var_dic_list())"
    },
    "r": {
     "delete_cmd_postfix": ") ",
     "delete_cmd_prefix": "rm(",
     "library": "var_list.r",
     "varRefreshCmd": "cat(var_dic_list()) "
    }
   },
   "types_to_exclude": [
    "module",
    "function",
    "builtin_function_or_method",
    "instance",
    "_Feature"
   ],
   "window_display": false
  }
 },
 "nbformat": 4,
 "nbformat_minor": 2
}
