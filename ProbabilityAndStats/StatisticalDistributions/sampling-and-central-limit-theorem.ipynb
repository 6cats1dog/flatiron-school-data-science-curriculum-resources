{
 "cells": [
  {
   "cell_type": "markdown",
   "metadata": {},
   "source": [
    "# Our View of the World Isn't Perfect"
   ]
  },
  {
   "cell_type": "markdown",
   "metadata": {},
   "source": [
    "We don't have **perfect** information; life doesn't have an answer key\n",
    "\n",
    "<br/>\n",
    "\n",
    "![no answer in the back of the book meme](images/no-answers-in-back-of-book.jpg)"
   ]
  },
  {
   "cell_type": "markdown",
   "metadata": {},
   "source": [
    "## Why can't we we look at the whole population?"
   ]
  },
  {
   "cell_type": "markdown",
   "metadata": {},
   "source": [
    "1. Expensive\n",
    "2. Unrealistic\n",
    "3. We don't need it to gain insights!"
   ]
  },
  {
   "cell_type": "markdown",
   "metadata": {},
   "source": [
    "## A scenario"
   ]
  },
  {
   "cell_type": "markdown",
   "metadata": {},
   "source": [
    "Imagine a school and we want to know if they prefer chocolate over vanilla\n",
    "\n",
    "<img src='images/school.jpg' width=30%/>"
   ]
  },
  {
   "cell_type": "markdown",
   "metadata": {},
   "source": [
    "How many students would you really need to ask until you got the right idea of the school?"
   ]
  },
  {
   "cell_type": "markdown",
   "metadata": {},
   "source": [
    "# Sampling"
   ]
  },
  {
   "cell_type": "markdown",
   "metadata": {},
   "source": [
    "From a sample, we can get **point estimates**: estimates of the population parameters."
   ]
  },
  {
   "cell_type": "markdown",
   "metadata": {},
   "source": [
    "- Each sample will have it's own mean\n",
    "- Showing each sample mean, we will get a normal distribution!"
   ]
  },
  {
   "cell_type": "markdown",
   "metadata": {},
   "source": [
    "## Coding some samples"
   ]
  },
  {
   "cell_type": "code",
   "execution_count": null,
   "metadata": {
    "ExecuteTime": {
     "end_time": "2019-07-23T22:21:42.116318Z",
     "start_time": "2019-07-23T22:21:41.801408Z"
    }
   },
   "outputs": [],
   "source": [
    "import pandas as pd\n",
    "import numpy as np\n",
    "\n",
    "df = pd.read_csv('data/titanic.csv')"
   ]
  },
  {
   "cell_type": "code",
   "execution_count": null,
   "metadata": {
    "ExecuteTime": {
     "end_time": "2019-07-23T22:21:44.304199Z",
     "start_time": "2019-07-23T22:21:44.271932Z"
    }
   },
   "outputs": [],
   "source": [
    "display(df.info())\n",
    "df.head()"
   ]
  },
  {
   "cell_type": "code",
   "execution_count": null,
   "metadata": {
    "ExecuteTime": {
     "end_time": "2019-07-23T22:22:46.910603Z",
     "start_time": "2019-07-23T22:22:46.905163Z"
    }
   },
   "outputs": [],
   "source": [
    "all_ages = df['Age'].dropna()\n",
    "mean = all_ages.mean()\n",
    "print(f'There are {all_ages.size} people, average age is {mean :.1f}')"
   ]
  },
  {
   "cell_type": "code",
   "execution_count": null,
   "metadata": {
    "ExecuteTime": {
     "end_time": "2019-07-23T22:32:53.962852Z",
     "start_time": "2019-07-23T22:32:53.958430Z"
    }
   },
   "outputs": [],
   "source": [
    "# Take a random sample\n",
    "sample = all_ages.sample(n=100)#, random_state=27) #Take a sample of 50 people\n",
    "mean_s = sample.mean()\n",
    "\n",
    "calc_percent_error = lambda pop_mean, sample_mean: np.abs(sample_mean - pop_mean) / pop_mean\n",
    "    \n",
    "percent_err = calc_percent_error(mean, mean_s)\n",
    "\n",
    "print(f'The sample mean was {mean_s:.1f} with a percent error of {percent_err*100:.2f}%')"
   ]
  },
  {
   "cell_type": "code",
   "execution_count": null,
   "metadata": {
    "ExecuteTime": {
     "end_time": "2019-07-23T22:33:09.691133Z",
     "start_time": "2019-07-23T22:33:08.895109Z"
    }
   },
   "outputs": [],
   "source": [
    "import matplotlib.pyplot as plt\n",
    "import seaborn as sns\n",
    "%matplotlib inline\n",
    "\n",
    "# Repeatedly take samples and plot out sample means\n",
    "sample_means = []\n",
    "for i in range(10**3):\n",
    "    sample = all_ages.sample(n=30) \n",
    "    sample_means.append(sample.mean()) # Calculate the sample mean\n",
    "\n",
    "\n",
    "plt.hist(sample_means, bins=250);\n",
    "\n"
   ]
  },
  {
   "cell_type": "code",
   "execution_count": null,
   "metadata": {
    "ExecuteTime": {
     "end_time": "2019-07-23T22:33:12.300316Z",
     "start_time": "2019-07-23T22:33:12.297017Z"
    }
   },
   "outputs": [],
   "source": [
    "mean_of_means = np.mean(sample_means)\n",
    "\n",
    "print(f'The mean of sample means was {mean_of_means:.3f} vs the actual population mean {mean:.3f}')"
   ]
  },
  {
   "cell_type": "code",
   "execution_count": null,
   "metadata": {
    "ExecuteTime": {
     "end_time": "2019-07-23T22:33:15.083565Z",
     "start_time": "2019-07-23T22:33:15.079712Z"
    }
   },
   "outputs": [],
   "source": [
    "print(f'Percent error: {100*calc_percent_error(mean, mean_of_means):.2f}%')"
   ]
  },
  {
   "cell_type": "markdown",
   "metadata": {},
   "source": [
    "# Central Limit Theorem"
   ]
  },
  {
   "cell_type": "markdown",
   "metadata": {},
   "source": [
    "![](images/central-limit-theorem.png)"
   ]
  },
  {
   "cell_type": "markdown",
   "metadata": {},
   "source": [
    "Essentially tells us that as we take more samples from the population, we would approach the true population mean."
   ]
  },
  {
   "cell_type": "markdown",
   "metadata": {},
   "source": [
    "We can compare our one sample and compare it to our predicted population mean (from the distribution of sample means usually)."
   ]
  },
  {
   "cell_type": "markdown",
   "metadata": {},
   "source": [
    "If our sample mean is very different, we are either very lucky/unlucky or there is something fundamentally different about our sample!\n",
    "\n",
    "![](images/something-is-different.png)"
   ]
  },
  {
   "cell_type": "markdown",
   "metadata": {},
   "source": [
    "## Visual Example from Learn"
   ]
  },
  {
   "cell_type": "markdown",
   "metadata": {},
   "source": [
    "![](images/sampling-example-from-learn.png)\n",
    "\n",
    "> As more in sample, we stay close to the mean"
   ]
  }
 ],
 "metadata": {
  "kernelspec": {
   "display_name": "Python 3",
   "language": "python",
   "name": "python3"
  },
  "language_info": {
   "codemirror_mode": {
    "name": "ipython",
    "version": 3
   },
   "file_extension": ".py",
   "mimetype": "text/x-python",
   "name": "python",
   "nbconvert_exporter": "python",
   "pygments_lexer": "ipython3",
   "version": "3.6.6"
  },
  "toc": {
   "base_numbering": 1,
   "nav_menu": {},
   "number_sections": true,
   "sideBar": true,
   "skip_h1_title": false,
   "title_cell": "Table of Contents",
   "title_sidebar": "Contents",
   "toc_cell": false,
   "toc_position": {},
   "toc_section_display": true,
   "toc_window_display": false
  },
  "varInspector": {
   "cols": {
    "lenName": 16,
    "lenType": 16,
    "lenVar": 40
   },
   "kernels_config": {
    "python": {
     "delete_cmd_postfix": "",
     "delete_cmd_prefix": "del ",
     "library": "var_list.py",
     "varRefreshCmd": "print(var_dic_list())"
    },
    "r": {
     "delete_cmd_postfix": ") ",
     "delete_cmd_prefix": "rm(",
     "library": "var_list.r",
     "varRefreshCmd": "cat(var_dic_list()) "
    }
   },
   "types_to_exclude": [
    "module",
    "function",
    "builtin_function_or_method",
    "instance",
    "_Feature"
   ],
   "window_display": false
  }
 },
 "nbformat": 4,
 "nbformat_minor": 2
}
