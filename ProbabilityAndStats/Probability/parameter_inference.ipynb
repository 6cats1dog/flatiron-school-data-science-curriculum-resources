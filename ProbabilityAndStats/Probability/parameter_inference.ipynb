{
 "cells": [
  {
   "cell_type": "markdown",
   "metadata": {},
   "source": [
    "# Maximum Likelihood Estimation (MLE)"
   ]
  },
  {
   "cell_type": "markdown",
   "metadata": {},
   "source": [
    "probabilistically inferring parameter(s) for a model"
   ]
  },
  {
   "cell_type": "markdown",
   "metadata": {},
   "source": [
    "**\"The i.i.d. assumption\" i.e. Independent and Identically distributed**\n",
    "- independence assumption\n",
    "- identically distributed (each event has same parameters)"
   ]
  },
  {
   "cell_type": "markdown",
   "metadata": {},
   "source": [
    "$\\prod_{i=1}^{N} P_i(E = e_i | \\theta_i) = \\prod_{i=1}^{N} P(E = e_i | \\theta) $"
   ]
  },
  {
   "cell_type": "markdown",
   "metadata": {},
   "source": [
    "Note limitations based on the data we have"
   ]
  },
  {
   "cell_type": "markdown",
   "metadata": {},
   "source": [
    "## Finding The Maximum"
   ]
  },
  {
   "cell_type": "markdown",
   "metadata": {},
   "source": [
    "Get a $f(\\theta)$ and find the critical point & test for maximum"
   ]
  },
  {
   "cell_type": "markdown",
   "metadata": {},
   "source": [
    "**Find critical point**\n",
    "\n",
    "solve for the value of theta: $\\theta_c$\n",
    "\n",
    "$\\frac{df}{d\\theta} = 0$"
   ]
  },
  {
   "cell_type": "markdown",
   "metadata": {},
   "source": [
    "**Is it at a maximum**\n",
    "\n",
    "$\\frac{d^2f}{d\\theta^2}\\Bigr|_{\\theta_c} > 0 $"
   ]
  },
  {
   "cell_type": "markdown",
   "metadata": {},
   "source": [
    "### Make it simple with $ln$"
   ]
  },
  {
   "cell_type": "markdown",
   "metadata": {},
   "source": [
    "$g(\\theta) = \\frac{d}{d\\theta}ln(\\prod_{i=1}^{N} P(E = e_i | \\theta))$\n",
    "$$\\theta_{MLE} = \\underset{\\theta}{\\operatorname{argmax}}g(\\theta)$$"
   ]
  },
  {
   "cell_type": "markdown",
   "metadata": {},
   "source": [
    "# Maximum A Posteriori (MAP) Estimation"
   ]
  },
  {
   "cell_type": "markdown",
   "metadata": {},
   "source": [
    "**With Bayes’ rule, the posterior is a product of likelihood and prior** :\n",
    "\n",
    "\\begin{align}\n",
    "    P(\\theta|X) = \\frac{P(X|\\theta)P(X)}{P(\\theta)} ~~~~ \\text{this follows from Bayes' Theorem of conditional probabilities}\n",
    "\\end{align}\n",
    "\n",
    "\\begin{align}\n",
    "    P(\\theta|X) ∝ P(X|\\theta)P(X)~~~~ \\text{ignoring the normalization constant}\n",
    "\\end{align}"
   ]
  },
  {
   "cell_type": "markdown",
   "metadata": {},
   "source": [
    "$$\\theta_{MAP} = \\underset{\\theta}{\\operatorname{argmax}}P(X | \\theta)P(\\theta)$$\n",
    "$$\\theta_{MAP} = \\underset{\\theta}{\\operatorname{argmax}}  \\underset{i}{\\operatorname{\\sum}}  \\log  P(x_i | \\theta)P(\\theta)$$"
   ]
  },
  {
   "cell_type": "markdown",
   "metadata": {},
   "source": [
    "weight coming from the Prior P(θ)"
   ]
  },
  {
   "cell_type": "markdown",
   "metadata": {},
   "source": [
    "**NOTE:** MLE is a special case of MAP, where the prior is uniform"
   ]
  }
 ],
 "metadata": {
  "kernelspec": {
   "display_name": "Python 3",
   "language": "python",
   "name": "python3"
  },
  "language_info": {
   "codemirror_mode": {
    "name": "ipython",
    "version": 3
   },
   "file_extension": ".py",
   "mimetype": "text/x-python",
   "name": "python",
   "nbconvert_exporter": "python",
   "pygments_lexer": "ipython3",
   "version": "3.6.6"
  }
 },
 "nbformat": 4,
 "nbformat_minor": 2
}
