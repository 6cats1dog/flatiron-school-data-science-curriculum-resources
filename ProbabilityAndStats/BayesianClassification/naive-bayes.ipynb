{
 "cells": [
  {
   "cell_type": "markdown",
   "metadata": {},
   "source": [
    "# MLE with Normal Distributions"
   ]
  },
  {
   "cell_type": "markdown",
   "metadata": {},
   "source": [
    "Recall:\n",
    "\n",
    "$$\\ell(\\theta) = \\frac{1}{m} \\sum_{i=1}^m \\log P(x_i|\\theta)$$\n",
    "\n",
    "Normal PDF:\n",
    "$$L(x) = \\frac{1}{\\sqrt{2  \\pi  \\sigma^2}}\\prod_{i=1}^n\\exp\\frac{(x_i-\\mu)^2}{2\\sigma^2}$$ "
   ]
  },
  {
   "cell_type": "markdown",
   "metadata": {},
   "source": [
    "$$\\log(L(x)) = \\ell(x) ∝ \\sum_{i=1}^{n} - (x_i - \\mu)^2$$"
   ]
  },
  {
   "cell_type": "markdown",
   "metadata": {},
   "source": [
    "$$\\mu_{MLE} = \\frac{\\sum_{i=1}^{n}x_i}{n} $$\n",
    "\n",
    "\n",
    "$$\\sigma_{MLE}^2 = \\frac{\\sum_{i=1}^{n}(x_i - \\mu_{MLE})^2}{n} $$"
   ]
  },
  {
   "cell_type": "markdown",
   "metadata": {},
   "source": [
    "# Aside: Supervised Learning (Classification)"
   ]
  },
  {
   "cell_type": "markdown",
   "metadata": {},
   "source": [
    "Relies on categorizing (compared to using linear regression)"
   ]
  },
  {
   "cell_type": "markdown",
   "metadata": {},
   "source": [
    "Does not refer to the _degree_ of classification (\"this email is more _spammy_ than this one but they're both spam\")"
   ]
  },
  {
   "cell_type": "markdown",
   "metadata": {},
   "source": [
    "# Bayes Theorem"
   ]
  },
  {
   "cell_type": "markdown",
   "metadata": {},
   "source": [
    "Diagram of Events A & B such that R"
   ]
  },
  {
   "cell_type": "markdown",
   "metadata": {},
   "source": [
    "Want to find $P(A\\cap R)$ ==> Will travel along the diagram"
   ]
  },
  {
   "cell_type": "markdown",
   "metadata": {},
   "source": [
    "Prior: $P(R|A)$ ==> The split"
   ]
  },
  {
   "cell_type": "markdown",
   "metadata": {},
   "source": [
    "Posterior: $P(A|R)$ ==> the events on the tree"
   ]
  },
  {
   "cell_type": "markdown",
   "metadata": {},
   "source": [
    "## Example of Reasoning with Bayes Theorem"
   ]
  },
  {
   "cell_type": "markdown",
   "metadata": {},
   "source": [
    "We test positive for a sickness"
   ]
  },
  {
   "cell_type": "markdown",
   "metadata": {},
   "source": [
    "# Naive Bayes Classifier"
   ]
  },
  {
   "cell_type": "markdown",
   "metadata": {},
   "source": [
    "Form of supervised learning"
   ]
  },
  {
   "cell_type": "markdown",
   "metadata": {},
   "source": [
    "Scenario (detecting SPAM)"
   ]
  },
  {
   "cell_type": "markdown",
   "metadata": {},
   "source": [
    "## Naive Assumption"
   ]
  },
  {
   "cell_type": "markdown",
   "metadata": {},
   "source": [
    "$P(A\\cap B) = P(A)\\ P(B)$ only if independent (in practice makes sense)"
   ]
  },
  {
   "cell_type": "markdown",
   "metadata": {},
   "source": [
    "Conditional Probability:\n",
    "\n",
    "$$P(A|B)\\ P(B)\\ =\\ P(B|A)\\ P(A)$$\n",
    "$$P(A|B)\\ \\propto \\ P(B|A)\\ P(A)$$"
   ]
  },
  {
   "cell_type": "markdown",
   "metadata": {},
   "source": [
    "## Classification Example"
   ]
  },
  {
   "cell_type": "markdown",
   "metadata": {},
   "source": [
    "### Use Bayes Theorem"
   ]
  },
  {
   "cell_type": "markdown",
   "metadata": {},
   "source": [
    "Spam:\n",
    "\n",
    "$$ P(spam\\ |\"buy\",\\ \"cash\") \\propto P(\"buy\",\\ \"cash\"|\\ spam)\\ P(spam)$$"
   ]
  },
  {
   "cell_type": "markdown",
   "metadata": {},
   "source": [
    "Ham:\n",
    "\n",
    "$$ P(ham\\ |\"buy\",\\ \"cash\") \\propto P(\"buy\",\\ \"cash\"|\\ ham)\\ P(ham)$$"
   ]
  },
  {
   "cell_type": "markdown",
   "metadata": {},
   "source": [
    "### Use naive assumption to split!"
   ]
  },
  {
   "cell_type": "markdown",
   "metadata": {},
   "source": [
    "### Find the proportion\n",
    "\n",
    "- Normalize!\n",
    "\n",
    "$$ P(ham\\ |\"buy\",\\ \"cash\") = \\frac{P(ham\\ |\"buy\",\\ \"cash\")}{P(ham\\ |\"buy\",\\ \"cash\")\\ +\\ P(spam\\ |\"buy\",\\ \"cash\")}$$"
   ]
  },
  {
   "cell_type": "markdown",
   "metadata": {},
   "source": [
    "## Overview steps/summary"
   ]
  },
  {
   "cell_type": "markdown",
   "metadata": {},
   "source": [
    "1. Get a list of words that are known to be spam/ham\n",
    "2. Write out $P(spam\\ | word_0,\\ word_1,\\ ...)$\n",
    "3. Use Bayes Theorem to get the propotional to part\n",
    "4. Use the naive assumption to split\n",
    "5. Normalize to get actual probability"
   ]
  }
 ],
 "metadata": {
  "kernelspec": {
   "display_name": "Python 3",
   "language": "python",
   "name": "python3"
  },
  "language_info": {
   "codemirror_mode": {
    "name": "ipython",
    "version": 3
   },
   "file_extension": ".py",
   "mimetype": "text/x-python",
   "name": "python",
   "nbconvert_exporter": "python",
   "pygments_lexer": "ipython3",
   "version": "3.6.6"
  }
 },
 "nbformat": 4,
 "nbformat_minor": 2
}
