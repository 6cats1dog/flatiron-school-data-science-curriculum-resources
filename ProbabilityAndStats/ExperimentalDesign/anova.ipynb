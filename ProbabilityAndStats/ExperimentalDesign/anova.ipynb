{
 "cells": [
  {
   "cell_type": "markdown",
   "metadata": {
    "toc": true
   },
   "source": [
    "<h1>Table of Contents<span class=\"tocSkip\"></span></h1>\n",
    "<div class=\"toc\"><ul class=\"toc-item\"><li><span><a href=\"#ANOVA---An-Acronym,-Not-a-Stellar-Object\" data-toc-modified-id=\"ANOVA---An-Acronym,-Not-a-Stellar-Object-1\"><span class=\"toc-item-num\">1&nbsp;&nbsp;</span>ANOVA - An Acronym, Not a Stellar Object</a></span><ul class=\"toc-item\"><li><span><a href=\"#How-it-works---(let's-try-to-avoid-some-math)\" data-toc-modified-id=\"How-it-works---(let's-try-to-avoid-some-math)-1.1\"><span class=\"toc-item-num\">1.1&nbsp;&nbsp;</span>How it works - (let's try to avoid some math)</a></span><ul class=\"toc-item\"><li><span><a href=\"#How-much-the-groups-vary\" data-toc-modified-id=\"How-much-the-groups-vary-1.1.1\"><span class=\"toc-item-num\">1.1.1&nbsp;&nbsp;</span>How much the groups vary</a></span></li><li><span><a href=\"#How-much-do-the-groups-vary-from-within\" data-toc-modified-id=\"How-much-do-the-groups-vary-from-within-1.1.2\"><span class=\"toc-item-num\">1.1.2&nbsp;&nbsp;</span>How much do the groups vary from within</a></span></li><li><span><a href=\"#Calculate-F-statistic\" data-toc-modified-id=\"Calculate-F-statistic-1.1.3\"><span class=\"toc-item-num\">1.1.3&nbsp;&nbsp;</span>Calculate F-statistic</a></span></li></ul></li><li><span><a href=\"#Assumptions\" data-toc-modified-id=\"Assumptions-1.2\"><span class=\"toc-item-num\">1.2&nbsp;&nbsp;</span>Assumptions</a></span></li></ul></li><li><span><a href=\"#Code-It-Up!\" data-toc-modified-id=\"Code-It-Up!-2\"><span class=\"toc-item-num\">2&nbsp;&nbsp;</span>Code It Up!</a></span></li></ul></div>"
   ]
  },
  {
   "cell_type": "markdown",
   "metadata": {},
   "source": [
    "# ANOVA - An Acronym, Not a Stellar Object "
   ]
  },
  {
   "cell_type": "markdown",
   "metadata": {},
   "source": [
    "_Well, it is pretty stellar but not in the space sense_\n",
    "\n",
    "> Stands for \"analysis of variance\""
   ]
  },
  {
   "cell_type": "markdown",
   "metadata": {},
   "source": [
    "Looking to explain the variance as a combination\n",
    "\n",
    "> test all the things!"
   ]
  },
  {
   "cell_type": "markdown",
   "metadata": {},
   "source": [
    "## How it works - (let's try to avoid some math)"
   ]
  },
  {
   "cell_type": "markdown",
   "metadata": {},
   "source": [
    "Like all tests, we calculate a statistic (F-ratio or F-statistic) to get a p-value to compare with the critical value"
   ]
  },
  {
   "cell_type": "markdown",
   "metadata": {},
   "source": [
    "### How much the groups vary "
   ]
  },
  {
   "cell_type": "markdown",
   "metadata": {},
   "source": [
    "the between-group sum of squares\n",
    "\n",
    "$SS$: Residuals from the mean (all the groups together)"
   ]
  },
  {
   "cell_type": "markdown",
   "metadata": {},
   "source": [
    "### How much do the groups vary from within "
   ]
  },
  {
   "cell_type": "markdown",
   "metadata": {},
   "source": [
    "within-group sums of squares\n",
    "\n",
    "$SS_{resid}$: Each group's residuals summed"
   ]
  },
  {
   "cell_type": "markdown",
   "metadata": {},
   "source": [
    "### Calculate F-statistic"
   ]
  },
  {
   "cell_type": "markdown",
   "metadata": {},
   "source": [
    "Kinda-Ratio: $$\\frac{SS_{mean}-SS_{resid}}{SS_{resid}}$$\n",
    "\n",
    "\n",
    "This is (basically) the ratio to find the F-statistic but we haven't included degrees of freedom and such\n",
    "\n",
    "Check out this source for more: https://pythonfordatascience.org/anova-python/"
   ]
  },
  {
   "cell_type": "markdown",
   "metadata": {},
   "source": [
    "## Assumptions "
   ]
  },
  {
   "cell_type": "markdown",
   "metadata": {},
   "source": [
    "1. The samples are independent.\n",
    "2. Each sample is from a normally distributed population.\n",
    "3. The population standard deviations of the groups are all equal. This property is known as homoscedasticity.\n",
    "\n",
    "No good? To another test! (Suggested Kruskal-Wallis H-test but less power)"
   ]
  },
  {
   "cell_type": "markdown",
   "metadata": {},
   "source": [
    "# Code It Up!"
   ]
  },
  {
   "cell_type": "markdown",
   "metadata": {},
   "source": [
    "SciPy time: https://docs.scipy.org/doc/scipy/reference/generated/scipy.stats.f_oneway.html"
   ]
  },
  {
   "cell_type": "code",
   "execution_count": null,
   "metadata": {
    "ExecuteTime": {
     "end_time": "2019-07-30T19:13:41.710933Z",
     "start_time": "2019-07-30T19:13:41.389708Z"
    }
   },
   "outputs": [],
   "source": [
    "import scipy.stats as stats\n",
    "\n",
    "tillamook = [0.0571, 0.0813, 0.0831, 0.0976, 0.0817, 0.0859, 0.0735,\n",
    "             0.0659, 0.0923, 0.0836]\n",
    "newport = [0.0873, 0.0662, 0.0672, 0.0819, 0.0749, 0.0649, 0.0835,\n",
    "           0.0725]\n",
    "petersburg = [0.0974, 0.1352, 0.0817, 0.1016, 0.0968, 0.1064, 0.105]\n",
    "magadan = [0.1033, 0.0915, 0.0781, 0.0685, 0.0677, 0.0697, 0.0764,\n",
    "           0.0689]\n",
    "tvarminne = [0.0703, 0.1026, 0.0956, 0.0973, 0.1039, 0.1045]"
   ]
  },
  {
   "cell_type": "code",
   "execution_count": 2,
   "metadata": {
    "ExecuteTime": {
     "end_time": "2019-07-30T19:23:00.237103Z",
     "start_time": "2019-07-30T19:23:00.232867Z"
    }
   },
   "outputs": [
    {
     "data": {
      "text/plain": [
       "F_onewayResult(statistic=7.121019471642447, pvalue=0.0002812242314534544)"
      ]
     },
     "execution_count": 2,
     "metadata": {},
     "output_type": "execute_result"
    }
   ],
   "source": [
    "stats.f_oneway(tillamook, newport, petersburg, magadan, tvarminne)"
   ]
  },
  {
   "cell_type": "code",
   "execution_count": 3,
   "metadata": {
    "ExecuteTime": {
     "end_time": "2019-07-30T19:23:07.710604Z",
     "start_time": "2019-07-30T19:23:07.706266Z"
    }
   },
   "outputs": [
    {
     "data": {
      "text/plain": [
       "F_onewayResult(statistic=7.121019471642442, pvalue=0.000281224231453457)"
      ]
     },
     "execution_count": 3,
     "metadata": {},
     "output_type": "execute_result"
    }
   ],
   "source": [
    "stats.f_oneway(newport, petersburg, magadan, tvarminne, tillamook)"
   ]
  }
 ],
 "metadata": {
  "kernelspec": {
   "display_name": "Python 3",
   "language": "python",
   "name": "python3"
  },
  "language_info": {
   "codemirror_mode": {
    "name": "ipython",
    "version": 3
   },
   "file_extension": ".py",
   "mimetype": "text/x-python",
   "name": "python",
   "nbconvert_exporter": "python",
   "pygments_lexer": "ipython3",
   "version": "3.6.6"
  },
  "toc": {
   "base_numbering": 1,
   "nav_menu": {},
   "number_sections": true,
   "sideBar": true,
   "skip_h1_title": false,
   "title_cell": "Table of Contents",
   "title_sidebar": "Contents",
   "toc_cell": true,
   "toc_position": {
    "height": "calc(100% - 180px)",
    "left": "10px",
    "top": "150px",
    "width": "172px"
   },
   "toc_section_display": true,
   "toc_window_display": true
  },
  "varInspector": {
   "cols": {
    "lenName": 16,
    "lenType": 16,
    "lenVar": 40
   },
   "kernels_config": {
    "python": {
     "delete_cmd_postfix": "",
     "delete_cmd_prefix": "del ",
     "library": "var_list.py",
     "varRefreshCmd": "print(var_dic_list())"
    },
    "r": {
     "delete_cmd_postfix": ") ",
     "delete_cmd_prefix": "rm(",
     "library": "var_list.r",
     "varRefreshCmd": "cat(var_dic_list()) "
    }
   },
   "types_to_exclude": [
    "module",
    "function",
    "builtin_function_or_method",
    "instance",
    "_Feature"
   ],
   "window_display": false
  }
 },
 "nbformat": 4,
 "nbformat_minor": 2
}
