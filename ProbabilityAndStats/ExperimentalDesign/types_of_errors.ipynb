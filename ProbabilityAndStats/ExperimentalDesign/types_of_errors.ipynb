{
 "cells": [
  {
   "cell_type": "markdown",
   "metadata": {
    "toc": true
   },
   "source": [
    "<h1>Table of Contents<span class=\"tocSkip\"></span></h1>\n",
    "<div class=\"toc\"><ul class=\"toc-item\"><li><span><a href=\"#We-All-Make-Mistakes\" data-toc-modified-id=\"We-All-Make-Mistakes-1\"><span class=\"toc-item-num\">1&nbsp;&nbsp;</span>We All Make Mistakes</a></span></li><li><span><a href=\"#When-We-Get-it-Right\" data-toc-modified-id=\"When-We-Get-it-Right-2\"><span class=\"toc-item-num\">2&nbsp;&nbsp;</span>When We Get it Right</a></span><ul class=\"toc-item\"><li><span><a href=\"#True-Positives-&amp;-True-Negatives\" data-toc-modified-id=\"True-Positives-&amp;-True-Negatives-2.1\"><span class=\"toc-item-num\">2.1&nbsp;&nbsp;</span>True Positives &amp; True Negatives</a></span></li></ul></li><li><span><a href=\"#When-We-Get-it-Wrong\" data-toc-modified-id=\"When-We-Get-it-Wrong-3\"><span class=\"toc-item-num\">3&nbsp;&nbsp;</span>When We Get it Wrong</a></span><ul class=\"toc-item\"><li><span><a href=\"#False-Positives---Type-1\" data-toc-modified-id=\"False-Positives---Type-1-3.1\"><span class=\"toc-item-num\">3.1&nbsp;&nbsp;</span>False Positives - Type 1</a></span></li><li><span><a href=\"#False-Negatives---Type-2\" data-toc-modified-id=\"False-Negatives---Type-2-3.2\"><span class=\"toc-item-num\">3.2&nbsp;&nbsp;</span>False Negatives - Type 2</a></span></li></ul></li><li><span><a href=\"#So-Which-Type-Should-I-Care-About?\" data-toc-modified-id=\"So-Which-Type-Should-I-Care-About?-4\"><span class=\"toc-item-num\">4&nbsp;&nbsp;</span>So Which Type Should I Care About?</a></span></li></ul></div>"
   ]
  },
  {
   "cell_type": "markdown",
   "metadata": {
    "heading_collapsed": true
   },
   "source": [
    "# We All Make Mistakes"
   ]
  },
  {
   "cell_type": "markdown",
   "metadata": {
    "hidden": true
   },
   "source": [
    "Statistics is a field of imperfect knowledge: we don't know the **_truth_**, we use what we know\n",
    "\n",
    "We make mistakes ¯\\\\\\_(ツ)\\_/¯ <!--markdown shrug-->\n",
    "\n",
    "But it's important to know what _kind of mistakes_ we're making in our process"
   ]
  },
  {
   "cell_type": "markdown",
   "metadata": {
    "heading_collapsed": true
   },
   "source": [
    "# When We Get it Right"
   ]
  },
  {
   "cell_type": "markdown",
   "metadata": {
    "heading_collapsed": true,
    "hidden": true
   },
   "source": [
    "## True Positives & True Negatives"
   ]
  },
  {
   "cell_type": "markdown",
   "metadata": {
    "hidden": true
   },
   "source": [
    "- Sensitivity: True Positives\n",
    "- Specificity: True Negatives\n",
    "\n",
    "https://en.wikipedia.org/wiki/Sensitivity_and_specificity"
   ]
  },
  {
   "cell_type": "markdown",
   "metadata": {
    "hidden": true
   },
   "source": [
    "![](https://upload.wikimedia.org/wikipedia/commons/thumb/e/e7/Sensitivity_and_specificity.svg/350px-Sensitivity_and_specificity.svg.png)"
   ]
  },
  {
   "cell_type": "markdown",
   "metadata": {
    "heading_collapsed": true
   },
   "source": [
    "# When We Get it Wrong"
   ]
  },
  {
   "cell_type": "markdown",
   "metadata": {
    "heading_collapsed": true,
    "hidden": true
   },
   "source": [
    "## False Positives - Type 1"
   ]
  },
  {
   "cell_type": "markdown",
   "metadata": {
    "hidden": true
   },
   "source": [
    "You've probably heard this the most (doctor TV shows; grey's anatomy anyone?)\n",
    "We denote this with $\\alpha$ (hey I know you!)\n",
    "\n",
    "Basically says how much wrongly classified as True\n",
    "Usually about 0.05 but depends on the field/experiment!"
   ]
  },
  {
   "cell_type": "markdown",
   "metadata": {
    "heading_collapsed": true,
    "hidden": true
   },
   "source": [
    "## False Negatives - Type 2"
   ]
  },
  {
   "cell_type": "markdown",
   "metadata": {
    "hidden": true
   },
   "source": [
    "We denote this with $\\beta$ (the **2nd** type of errors → the **2nd** greek letter)\n",
    "Usually about 0.2"
   ]
  },
  {
   "cell_type": "markdown",
   "metadata": {
    "heading_collapsed": true
   },
   "source": [
    "# So Which Type Should I Care About?"
   ]
  },
  {
   "cell_type": "markdown",
   "metadata": {
    "hidden": true
   },
   "source": [
    "It depends!\n",
    "\n",
    "\n",
    "- Pregnancy\n",
    "- Disease\n",
    "- The justice system"
   ]
  }
 ],
 "metadata": {
  "kernelspec": {
   "display_name": "Python 3",
   "language": "python",
   "name": "python3"
  },
  "language_info": {
   "codemirror_mode": {
    "name": "ipython",
    "version": 3
   },
   "file_extension": ".py",
   "mimetype": "text/x-python",
   "name": "python",
   "nbconvert_exporter": "python",
   "pygments_lexer": "ipython3",
   "version": "3.6.6"
  },
  "toc": {
   "base_numbering": 1,
   "nav_menu": {},
   "number_sections": true,
   "sideBar": true,
   "skip_h1_title": false,
   "title_cell": "Table of Contents",
   "title_sidebar": "Contents",
   "toc_cell": true,
   "toc_position": {
    "height": "calc(100% - 180px)",
    "left": "10px",
    "top": "150px",
    "width": "204px"
   },
   "toc_section_display": true,
   "toc_window_display": true
  },
  "varInspector": {
   "cols": {
    "lenName": 16,
    "lenType": 16,
    "lenVar": 40
   },
   "kernels_config": {
    "python": {
     "delete_cmd_postfix": "",
     "delete_cmd_prefix": "del ",
     "library": "var_list.py",
     "varRefreshCmd": "print(var_dic_list())"
    },
    "r": {
     "delete_cmd_postfix": ") ",
     "delete_cmd_prefix": "rm(",
     "library": "var_list.r",
     "varRefreshCmd": "cat(var_dic_list()) "
    }
   },
   "types_to_exclude": [
    "module",
    "function",
    "builtin_function_or_method",
    "instance",
    "_Feature"
   ],
   "window_display": false
  }
 },
 "nbformat": 4,
 "nbformat_minor": 2
}
