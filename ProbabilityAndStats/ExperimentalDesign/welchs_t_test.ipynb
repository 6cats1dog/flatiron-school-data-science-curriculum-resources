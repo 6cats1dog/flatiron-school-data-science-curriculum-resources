{
 "cells": [
  {
   "cell_type": "markdown",
   "metadata": {
    "toc": true
   },
   "source": [
    "<h1>Table of Contents<span class=\"tocSkip\"></span></h1>\n",
    "<div class=\"toc\"><ul class=\"toc-item\"><li><span><a href=\"#Welch's-t-Test:-When-a-Student-Isn't-Enough\" data-toc-modified-id=\"Welch's-t-Test:-When-a-Student-Isn't-Enough-1\"><span class=\"toc-item-num\">1&nbsp;&nbsp;</span>Welch's t-Test: When a Student Isn't Enough</a></span><ul class=\"toc-item\"><li><span><a href=\"#Enter-Welch:\" data-toc-modified-id=\"Enter-Welch:-1.1\"><span class=\"toc-item-num\">1.1&nbsp;&nbsp;</span>Enter Welch:</a></span></li><li><span><a href=\"#Trigger-Warning:-Formulae-Ahead\" data-toc-modified-id=\"Trigger-Warning:-Formulae-Ahead-1.2\"><span class=\"toc-item-num\">1.2&nbsp;&nbsp;</span>Trigger Warning: Formulae Ahead</a></span><ul class=\"toc-item\"><li><span><a href=\"#Finding-the-t-value-(t-statistic)---from-curriculum:\" data-toc-modified-id=\"Finding-the-t-value-(t-statistic)---from-curriculum:-1.2.1\"><span class=\"toc-item-num\">1.2.1&nbsp;&nbsp;</span>Finding the t-value (t-statistic) - from curriculum:</a></span></li><li><span><a href=\"#Finding-the-degrees-of-freedom---from-curriculum:\" data-toc-modified-id=\"Finding-the-degrees-of-freedom---from-curriculum:-1.2.2\"><span class=\"toc-item-num\">1.2.2&nbsp;&nbsp;</span>Finding the degrees of freedom - from curriculum:</a></span></li></ul></li></ul></li><li><span><a href=\"#Code-Example\" data-toc-modified-id=\"Code-Example-2\"><span class=\"toc-item-num\">2&nbsp;&nbsp;</span>Code Example</a></span></li></ul></div>"
   ]
  },
  {
   "cell_type": "markdown",
   "metadata": {
    "heading_collapsed": true
   },
   "source": [
    "# Welch's t-Test: When a Student Isn't Enough"
   ]
  },
  {
   "cell_type": "markdown",
   "metadata": {
    "hidden": true
   },
   "source": [
    "https://en.wikipedia.org/wiki/Welch%27s_t-test\n",
    "\n",
    "Student's t-test we used assumed sample sizes & variation are the same for samples"
   ]
  },
  {
   "cell_type": "markdown",
   "metadata": {
    "heading_collapsed": true,
    "hidden": true
   },
   "source": [
    "## Enter Welch: "
   ]
  },
  {
   "cell_type": "markdown",
   "metadata": {
    "hidden": true
   },
   "source": [
    "Adjust for difference for the t-statistic"
   ]
  },
  {
   "cell_type": "markdown",
   "metadata": {
    "heading_collapsed": true,
    "hidden": true
   },
   "source": [
    "## Trigger Warning: Formulae Ahead"
   ]
  },
  {
   "cell_type": "markdown",
   "metadata": {
    "heading_collapsed": true,
    "hidden": true
   },
   "source": [
    "### Finding the t-value (t-statistic) - from curriculum: "
   ]
  },
  {
   "cell_type": "markdown",
   "metadata": {
    "hidden": true
   },
   "source": [
    "$ \\Large t = \\frac{\\bar{X_1}-\\bar{X_2}}{\\sqrt{\\frac{s_1^2}{N_1} + \\frac{s_2^2}{N_2}}} = \\frac{\\bar{X_1}-\\bar{X_2}}{\\sqrt{se_1^2+se_2^2}}$\n",
    "where  \n",
    "\n",
    "* $\\bar{X_i}$ - mean of sample i\n",
    "* $s_i$ - variance of sample i\n",
    "* $N_i$ - sample size of sample i  "
   ]
  },
  {
   "cell_type": "markdown",
   "metadata": {
    "heading_collapsed": true,
    "hidden": true
   },
   "source": [
    "### Finding the degrees of freedom - from curriculum: "
   ]
  },
  {
   "cell_type": "markdown",
   "metadata": {
    "hidden": true
   },
   "source": [
    "Note that degrees of freedom has changed for this test! (See ~scary~ misunderstood equation from curriculum)\n",
    "\n",
    "$ \\Large v \\approx \\frac{\\left( \\frac{s_1^2}{N_1} + \\frac{s_2^2}{N_2}\\right)^2}{\\frac{s_1^4}{N_1^2v_1} + \\frac{s_2^4}{N_2^2v_2}} $"
   ]
  },
  {
   "cell_type": "markdown",
   "metadata": {
    "hidden": true
   },
   "source": [
    "Once you got t-statistic (caught it!) ~battle it with~ compare it with your critical t-value (also $t^*$)\n",
    "\n",
    "Or alternatively, get the associated p-value and comapre it with your critical value $\\alpha$"
   ]
  },
  {
   "cell_type": "markdown",
   "metadata": {
    "heading_collapsed": true
   },
   "source": [
    "# Code Example"
   ]
  },
  {
   "cell_type": "markdown",
   "metadata": {
    "hidden": true
   },
   "source": [
    "You could do the full code yourself but we don't got time for that!\n",
    "\n",
    "https://docs.scipy.org/doc/scipy/reference/generated/scipy.stats.ttest_ind.html"
   ]
  },
  {
   "cell_type": "code",
   "execution_count": null,
   "metadata": {
    "ExecuteTime": {
     "end_time": "2019-07-30T18:24:35.582272Z",
     "start_time": "2019-07-30T18:24:35.578125Z"
    },
    "hidden": true
   },
   "outputs": [],
   "source": [
    "from scipy import stats"
   ]
  },
  {
   "cell_type": "code",
   "execution_count": null,
   "metadata": {
    "ExecuteTime": {
     "end_time": "2019-07-30T18:51:29.676304Z",
     "start_time": "2019-07-30T18:51:29.673018Z"
    },
    "hidden": true
   },
   "outputs": [],
   "source": [
    "def compare_student_welch(A, B):\n",
    "    '''\n",
    "    Find the Student's & Welch's t-values (t-statistics) & p-values from given\n",
    "    distributions A & B using a two-tail test.\n",
    "    '''\n",
    "    \n",
    "    # Note this is the two-sample t-test\n",
    "    students = stats.ttest_ind(A,B)\n",
    "    welchs = stats.ttest_ind(A,B, equal_var = False)\n",
    "\n",
    "    print(f'Our t-statistics (t-value):\\n')\n",
    "    print(f'Student\\'s {students[0]}  vs  Welch\\'s {welchs[0]}')\n",
    "    print(f'Difference Student - Welch: {students[0]- welchs[0]:.10f}')\n",
    "\n",
    "    print('Our p-value:\\n')\n",
    "    print(f'Student\\'s {students[1]}  vs  Welch\\'s {welchs[1]}')\n",
    "    print(f'Difference Student - Welch: {students[1]- welchs[1]:.10f}')"
   ]
  },
  {
   "cell_type": "code",
   "execution_count": null,
   "metadata": {
    "ExecuteTime": {
     "end_time": "2019-07-30T18:51:54.269892Z",
     "start_time": "2019-07-30T18:51:54.264940Z"
    },
    "hidden": true
   },
   "outputs": [],
   "source": [
    "# Cooking up some random, normalized data real quick 😋\n",
    "rvs1 = stats.norm.rvs(loc=5,scale=10,size=500)\n",
    "rvs2 = stats.norm.rvs(loc=5,scale=10,size=500)\n",
    "\n",
    "compare_student_welch(rvs1,rvs2)"
   ]
  }
 ],
 "metadata": {
  "kernelspec": {
   "display_name": "Python 3",
   "language": "python",
   "name": "python3"
  },
  "language_info": {
   "codemirror_mode": {
    "name": "ipython",
    "version": 3
   },
   "file_extension": ".py",
   "mimetype": "text/x-python",
   "name": "python",
   "nbconvert_exporter": "python",
   "pygments_lexer": "ipython3",
   "version": "3.6.6"
  },
  "toc": {
   "base_numbering": 1,
   "nav_menu": {},
   "number_sections": true,
   "sideBar": true,
   "skip_h1_title": false,
   "title_cell": "Table of Contents",
   "title_sidebar": "Contents",
   "toc_cell": true,
   "toc_position": {},
   "toc_section_display": true,
   "toc_window_display": true
  },
  "varInspector": {
   "cols": {
    "lenName": 16,
    "lenType": 16,
    "lenVar": 40
   },
   "kernels_config": {
    "python": {
     "delete_cmd_postfix": "",
     "delete_cmd_prefix": "del ",
     "library": "var_list.py",
     "varRefreshCmd": "print(var_dic_list())"
    },
    "r": {
     "delete_cmd_postfix": ") ",
     "delete_cmd_prefix": "rm(",
     "library": "var_list.r",
     "varRefreshCmd": "cat(var_dic_list()) "
    }
   },
   "types_to_exclude": [
    "module",
    "function",
    "builtin_function_or_method",
    "instance",
    "_Feature"
   ],
   "window_display": false
  }
 },
 "nbformat": 4,
 "nbformat_minor": 2
}
