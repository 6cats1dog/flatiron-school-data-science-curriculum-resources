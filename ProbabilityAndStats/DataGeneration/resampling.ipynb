{
 "cells": [
  {
   "cell_type": "markdown",
   "metadata": {},
   "source": [
    "# Resampling Methods\n",
    "\n",
    "Repeated subsamples from a sample\n",
    "\n",
    "Goal: gauge the confidence interval and variability of the point estimate for the population\n",
    "\n",
    "\n",
    "> https://young.physics.ucsc.edu/jackboot.pdf"
   ]
  },
  {
   "cell_type": "markdown",
   "metadata": {},
   "source": [
    "## Bootstrapping\n",
    "\n",
    "Random samples with replacement\n",
    "\n",
    "Sample from our original sample (m e t a)"
   ]
  },
  {
   "cell_type": "markdown",
   "metadata": {},
   "source": [
    "## Jackknife\n",
    "\n",
    "Samples by removing one or more, observations at a time\n",
    "\n",
    "Gives the same every time"
   ]
  },
  {
   "cell_type": "markdown",
   "metadata": {
    "ExecuteTime": {
     "end_time": "2019-07-10T04:20:42.097514Z",
     "start_time": "2019-07-10T04:20:42.094198Z"
    }
   },
   "source": [
    "### Example"
   ]
  },
  {
   "cell_type": "code",
   "execution_count": null,
   "metadata": {
    "ExecuteTime": {
     "end_time": "2019-07-10T04:58:59.913325Z",
     "start_time": "2019-07-10T04:58:59.764488Z"
    }
   },
   "outputs": [],
   "source": [
    "import numpy as np\n",
    "\n",
    "random_sample = np.pi/3 + np.random.normal(size=1000)"
   ]
  },
  {
   "cell_type": "code",
   "execution_count": null,
   "metadata": {
    "ExecuteTime": {
     "end_time": "2019-07-10T04:58:59.937595Z",
     "start_time": "2019-07-10T04:58:59.915362Z"
    }
   },
   "outputs": [],
   "source": [
    "# Note this has not been optimized\n",
    "jackknife_resample = []\n",
    "\n",
    "for i in range(len(random_sample)):\n",
    "    first_part = random_sample[0:i]\n",
    "    second_part = random_sample[i+1:]\n",
    "    # Make as one array\n",
    "    jackknife_resample.append(np.concatenate((first_part,second_part)))"
   ]
  },
  {
   "cell_type": "code",
   "execution_count": null,
   "metadata": {
    "ExecuteTime": {
     "end_time": "2019-07-10T05:00:35.658189Z",
     "start_time": "2019-07-10T05:00:35.654342Z"
    }
   },
   "outputs": [],
   "source": [
    "jackknife_resample[0].size"
   ]
  },
  {
   "cell_type": "markdown",
   "metadata": {},
   "source": [
    "## Permutation Tests\n",
    "\n",
    "Instead of assumed parameter distributions\n",
    "\n",
    "Essentially calculate the p-value from all the variations"
   ]
  }
 ],
 "metadata": {
  "kernelspec": {
   "display_name": "Python 3",
   "language": "python",
   "name": "python3"
  },
  "language_info": {
   "codemirror_mode": {
    "name": "ipython",
    "version": 3
   },
   "file_extension": ".py",
   "mimetype": "text/x-python",
   "name": "python",
   "nbconvert_exporter": "python",
   "pygments_lexer": "ipython3",
   "version": "3.6.6"
  },
  "toc": {
   "base_numbering": 1,
   "nav_menu": {},
   "number_sections": true,
   "sideBar": true,
   "skip_h1_title": false,
   "title_cell": "Table of Contents",
   "title_sidebar": "Contents",
   "toc_cell": false,
   "toc_position": {},
   "toc_section_display": true,
   "toc_window_display": false
  },
  "varInspector": {
   "cols": {
    "lenName": 16,
    "lenType": 16,
    "lenVar": 40
   },
   "kernels_config": {
    "python": {
     "delete_cmd_postfix": "",
     "delete_cmd_prefix": "del ",
     "library": "var_list.py",
     "varRefreshCmd": "print(var_dic_list())"
    },
    "r": {
     "delete_cmd_postfix": ") ",
     "delete_cmd_prefix": "rm(",
     "library": "var_list.r",
     "varRefreshCmd": "cat(var_dic_list()) "
    }
   },
   "types_to_exclude": [
    "module",
    "function",
    "builtin_function_or_method",
    "instance",
    "_Feature"
   ],
   "window_display": false
  }
 },
 "nbformat": 4,
 "nbformat_minor": 2
}
