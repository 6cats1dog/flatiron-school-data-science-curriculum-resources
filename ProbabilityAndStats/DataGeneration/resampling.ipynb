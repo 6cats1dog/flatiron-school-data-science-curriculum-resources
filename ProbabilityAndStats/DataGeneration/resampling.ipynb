{
 "cells": [
  {
   "cell_type": "markdown",
   "metadata": {},
   "source": [
    "# Resampling Methods\n",
    "\n",
    "Repeated subsamples from a sample\n",
    "\n",
    "Goal: gauge the confidence interval and variability of the point estimate for the population\n",
    "\n",
    "\n",
    "> https://young.physics.ucsc.edu/jackboot.pdf"
   ]
  },
  {
   "cell_type": "code",
   "execution_count": null,
   "metadata": {
    "ExecuteTime": {
     "end_time": "2019-07-10T19:00:43.485330Z",
     "start_time": "2019-07-10T19:00:43.482741Z"
    }
   },
   "outputs": [],
   "source": [
    "import numpy as np\n",
    "sample = np.random.normal(size=100) + np.pi/3"
   ]
  },
  {
   "cell_type": "markdown",
   "metadata": {
    "heading_collapsed": true
   },
   "source": [
    "## Bootstrapping\n",
    "\n",
    "Random samples with replacement\n",
    "\n",
    "Sample from our original sample (m e t a)"
   ]
  },
  {
   "cell_type": "markdown",
   "metadata": {
    "hidden": true
   },
   "source": [
    "### Example"
   ]
  },
  {
   "cell_type": "code",
   "execution_count": null,
   "metadata": {
    "ExecuteTime": {
     "end_time": "2019-07-10T19:00:45.222792Z",
     "start_time": "2019-07-10T19:00:45.217624Z"
    },
    "hidden": true
   },
   "outputs": [],
   "source": [
    "np.random.choice(sample, size=len(sample), replace=True)"
   ]
  },
  {
   "cell_type": "code",
   "execution_count": null,
   "metadata": {
    "ExecuteTime": {
     "end_time": "2019-07-10T19:01:33.625374Z",
     "start_time": "2019-07-10T19:01:33.619962Z"
    },
    "hidden": true
   },
   "outputs": [],
   "source": [
    "# Alternative\n",
    "\n",
    "# https://scikit-learn.org/stable/modules/generated/sklearn.utils.resample.html\n",
    "from sklearn.utils import resample\n",
    "\n",
    "resample(sample)"
   ]
  },
  {
   "cell_type": "markdown",
   "metadata": {
    "heading_collapsed": true
   },
   "source": [
    "## Jackknife"
   ]
  },
  {
   "cell_type": "markdown",
   "metadata": {
    "hidden": true
   },
   "source": [
    "Samples by removing one or more, observations at a time\n",
    "\n",
    "Gives the same every time"
   ]
  },
  {
   "cell_type": "markdown",
   "metadata": {
    "ExecuteTime": {
     "end_time": "2019-07-10T04:20:42.097514Z",
     "start_time": "2019-07-10T04:20:42.094198Z"
    },
    "hidden": true
   },
   "source": [
    "### Example"
   ]
  },
  {
   "cell_type": "code",
   "execution_count": null,
   "metadata": {
    "ExecuteTime": {
     "end_time": "2019-07-10T06:25:28.945134Z",
     "start_time": "2019-07-10T06:25:28.934661Z"
    },
    "hidden": true
   },
   "outputs": [],
   "source": [
    "# Note this has not been optimized\n",
    "jackknife_resample = []\n",
    "\n",
    "for i in range(len(random_sample)):\n",
    "    first_part = random_sample[0:i]\n",
    "    second_part = random_sample[i+1:]\n",
    "    # Make as one array\n",
    "    jackknife_resample.append(np.concatenate((first_part,second_part)))"
   ]
  },
  {
   "cell_type": "code",
   "execution_count": null,
   "metadata": {
    "ExecuteTime": {
     "end_time": "2019-07-10T06:25:28.957562Z",
     "start_time": "2019-07-10T06:25:28.947219Z"
    },
    "hidden": true
   },
   "outputs": [],
   "source": [
    "total = np.sum([sample.sum() for sample in jackknife_resample])"
   ]
  },
  {
   "cell_type": "code",
   "execution_count": null,
   "metadata": {
    "ExecuteTime": {
     "end_time": "2019-07-10T06:26:23.165692Z",
     "start_time": "2019-07-10T06:26:23.161287Z"
    },
    "hidden": true,
    "scrolled": true
   },
   "outputs": [],
   "source": [
    "total_avg = total / jackknife_resample.size\n",
    "avg_of_avgs = total_avg / (random_sample.size - 1)\n",
    "\n",
    "diff = np.pi/3 - avg_of_avgs\n",
    "diff"
   ]
  },
  {
   "cell_type": "markdown",
   "metadata": {},
   "source": [
    "## Permutation Tests"
   ]
  },
  {
   "cell_type": "markdown",
   "metadata": {},
   "source": [
    "Instead of assumed parameter distributions\n",
    "\n",
    "Essentially calculate the p-value from all the variations"
   ]
  },
  {
   "cell_type": "markdown",
   "metadata": {},
   "source": [
    "<!---We calculate the means (or other statistic) from a random sample -->\n",
    "\n",
    "1. Find observed difference of means (between A & B)\n",
    "2. Find the difference of means between all possible ways of splitting the samples\n",
    "    - pool the two A & B\n",
    "    - draw out samples of sizes n_A & n_B\n",
    "3. The probability that difference of means observed is different from the differences of the sample means\n",
    "    - depends on either 2 tail or 1 tail "
   ]
  }
 ],
 "metadata": {
  "kernelspec": {
   "display_name": "Python 3",
   "language": "python",
   "name": "python3"
  },
  "language_info": {
   "codemirror_mode": {
    "name": "ipython",
    "version": 3
   },
   "file_extension": ".py",
   "mimetype": "text/x-python",
   "name": "python",
   "nbconvert_exporter": "python",
   "pygments_lexer": "ipython3",
   "version": "3.6.6"
  },
  "toc": {
   "base_numbering": 1,
   "nav_menu": {},
   "number_sections": true,
   "sideBar": true,
   "skip_h1_title": false,
   "title_cell": "Table of Contents",
   "title_sidebar": "Contents",
   "toc_cell": false,
   "toc_position": {},
   "toc_section_display": true,
   "toc_window_display": false
  },
  "varInspector": {
   "cols": {
    "lenName": 16,
    "lenType": 16,
    "lenVar": 40
   },
   "kernels_config": {
    "python": {
     "delete_cmd_postfix": "",
     "delete_cmd_prefix": "del ",
     "library": "var_list.py",
     "varRefreshCmd": "print(var_dic_list())"
    },
    "r": {
     "delete_cmd_postfix": ") ",
     "delete_cmd_prefix": "rm(",
     "library": "var_list.r",
     "varRefreshCmd": "cat(var_dic_list()) "
    }
   },
   "types_to_exclude": [
    "module",
    "function",
    "builtin_function_or_method",
    "instance",
    "_Feature"
   ],
   "window_display": false
  }
 },
 "nbformat": 4,
 "nbformat_minor": 2
}
