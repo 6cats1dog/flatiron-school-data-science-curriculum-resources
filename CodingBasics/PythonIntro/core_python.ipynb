{
 "cells": [
  {
   "cell_type": "markdown",
   "metadata": {
    "toc": true
   },
   "source": [
    "<h1>Table of Contents<span class=\"tocSkip\"></span></h1>\n",
    "<div class=\"toc\"><ul class=\"toc-item\"><li><span><a href=\"#Objectives\" data-toc-modified-id=\"Objectives-1\"><span class=\"toc-item-num\">1&nbsp;&nbsp;</span>Objectives</a></span></li><li><span><a href=\"#Data-Types\" data-toc-modified-id=\"Data-Types-2\"><span class=\"toc-item-num\">2&nbsp;&nbsp;</span>Data Types</a></span><ul class=\"toc-item\"><li><span><a href=\"#Data-Types\" data-toc-modified-id=\"Data-Types-2.1\"><span class=\"toc-item-num\">2.1&nbsp;&nbsp;</span>Data Types</a></span></li><li><span><a href=\"#How-can-we-check-types?\" data-toc-modified-id=\"How-can-we-check-types?-2.2\"><span class=\"toc-item-num\">2.2&nbsp;&nbsp;</span>How can we check types?</a></span></li><li><span><a href=\"#String-methods\" data-toc-modified-id=\"String-methods-2.3\"><span class=\"toc-item-num\">2.3&nbsp;&nbsp;</span>String methods</a></span></li><li><span><a href=\"#f-strings\" data-toc-modified-id=\"f-strings-2.4\"><span class=\"toc-item-num\">2.4&nbsp;&nbsp;</span>f-strings</a></span></li></ul></li><li><span><a href=\"#Data-Structures\" data-toc-modified-id=\"Data-Structures-3\"><span class=\"toc-item-num\">3&nbsp;&nbsp;</span>Data Structures</a></span><ul class=\"toc-item\"><li><span><a href=\"#List\" data-toc-modified-id=\"List-3.1\"><span class=\"toc-item-num\">3.1&nbsp;&nbsp;</span>List</a></span><ul class=\"toc-item\"><li><span><a href=\"#List-Indexing\" data-toc-modified-id=\"List-Indexing-3.1.1\"><span class=\"toc-item-num\">3.1.1&nbsp;&nbsp;</span>List Indexing</a></span></li><li><span><a href=\"#List-Methods\" data-toc-modified-id=\"List-Methods-3.1.2\"><span class=\"toc-item-num\">3.1.2&nbsp;&nbsp;</span>List Methods</a></span></li></ul></li><li><span><a href=\"#Dictionaries\" data-toc-modified-id=\"Dictionaries-3.2\"><span class=\"toc-item-num\">3.2&nbsp;&nbsp;</span>Dictionaries</a></span></li></ul></li><li><span><a href=\"#Control-Flow\" data-toc-modified-id=\"Control-Flow-4\"><span class=\"toc-item-num\">4&nbsp;&nbsp;</span>Control Flow</a></span><ul class=\"toc-item\"><li><span><a href=\"#If-Statements\" data-toc-modified-id=\"If-Statements-4.1\"><span class=\"toc-item-num\">4.1&nbsp;&nbsp;</span>If Statements</a></span></li><li><span><a href=\"#for-loop-and-while-loops\" data-toc-modified-id=\"for-loop-and-while-loops-4.2\"><span class=\"toc-item-num\">4.2&nbsp;&nbsp;</span>for loop and while loops</a></span></li></ul></li></ul></div>"
   ]
  },
  {
   "cell_type": "markdown",
   "metadata": {
    "colab_type": "text",
    "heading_collapsed": true,
    "id": "lBdcZ_hR8EM3"
   },
   "source": [
    "# Objectives"
   ]
  },
  {
   "cell_type": "markdown",
   "metadata": {
    "colab_type": "text",
    "hidden": true,
    "id": "lBdcZ_hR8EM3"
   },
   "source": [
    "You will be able to:\n",
    "* Identify data types - strings, numbers, bool \n",
    "* Identify data structures - lists, dictionaries\n",
    "* Define use case for different control flow tools - if, for, while"
   ]
  },
  {
   "cell_type": "markdown",
   "metadata": {
    "colab_type": "text",
    "heading_collapsed": true,
    "id": "_EXFyEjq8EM2"
   },
   "source": [
    "# Data Types"
   ]
  },
  {
   "cell_type": "markdown",
   "metadata": {
    "colab_type": "text",
    "heading_collapsed": true,
    "hidden": true,
    "id": "Njy2HL7P8EM4"
   },
   "source": [
    "## Data Types"
   ]
  },
  {
   "cell_type": "code",
   "execution_count": null,
   "metadata": {
    "ExecuteTime": {
     "end_time": "2020-01-23T22:48:14.354919Z",
     "start_time": "2020-01-23T22:48:14.351502Z"
    },
    "colab": {},
    "colab_type": "code",
    "hidden": true,
    "id": "kO5KsQQt8EM6"
   },
   "outputs": [],
   "source": [
    "string = 'What is the meaning of life?'\n",
    "string2 = '525,600 minutes'\n",
    "number = 42.0\n",
    "another_num = 42\n",
    "_bool = False\n",
    "n = None"
   ]
  },
  {
   "cell_type": "code",
   "execution_count": null,
   "metadata": {
    "ExecuteTime": {
     "end_time": "2020-01-23T22:46:59.065612Z",
     "start_time": "2020-01-23T22:46:59.063336Z"
    },
    "colab": {},
    "colab_type": "code",
    "hidden": true,
    "id": "W0l6zDsh8EM8",
    "outputId": "713b196f-8258-4e1b-9064-16519d2a3632"
   },
   "outputs": [],
   "source": [
    "string1 = 'What is the meaning of life?'\n",
    "string1"
   ]
  },
  {
   "cell_type": "markdown",
   "metadata": {
    "heading_collapsed": true,
    "hidden": true
   },
   "source": [
    "## How can we check types?"
   ]
  },
  {
   "cell_type": "code",
   "execution_count": null,
   "metadata": {
    "ExecuteTime": {
     "end_time": "2020-01-23T22:49:09.347085Z",
     "start_time": "2020-01-23T22:49:09.339873Z"
    },
    "colab": {},
    "colab_type": "code",
    "hidden": true,
    "id": "YkM5sZL08ENA",
    "outputId": "ecc1368e-fa4c-45d7-a6ad-9f482c9f3121"
   },
   "outputs": [],
   "source": [
    "string1 + None"
   ]
  },
  {
   "cell_type": "markdown",
   "metadata": {
    "colab_type": "text",
    "heading_collapsed": true,
    "hidden": true,
    "id": "0urm7oKo8ENC"
   },
   "source": [
    "## String methods"
   ]
  },
  {
   "cell_type": "markdown",
   "metadata": {
    "colab_type": "text",
    "hidden": true,
    "id": "a2AfUEME8ENC"
   },
   "source": [
    "* .upper()\n",
    "* .lower()\n",
    "* .capitalize()\n",
    "* .title()\n"
   ]
  },
  {
   "cell_type": "code",
   "execution_count": null,
   "metadata": {
    "ExecuteTime": {
     "end_time": "2020-01-23T22:49:40.463166Z",
     "start_time": "2020-01-23T22:49:40.460313Z"
    },
    "colab": {},
    "colab_type": "code",
    "hidden": true,
    "id": "OEdEXkTZ8END",
    "outputId": "ed047f01-5e87-4172-b720-2b30ea3893a4",
    "scrolled": true
   },
   "outputs": [],
   "source": [
    "string.title()"
   ]
  },
  {
   "cell_type": "markdown",
   "metadata": {
    "heading_collapsed": true,
    "hidden": true
   },
   "source": [
    "## f-strings"
   ]
  },
  {
   "cell_type": "code",
   "execution_count": null,
   "metadata": {
    "ExecuteTime": {
     "end_time": "2020-01-23T22:50:53.748063Z",
     "start_time": "2020-01-23T22:50:53.742648Z"
    },
    "hidden": true
   },
   "outputs": [],
   "source": [
    "number"
   ]
  },
  {
   "cell_type": "code",
   "execution_count": null,
   "metadata": {
    "ExecuteTime": {
     "end_time": "2020-01-23T22:52:27.940299Z",
     "start_time": "2020-01-23T22:52:27.928733Z"
    },
    "hidden": true
   },
   "outputs": [],
   "source": [
    "f\"What is the meaning of life? {number + 1}\""
   ]
  },
  {
   "cell_type": "markdown",
   "metadata": {
    "colab_type": "text",
    "heading_collapsed": true,
    "id": "0Nd51W898ENI"
   },
   "source": [
    "# Data Structures"
   ]
  },
  {
   "cell_type": "markdown",
   "metadata": {
    "colab_type": "text",
    "hidden": true,
    "id": "f0nRhefJ8ENJ"
   },
   "source": [
    "* lists - []\n",
    "* dictionaries - {'key':'value'/value, }"
   ]
  },
  {
   "cell_type": "markdown",
   "metadata": {
    "heading_collapsed": true,
    "hidden": true
   },
   "source": [
    "## List"
   ]
  },
  {
   "cell_type": "markdown",
   "metadata": {
    "colab_type": "text",
    "heading_collapsed": true,
    "hidden": true,
    "id": "XDHoKqwN8ENJ"
   },
   "source": [
    "### List Indexing"
   ]
  },
  {
   "cell_type": "code",
   "execution_count": null,
   "metadata": {
    "ExecuteTime": {
     "end_time": "2020-01-23T22:55:33.424232Z",
     "start_time": "2020-01-23T22:55:33.418683Z"
    },
    "colab": {},
    "colab_type": "code",
    "hidden": true,
    "id": "SEuYfW188ENL"
   },
   "outputs": [],
   "source": [
    "top_travel_cities = ['Solta', 'Buenos Aires', 'Los Cabos', 'Walla Walla Valley', 'Marakesh', 'Albuquerque', 'Archipelago Sea', 'Iguazu Falls', 'Salina Island', 'Toronto', 'Pyeongchang']\n",
    "top_travel_cities"
   ]
  },
  {
   "cell_type": "code",
   "execution_count": null,
   "metadata": {
    "ExecuteTime": {
     "end_time": "2020-01-24T03:51:40.360623Z",
     "start_time": "2020-01-24T03:51:40.356976Z"
    },
    "colab": {},
    "colab_type": "code",
    "hidden": true,
    "id": "A1NY49sn8ENO",
    "outputId": "9d96eccc-9f5f-4795-efc8-b895a0ca0153"
   },
   "outputs": [],
   "source": [
    "top_travel_cities[0:5]"
   ]
  },
  {
   "cell_type": "code",
   "execution_count": null,
   "metadata": {
    "ExecuteTime": {
     "end_time": "2020-01-23T22:55:58.126281Z",
     "start_time": "2020-01-23T22:55:58.123732Z"
    },
    "hidden": true
   },
   "outputs": [],
   "source": [
    "len(top_travel_cities)"
   ]
  },
  {
   "cell_type": "code",
   "execution_count": null,
   "metadata": {
    "ExecuteTime": {
     "end_time": "2020-01-23T22:58:18.529644Z",
     "start_time": "2020-01-23T22:58:18.526499Z"
    },
    "hidden": true
   },
   "outputs": [],
   "source": [
    "top_travel_cities[0:5]"
   ]
  },
  {
   "cell_type": "code",
   "execution_count": null,
   "metadata": {
    "ExecuteTime": {
     "end_time": "2020-01-23T22:59:29.227410Z",
     "start_time": "2020-01-23T22:59:29.223218Z"
    },
    "hidden": true
   },
   "outputs": [],
   "source": [
    "top_travel_cities[::-2]"
   ]
  },
  {
   "cell_type": "markdown",
   "metadata": {
    "colab_type": "text",
    "heading_collapsed": true,
    "hidden": true,
    "id": "v0n2atNf8ENS"
   },
   "source": [
    "### List Methods"
   ]
  },
  {
   "cell_type": "markdown",
   "metadata": {
    "colab_type": "text",
    "hidden": true,
    "id": "CC5wrl3g8ENT"
   },
   "source": [
    "* .pop() - remove last element added\n",
    "* .append() - add element to end of list\n",
    "* .insert() - inserts new element\n",
    "* .remove() - remove element from list\n",
    "* .extend() - extends one list with elements from another "
   ]
  },
  {
   "cell_type": "code",
   "execution_count": null,
   "metadata": {
    "colab": {},
    "colab_type": "code",
    "hidden": true,
    "id": "dwck7gib8ENU",
    "outputId": "cc731387-5ccf-4836-9db0-a76288770d29"
   },
   "outputs": [],
   "source": [
    "#top_travel_cities.insert()\n",
    "a = [1, 2, 3]\n",
    "b = ['one', 'two', 'three']"
   ]
  },
  {
   "cell_type": "code",
   "execution_count": null,
   "metadata": {
    "colab": {},
    "colab_type": "code",
    "hidden": true,
    "id": "dwck7gib8ENU",
    "outputId": "cc731387-5ccf-4836-9db0-a76288770d29"
   },
   "outputs": [],
   "source": [
    "# .extend() exercise\n",
    "print('a', a)\n",
    "print('b', b)\n",
    "a.extend(b)\n",
    "print('new a', a)"
   ]
  },
  {
   "cell_type": "markdown",
   "metadata": {
    "heading_collapsed": true,
    "hidden": true
   },
   "source": [
    "## Dictionaries"
   ]
  },
  {
   "cell_type": "code",
   "execution_count": null,
   "metadata": {
    "hidden": true
   },
   "outputs": [],
   "source": []
  },
  {
   "cell_type": "markdown",
   "metadata": {
    "colab_type": "text",
    "heading_collapsed": true,
    "id": "H02JOSir8ENW"
   },
   "source": [
    "# Control Flow"
   ]
  },
  {
   "cell_type": "markdown",
   "metadata": {
    "colab_type": "text",
    "hidden": true,
    "id": "74QzWbVI8ENW"
   },
   "source": [
    "* for loop\n",
    "* while loop\n",
    "* if statement"
   ]
  },
  {
   "cell_type": "markdown",
   "metadata": {
    "heading_collapsed": true,
    "hidden": true
   },
   "source": [
    "## If Statements"
   ]
  },
  {
   "cell_type": "code",
   "execution_count": null,
   "metadata": {
    "colab": {},
    "colab_type": "code",
    "hidden": true,
    "id": "iyOZMLAN8ENX"
   },
   "outputs": [],
   "source": [
    "# if statements\n",
    "if condition_statement:\n",
    "    output (print_statement, return_statement, operation)\n",
    "elif:\n",
    "    output alternate\n",
    "else:\n",
    "    output last possibility"
   ]
  },
  {
   "cell_type": "markdown",
   "metadata": {
    "colab_type": "text",
    "heading_collapsed": true,
    "hidden": true,
    "id": "G4axt04I8ENZ"
   },
   "source": [
    "## for loop and while loops"
   ]
  },
  {
   "cell_type": "markdown",
   "metadata": {
    "colab_type": "text",
    "hidden": true,
    "id": "G4axt04I8ENZ"
   },
   "source": [
    "* for loop - iterate through a set\n",
    "* while loop - iterate through a condition"
   ]
  },
  {
   "cell_type": "code",
   "execution_count": null,
   "metadata": {
    "ExecuteTime": {
     "end_time": "2020-01-23T21:24:44.020469Z",
     "start_time": "2020-01-23T21:24:44.009511Z"
    },
    "colab": {},
    "colab_type": "code",
    "hidden": true,
    "id": "loW1OpUl8ENb"
   },
   "outputs": [],
   "source": [
    "# for memeber in _set:\n",
    "#     operation\n",
    "    \n",
    "# while condition(>,<.>=,<=,==):\n",
    "#     operation"
   ]
  },
  {
   "cell_type": "code",
   "execution_count": null,
   "metadata": {
    "colab": {},
    "colab_type": "code",
    "hidden": true,
    "id": "9YXa750F8ENe",
    "outputId": "9ba46bbd-4c12-419a-ec64-beb5447152f6"
   },
   "outputs": [],
   "source": [
    "lower_cities = [] # instatiate new list OUTSIDE of loop\n",
    "for city in top_travel_cities:\n",
    "    lower_cities.append(city.lower())\n",
    "print(lower_cities)"
   ]
  },
  {
   "cell_type": "code",
   "execution_count": null,
   "metadata": {
    "colab": {},
    "colab_type": "code",
    "hidden": true,
    "id": "vIfacz8o8ENf",
    "outputId": "dfff0be5-1adb-43b8-d9c9-c66b71cc7721"
   },
   "outputs": [],
   "source": [
    "i = 0             # set index for WHILE loop\n",
    "lower_cities = [] # instatiate new list OUTSIDE of loop\n",
    "#while i < 5:\n",
    "for city in top_travel_cities[:5]: # nested loops (ADVANCED!!!)\n",
    "    i += 1 # be careful with your indexer placement with nested loops!\n",
    "    lower_cities.append(city.lower())\n",
    "    print(lower_cities)"
   ]
  },
  {
   "cell_type": "code",
   "execution_count": null,
   "metadata": {
    "colab": {},
    "colab_type": "code",
    "hidden": true,
    "id": "xl0km-Cv8ENh",
    "outputId": "8b06c9de-d241-44b5-8035-48bd134fc213"
   },
   "outputs": [],
   "source": [
    "stop_number = 4\n",
    "while stop_number > 0:\n",
    "    print(stop_number)\n",
    "    stop_number -= 1\n",
    "print(\"The stop_number reached\", stop_number, \"so the while loop's condition became False and stopped execution\")"
   ]
  }
 ],
 "metadata": {
  "colab": {
   "name": "M01S01.ipynb",
   "provenance": [],
   "version": "0.3.2"
  },
  "kernelspec": {
   "display_name": "Python 3",
   "language": "python",
   "name": "python3"
  },
  "language_info": {
   "codemirror_mode": {
    "name": "ipython",
    "version": 3
   },
   "file_extension": ".py",
   "mimetype": "text/x-python",
   "name": "python",
   "nbconvert_exporter": "python",
   "pygments_lexer": "ipython3",
   "version": "3.7.1"
  },
  "toc": {
   "base_numbering": 1,
   "nav_menu": {},
   "number_sections": true,
   "sideBar": true,
   "skip_h1_title": false,
   "title_cell": "Table of Contents",
   "title_sidebar": "Contents",
   "toc_cell": true,
   "toc_position": {},
   "toc_section_display": true,
   "toc_window_display": true
  },
  "varInspector": {
   "cols": {
    "lenName": 16,
    "lenType": 16,
    "lenVar": 40
   },
   "kernels_config": {
    "python": {
     "delete_cmd_postfix": "",
     "delete_cmd_prefix": "del ",
     "library": "var_list.py",
     "varRefreshCmd": "print(var_dic_list())"
    },
    "r": {
     "delete_cmd_postfix": ") ",
     "delete_cmd_prefix": "rm(",
     "library": "var_list.r",
     "varRefreshCmd": "cat(var_dic_list()) "
    }
   },
   "types_to_exclude": [
    "module",
    "function",
    "builtin_function_or_method",
    "instance",
    "_Feature"
   ],
   "window_display": false
  }
 },
 "nbformat": 4,
 "nbformat_minor": 1
}
