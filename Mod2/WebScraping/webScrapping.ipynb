{
 "cells": [
  {
   "cell_type": "markdown",
   "metadata": {},
   "source": [
    "# Web Scraping Intro"
   ]
  },
  {
   "cell_type": "markdown",
   "metadata": {},
   "source": [
    "Ideally we want the data formatted for us but sometimes it's not clean.\n",
    "\n",
    "Usual order of preference:\n",
    "1. Direct access to formatted data (database, CSV, etc.)\n",
    "2. API call to get data\n",
    "3. Scrape the data\n",
    "4. Other sources...."
   ]
  },
  {
   "cell_type": "markdown",
   "metadata": {},
   "source": [
    "# HTML - HyperText Markup Language"
   ]
  },
  {
   "cell_type": "markdown",
   "metadata": {},
   "source": [
    "Essentially tells an application (web browser) what things should look like (**renders**)\n",
    "\n",
    "Backbone of almost everything you see on the web."
   ]
  },
  {
   "cell_type": "markdown",
   "metadata": {},
   "source": [
    "## Syntax\n",
    "\n",
    "Specialized XML"
   ]
  },
  {
   "cell_type": "markdown",
   "metadata": {},
   "source": [
    "### Tags\n",
    "\n",
    "Tags like `<p>` tell what the stuff is.\n",
    "So `<p>This is a paragraph</p>` informs that the stuff in the tag should be interpretted as a paragraph (whatever that means)"
   ]
  },
  {
   "cell_type": "markdown",
   "metadata": {},
   "source": [
    "### Attributes\n",
    "\n",
    "Go within tags to alter the content in the tags. \n",
    "\n",
    "For example, `<a href=\"google.com\">Click here for Google!</a>` tells the tag `<a>` (hyperlink tag) that the content should go to \"google.com\" when clicked. Here's what it looks like when rendered:\n",
    "\n",
    "> <a href=\"google.com\">Click here for Google!</a>"
   ]
  },
  {
   "cell_type": "markdown",
   "metadata": {},
   "source": [
    "### Comments\n",
    "\n",
    "Basically stuff that won't be rendered. \n",
    "\n",
    "Format:\n",
    "> `<!-- This is a comment and won't get rendered!-->`\n",
    "\n",
    "> \n",
    "> ```\n",
    "> <!-- This is a multiple\n",
    "> line commment\n",
    "> \n",
    "> \n",
    "> fancy\n",
    "> -->\n",
    "> ```\n",
    ">"
   ]
  },
  {
   "cell_type": "markdown",
   "metadata": {},
   "source": [
    "## HTML Document Structure (DOM)"
   ]
  },
  {
   "cell_type": "markdown",
   "metadata": {},
   "source": [
    "Always start with the declaration to explain it's HTML5:\n",
    "```\n",
    "<!DOCTYPE html>\n",
    "```\n",
    "\n",
    "Note that some will still render using HTML5 regardless"
   ]
  },
  {
   "cell_type": "markdown",
   "metadata": {},
   "source": [
    "Overall structure is the `<html>` document, then within is the `<head>` & `<body>`.\n",
    "\n",
    "* Head: meta data & other extras about the HTML document\n",
    "* Body: holds all the content of the page\n",
    "\n",
    "Example:\n",
    "```\n",
    "<!DOCTYPE html>\n",
    "<html>\n",
    "    <head>\n",
    "        <!-- metadata about the HTML document as a whole -->\n",
    "\n",
    "    </head>\n",
    "\n",
    "    <body>\n",
    "        <!-- content of our page will be here! -->\n",
    "\n",
    "    </body>\n",
    "</html>\n",
    "```"
   ]
  },
  {
   "cell_type": "markdown",
   "metadata": {},
   "source": [
    "## Common HTML Elements"
   ]
  },
  {
   "cell_type": "markdown",
   "metadata": {},
   "source": [
    "# CSS"
   ]
  },
  {
   "cell_type": "markdown",
   "metadata": {},
   "source": [
    "# Let's Do Some Web Scraping"
   ]
  }
 ],
 "metadata": {
  "kernelspec": {
   "display_name": "Python 3",
   "language": "python",
   "name": "python3"
  },
  "language_info": {
   "codemirror_mode": {
    "name": "ipython",
    "version": 3
   },
   "file_extension": ".py",
   "mimetype": "text/x-python",
   "name": "python",
   "nbconvert_exporter": "python",
   "pygments_lexer": "ipython3",
   "version": "3.7.1"
  }
 },
 "nbformat": 4,
 "nbformat_minor": 2
}
