{
 "cells": [
  {
   "cell_type": "markdown",
   "metadata": {},
   "source": [
    "# Web Scraping Intro"
   ]
  },
  {
   "cell_type": "markdown",
   "metadata": {},
   "source": [
    "Ideally we want the data formatted for us but sometimes it's not clean.\n",
    "\n",
    "Usual order of preference:\n",
    "1. Direct access to formatted data (database, CSV, etc.)\n",
    "2. API call to get data\n",
    "3. Scrape the data\n",
    "4. Other sources...."
   ]
  },
  {
   "cell_type": "markdown",
   "metadata": {},
   "source": [
    "# HTML - HyperText Markup Language"
   ]
  },
  {
   "cell_type": "markdown",
   "metadata": {},
   "source": [
    "Essentially tells an application (web browser) what things should look like (**renders**)\n",
    "\n",
    "Backbone of almost everything you see on the web."
   ]
  },
  {
   "cell_type": "markdown",
   "metadata": {},
   "source": [
    "## Syntax\n",
    "\n",
    "Specialized XML"
   ]
  },
  {
   "cell_type": "markdown",
   "metadata": {},
   "source": [
    "### Tags\n",
    "\n",
    "Tags like `<p>` tell what the stuff is.\n",
    "So `<p>This is a paragraph</p>` informs that the stuff in the tag should be interpretted as a paragraph (whatever that means)"
   ]
  },
  {
   "cell_type": "markdown",
   "metadata": {},
   "source": [
    "### Attributes\n",
    "\n",
    "Go within tags to alter the content in the tags. \n",
    "\n",
    "For example, `<a href=\"google.com\">Click here for Google!</a>` tells the tag `<a>` (hyperlink tag) that the content should go to \"google.com\" when clicked. Here's what it looks like when rendered:\n",
    "\n",
    "> <a href=\"google.com\">Click here for Google!</a>"
   ]
  },
  {
   "cell_type": "markdown",
   "metadata": {},
   "source": [
    "### Comments\n",
    "\n",
    "Basically stuff that won't be rendered. \n",
    "\n",
    "Format:\n",
    "> `<!-- This is a comment and won't get rendered!-->`\n",
    "\n",
    "> \n",
    "> ```\n",
    "> <!-- This is a multiple\n",
    "> line commment\n",
    "> \n",
    "> \n",
    "> fancy\n",
    "> -->\n",
    "> ```\n",
    ">"
   ]
  },
  {
   "cell_type": "markdown",
   "metadata": {},
   "source": [
    "## HTML Document Structure (DOM)"
   ]
  },
  {
   "cell_type": "markdown",
   "metadata": {},
   "source": [
    "Always start with the declaration to explain it's HTML5:\n",
    "```\n",
    "<!DOCTYPE html>\n",
    "```\n",
    "\n",
    "Note that some will still render using HTML5 regardless"
   ]
  },
  {
   "cell_type": "markdown",
   "metadata": {},
   "source": [
    "Overall structure is the `<html>` document, then within is the `<head>` & `<body>`.\n",
    "\n",
    "* Head: meta data & other extras about the HTML document\n",
    "* Body: holds all the content of the page\n",
    "\n",
    "Example:\n",
    "```\n",
    "<!DOCTYPE html>\n",
    "<html>\n",
    "    <head>\n",
    "        <!-- metadata about the HTML document as a whole -->\n",
    "\n",
    "    </head>\n",
    "\n",
    "    <body>\n",
    "        <!-- content of our page will be here! -->\n",
    "\n",
    "    </body>\n",
    "</html>\n",
    "```"
   ]
  },
  {
   "cell_type": "markdown",
   "metadata": {},
   "source": [
    "## Common HTML Elements"
   ]
  },
  {
   "cell_type": "markdown",
   "metadata": {},
   "source": [
    "* Paragraphs: `<p>paragraph stuff...</p>`\n",
    "* Headers: `<h1>Main header</h1>`, `<h2>Sub-header</h2>`, `<h3>Sub-sub-header</h3>`, and so on\n",
    "* Images `<img src=\"path_to_image\" alt=\"Hover over object; used for accessibility\">`\n",
    "* Lists \n",
    "  + Unordered:\n",
    "  ```\n",
    "  <ul>\n",
    "    <li>Coffee</li>\n",
    "    <li>Vinyl Records</li>\n",
    "    <li>Pickling</li>\n",
    "  </ul>\n",
    "  ```\n",
    "  + Ordered:\n",
    "  ```\n",
    "    <ol>\n",
    "        <li>DiFara Pizza</li>\n",
    "        <li>Lucali's</li>\n",
    "        <li>Sal and Carmine's</li>\n",
    "        <li>Juliana's</li>\n",
    "        <li>Joe's</li>\n",
    "    </ol>\n",
    "  ```\n",
    "* Tables\n",
    "```\n",
    "<table>\n",
    "  <tr>\n",
    "    <th>header 0</th>\n",
    "    <th>header 1</th> \n",
    "    <th>header 2</th>\n",
    "  </tr>\n",
    "  <tr>\n",
    "    <td>data_item0 1st col</td>\n",
    "    <td>data_item0 2nd col</td> \n",
    "    <td>data_item0 3rd col</td>\n",
    "  </tr>\n",
    "  <tr>\n",
    "    <td>data_item1 1st col</td>\n",
    "    <td>data_item1 2nd col</td> \n",
    "    <td>data_item1 3rd col</td>\n",
    "  </tr>\n",
    "</table>\n",
    "```\n",
    "\n",
    "<table>\n",
    "  <tr>\n",
    "    <th>header 0</th>\n",
    "    <th>header 1</th> \n",
    "    <th>header 2</th>\n",
    "  </tr>\n",
    "  <tr>\n",
    "    <td>data_item0 1st col</td>\n",
    "    <td>data_item0 2nd col</td> \n",
    "    <td>data_item0 3rd col</td>\n",
    "  </tr>\n",
    "  <tr>\n",
    "    <td>data_item1 1st col</td>\n",
    "    <td>data_item1 2nd col</td> \n",
    "    <td>data_item1 3rd col</td>\n",
    "  </tr>\n",
    "</table>"
   ]
  },
  {
   "cell_type": "markdown",
   "metadata": {},
   "source": [
    "## HTML 5"
   ]
  },
  {
   "cell_type": "markdown",
   "metadata": {},
   "source": [
    "Allows more specific terms (especiall the `<div>` tag) which spawned:\n",
    "\n",
    "* `<header>`\n",
    "* `<nav>`\n",
    "* `<footer>`\n",
    "* `<main>`\n",
    "* `<aside>`\n",
    "* `<article>`\n",
    "* `<section>`\n",
    "* `<canvas>`\n",
    "* And more!"
   ]
  },
  {
   "cell_type": "markdown",
   "metadata": {},
   "source": [
    "# CSS"
   ]
  },
  {
   "cell_type": "markdown",
   "metadata": {},
   "source": [
    "Allows for customizing further (usually on the visuals themselves)"
   ]
  },
  {
   "cell_type": "markdown",
   "metadata": {},
   "source": [
    "- We can specify by element type\n",
    "    + using `<p>`, `<h2>`, `<a>`, etc.\n",
    "- class \n",
    "    + using `.name-of-class`\n",
    "- id\n",
    "    + using `#name-of-id`\n",
    "- value of an attribute\n",
    "- relative position to other elements"
   ]
  },
  {
   "cell_type": "markdown",
   "metadata": {},
   "source": [
    "Selector then attributes to change\n",
    "\n",
    "```\n",
    "h1 {\n",
    "  color: blue;\n",
    "}\n",
    "```"
   ]
  },
  {
   "cell_type": "markdown",
   "metadata": {},
   "source": [
    "# Let's Do Some Web Scraping"
   ]
  },
  {
   "cell_type": "markdown",
   "metadata": {},
   "source": [
    "## The DOM  - Document Object Model"
   ]
  },
  {
   "cell_type": "markdown",
   "metadata": {},
   "source": [
    "A way for us to think of the document structure; allows us to parse through\n",
    "\n",
    "Think of siblings, children/descendents, parents"
   ]
  },
  {
   "cell_type": "markdown",
   "metadata": {},
   "source": [
    "## Scrape the DOM with Beautiful Soup"
   ]
  },
  {
   "cell_type": "markdown",
   "metadata": {},
   "source": [
    "- Relatively fast execution in the parser\n",
    "- Uses natural, Pythonic calls\n",
    "- Does encodings (how the site is written)"
   ]
  },
  {
   "cell_type": "code",
   "execution_count": null,
   "metadata": {},
   "outputs": [],
   "source": [
    "# Note the import looks different\n",
    "from bs4 import BeautifulSoup\n",
    "# Requests (we've seen this already) gets the webpage\n",
    "import requests\n",
    "# Regular expressions allows us to parse text easier\n",
    "import re"
   ]
  },
  {
   "cell_type": "markdown",
   "metadata": {},
   "source": [
    "### Get the page"
   ]
  },
  {
   "cell_type": "code",
   "execution_count": null,
   "metadata": {},
   "outputs": [],
   "source": [
    "def getSoup(url):\n",
    "    webpage = requests.get(url)\n",
    "    return webpage, BeautifulSoup(webpage.content, 'html.parser')"
   ]
  },
  {
   "cell_type": "code",
   "execution_count": null,
   "metadata": {},
   "outputs": [],
   "source": [
    "page, soup = getSoup(\"https://www.androidpolice.com/\")"
   ]
  },
  {
   "cell_type": "code",
   "execution_count": null,
   "metadata": {},
   "outputs": [],
   "source": [
    "# soup.prettify()"
   ]
  },
  {
   "cell_type": "markdown",
   "metadata": {},
   "source": [
    "### Parse the page"
   ]
  },
  {
   "cell_type": "code",
   "execution_count": null,
   "metadata": {},
   "outputs": [],
   "source": [
    "images = soup.find_all('img')"
   ]
  },
  {
   "cell_type": "code",
   "execution_count": null,
   "metadata": {},
   "outputs": [],
   "source": [
    "div = soup.find_all('div')\n",
    "len(div)"
   ]
  },
  {
   "cell_type": "code",
   "execution_count": null,
   "metadata": {
    "scrolled": true
   },
   "outputs": [],
   "source": [
    "div[:10]"
   ]
  },
  {
   "cell_type": "code",
   "execution_count": null,
   "metadata": {},
   "outputs": [],
   "source": [
    "div[4].findNextSiblings()"
   ]
  },
  {
   "cell_type": "code",
   "execution_count": null,
   "metadata": {},
   "outputs": [],
   "source": [
    "soup.find('div', {\"class\": \"container\"})\n",
    "# soup.find_all('div', {\"class\": \"container\"})"
   ]
  }
 ],
 "metadata": {
  "kernelspec": {
   "display_name": "Python 3",
   "language": "python",
   "name": "python3"
  },
  "language_info": {
   "codemirror_mode": {
    "name": "ipython",
    "version": 3
   },
   "file_extension": ".py",
   "mimetype": "text/x-python",
   "name": "python",
   "nbconvert_exporter": "python",
   "pygments_lexer": "ipython3",
   "version": "3.7.1"
  }
 },
 "nbformat": 4,
 "nbformat_minor": 2
}
