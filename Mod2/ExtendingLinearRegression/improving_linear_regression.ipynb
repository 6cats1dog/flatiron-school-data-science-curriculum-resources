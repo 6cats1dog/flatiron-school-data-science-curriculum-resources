{
 "cells": [
  {
   "cell_type": "markdown",
   "metadata": {},
   "source": [
    "# Interactions"
   ]
  },
  {
   "cell_type": "markdown",
   "metadata": {},
   "source": [
    "When variables interact to **cause an effect** to another variable but is **not the sum of their parts**"
   ]
  },
  {
   "cell_type": "markdown",
   "metadata": {},
   "source": [
    "## Confounding factor"
   ]
  },
  {
   "cell_type": "markdown",
   "metadata": {},
   "source": [
    "![](https://github.com/learn-co-students/dsc-2-24-03-interactions-online-ds-sp-000/raw/master/diet_image.png)"
   ]
  },
  {
   "cell_type": "markdown",
   "metadata": {},
   "source": [
    "## Example of slight interaction (mostly additive)"
   ]
  },
  {
   "cell_type": "markdown",
   "metadata": {},
   "source": [
    "![](https://github.com/learn-co-students/dsc-2-24-03-interactions-online-ds-sp-000/raw/master/index_files/index_20_0.png)"
   ]
  },
  {
   "cell_type": "markdown",
   "metadata": {},
   "source": [
    "## Example of interaction (definitley not additive)"
   ]
  },
  {
   "cell_type": "markdown",
   "metadata": {},
   "source": [
    "![](https://github.com/learn-co-students/dsc-2-24-03-interactions-online-ds-sp-000/raw/master/index_files/index_31_0.png)"
   ]
  },
  {
   "cell_type": "markdown",
   "metadata": {},
   "source": [
    "# Polynomial Regressions"
   ]
  },
  {
   "cell_type": "markdown",
   "metadata": {},
   "source": [
    "Remember we started with (multiple) linear equation:\n",
    "\n",
    "$$ \\hat{y} = w_0 + w_1  x_1 + w_2  x_2 + ... + w_N  x_N $$\n",
    "$$ \\hat{y} = \\sum_{n=0}^{N} w_n x_n $$\n",
    "\n",
    "\n",
    "**Knowledge check:** Why is this \"linear\"?"
   ]
  },
  {
   "cell_type": "markdown",
   "metadata": {},
   "source": [
    "## Making it more complex!"
   ]
  },
  {
   "cell_type": "markdown",
   "metadata": {},
   "source": [
    "![](https://github.com/learn-co-students/dsc-2-24-05-polynomial-regression-online-ds-sp-000/raw/master/index_files/index_8_0.png)"
   ]
  },
  {
   "cell_type": "markdown",
   "metadata": {},
   "source": [
    "Imagine making this (start with just one variable):\n",
    "\n",
    "$$ \\hat{y} = \\beta_0 + \\beta_1  x + \\beta_2  x^2 + ... + \\beta_N  x^N $$\n",
    "$$ \\hat{y} = \\sum_{n=0}^{N} \\beta_n x^n $$"
   ]
  },
  {
   "cell_type": "markdown",
   "metadata": {},
   "source": [
    "![](https://github.com/learn-co-students/dsc-2-24-05-polynomial-regression-online-ds-sp-000/raw/master/index_files/index_23_0.png)"
   ]
  },
  {
   "cell_type": "markdown",
   "metadata": {},
   "source": [
    "![](https://github.com/learn-co-students/dsc-2-24-05-polynomial-regression-online-ds-sp-000/raw/master/index_files/index_28_0.png)"
   ]
  },
  {
   "cell_type": "markdown",
   "metadata": {},
   "source": [
    "For more general (multiple variables):\n",
    "\n",
    "$$ \\hat{y} = \\beta_{0,0} + \\sum_{i=0}^{N} \\beta_{1,i} x_1^i + \\sum_{i=0}^{N} \\beta_{2,i} x_2^i + ... + \\sum_{i=0}^{N} \\beta_{M,i} x_M^i$$ \n",
    "\n",
    "$$ \\hat{y} = \\sum_{i=0}^{N}\\sum_{j=0}^{M} \\beta_{j,i} x_j^i $$ "
   ]
  },
  {
   "cell_type": "markdown",
   "metadata": {},
   "source": [
    "## Discussion\n",
    "\n",
    "There is no limit on the polynomial degree\n",
    "\n",
    "- What is the $R^2$ of this complicated? Higher or lower?\n",
    "- How many should we use?\n",
    "- Are there any disadvantages to making it more complicated?"
   ]
  }
 ],
 "metadata": {
  "kernelspec": {
   "display_name": "Python 3",
   "language": "python",
   "name": "python3"
  },
  "language_info": {
   "codemirror_mode": {
    "name": "ipython",
    "version": 3
   },
   "file_extension": ".py",
   "mimetype": "text/x-python",
   "name": "python",
   "nbconvert_exporter": "python",
   "pygments_lexer": "ipython3",
   "version": "3.6.6"
  }
 },
 "nbformat": 4,
 "nbformat_minor": 2
}
