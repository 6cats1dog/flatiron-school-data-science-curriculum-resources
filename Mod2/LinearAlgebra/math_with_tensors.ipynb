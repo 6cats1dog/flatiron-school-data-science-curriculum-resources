{
 "cells": [
  {
   "cell_type": "code",
   "execution_count": null,
   "metadata": {},
   "outputs": [],
   "source": [
    "# Imports for this notebook\n",
    "import numpy as np"
   ]
  },
  {
   "cell_type": "markdown",
   "metadata": {},
   "source": [
    "# Combining Tensors"
   ]
  },
  {
   "cell_type": "markdown",
   "metadata": {},
   "source": [
    "> Note: NumPy is pretty smart when you combine tensors; it will attempt to combine even if the dimensions don't match. This is called broadcasting & you can read about it in the documentation (https://docs.scipy.org/doc/numpy/user/basics.broadcasting.html)[https://docs.scipy.org/doc/numpy/user/basics.broadcasting.html]."
   ]
  },
  {
   "cell_type": "code",
   "execution_count": null,
   "metadata": {},
   "outputs": [],
   "source": [
    "A = np.arange(3*2).reshape(3,2)\n",
    "B = 10 * np.arange(3*2).reshape(3,2)\n",
    "\n",
    "print('A:\\n', A)\n",
    "print()\n",
    "print('B:\\n', B)"
   ]
  },
  {
   "cell_type": "markdown",
   "metadata": {},
   "source": [
    "## Addition"
   ]
  },
  {
   "cell_type": "code",
   "execution_count": null,
   "metadata": {},
   "outputs": [],
   "source": [
    "A = np.arange(5*3).reshape(5,3)\n",
    "B = 10 * np.arange(5*3).reshape(5,3)\n",
    "\n",
    "print('A:\\n', A)\n",
    "print()\n",
    "print('B:\\n', B)"
   ]
  },
  {
   "cell_type": "code",
   "execution_count": null,
   "metadata": {},
   "outputs": [],
   "source": [
    "# We can add up the same dimensions! (elementwise)\n",
    "A + B"
   ]
  },
  {
   "cell_type": "code",
   "execution_count": null,
   "metadata": {},
   "outputs": [],
   "source": [
    "# Broadcasting: We can even add scalars to the whole array (as you might expect)\n",
    "A + 100"
   ]
  },
  {
   "cell_type": "markdown",
   "metadata": {},
   "source": [
    "## What happens when we have different dimensions? Broadcasting happens"
   ]
  },
  {
   "cell_type": "code",
   "execution_count": null,
   "metadata": {},
   "outputs": [],
   "source": [
    "# 3-by-2 add 1-by-2\n",
    "x = 100*np.arange(2).reshape(2)\n",
    "print(x)\n",
    "print('Size:',x.shape)\n",
    "print()\n",
    "print(A + x)"
   ]
  },
  {
   "cell_type": "code",
   "execution_count": null,
   "metadata": {},
   "outputs": [],
   "source": [
    "# 3-by-2 add 3-by-2\n",
    "x = 100*np.arange(3*2).reshape(3,2)\n",
    "print(x)\n",
    "print('Size:',x.shape)\n",
    "print()\n",
    "print(A + x)"
   ]
  },
  {
   "cell_type": "code",
   "execution_count": null,
   "metadata": {},
   "outputs": [],
   "source": [
    "# 3-by-2 add 3-by-2 --> Will this work?\n",
    "x = x = 100*np.arange(3*2).reshape(2,3)\n",
    "print(x)\n",
    "print('Size:',x.shape)\n",
    "print()\n",
    "print(A + x)"
   ]
  },
  {
   "cell_type": "markdown",
   "metadata": {},
   "source": [
    "## Multiplication (Hadamard Product & Dot Product)"
   ]
  },
  {
   "cell_type": "markdown",
   "metadata": {},
   "source": [
    "### Hadamard Product"
   ]
  },
  {
   "cell_type": "markdown",
   "metadata": {},
   "source": [
    "Result: Same dimensions (after broadcasting)\n",
    "\n",
    "Like addition, but multiply the elements together. This however isn't very common."
   ]
  },
  {
   "cell_type": "code",
   "execution_count": null,
   "metadata": {},
   "outputs": [],
   "source": [
    "print('A:\\n', A.shape)\n",
    "print(A)\n",
    "print()\n",
    "print('B:\\n', B.shape)\n",
    "print(B)"
   ]
  },
  {
   "cell_type": "code",
   "execution_count": null,
   "metadata": {},
   "outputs": [],
   "source": [
    "print(A * B)"
   ]
  },
  {
   "cell_type": "code",
   "execution_count": null,
   "metadata": {},
   "outputs": [],
   "source": [
    "# 3-by-2 add 1-by-2\n",
    "x = 100*np.arange(2).reshape(2)\n",
    "print(x)\n",
    "print('Size:',x.shape)\n",
    "print()\n",
    "print(A * x)"
   ]
  },
  {
   "cell_type": "code",
   "execution_count": null,
   "metadata": {},
   "outputs": [],
   "source": [
    "# 3-by-2 add 3-by-2\n",
    "x = 100*np.arange(3*2).reshape(3,2)\n",
    "print(x)\n",
    "print('Size:',x.shape)\n",
    "print()\n",
    "print(A * x)"
   ]
  },
  {
   "cell_type": "code",
   "execution_count": null,
   "metadata": {},
   "outputs": [],
   "source": [
    "# 3-by-2 add 3-by-2 --> Will this work?\n",
    "x = x = 100*np.arange(3*2).reshape(2,3)\n",
    "print(x)\n",
    "print('Size:',x.shape)\n",
    "print()\n",
    "print(A * x)"
   ]
  },
  {
   "cell_type": "markdown",
   "metadata": {},
   "source": [
    "### Dot Product"
   ]
  },
  {
   "cell_type": "markdown",
   "metadata": {},
   "source": [
    "Result: (m-by-n) DOT (n-by-p) ==> (m-by-p)\n",
    "\n",
    "Likely the most common operation when we think of \"multiplying\" matrices."
   ]
  },
  {
   "cell_type": "code",
   "execution_count": null,
   "metadata": {},
   "outputs": [],
   "source": [
    "print('A:\\n', A.shape)\n",
    "print(A)\n",
    "print()\n",
    "C = B.T\n",
    "print('C:\\n', C.shape)\n",
    "print(C)"
   ]
  },
  {
   "cell_type": "code",
   "execution_count": null,
   "metadata": {},
   "outputs": [],
   "source": [
    "# All the ways you can do the dot product\n",
    "Z = np.dot(A, C)\n",
    "Z = A.dot(C)\n",
    "Z = A @ C\n",
    "\n",
    "print(Z.shape)\n",
    "print(Z)"
   ]
  },
  {
   "cell_type": "code",
   "execution_count": null,
   "metadata": {},
   "outputs": [],
   "source": [
    "# 3-by-2 add 2-by-1\n",
    "x = 100*np.arange(3).reshape(3)\n",
    "print(x)\n",
    "print('Size:',x.shape)\n",
    "print()\n",
    "print(A @ x)"
   ]
  },
  {
   "cell_type": "markdown",
   "metadata": {},
   "source": [
    "# Manipulating Matrices (Identity & Inverse)"
   ]
  }
 ],
 "metadata": {
  "kernelspec": {
   "display_name": "Python 3",
   "language": "python",
   "name": "python3"
  },
  "language_info": {
   "codemirror_mode": {
    "name": "ipython",
    "version": 3
   },
   "file_extension": ".py",
   "mimetype": "text/x-python",
   "name": "python",
   "nbconvert_exporter": "python",
   "pygments_lexer": "ipython3",
   "version": "3.7.1"
  }
 },
 "nbformat": 4,
 "nbformat_minor": 2
}
