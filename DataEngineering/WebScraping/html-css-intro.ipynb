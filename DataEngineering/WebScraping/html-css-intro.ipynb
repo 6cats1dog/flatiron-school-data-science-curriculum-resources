{
 "cells": [
  {
   "cell_type": "markdown",
   "metadata": {
    "toc": true
   },
   "source": [
    "<h1>Table of Contents<span class=\"tocSkip\"></span></h1>\n",
    "<div class=\"toc\"><ul class=\"toc-item\"><li><span><a href=\"#Web-Scraping-Intro\" data-toc-modified-id=\"Web-Scraping-Intro-1\"><span class=\"toc-item-num\">1&nbsp;&nbsp;</span>Web Scraping Intro</a></span></li><li><span><a href=\"#HTML---HyperText-Markup-Language\" data-toc-modified-id=\"HTML---HyperText-Markup-Language-2\"><span class=\"toc-item-num\">2&nbsp;&nbsp;</span>HTML - HyperText Markup Language</a></span><ul class=\"toc-item\"><li><span><a href=\"#Syntax\" data-toc-modified-id=\"Syntax-2.1\"><span class=\"toc-item-num\">2.1&nbsp;&nbsp;</span>Syntax</a></span><ul class=\"toc-item\"><li><span><a href=\"#Tags\" data-toc-modified-id=\"Tags-2.1.1\"><span class=\"toc-item-num\">2.1.1&nbsp;&nbsp;</span>Tags</a></span></li><li><span><a href=\"#Attributes\" data-toc-modified-id=\"Attributes-2.1.2\"><span class=\"toc-item-num\">2.1.2&nbsp;&nbsp;</span>Attributes</a></span></li><li><span><a href=\"#Comments\" data-toc-modified-id=\"Comments-2.1.3\"><span class=\"toc-item-num\">2.1.3&nbsp;&nbsp;</span>Comments</a></span></li></ul></li><li><span><a href=\"#HTML-Document-Structure-(DOM)\" data-toc-modified-id=\"HTML-Document-Structure-(DOM)-2.2\"><span class=\"toc-item-num\">2.2&nbsp;&nbsp;</span>HTML Document Structure (DOM)</a></span></li><li><span><a href=\"#Common-HTML-Elements\" data-toc-modified-id=\"Common-HTML-Elements-2.3\"><span class=\"toc-item-num\">2.3&nbsp;&nbsp;</span>Common HTML Elements</a></span></li><li><span><a href=\"#HTML-5\" data-toc-modified-id=\"HTML-5-2.4\"><span class=\"toc-item-num\">2.4&nbsp;&nbsp;</span>HTML 5</a></span></li></ul></li><li><span><a href=\"#CSS\" data-toc-modified-id=\"CSS-3\"><span class=\"toc-item-num\">3&nbsp;&nbsp;</span>CSS</a></span></li><li><span><a href=\"#Let's-Do-Some-Web-Scraping\" data-toc-modified-id=\"Let's-Do-Some-Web-Scraping-4\"><span class=\"toc-item-num\">4&nbsp;&nbsp;</span>Let's Do Some Web Scraping</a></span><ul class=\"toc-item\"><li><span><a href=\"#The-DOM----Document-Object-Model\" data-toc-modified-id=\"The-DOM----Document-Object-Model-4.1\"><span class=\"toc-item-num\">4.1&nbsp;&nbsp;</span>The DOM  - Document Object Model</a></span></li><li><span><a href=\"#Scrape-the-DOM-with-Beautiful-Soup\" data-toc-modified-id=\"Scrape-the-DOM-with-Beautiful-Soup-4.2\"><span class=\"toc-item-num\">4.2&nbsp;&nbsp;</span>Scrape the DOM with Beautiful Soup</a></span><ul class=\"toc-item\"><li><span><a href=\"#Get-the-page\" data-toc-modified-id=\"Get-the-page-4.2.1\"><span class=\"toc-item-num\">4.2.1&nbsp;&nbsp;</span>Get the page</a></span></li><li><span><a href=\"#Parse-the-page\" data-toc-modified-id=\"Parse-the-page-4.2.2\"><span class=\"toc-item-num\">4.2.2&nbsp;&nbsp;</span>Parse the page</a></span></li></ul></li></ul></li></ul></div>"
   ]
  },
  {
   "cell_type": "markdown",
   "metadata": {
    "heading_collapsed": true
   },
   "source": [
    "# Web Scraping Intro"
   ]
  },
  {
   "cell_type": "markdown",
   "metadata": {
    "hidden": true
   },
   "source": [
    "Ideally we want the data formatted for us but sometimes it's not clean.\n",
    "\n",
    "Usual order of preference:\n",
    "1. Direct access to formatted data (database, CSV, etc.)\n",
    "2. API call to get data\n",
    "3. Scrape the data\n",
    "4. Other sources...."
   ]
  },
  {
   "cell_type": "markdown",
   "metadata": {
    "heading_collapsed": true
   },
   "source": [
    "# HTML - HyperText Markup Language"
   ]
  },
  {
   "cell_type": "markdown",
   "metadata": {
    "hidden": true
   },
   "source": [
    "Essentially tells an application (web browser) what things should look like (**renders**)\n",
    "\n",
    "Backbone of almost everything you see on the web."
   ]
  },
  {
   "cell_type": "markdown",
   "metadata": {
    "heading_collapsed": true,
    "hidden": true
   },
   "source": [
    "## Syntax\n",
    "\n",
    "Specialized XML"
   ]
  },
  {
   "cell_type": "markdown",
   "metadata": {
    "heading_collapsed": true,
    "hidden": true
   },
   "source": [
    "### Tags\n",
    "\n",
    "Tags like `<p>` tell what the stuff is.\n",
    "So `<p>This is a paragraph</p>` informs that the stuff in the tag should be interpretted as a paragraph (whatever that means)"
   ]
  },
  {
   "cell_type": "markdown",
   "metadata": {
    "heading_collapsed": true,
    "hidden": true
   },
   "source": [
    "### Attributes\n",
    "\n",
    "Go within tags to alter the content in the tags. \n",
    "\n",
    "For example, `<a href=\"google.com\">Click here for Google!</a>` tells the tag `<a>` (hyperlink tag) that the content should go to \"google.com\" when clicked. Here's what it looks like when rendered:\n",
    "\n",
    "> <a href=\"google.com\">Click here for Google!</a>"
   ]
  },
  {
   "cell_type": "markdown",
   "metadata": {
    "heading_collapsed": true,
    "hidden": true
   },
   "source": [
    "### Comments\n",
    "\n",
    "Basically stuff that won't be rendered. \n",
    "\n",
    "Format:\n",
    "> `<!-- This is a comment and won't get rendered!-->`\n",
    "\n",
    "> \n",
    "> ```\n",
    "> <!-- This is a multiple\n",
    "> line commment\n",
    "> \n",
    "> \n",
    "> fancy\n",
    "> -->\n",
    "> ```\n",
    ">"
   ]
  },
  {
   "cell_type": "markdown",
   "metadata": {
    "heading_collapsed": true,
    "hidden": true
   },
   "source": [
    "## HTML Document Structure (DOM)"
   ]
  },
  {
   "cell_type": "markdown",
   "metadata": {
    "hidden": true
   },
   "source": [
    "Always start with the declaration to explain it's HTML5:\n",
    "```\n",
    "<!DOCTYPE html>\n",
    "```\n",
    "\n",
    "Note that some will still render using HTML5 regardless"
   ]
  },
  {
   "cell_type": "markdown",
   "metadata": {
    "hidden": true
   },
   "source": [
    "Overall structure is the `<html>` document, then within is the `<head>` & `<body>`.\n",
    "\n",
    "* Head: meta data & other extras about the HTML document\n",
    "* Body: holds all the content of the page\n",
    "\n",
    "Example:\n",
    "```\n",
    "<!DOCTYPE html>\n",
    "<html>\n",
    "    <head>\n",
    "        <!-- metadata about the HTML document as a whole -->\n",
    "\n",
    "    </head>\n",
    "\n",
    "    <body>\n",
    "        <!-- content of our page will be here! -->\n",
    "\n",
    "    </body>\n",
    "</html>\n",
    "```"
   ]
  },
  {
   "cell_type": "markdown",
   "metadata": {
    "heading_collapsed": true,
    "hidden": true
   },
   "source": [
    "## Common HTML Elements"
   ]
  },
  {
   "cell_type": "markdown",
   "metadata": {
    "hidden": true
   },
   "source": [
    "* Paragraphs: `<p>paragraph stuff...</p>`\n",
    "* Headers: `<h1>Main header</h1>`, `<h2>Sub-header</h2>`, `<h3>Sub-sub-header</h3>`, and so on\n",
    "* Images `<img src=\"path_to_image\" alt=\"Hover over object; used for accessibility\">`\n",
    "* Lists \n",
    "  + Unordered:\n",
    "  ```\n",
    "  <ul>\n",
    "    <li>Coffee</li>\n",
    "    <li>Vinyl Records</li>\n",
    "    <li>Pickling</li>\n",
    "  </ul>\n",
    "  ```\n",
    "  + Ordered:\n",
    "  ```\n",
    "    <ol>\n",
    "        <li>DiFara Pizza</li>\n",
    "        <li>Lucali's</li>\n",
    "        <li>Sal and Carmine's</li>\n",
    "        <li>Juliana's</li>\n",
    "        <li>Joe's</li>\n",
    "    </ol>\n",
    "  ```\n",
    "* Tables\n",
    "```\n",
    "<table>\n",
    "  <tr>\n",
    "    <th>header 0</th>\n",
    "    <th>header 1</th> \n",
    "    <th>header 2</th>\n",
    "  </tr>\n",
    "  <tr>\n",
    "    <td>data_item0 1st col</td>\n",
    "    <td>data_item0 2nd col</td> \n",
    "    <td>data_item0 3rd col</td>\n",
    "  </tr>\n",
    "  <tr>\n",
    "    <td>data_item1 1st col</td>\n",
    "    <td>data_item1 2nd col</td> \n",
    "    <td>data_item1 3rd col</td>\n",
    "  </tr>\n",
    "</table>\n",
    "```\n",
    "\n",
    "<table>\n",
    "  <tr>\n",
    "    <th>header 0</th>\n",
    "    <th>header 1</th> \n",
    "    <th>header 2</th>\n",
    "  </tr>\n",
    "  <tr>\n",
    "    <td>data_item0 1st col</td>\n",
    "    <td>data_item0 2nd col</td> \n",
    "    <td>data_item0 3rd col</td>\n",
    "  </tr>\n",
    "  <tr>\n",
    "    <td>data_item1 1st col</td>\n",
    "    <td>data_item1 2nd col</td> \n",
    "    <td>data_item1 3rd col</td>\n",
    "  </tr>\n",
    "</table>"
   ]
  },
  {
   "cell_type": "markdown",
   "metadata": {
    "heading_collapsed": true,
    "hidden": true
   },
   "source": [
    "## HTML 5"
   ]
  },
  {
   "cell_type": "markdown",
   "metadata": {
    "hidden": true
   },
   "source": [
    "Allows more specific terms (especiall the `<div>` tag) which spawned:\n",
    "\n",
    "* `<header>`\n",
    "* `<nav>`\n",
    "* `<footer>`\n",
    "* `<main>`\n",
    "* `<aside>`\n",
    "* `<article>`\n",
    "* `<section>`\n",
    "* `<canvas>`\n",
    "* And more!"
   ]
  },
  {
   "cell_type": "markdown",
   "metadata": {
    "heading_collapsed": true
   },
   "source": [
    "# CSS"
   ]
  },
  {
   "cell_type": "markdown",
   "metadata": {
    "hidden": true
   },
   "source": [
    "Allows for customizing further (usually on the visuals themselves)"
   ]
  },
  {
   "cell_type": "markdown",
   "metadata": {
    "hidden": true
   },
   "source": [
    "- We can specify by element type\n",
    "    + using `<p>`, `<h2>`, `<a>`, etc.\n",
    "- class \n",
    "    + using `.name-of-class`\n",
    "- id\n",
    "    + using `#name-of-id`\n",
    "- value of an attribute\n",
    "- relative position to other elements"
   ]
  },
  {
   "cell_type": "markdown",
   "metadata": {
    "hidden": true
   },
   "source": [
    "Selector then attributes to change\n",
    "\n",
    "```\n",
    "h1 {\n",
    "  color: blue;\n",
    "}\n",
    "```"
   ]
  }
 ],
 "metadata": {
  "kernelspec": {
   "display_name": "Python 3",
   "language": "python",
   "name": "python3"
  },
  "language_info": {
   "codemirror_mode": {
    "name": "ipython",
    "version": 3
   },
   "file_extension": ".py",
   "mimetype": "text/x-python",
   "name": "python",
   "nbconvert_exporter": "python",
   "pygments_lexer": "ipython3",
   "version": "3.7.1"
  },
  "toc": {
   "base_numbering": 1,
   "nav_menu": {},
   "number_sections": true,
   "sideBar": true,
   "skip_h1_title": false,
   "title_cell": "Table of Contents",
   "title_sidebar": "Contents",
   "toc_cell": true,
   "toc_position": {},
   "toc_section_display": true,
   "toc_window_display": true
  },
  "varInspector": {
   "cols": {
    "lenName": 16,
    "lenType": 16,
    "lenVar": 40
   },
   "kernels_config": {
    "python": {
     "delete_cmd_postfix": "",
     "delete_cmd_prefix": "del ",
     "library": "var_list.py",
     "varRefreshCmd": "print(var_dic_list())"
    },
    "r": {
     "delete_cmd_postfix": ") ",
     "delete_cmd_prefix": "rm(",
     "library": "var_list.r",
     "varRefreshCmd": "cat(var_dic_list()) "
    }
   },
   "types_to_exclude": [
    "module",
    "function",
    "builtin_function_or_method",
    "instance",
    "_Feature"
   ],
   "window_display": false
  }
 },
 "nbformat": 4,
 "nbformat_minor": 2
}
