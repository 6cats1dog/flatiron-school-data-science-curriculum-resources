{
 "cells": [
  {
   "cell_type": "markdown",
   "metadata": {},
   "source": [
    "# Intro to Using MongoDB"
   ]
  },
  {
   "cell_type": "markdown",
   "metadata": {
    "ExecuteTime": {
     "end_time": "2019-06-27T18:40:02.890888Z",
     "start_time": "2019-06-27T18:40:02.308917Z"
    }
   },
   "source": [
    "https://github.com/erdosn/cv2-mod2-sec15-mongo-lesson"
   ]
  },
  {
   "cell_type": "code",
   "execution_count": null,
   "metadata": {
    "ExecuteTime": {
     "end_time": "2019-06-27T20:19:19.942239Z",
     "start_time": "2019-06-27T20:19:19.939486Z"
    },
    "scrolled": true
   },
   "outputs": [],
   "source": [
    "# !mongod\n",
    "# goes to default: http://127.0.0.1:27017/"
   ]
  },
  {
   "cell_type": "code",
   "execution_count": null,
   "metadata": {
    "ExecuteTime": {
     "end_time": "2019-06-27T20:19:19.987423Z",
     "start_time": "2019-06-27T20:19:19.944369Z"
    }
   },
   "outputs": [],
   "source": [
    "import pymongo"
   ]
  },
  {
   "cell_type": "code",
   "execution_count": null,
   "metadata": {
    "ExecuteTime": {
     "end_time": "2019-06-27T20:19:19.994777Z",
     "start_time": "2019-06-27T20:19:19.989297Z"
    },
    "scrolled": true
   },
   "outputs": [],
   "source": [
    "client = pymongo.MongoClient(host=\"localhost\", port=27017)\n",
    "\n",
    "# Alternative: \n",
    "# client = pymongo.MongoClient(\"mongodb://127.0.0.1:27017/\")"
   ]
  },
  {
   "cell_type": "code",
   "execution_count": null,
   "metadata": {
    "ExecuteTime": {
     "end_time": "2019-06-27T20:19:20.008879Z",
     "start_time": "2019-06-27T20:19:19.997327Z"
    }
   },
   "outputs": [],
   "source": [
    "client.list_database_names() # show dbs in mongo"
   ]
  },
  {
   "cell_type": "markdown",
   "metadata": {},
   "source": [
    "## Create DB"
   ]
  },
  {
   "cell_type": "code",
   "execution_count": null,
   "metadata": {
    "ExecuteTime": {
     "end_time": "2019-06-27T20:19:20.014479Z",
     "start_time": "2019-06-27T20:19:20.011704Z"
    }
   },
   "outputs": [],
   "source": [
    "mydb = client[\"attendance\"]"
   ]
  },
  {
   "cell_type": "code",
   "execution_count": null,
   "metadata": {
    "ExecuteTime": {
     "end_time": "2019-06-27T20:19:20.021040Z",
     "start_time": "2019-06-27T20:19:20.016256Z"
    }
   },
   "outputs": [],
   "source": [
    "# shows up after inserting records\n",
    "client.list_database_names()"
   ]
  },
  {
   "cell_type": "code",
   "execution_count": null,
   "metadata": {
    "ExecuteTime": {
     "end_time": "2019-06-27T20:19:20.028747Z",
     "start_time": "2019-06-27T20:19:20.023134Z"
    }
   },
   "outputs": [],
   "source": [
    "mydb.list_collection_names()"
   ]
  },
  {
   "cell_type": "markdown",
   "metadata": {},
   "source": [
    "# Create Records"
   ]
  },
  {
   "cell_type": "code",
   "execution_count": null,
   "metadata": {
    "ExecuteTime": {
     "end_time": "2019-06-27T20:19:20.032415Z",
     "start_time": "2019-06-27T20:19:20.030500Z"
    }
   },
   "outputs": [],
   "source": [
    "students = mydb[\"attendance\"]"
   ]
  },
  {
   "cell_type": "code",
   "execution_count": null,
   "metadata": {
    "ExecuteTime": {
     "end_time": "2019-06-27T20:19:20.039055Z",
     "start_time": "2019-06-27T20:19:20.034365Z"
    }
   },
   "outputs": [],
   "source": [
    "keys = [\"name\", \"age\", \"state\"]\n",
    "\n",
    "#victor = dict(zip(keys, ['Victor', 28, 'CA']))\n",
    "victor = {\n",
    "    'name': 'Victor',\n",
    "    'age': 28,\n",
    "    'state': 'CA'\n",
    "}\n",
    "victor"
   ]
  },
  {
   "cell_type": "code",
   "execution_count": null,
   "metadata": {
    "ExecuteTime": {
     "end_time": "2019-06-27T20:19:20.045414Z",
     "start_time": "2019-06-27T20:19:20.040599Z"
    }
   },
   "outputs": [],
   "source": [
    "# let's insert this dictionary into my new collection\n",
    "students.insert_one(victor)"
   ]
  },
  {
   "cell_type": "markdown",
   "metadata": {},
   "source": [
    "## Insert Many"
   ]
  },
  {
   "cell_type": "code",
   "execution_count": null,
   "metadata": {
    "ExecuteTime": {
     "end_time": "2019-06-27T20:19:20.050918Z",
     "start_time": "2019-06-27T20:19:20.047664Z"
    }
   },
   "outputs": [],
   "source": [
    "anti_victor = dict(zip(keys, ['Victor', -27, 'AC']))"
   ]
  },
  {
   "cell_type": "code",
   "execution_count": null,
   "metadata": {
    "ExecuteTime": {
     "end_time": "2019-06-27T20:19:20.055356Z",
     "start_time": "2019-06-27T20:19:20.052540Z"
    }
   },
   "outputs": [],
   "source": [
    "new_student = dict(zip(keys, ['Max', 25, 'OR']))"
   ]
  },
  {
   "cell_type": "code",
   "execution_count": null,
   "metadata": {
    "ExecuteTime": {
     "end_time": "2019-06-27T20:19:20.062681Z",
     "start_time": "2019-06-27T20:19:20.057477Z"
    }
   },
   "outputs": [],
   "source": [
    "records = [anti_victor, new_student]\n",
    "records\n",
    "students.insert_many(records)"
   ]
  },
  {
   "cell_type": "code",
   "execution_count": null,
   "metadata": {
    "ExecuteTime": {
     "end_time": "2019-06-27T20:19:20.070583Z",
     "start_time": "2019-06-27T20:19:20.066522Z"
    },
    "scrolled": true
   },
   "outputs": [],
   "source": [
    "records"
   ]
  },
  {
   "cell_type": "markdown",
   "metadata": {},
   "source": [
    "## TEST"
   ]
  },
  {
   "cell_type": "code",
   "execution_count": null,
   "metadata": {
    "ExecuteTime": {
     "end_time": "2019-06-27T20:19:20.074729Z",
     "start_time": "2019-06-27T20:19:20.072438Z"
    }
   },
   "outputs": [],
   "source": [
    "example = {'name': 'John', 'state': 'AZ', 'age': 28}"
   ]
  },
  {
   "cell_type": "code",
   "execution_count": null,
   "metadata": {
    "ExecuteTime": {
     "end_time": "2019-06-27T20:19:20.080368Z",
     "start_time": "2019-06-27T20:19:20.076138Z"
    }
   },
   "outputs": [],
   "source": [
    "results = students.insert_one(example)\n",
    "\n",
    "results.inserted_id\n"
   ]
  },
  {
   "cell_type": "markdown",
   "metadata": {
    "ExecuteTime": {
     "end_time": "2019-06-27T18:59:16.838134Z",
     "start_time": "2019-06-27T18:59:16.833966Z"
    }
   },
   "source": [
    "**Changes our dictionary!** 😱"
   ]
  },
  {
   "cell_type": "code",
   "execution_count": null,
   "metadata": {
    "ExecuteTime": {
     "end_time": "2019-06-27T20:19:20.086340Z",
     "start_time": "2019-06-27T20:19:20.082152Z"
    }
   },
   "outputs": [],
   "source": [
    "example"
   ]
  },
  {
   "cell_type": "markdown",
   "metadata": {},
   "source": [
    "# Read Records"
   ]
  },
  {
   "cell_type": "code",
   "execution_count": null,
   "metadata": {
    "ExecuteTime": {
     "end_time": "2019-06-27T20:19:20.096141Z",
     "start_time": "2019-06-27T20:19:20.088957Z"
    },
    "scrolled": true
   },
   "outputs": [],
   "source": [
    "[p for p in students.find()]"
   ]
  },
  {
   "cell_type": "markdown",
   "metadata": {},
   "source": [
    "## Specifying Output"
   ]
  },
  {
   "cell_type": "code",
   "execution_count": null,
   "metadata": {
    "ExecuteTime": {
     "end_time": "2019-06-27T20:19:20.103914Z",
     "start_time": "2019-06-27T20:19:20.098537Z"
    }
   },
   "outputs": [],
   "source": [
    "# I want it!\n",
    "for i in students.find({}, { 'name': 1, 'age': 1}):\n",
    "    print(i)"
   ]
  },
  {
   "cell_type": "code",
   "execution_count": null,
   "metadata": {
    "ExecuteTime": {
     "end_time": "2019-06-27T20:19:20.110634Z",
     "start_time": "2019-06-27T20:19:20.105906Z"
    }
   },
   "outputs": [],
   "source": [
    "# I don't want it!\n",
    "results = students.find({}, { 'name': 0, 'age': 0})\n",
    "for r in results:\n",
    "    print(r)"
   ]
  },
  {
   "cell_type": "markdown",
   "metadata": {},
   "source": [
    "## Search Records"
   ]
  },
  {
   "cell_type": "code",
   "execution_count": null,
   "metadata": {
    "ExecuteTime": {
     "end_time": "2019-06-27T20:19:39.538127Z",
     "start_time": "2019-06-27T20:19:39.535184Z"
    }
   },
   "outputs": [],
   "source": [
    "results = students.find({'name': 'Victor'})\n",
    "for r in results:\n",
    "    print(r)"
   ]
  },
  {
   "cell_type": "markdown",
   "metadata": {},
   "source": [
    "### Modifiers\n",
    "\n",
    "https://docs.mongodb.com/manual/reference/operator/query/"
   ]
  },
  {
   "cell_type": "code",
   "execution_count": null,
   "metadata": {
    "ExecuteTime": {
     "end_time": "2019-06-27T20:19:50.147177Z",
     "start_time": "2019-06-27T20:19:50.144221Z"
    }
   },
   "outputs": [],
   "source": [
    "results = students.find({\"age\": {\"$gt\": 26}})\n",
    "for r in results:\n",
    "    print(r)"
   ]
  },
  {
   "cell_type": "markdown",
   "metadata": {
    "ExecuteTime": {
     "end_time": "2019-06-27T18:40:02.890888Z",
     "start_time": "2019-06-27T18:40:02.308917Z"
    }
   },
   "source": [
    "# Update"
   ]
  },
  {
   "cell_type": "code",
   "execution_count": null,
   "metadata": {
    "ExecuteTime": {
     "end_time": "2019-06-27T20:19:54.643755Z",
     "start_time": "2019-06-27T20:19:54.638806Z"
    }
   },
   "outputs": [],
   "source": [
    "# It's my birthday\n",
    "record_to_update = {'name' : 'Victor'}\n",
    "update_1 = {'$set': {'age': 29}}\n",
    "#\n",
    "update_2 = {'$set': {'birthday': '06/27/1990'}}\n",
    "\n",
    "students.update_one(record_to_update, update_1)\n",
    "students.update_one(record_to_update, update_2)\n",
    "results = students.find({'name': 'Victor'})\n",
    "for item in results:\n",
    "    print(item)"
   ]
  },
  {
   "cell_type": "markdown",
   "metadata": {
    "ExecuteTime": {
     "end_time": "2019-06-27T18:40:02.890888Z",
     "start_time": "2019-06-27T18:40:02.308917Z"
    }
   },
   "source": [
    "# Delete"
   ]
  },
  {
   "cell_type": "markdown",
   "metadata": {
    "ExecuteTime": {
     "end_time": "2019-06-27T18:40:02.890888Z",
     "start_time": "2019-06-27T18:40:02.308917Z"
    }
   },
   "source": []
  },
  {
   "cell_type": "code",
   "execution_count": null,
   "metadata": {
    "ExecuteTime": {
     "end_time": "2019-06-27T20:19:59.273931Z",
     "start_time": "2019-06-27T20:19:59.271170Z"
    }
   },
   "outputs": [],
   "source": [
    "deletion_1 = students.delete_one({'name': 'Victor'})\n",
    "print(deletion_1.deleted_count)"
   ]
  },
  {
   "cell_type": "code",
   "execution_count": null,
   "metadata": {
    "ExecuteTime": {
     "end_time": "2019-06-27T20:20:00.322860Z",
     "start_time": "2019-06-27T20:20:00.319684Z"
    }
   },
   "outputs": [],
   "source": [
    "# With conditions\n",
    "deletion_2 = students.delete_one({'age': {'$lt': 27}})\n",
    "print(deletion_2.deleted_count)"
   ]
  },
  {
   "cell_type": "code",
   "execution_count": null,
   "metadata": {
    "ExecuteTime": {
     "end_time": "2019-06-27T20:20:03.491697Z",
     "start_time": "2019-06-27T20:20:03.488034Z"
    }
   },
   "outputs": [],
   "source": [
    "# Delete many records (all of them here!)\n",
    "students.delete_many({})"
   ]
  },
  {
   "cell_type": "markdown",
   "metadata": {},
   "source": [
    "# EXTRAS"
   ]
  },
  {
   "cell_type": "markdown",
   "metadata": {},
   "source": [
    "MongoDB shell: https://docs.mongodb.com/manual/mongo/\n",
    "\n",
    "```\n",
    "mongo\n",
    "```"
   ]
  }
 ],
 "metadata": {
  "kernelspec": {
   "display_name": "Python 3",
   "language": "python",
   "name": "python3"
  },
  "language_info": {
   "codemirror_mode": {
    "name": "ipython",
    "version": 3
   },
   "file_extension": ".py",
   "mimetype": "text/x-python",
   "name": "python",
   "nbconvert_exporter": "python",
   "pygments_lexer": "ipython3",
   "version": "3.6.6"
  },
  "toc": {
   "base_numbering": 1,
   "nav_menu": {},
   "number_sections": true,
   "sideBar": true,
   "skip_h1_title": false,
   "title_cell": "Table of Contents",
   "title_sidebar": "Contents",
   "toc_cell": false,
   "toc_position": {},
   "toc_section_display": true,
   "toc_window_display": false
  },
  "varInspector": {
   "cols": {
    "lenName": 16,
    "lenType": 16,
    "lenVar": 40
   },
   "kernels_config": {
    "python": {
     "delete_cmd_postfix": "",
     "delete_cmd_prefix": "del ",
     "library": "var_list.py",
     "varRefreshCmd": "print(var_dic_list())"
    },
    "r": {
     "delete_cmd_postfix": ") ",
     "delete_cmd_prefix": "rm(",
     "library": "var_list.r",
     "varRefreshCmd": "cat(var_dic_list()) "
    }
   },
   "types_to_exclude": [
    "module",
    "function",
    "builtin_function_or_method",
    "instance",
    "_Feature"
   ],
   "window_display": false
  }
 },
 "nbformat": 4,
 "nbformat_minor": 2
}
