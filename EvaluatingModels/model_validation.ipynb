{
 "cells": [
  {
   "cell_type": "markdown",
   "metadata": {
    "toc": true
   },
   "source": [
    "<h1>Table of Contents<span class=\"tocSkip\"></span></h1>\n",
    "<div class=\"toc\"><ul class=\"toc-item\"><li><span><a href=\"#Why-is-it-important-to-do-validation?\" data-toc-modified-id=\"Why-is-it-important-to-do-validation?-1\"><span class=\"toc-item-num\">1&nbsp;&nbsp;</span>Why is it important to do validation?</a></span><ul class=\"toc-item\"><li><span><a href=\"#Bad-Ideas\" data-toc-modified-id=\"Bad-Ideas-1.1\"><span class=\"toc-item-num\">1.1&nbsp;&nbsp;</span>Bad Ideas</a></span><ul class=\"toc-item\"><li><span><a href=\"#Bad-Idea-#1\" data-toc-modified-id=\"Bad-Idea-#1-1.1.1\"><span class=\"toc-item-num\">1.1.1&nbsp;&nbsp;</span>Bad Idea #1</a></span></li><li><span><a href=\"#Bad-Idea-#2---Better-but-not-great-(subtle)\" data-toc-modified-id=\"Bad-Idea-#2---Better-but-not-great-(subtle)-1.1.2\"><span class=\"toc-item-num\">1.1.2&nbsp;&nbsp;</span>Bad Idea #2 - Better but not great (subtle)</a></span></li><li><span><a href=\"#A-Solution\" data-toc-modified-id=\"A-Solution-1.1.3\"><span class=\"toc-item-num\">1.1.3&nbsp;&nbsp;</span>A Solution</a></span></li></ul></li></ul></li><li><span><a href=\"#Holdout-Validation\" data-toc-modified-id=\"Holdout-Validation-2\"><span class=\"toc-item-num\">2&nbsp;&nbsp;</span>Holdout Validation</a></span></li><li><span><a href=\"#Cross-Validation\" data-toc-modified-id=\"Cross-Validation-3\"><span class=\"toc-item-num\">3&nbsp;&nbsp;</span>Cross-Validation</a></span></li></ul></div>"
   ]
  },
  {
   "cell_type": "markdown",
   "metadata": {
    "heading_collapsed": true
   },
   "source": [
    "# Why is it important to do validation?"
   ]
  },
  {
   "cell_type": "markdown",
   "metadata": {
    "hidden": true
   },
   "source": [
    "Consider a class of students.\n",
    "\n",
    "- As the teacher what would you do to ensure they \"learn\" the material for the final test?\n",
    "- How would you test their knowledge?"
   ]
  },
  {
   "cell_type": "markdown",
   "metadata": {
    "heading_collapsed": true,
    "hidden": true
   },
   "source": [
    "## Bad Ideas"
   ]
  },
  {
   "cell_type": "markdown",
   "metadata": {
    "hidden": true
   },
   "source": [
    "There are plenty of \"bad ideas\" that could encourage the students to not be best prepared for the final test. Here are a couple relatable ways we could help the students study but still have issues."
   ]
  },
  {
   "cell_type": "markdown",
   "metadata": {
    "heading_collapsed": true,
    "hidden": true
   },
   "source": [
    "### Bad Idea #1"
   ]
  },
  {
   "cell_type": "markdown",
   "metadata": {
    "hidden": true
   },
   "source": [
    "> Literally give the students the final test with answers.\n",
    "\n",
    "How can this backfire?"
   ]
  },
  {
   "cell_type": "markdown",
   "metadata": {
    "heading_collapsed": true,
    "hidden": true
   },
   "source": [
    "### Bad Idea #2 - Better but not great (subtle)"
   ]
  },
  {
   "cell_type": "markdown",
   "metadata": {
    "hidden": true
   },
   "source": [
    "> Give students practice tests (with answers); tell them the test will be like these practice tests.\n",
    "\n",
    "How can this backfire? What are some potential issues with this?"
   ]
  },
  {
   "cell_type": "markdown",
   "metadata": {
    "heading_collapsed": true,
    "hidden": true
   },
   "source": [
    "### A Solution"
   ]
  },
  {
   "cell_type": "markdown",
   "metadata": {
    "hidden": true
   },
   "source": [
    "Instead we instruct students to use practice tests to study, then the teacher will lead a practice test where the students don't know the answers ahead of time."
   ]
  },
  {
   "cell_type": "markdown",
   "metadata": {
    "heading_collapsed": true
   },
   "source": [
    "# Holdout Validation"
   ]
  },
  {
   "cell_type": "markdown",
   "metadata": {
    "hidden": true
   },
   "source": [
    "> TODO: Demonstration of model with different holdouts"
   ]
  },
  {
   "cell_type": "markdown",
   "metadata": {
    "heading_collapsed": true
   },
   "source": [
    "# Cross-Validation"
   ]
  },
  {
   "cell_type": "markdown",
   "metadata": {
    "hidden": true
   },
   "source": [
    "> Specifically k-fold cross validation"
   ]
  },
  {
   "cell_type": "markdown",
   "metadata": {
    "hidden": true
   },
   "source": [
    "![](https://scikit-learn.org/stable/_images/grid_search_cross_validation.png)\n",
    "> From SciKit-Learn's documentation: https://scikit-learn.org/stable/modules/cross_validation.html)"
   ]
  }
 ],
 "metadata": {
  "kernelspec": {
   "display_name": "Python [conda env:learn-env] *",
   "language": "python",
   "name": "conda-env-learn-env-py"
  },
  "language_info": {
   "codemirror_mode": {
    "name": "ipython",
    "version": 3
   },
   "file_extension": ".py",
   "mimetype": "text/x-python",
   "name": "python",
   "nbconvert_exporter": "python",
   "pygments_lexer": "ipython3",
   "version": "3.6.6"
  },
  "toc": {
   "base_numbering": 1,
   "nav_menu": {},
   "number_sections": true,
   "sideBar": false,
   "skip_h1_title": false,
   "title_cell": "Table of Contents",
   "title_sidebar": "Contents",
   "toc_cell": true,
   "toc_position": {},
   "toc_section_display": true,
   "toc_window_display": false
  },
  "varInspector": {
   "cols": {
    "lenName": 16,
    "lenType": 16,
    "lenVar": 40
   },
   "kernels_config": {
    "python": {
     "delete_cmd_postfix": "",
     "delete_cmd_prefix": "del ",
     "library": "var_list.py",
     "varRefreshCmd": "print(var_dic_list())"
    },
    "r": {
     "delete_cmd_postfix": ") ",
     "delete_cmd_prefix": "rm(",
     "library": "var_list.r",
     "varRefreshCmd": "cat(var_dic_list()) "
    }
   },
   "types_to_exclude": [
    "module",
    "function",
    "builtin_function_or_method",
    "instance",
    "_Feature"
   ],
   "window_display": false
  }
 },
 "nbformat": 4,
 "nbformat_minor": 2
}
